{
 "cells": [
  {
   "cell_type": "markdown",
   "metadata": {},
   "source": []
  },
  {
   "cell_type": "code",
   "execution_count": null,
   "metadata": {},
   "outputs": [],
   "source": []
  },
  {
   "cell_type": "markdown",
   "metadata": {},
   "source": []
  },
  {
   "cell_type": "code",
   "execution_count": 157,
   "metadata": {},
   "outputs": [],
   "source": [
    "from bs4 import BeautifulSoup\n",
    "import requests"
   ]
  },
  {
   "cell_type": "code",
   "execution_count": 158,
   "metadata": {},
   "outputs": [],
   "source": [
    "url = \"https://www.jitimu.com/2023/02/nhif-hospitals-offering-renal-dialysis\"\n",
    "\n",
    "page = requests.get(url)\n",
    "\n",
    "soup = BeautifulSoup(page.text, 'html')"
   ]
  },
  {
   "cell_type": "code",
   "execution_count": 159,
   "metadata": {},
   "outputs": [
    {
     "name": "stdout",
     "output_type": "stream",
     "text": [
      "<!DOCTYPE html>\n",
      "<html lang=\"en-US\"><head><script data-no-optimize=\"1\">var litespeed_docref=sessionStorage.getItem(\"litespeed_docref\");litespeed_docref&&(Object.defineProperty(document,\"referrer\",{get:function(){return litespeed_docref}}),sessionStorage.removeItem(\"litespeed_docref\"));</script> <script data-ad-client=\"ca-pub-9253013805403673\" data-src=\"https://pagead2.googlesyndication.com/pagead/js/adsbygoogle.js\" type=\"litespeed/javascript\"></script> <script data-src=\"https://www.googletagmanager.com/gtag/js?id=UA-171501985-1\" type=\"litespeed/javascript\"></script> <script type=\"litespeed/javascript\">window.dataLayer=window.dataLayer||[];function gtag(){dataLayer.push(arguments)}\n",
      "gtag('js',new Date());gtag('config','UA-171501985-1')</script> <meta charset=\"utf-8\"/><style id=\"litespeed-ccss\">ul{box-sizing:border-box}:root{--wp--preset--font-size--normal:16px;--wp--preset--font-size--huge:42px}body{--wp--preset--color--black:#000;--wp--preset--color--cyan-bluish-gray:#abb8c3;--wp--preset--color--white:#fff;--wp--preset--color--pale-pink:#f78da7;--wp--preset--color--vivid-red:#cf2e2e;--wp--preset--color--luminous-vivid-orange:#ff6900;--wp--preset--color--luminous-vivid-amber:#fcb900;--wp--preset--color--light-green-cyan:#7bdcb5;--wp--preset--color--vivid-green-cyan:#00d084;--wp--preset--color--pale-cyan-blue:#8ed1fc;--wp--preset--color--vivid-cyan-blue:#0693e3;--wp--preset--color--vivid-purple:#9b51e0;--wp--preset--gradient--vivid-cyan-blue-to-vivid-purple:linear-gradient(135deg,rgba(6,147,227,1) 0%,#9b51e0 100%);--wp--preset--gradient--light-green-cyan-to-vivid-green-cyan:linear-gradient(135deg,#7adcb4 0%,#00d082 100%);--wp--preset--gradient--luminous-vivid-amber-to-luminous-vivid-orange:linear-gradient(135deg,rgba(252,185,0,1) 0%,rgba(255,105,0,1) 100%);--wp--preset--gradient--luminous-vivid-orange-to-vivid-red:linear-gradient(135deg,rgba(255,105,0,1) 0%,#cf2e2e 100%);--wp--preset--gradient--very-light-gray-to-cyan-bluish-gray:linear-gradient(135deg,#eee 0%,#a9b8c3 100%);--wp--preset--gradient--cool-to-warm-spectrum:linear-gradient(135deg,#4aeadc 0%,#9778d1 20%,#cf2aba 40%,#ee2c82 60%,#fb6962 80%,#fef84c 100%);--wp--preset--gradient--blush-light-purple:linear-gradient(135deg,#ffceec 0%,#9896f0 100%);--wp--preset--gradient--blush-bordeaux:linear-gradient(135deg,#fecda5 0%,#fe2d2d 50%,#6b003e 100%);--wp--preset--gradient--luminous-dusk:linear-gradient(135deg,#ffcb70 0%,#c751c0 50%,#4158d0 100%);--wp--preset--gradient--pale-ocean:linear-gradient(135deg,#fff5cb 0%,#b6e3d4 50%,#33a7b5 100%);--wp--preset--gradient--electric-grass:linear-gradient(135deg,#caf880 0%,#71ce7e 100%);--wp--preset--gradient--midnight:linear-gradient(135deg,#020381 0%,#2874fc 100%);--wp--preset--font-size--small:13px;--wp--preset--font-size--medium:20px;--wp--preset--font-size--large:36px;--wp--preset--font-size--x-large:42px;--wp--preset--spacing--20:.44rem;--wp--preset--spacing--30:.67rem;--wp--preset--spacing--40:1rem;--wp--preset--spacing--50:1.5rem;--wp--preset--spacing--60:2.25rem;--wp--preset--spacing--70:3.38rem;--wp--preset--spacing--80:5.06rem;--wp--preset--shadow--natural:6px 6px 9px rgba(0,0,0,.2);--wp--preset--shadow--deep:12px 12px 50px rgba(0,0,0,.4);--wp--preset--shadow--sharp:6px 6px 0px rgba(0,0,0,.2);--wp--preset--shadow--outlined:6px 6px 0px -3px rgba(255,255,255,1),6px 6px rgba(0,0,0,1);--wp--preset--shadow--crisp:6px 6px 0px rgba(0,0,0,1)}html{-ms-text-size-adjust:100%;-webkit-text-size-adjust:100%}body{margin:0;-moz-osx-font-smoothing:grayscale;-webkit-font-smoothing:antialiased}article,aside,header,nav,li{display:block}h2,p,ul{margin:0;padding:0}h2{font-size:inherit}strong{font-weight:700}a,button{color:inherit}a,ins{text-decoration:none}button{overflow:visible;border:0;font:inherit;-webkit-font-smoothing:inherit;letter-spacing:inherit;background:0 0}::-moz-focus-inner{padding:0;border:0}:focus{outline:0}img{max-width:100%;height:auto;border:0}.clearfix:after{content:\"\";display:block;clear:both}*{-webkit-box-sizing:border-box;box-sizing:border-box}ul ul{margin-top:0;margin-bottom:0}strong{line-height:1}ul{list-style:none}.wrap,.tipi-row{margin-left:auto;margin-right:auto;width:100%;max-width:1200px}.side-spacing{padding-left:15px;padding-right:15px}.tipi-col{position:relative;min-height:1px;float:left}.tipi-cols{position:relative}.tipi-xs-12{width:100%}body{line-height:1.8;-webkit-font-smoothing:antialiased}.tipi-flex-eq-height{-webkit-box-align:stretch;-ms-flex-align:stretch;align-items:stretch}.logo img{width:auto;vertical-align:top}.logo a{line-height:0;vertical-align:top;display:inline-block}.tipi-vertical-c,.vertical-c{-webkit-box-align:center;-ms-flex-align:center;align-items:center}.tipi-flex-lcr{-webkit-box-orient:horizontal;-webkit-box-direction:normal;-ms-flex-direction:row;flex-direction:row;-ms-flex-wrap:wrap;flex-wrap:wrap;-webkit-box-pack:start;-ms-flex-pack:start;justify-content:flex-start;-webkit-box-align:center;-ms-flex-align:center;align-items:center}.tipi-flex-lcr,.tipi-vertical-c,.vertical-c,.tipi-flex,.tipi-flex-eq-height,.block{display:-webkit-box;display:-ms-flexbox;display:flex}.block{-ms-flex-wrap:wrap;flex-wrap:wrap;-webkit-box-pack:justify;-ms-flex-pack:justify;justify-content:space-between}.menu-icons>li>a{padding-left:10px;padding-right:10px;height:100%}.site-inner{min-height:100vh;position:relative}.site-skin-1{background:#fff;color:#333}.site-skin-1 a{color:#333}.site-skin-2{background:#010101;color:#fff}.site-skin-2 a{color:#fff}.bg-area{position:relative;z-index:1}.background{position:absolute;top:0;left:0;width:100%;height:100%;z-index:-1}.site-img-1 .background{background-repeat:no-repeat;background-position:center center;background-size:cover}.header-skin-1 .bg-area{background:#fff}.site-main{padding-top:30px}.horizontal-menu>li>a{display:inline-block}.horizontal-menu .icon-wrap a{display:-webkit-inline-box;display:-ms-inline-flexbox;display:inline-flex}.logo-main{-ms-flex-negative:0;flex-shrink:0}.logo-main-wrap-center{text-align:center;-webkit-box-pack:center;-ms-flex-pack:center;justify-content:center}.main-navigation{position:relative}.bg-area>*{position:relative;z-index:11}.bg-area .background{z-index:0;position:absolute}.header-padding.tipi-flex-eq-height{padding-bottom:0!important;padding-top:0!important}.logo{display:inline-block}.sidebar{padding:20px}.mask-img{width:100%;height:100%;display:block}.cb-body-light .block-title-wrap .title:after{background:#161616}.cb-body-light #cb-content{background:#fff}.cb-body-light .sidebar{background:#f2f2f2}.cb-body-light h2{color:#161616}.cb-body-light .block-wrap .title a{color:#161616}a,a:visited{text-decoration:none}h2{font-family:sans-serif;text-rendering:optimizelegibility;line-height:1.3;font-weight:400}h2 a{text-decoration:none}h2{font-size:1.1em}.sidebar{width:100%;float:left}.cb-sidebar-widget{margin-bottom:40px;max-width:100%;overflow:hidden}.secondary-menu li a{padding-left:7px;padding-right:7px}.secondary-menu-wrap{display:block;position:relative;z-index:7}.secondary-menu-wrap .menu-icons{margin-left:auto}.secondary-menu-wrap ul li{display:inline-block}.secondary-menu-wrap ul li a:not(.vertical-c){display:block}.block-title-wrap{width:100%;overflow:hidden;position:relative;margin-bottom:30px;font-weight:700}.block-title-wrap .title{margin:0;position:relative;display:inline-block;padding:0 30px 0 0}.block-title-wrap .title:after{content:\"\";display:block;height:6px;position:absolute;top:50%;margin-top:-3px;width:1920px;left:100%}.codetipi-15zine-widget ::-webkit-input-placeholder{color:#161616}.codetipi-15zine-widget :-moz-placeholder{color:#161616}.codetipi-15zine-widget ::-moz-placeholder{color:#161616}.codetipi-15zine-widget :-ms-input-placeholder{color:#161616}.icon-wrap a{display:-webkit-box;display:-ms-flexbox;display:flex}.site-mob-header{position:relative;z-index:10}.site-mob-header .bg-area{background:inherit;max-width:100%}.site-mob-header .menu-left{text-align:left;-webkit-box-flex:1;-ms-flex:1;flex:1}.site-mob-header .logo-mob-wrap{text-align:center;padding:0 20px}.site-mob-header .menu-right{-webkit-box-flex:1;-ms-flex:1;flex:1;margin-left:auto;text-align:right;-webkit-box-pack:end;-ms-flex-pack:end;justify-content:flex-end}.site-mob-header .icons-wrap li{display:-webkit-box;display:-ms-flexbox;display:flex}.site-mob-header .icons-wrap li a{padding:0 10px;font-size:18px}.site-mob-header-1 .logo-main-wrap{display:-webkit-box;display:-ms-flexbox;display:flex;-webkit-box-pack:center;-ms-flex-pack:center;justify-content:center}.mob-menu-wrap{position:fixed;width:100%;height:100%;z-index:102;top:0;left:0;bottom:0;font-size:18px}.mob-menu-wrap .content-wrap{height:100%}.mob-menu-wrap .content{height:100%;padding:30px 45px;display:-webkit-box;display:-ms-flexbox;display:flex;-webkit-box-orient:vertical;-webkit-box-direction:normal;-ms-flex-direction:column;flex-direction:column;-webkit-box-flex:1;-ms-flex-positive:1;flex-grow:1;overflow:auto}.mob-menu-wrap .content .mobile-navigation{-webkit-animation-delay:.4s;animation-delay:.4s}.mob-menu-wrap .content .menu-icons{-webkit-animation-delay:.65s;animation-delay:.65s}.mob-menu-wrap .menu-icons{margin-top:auto}.mob-menu-wrap .vertical-menu{margin:auto;width:100%;font-size:18px}.mob-menu-wrap .vertical-menu li{margin-bottom:7px;font-weight:400;text-transform:none;padding-right:0}.mob-menu-wrap .mobile-navigation{margin-top:30px;margin-bottom:30px;display:-webkit-box;display:-ms-flexbox;display:flex;overflow:auto;-webkit-box-orient:vertical;-webkit-box-direction:normal;-ms-flex-direction:column;flex-direction:column;-webkit-box-flex:1;-ms-flex-positive:1;flex-grow:1}.mob-menu-wrap .menu-icons{display:-webkit-box;display:-ms-flexbox;display:flex;-ms-flex-wrap:wrap;flex-wrap:wrap;margin-left:-10px;margin-right:-10px}.mob-menu-wrap .menu-icons li{margin:0 5px 10px}.mob-menu-wrap .bg-area{height:100%}.mob-menu-wrap .tipi-close-icon{margin-left:auto;font-size:24px;position:absolute;right:-30px;line-height:0}.mob-menu-wrap .content>*{opacity:0;-webkit-transform:translatex(-20px);transform:translatex(-20px)}.site-mob-menu-a-4 .site-inner{z-index:3}.site-mob-menu-a-4 .mob-menu-wrap{width:calc(100vw - 60px);z-index:1;visibility:hidden;-webkit-transform:translate3d(-50%,0,0);transform:translate3d(-50%,0,0)}.site-mob-menu-a-4 .site-inner:after{content:'';background:#aaa;top:0;left:0;width:100%;height:100%;position:absolute;display:block;z-index:300;opacity:0;visibility:hidden}.mob-tr-open{display:block;padding-top:0!important;padding-bottom:0!important}.sticky-menu{z-index:50;top:0;position:relative}.site-mob-header.sticky-menu{width:100%!important}.sticky-top{position:-webkit-sticky;position:sticky;top:0;z-index:6}.content-lwa{position:relative}.search-field{-webkit-appearance:none;background:0 0;border:0}.search-field::-webkit-search-cancel-button{-webkit-appearance:none;opacity:0}input[type=search]::-ms-clear{display:none}.content-search{width:100%;color:#111}.content-search .search-submit{display:none}.content-search .search-field{border-radius:0;color:#111;font-size:1rem;border:none;font-weight:700;letter-spacing:2px;font-size:20px;width:100%;text-transform:uppercase;padding-bottom:15px;border-bottom:3px solid #161616}.content-search .search-field::-webkit-input-placeholder{color:#111}.content-search .search-field::-moz-placeholder{color:#111;opacity:1}.content-search .search-field:-ms-input-placeholder{color:#111}.content-search .search{opacity:0;-webkit-transform:translate3d(0,-20px,0);transform:translate3d(0,-20px,0)}.content-search .search-hints{opacity:0;font-size:12px;-webkit-box-align:baseline;-ms-flex-align:baseline;align-items:baseline;-webkit-transform:translate3d(0,10px,0);transform:translate3d(0,10px,0);margin-top:7px}.content-search .search-hints .search-hint{display:block;margin-left:auto;-ms-flex-negative:0;flex-shrink:0}.tipi-overlay{height:100%;width:100%;position:absolute;top:0;left:0;-webkit-backface-visibility:hidden;backface-visibility:hidden;z-index:1}.tipi-overlay-base{z-index:101;position:fixed;opacity:0;visibility:hidden}.tipi-overlay-dark{background:#000}.modal-wrap{position:fixed;z-index:110;opacity:0;visibility:hidden}.modal-wrap .close,.tipi-overlay-base .close{z-index:2;position:absolute;top:30px;right:30px}.modal-wrap .close i,.tipi-overlay-base .close i{font-size:30px;color:#fff}.tipi-overlay-base .close{opacity:0}.modal-wrap{width:100%;height:100%;left:0;top:0}.modal-wrap .content-custom{position:relative;width:100%;margin-left:auto;margin-right:auto;text-align:center;max-width:calc(100vw - 30px)}.modal-wrap .tipi-overlay{background-color:#fff;z-index:1;opacity:.8}.modal-wrap.dark-overlay .tipi-overlay{background:#000}.modal-wrap.dark-overlay .close i{color:#fff!important}.modal-wrap.dark-overlay .content-search{color:#fff}.modal-wrap.dark-overlay .content-search .search-field{color:inherit;border-bottom-color:#444}.modal-wrap.dark-overlay .content-search .search-field::-webkit-input-placeholder{color:#fff}.modal-wrap.dark-overlay .content-search .search-field::-moz-placeholder{color:#fff}.modal-wrap.dark-overlay .content-search .search-field:-ms-input-placeholder{color:#fff}.modal-wrap .content-block{z-index:2;border-radius:10px;position:absolute;opacity:0;padding:0 30px;visibility:hidden;left:50%;top:50%;-webkit-transform:translate(-50%,-50%);transform:translate(-50%,-50%)}.modal-wrap .content-custom{-webkit-transform:translate(-50%,-50%) translatey(-30px);transform:translate(-50%,-50%) translatey(-30px)}.modal-wrap .content{position:relative;height:100%;padding:0 30px;-webkit-box-pack:center;-ms-flex-pack:center;justify-content:center}.modal-wrap .close i{opacity:0}.modal-wrap .content-lwa{-webkit-transform:translateY(-50%) translateY(-20px) translateX(-50%);transform:translateY(-50%) translateY(-20px) translateX(-50%)}.tipi-x-outer{opacity:0}.tipi-x-wrap{line-height:0}.mask{overflow:hidden;background:#fff;line-height:0;position:relative}.mask img{width:100%;height:100%;-o-object-fit:cover;object-fit:cover;-o-object-position:center;object-position:center;-webkit-backface-visibility:hidden;backface-visibility:hidden}.hero{width:100%;line-height:0;background:#eee;overflow:hidden;height:100%;position:relative;display:-webkit-box;display:-ms-flexbox;display:flex;-webkit-box-align:center;-ms-flex-align:center;align-items:center;-webkit-box-pack:center;-ms-flex-pack:center;justify-content:center}.hero img{width:100%;height:100%;margin-top:0;-o-object-fit:cover;object-fit:cover;-o-object-position:center;object-position:center}.hero-wrap{position:relative;overflow:hidden;width:100%}.hero-wrap:not(.cover-11) .hero{max-height:100vh}.block{counter-reset:block}.block article{counter-increment:block}.block-wrap{width:100%;display:block}.block-wrap .block-inner-style{margin-bottom:40px;position:relative}.block-wrap .cb-mask{line-height:0}.preview-classic .title{letter-spacing:1px;font-weight:700;margin:0 0 5px}.stack .meta{padding-top:20px}@media only screen and (max-width:480px){.separation-border-style:not(.split-1){margin-bottom:0;border-bottom:0;padding-bottom:0}}@media only screen and (min-width:481px){.ppl-s-3 article{-webkit-box-flex:0;-ms-flex:0 0 calc(100%/3 - 20px);flex:0 0 calc(100%/3 - 20px);width:calc(100%/3 - 20px)}.ppl-s-3 article:nth-last-child(-n+3){margin-bottom:0}}@media only screen and (max-width:767px){.cb-sidebar{margin-bottom:20px}.sidebars-mob-off .sidebar-wrap{display:none}.hero-s .hero-wrap{width:calc(100% + 30px);left:-15px}}@media only screen and (min-width:768px){.sidebar{margin-top:20px;background:#f2f2f2;margin-bottom:20px}.sticky-menu-1.logo-only-when-stuck .main-menu-logo{margin-right:0;-webkit-transform:translate3d(-30px,0,0);transform:translate3d(-30px,0,0)}.logo-menu-wrap{float:left}.logo-menu-wrap .main-menu-logo{margin-right:20px;padding-left:5px}.logo-only-when-stuck .main-menu-logo{margin-right:0;opacity:0;width:0;padding-left:0}.main-menu-c .main-menu-wrap{-webkit-box-pack:center;-ms-flex-pack:center;justify-content:center}.main-menu-c .main-menu-wrap .logo-menu-wrap,.main-menu-c .main-menu-wrap .menu-icons{-webkit-box-flex:1;-ms-flex:1;flex:1}.main-menu-c .main-menu-wrap .logo-menu-wrap{text-align:left}.main-menu-wrap .menu-icons{-webkit-box-pack:end;-ms-flex-pack:end;justify-content:flex-end;text-align:right;margin-left:auto}.main-menu-wrap>ul>li>a{padding-left:6px;padding-right:6px}.site-header .logo-main{margin-right:20px}.sub-menu{background:#161616}.sub-menu a:not(.tipi-button){padding:7px 30px;margin-bottom:5px;display:block;line-height:1.6;font-size:12px;text-transform:none;letter-spacing:1px;text-transform:uppercase}.sub-menu li{border-bottom:1px dotted #333}.sub-menu li:last-of-type{border-bottom-color:transparent}.mm-skin-1 .menu-wrap-minus-10 .sub-menu,.mm-skin-1 .mm-art .menu-wrap{background:#f2f2f2}.mm-skin-1 .mm-art .sub-menu{background:#eee}.main-navigation-border .menu-wrap-minus-10>.sub-menu{margin-top:-3px;border-top:5px transparent solid}.mm-skin-1 .menu-wrap .block-title{color:#222}.mm-skin-1 .sub-menu li{border-bottom-color:#e5e5e5}.drop-it>.menu,.drop-it>a:before{opacity:0;visibility:hidden}.drop-it .block-wrap,.drop-it .sub-menu{border-top:5px transparent solid}.drop-it .block-wrap{padding:40px!important}.drop-it .block-wrap .block-title-wrap{display:-webkit-box;display:-ms-flexbox;display:flex;-webkit-box-align:end;-ms-flex-align:end;align-items:flex-end;margin-top:-10px}.drop-it .block-wrap .block-title-wrap .see-all{margin-left:auto}.drop-it .block-title-wrap .block-title{font-size:2rem;line-height:1}.drop-it .block-title:after,.drop-it .block-title:before{display:none}.drop-it .block-title-wrap{opacity:0}.main-menu-bar-color-2 .dropper>a{position:relative}.main-menu-bar-color-2 .dropper>a:before{position:absolute;bottom:0;left:50%;-webkit-transform:translate3d(0,5px,0);transform:translate3d(0,5px,0);content:'';width:0;height:0;border-left:7px solid transparent;border-right:7px solid transparent;border-bottom:7px solid #161616;opacity:0;margin-left:-7px}.main-menu-bar-color-2 .dropper .dropper a:before{display:none}.mm-2 .sub-menu{text-align:center;width:100%;left:0;width:100%;top:100%;padding:15px 0;position:absolute}.mm-2 .sub-menu a{padding:15px}.mm-2 .sub-menu li{border-bottom:0;display:inline-block}.menu-wrap-more-10{-webkit-box-orient:horizontal;-webkit-box-direction:reverse;-ms-flex-direction:row-reverse;flex-direction:row-reverse}.menu-wrap-more-10 .block-wrap{width:100%}.mm-art>.menu{position:absolute;z-index:10;width:100%;left:50%;-webkit-transform:translateX(-50%);transform:translateX(-50%);top:100%;margin-top:-3px}.mm-art>.menu .preview-classic{padding-bottom:0;border-bottom:0}.mm-art>.menu .meta{text-align:center}.mm-art>.menu .meta .title{margin:0;font-size:14px}.mm-art>.menu .block-wrap .block-inner-style{margin-bottom:0}.main-navigation .horizontal-menu>li{display:-webkit-box;display:-ms-flexbox;display:flex;-webkit-box-align:center;-ms-flex-align:center;align-items:center}.main-navigation-border{border-bottom:3px solid #161616}.tipi-m-4{width:33.33333333333333%}.tipi-m-8{width:66.66666666666667%}.tipi-cols{margin-left:-15px;margin-right:-15px;width:calc(100% + 30px)}.side-spacing{padding-left:30px;padding-right:30px}.tipi-col{padding-right:15px;padding-left:15px}.ppl-m-3 article{-webkit-box-flex:0;-ms-flex:0 0 calc(100%/3 - 20px);flex:0 0 calc(100%/3 - 20px);width:calc(100%/3 - 20px)}.ppl-m-3 article:nth-last-child(-n+3){margin-bottom:0}}@media only screen and (max-width:1019px){.tipi-m-0-down{display:none}.site-header-block .logo-main{display:none}}@media only screen and (min-width:1020px){.preview-classic .title{font-size:20px}.tipi-l-0{display:none}}@media only screen and (max-width:1199px){.secondary-menu-wrap{width:auto;max-width:none}.secondary-menu-wrap .cb-top-menu-wrap{max-width:none}}@media only screen and (min-width:1200px){.sidebar{margin-top:30px;margin-bottom:30px;padding:30px}.main-menu-wrap>ul>li>a{padding-left:10px;padding-right:10px}.main-navigation.wrap:not(.stuck) .main-menu-wrap{padding:0}}[class^=codetipi-15zine-i-]{font-family:'codetipi-15zine'!important;speak:none;font-style:normal;font-weight:400;font-variant:normal;text-transform:none;font-size:inherit;line-height:1;letter-spacing:0;-webkit-font-feature-settings:\"liga\";-ms-font-feature-settings:\"liga\" 1;font-feature-settings:\"liga\";-webkit-font-variant-ligatures:discretionary-ligatures;font-variant-ligatures:discretionary-ligatures;-webkit-font-smoothing:antialiased;-moz-osx-font-smoothing:grayscale}.codetipi-15zine-i-search:before{content:\"\\e917\"}.codetipi-15zine-i-menu:before{content:\"\\e916\"}.codetipi-15zine-i-x:before{content:\"\\e90a\"}.codetipi-15zine-i-facebook:before{content:\"\\f09a\"}body{color:#2e2e2e}body{font-size:19px;font-weight:400;line-height:1.7;text-transform:none}.secondary-menu-wrap{font-size:14px;font-weight:700;letter-spacing:.1em;line-height:1;text-transform:uppercase}.preview-classic .title{font-size:19px;font-weight:700;letter-spacing:.1em;line-height:1.3;text-transform:uppercase}.main-navigation{font-size:14px;font-weight:700;letter-spacing:.12em;line-height:1;text-transform:uppercase}.block-title-wrap .title{font-size:20px;font-weight:700;letter-spacing:.1em;line-height:1.2;text-transform:none}.preview-classic{padding-bottom:30px}.preview-classic{border-bottom:1px solid #e0e0e0}.preview-classic{margin-bottom:30px}.preview-classic{margin-bottom:30px}.main-menu-logo img{width:110px}.main-navigation-border{border-bottom-color:#dd8500}body{background-color:#fff}body{font-family:'Open Sans',sans-serif}h2,.cb-font-header,.font-h{font-family:'Montserrat',sans-serif}.main-menu>li>a,.main-menu-wrap .menu-icons>li>a{padding-top:25px;padding-bottom:25px}.secondary-menu-wrap .secondary-menu>li>a{padding-top:30px;padding-bottom:26px}.site-mob-header:not(.site-mob-header-11) .header-padding .logo-main-wrap,.site-mob-header:not(.site-mob-header-11) .header-padding .icons-wrap a{padding-top:20px;padding-bottom:20px}.mob-menu-wrap .bg-area{background-color:#f2f2f2;background-repeat:no-repeat;background-position:center top}.mob-menu-wrap,.mob-menu-wrap a{color:#790fe2}@media only screen and (min-width:1020px){.site-header .header-padding{padding-top:20px;padding-bottom:20px}.secondary-menu-wrap{font-size:12px}.preview-classic .title{font-size:28px}.main-navigation{font-size:16px}.block-title-wrap .title{font-size:46px}}html{-ms-text-size-adjust:100%;-webkit-text-size-adjust:100%}body{margin:0;-moz-osx-font-smoothing:grayscale;-webkit-font-smoothing:antialiased}article,aside,header,nav,li{display:block}h2,p,ul{margin:0;padding:0}h2{font-size:inherit}strong{font-weight:700}a,button{color:inherit}a,ins{text-decoration:none}button{overflow:visible;border:0;font:inherit;-webkit-font-smoothing:inherit;letter-spacing:inherit;background:0 0}::-moz-focus-inner{padding:0;border:0}:focus{outline:0}img{max-width:100%;height:auto;border:0}.clearfix:after{content:\"\";display:block;clear:both}*{-webkit-box-sizing:border-box;box-sizing:border-box}ul ul{margin-top:0;margin-bottom:0}strong{line-height:1}ul{list-style:none}.wrap,.tipi-row{margin-left:auto;margin-right:auto;width:100%;max-width:1200px}.side-spacing{padding-left:15px;padding-right:15px}.tipi-col{position:relative;min-height:1px;float:left}.tipi-cols{position:relative}.tipi-xs-12{width:100%}body{line-height:1.8;-webkit-font-smoothing:antialiased}.tipi-flex-eq-height{-webkit-box-align:stretch;-ms-flex-align:stretch;align-items:stretch}.logo img{width:auto;vertical-align:top}.logo a{line-height:0;vertical-align:top;display:inline-block}.tipi-vertical-c,.vertical-c{-webkit-box-align:center;-ms-flex-align:center;align-items:center}.tipi-flex-lcr{-webkit-box-orient:horizontal;-webkit-box-direction:normal;-ms-flex-direction:row;flex-direction:row;-ms-flex-wrap:wrap;flex-wrap:wrap;-webkit-box-pack:start;-ms-flex-pack:start;justify-content:flex-start;-webkit-box-align:center;-ms-flex-align:center;align-items:center}.tipi-flex-lcr,.tipi-vertical-c,.vertical-c,.tipi-flex,.tipi-flex-eq-height,.block{display:-webkit-box;display:-ms-flexbox;display:flex}.block{-ms-flex-wrap:wrap;flex-wrap:wrap;-webkit-box-pack:justify;-ms-flex-pack:justify;justify-content:space-between}.menu-icons>li>a{padding-left:10px;padding-right:10px;height:100%}.site-inner{min-height:100vh;position:relative}.site-skin-1{background:#fff;color:#333}.site-skin-1 a{color:#333}.site-skin-2{background:#010101;color:#fff}.site-skin-2 a{color:#fff}.bg-area{position:relative;z-index:1}.background{position:absolute;top:0;left:0;width:100%;height:100%;z-index:-1}.site-img-1 .background{background-repeat:no-repeat;background-position:center center;background-size:cover}.header-skin-1 .bg-area{background:#fff}.site-main{padding-top:30px}.horizontal-menu>li>a{display:inline-block}.horizontal-menu .icon-wrap a{display:-webkit-inline-box;display:-ms-inline-flexbox;display:inline-flex}.logo-main{-ms-flex-negative:0;flex-shrink:0}.logo-main-wrap-center{text-align:center;-webkit-box-pack:center;-ms-flex-pack:center;justify-content:center}.main-navigation{position:relative}.bg-area>*{position:relative;z-index:11}.bg-area .background{z-index:0;position:absolute}.header-padding.tipi-flex-eq-height{padding-bottom:0!important;padding-top:0!important}.logo{display:inline-block}.sidebar{padding:20px}.mask-img{width:100%;height:100%;display:block}.cb-body-light .block-title-wrap .title:after{background:#161616}.cb-body-light #cb-content{background:#fff}.cb-body-light .sidebar{background:#f2f2f2}.cb-body-light h2{color:#161616}.cb-body-light .block-wrap .title a{color:#161616}a,a:visited{text-decoration:none}h2{font-family:sans-serif;text-rendering:optimizelegibility;line-height:1.3;font-weight:400}h2 a{text-decoration:none}h2{font-size:1.1em}.sidebar{width:100%;float:left}.cb-sidebar-widget{margin-bottom:40px;max-width:100%;overflow:hidden}.secondary-menu li a{padding-left:7px;padding-right:7px}.secondary-menu-wrap{display:block;position:relative;z-index:7}.secondary-menu-wrap .menu-icons{margin-left:auto}.secondary-menu-wrap ul li{display:inline-block}.secondary-menu-wrap ul li a:not(.vertical-c){display:block}.block-title-wrap{width:100%;overflow:hidden;position:relative;margin-bottom:30px;font-weight:700}.block-title-wrap .title{margin:0;position:relative;display:inline-block;padding:0 30px 0 0}.block-title-wrap .title:after{content:\"\";display:block;height:6px;position:absolute;top:50%;margin-top:-3px;width:1920px;left:100%}.codetipi-15zine-widget ::-webkit-input-placeholder{color:#161616}.codetipi-15zine-widget :-moz-placeholder{color:#161616}.codetipi-15zine-widget ::-moz-placeholder{color:#161616}.codetipi-15zine-widget :-ms-input-placeholder{color:#161616}.icon-wrap a{display:-webkit-box;display:-ms-flexbox;display:flex}.site-mob-header{position:relative;z-index:10}.site-mob-header .bg-area{background:inherit;max-width:100%}.site-mob-header .menu-left{text-align:left;-webkit-box-flex:1;-ms-flex:1;flex:1}.site-mob-header .logo-mob-wrap{text-align:center;padding:0 20px}.site-mob-header .menu-right{-webkit-box-flex:1;-ms-flex:1;flex:1;margin-left:auto;text-align:right;-webkit-box-pack:end;-ms-flex-pack:end;justify-content:flex-end}.site-mob-header .icons-wrap li{display:-webkit-box;display:-ms-flexbox;display:flex}.site-mob-header .icons-wrap li a{padding:0 10px;font-size:18px}.site-mob-header-1 .logo-main-wrap{display:-webkit-box;display:-ms-flexbox;display:flex;-webkit-box-pack:center;-ms-flex-pack:center;justify-content:center}.mob-menu-wrap{position:fixed;width:100%;height:100%;z-index:102;top:0;left:0;bottom:0;font-size:18px}.mob-menu-wrap .content-wrap{height:100%}.mob-menu-wrap .content{height:100%;padding:30px 45px;display:-webkit-box;display:-ms-flexbox;display:flex;-webkit-box-orient:vertical;-webkit-box-direction:normal;-ms-flex-direction:column;flex-direction:column;-webkit-box-flex:1;-ms-flex-positive:1;flex-grow:1;overflow:auto}.mob-menu-wrap .content .mobile-navigation{-webkit-animation-delay:.4s;animation-delay:.4s}.mob-menu-wrap .content .menu-icons{-webkit-animation-delay:.65s;animation-delay:.65s}.mob-menu-wrap .menu-icons{margin-top:auto}.mob-menu-wrap .vertical-menu{margin:auto;width:100%;font-size:18px}.mob-menu-wrap .vertical-menu li{margin-bottom:7px;font-weight:400;text-transform:none;padding-right:0}.mob-menu-wrap .mobile-navigation{margin-top:30px;margin-bottom:30px;display:-webkit-box;display:-ms-flexbox;display:flex;overflow:auto;-webkit-box-orient:vertical;-webkit-box-direction:normal;-ms-flex-direction:column;flex-direction:column;-webkit-box-flex:1;-ms-flex-positive:1;flex-grow:1}.mob-menu-wrap .menu-icons{display:-webkit-box;display:-ms-flexbox;display:flex;-ms-flex-wrap:wrap;flex-wrap:wrap;margin-left:-10px;margin-right:-10px}.mob-menu-wrap .menu-icons li{margin:0 5px 10px}.mob-menu-wrap .bg-area{height:100%}.mob-menu-wrap .tipi-close-icon{margin-left:auto;font-size:24px;position:absolute;right:-30px;line-height:0}.mob-menu-wrap .content>*{opacity:0;-webkit-transform:translatex(-20px);transform:translatex(-20px)}.site-mob-menu-a-4 .site-inner{z-index:3}.site-mob-menu-a-4 .mob-menu-wrap{width:calc(100vw - 60px);z-index:1;visibility:hidden;-webkit-transform:translate3d(-50%,0,0);transform:translate3d(-50%,0,0)}.site-mob-menu-a-4 .site-inner:after{content:'';background:#aaa;top:0;left:0;width:100%;height:100%;position:absolute;display:block;z-index:300;opacity:0;visibility:hidden}.mob-tr-open{display:block;padding-top:0!important;padding-bottom:0!important}.sticky-menu{z-index:50;top:0;position:relative}.site-mob-header.sticky-menu{width:100%!important}.sticky-top{position:-webkit-sticky;position:sticky;top:0;z-index:6}.content-lwa{position:relative}.search-field{-webkit-appearance:none;background:0 0;border:0}.search-field::-webkit-search-cancel-button{-webkit-appearance:none;opacity:0}input[type=search]::-ms-clear{display:none}.content-search{width:100%;color:#111}.content-search .search-submit{display:none}.content-search .search-field{border-radius:0;color:#111;font-size:1rem;border:none;font-weight:700;letter-spacing:2px;font-size:20px;width:100%;text-transform:uppercase;padding-bottom:15px;border-bottom:3px solid #161616}.content-search .search-field::-webkit-input-placeholder{color:#111}.content-search .search-field::-moz-placeholder{color:#111;opacity:1}.content-search .search-field:-ms-input-placeholder{color:#111}.content-search .search{opacity:0;-webkit-transform:translate3d(0,-20px,0);transform:translate3d(0,-20px,0)}.content-search .search-hints{opacity:0;font-size:12px;-webkit-box-align:baseline;-ms-flex-align:baseline;align-items:baseline;-webkit-transform:translate3d(0,10px,0);transform:translate3d(0,10px,0);margin-top:7px}.content-search .search-hints .search-hint{display:block;margin-left:auto;-ms-flex-negative:0;flex-shrink:0}.tipi-overlay{height:100%;width:100%;position:absolute;top:0;left:0;-webkit-backface-visibility:hidden;backface-visibility:hidden;z-index:1}.tipi-overlay-base{z-index:101;position:fixed;opacity:0;visibility:hidden}.tipi-overlay-dark{background:#000}.modal-wrap{position:fixed;z-index:110;opacity:0;visibility:hidden}.modal-wrap .close,.tipi-overlay-base .close{z-index:2;position:absolute;top:30px;right:30px}.modal-wrap .close i,.tipi-overlay-base .close i{font-size:30px;color:#fff}.tipi-overlay-base .close{opacity:0}.modal-wrap{width:100%;height:100%;left:0;top:0}.modal-wrap .content-custom{position:relative;width:100%;margin-left:auto;margin-right:auto;text-align:center;max-width:calc(100vw - 30px)}.modal-wrap .tipi-overlay{background-color:#fff;z-index:1;opacity:.8}.modal-wrap.dark-overlay .tipi-overlay{background:#000}.modal-wrap.dark-overlay .close i{color:#fff!important}.modal-wrap.dark-overlay .content-search{color:#fff}.modal-wrap.dark-overlay .content-search .search-field{color:inherit;border-bottom-color:#444}.modal-wrap.dark-overlay .content-search .search-field::-webkit-input-placeholder{color:#fff}.modal-wrap.dark-overlay .content-search .search-field::-moz-placeholder{color:#fff}.modal-wrap.dark-overlay .content-search .search-field:-ms-input-placeholder{color:#fff}.modal-wrap .content-block{z-index:2;border-radius:10px;position:absolute;opacity:0;padding:0 30px;visibility:hidden;left:50%;top:50%;-webkit-transform:translate(-50%,-50%);transform:translate(-50%,-50%)}.modal-wrap .content-custom{-webkit-transform:translate(-50%,-50%) translatey(-30px);transform:translate(-50%,-50%) translatey(-30px)}.modal-wrap .content{position:relative;height:100%;padding:0 30px;-webkit-box-pack:center;-ms-flex-pack:center;justify-content:center}.modal-wrap .close i{opacity:0}.modal-wrap .content-lwa{-webkit-transform:translateY(-50%) translateY(-20px) translateX(-50%);transform:translateY(-50%) translateY(-20px) translateX(-50%)}.tipi-x-outer{opacity:0}.tipi-x-wrap{line-height:0}.mask{overflow:hidden;background:#fff;line-height:0;position:relative}.mask img{width:100%;height:100%;-o-object-fit:cover;object-fit:cover;-o-object-position:center;object-position:center;-webkit-backface-visibility:hidden;backface-visibility:hidden}.hero{width:100%;line-height:0;background:#eee;overflow:hidden;height:100%;position:relative;display:-webkit-box;display:-ms-flexbox;display:flex;-webkit-box-align:center;-ms-flex-align:center;align-items:center;-webkit-box-pack:center;-ms-flex-pack:center;justify-content:center}.hero img{width:100%;height:100%;margin-top:0;-o-object-fit:cover;object-fit:cover;-o-object-position:center;object-position:center}.hero-wrap{position:relative;overflow:hidden;width:100%}.hero-wrap:not(.cover-11) .hero{max-height:100vh}.block{counter-reset:block}.block article{counter-increment:block}.block-wrap{width:100%;display:block}.block-wrap .block-inner-style{margin-bottom:40px;position:relative}.block-wrap .cb-mask{line-height:0}.preview-classic .title{letter-spacing:1px;font-weight:700;margin:0 0 5px}.stack .meta{padding-top:20px}@media only screen and (max-width:480px){.separation-border-style:not(.split-1){margin-bottom:0;border-bottom:0;padding-bottom:0}}@media only screen and (min-width:481px){.ppl-s-3 article{-webkit-box-flex:0;-ms-flex:0 0 calc(100%/3 - 20px);flex:0 0 calc(100%/3 - 20px);width:calc(100%/3 - 20px)}.ppl-s-3 article:nth-last-child(-n+3){margin-bottom:0}}@media only screen and (max-width:767px){.cb-sidebar{margin-bottom:20px}.sidebars-mob-off .sidebar-wrap{display:none}.hero-s .hero-wrap{width:calc(100% + 30px);left:-15px}}@media only screen and (min-width:768px){.sidebar{margin-top:20px;background:#f2f2f2;margin-bottom:20px}.sticky-menu-1.logo-only-when-stuck .main-menu-logo{margin-right:0;-webkit-transform:translate3d(-30px,0,0);transform:translate3d(-30px,0,0)}.logo-menu-wrap{float:left}.logo-menu-wrap .main-menu-logo{margin-right:20px;padding-left:5px}.logo-only-when-stuck .main-menu-logo{margin-right:0;opacity:0;width:0;padding-left:0}.main-menu-c .main-menu-wrap{-webkit-box-pack:center;-ms-flex-pack:center;justify-content:center}.main-menu-c .main-menu-wrap .logo-menu-wrap,.main-menu-c .main-menu-wrap .menu-icons{-webkit-box-flex:1;-ms-flex:1;flex:1}.main-menu-c .main-menu-wrap .logo-menu-wrap{text-align:left}.main-menu-wrap .menu-icons{-webkit-box-pack:end;-ms-flex-pack:end;justify-content:flex-end;text-align:right;margin-left:auto}.main-menu-wrap>ul>li>a{padding-left:6px;padding-right:6px}.site-header .logo-main{margin-right:20px}.sub-menu{background:#161616}.sub-menu a:not(.tipi-button){padding:7px 30px;margin-bottom:5px;display:block;line-height:1.6;font-size:12px;text-transform:none;letter-spacing:1px;text-transform:uppercase}.sub-menu li{border-bottom:1px dotted #333}.sub-menu li:last-of-type{border-bottom-color:transparent}.mm-skin-1 .menu-wrap-minus-10 .sub-menu,.mm-skin-1 .mm-art .menu-wrap{background:#f2f2f2}.mm-skin-1 .mm-art .sub-menu{background:#eee}.main-navigation-border .menu-wrap-minus-10>.sub-menu{margin-top:-3px;border-top:5px transparent solid}.mm-skin-1 .menu-wrap .block-title{color:#222}.mm-skin-1 .sub-menu li{border-bottom-color:#e5e5e5}.drop-it>.menu,.drop-it>a:before{opacity:0;visibility:hidden}.drop-it .block-wrap,.drop-it .sub-menu{border-top:5px transparent solid}.drop-it .block-wrap{padding:40px!important}.drop-it .block-wrap .block-title-wrap{display:-webkit-box;display:-ms-flexbox;display:flex;-webkit-box-align:end;-ms-flex-align:end;align-items:flex-end;margin-top:-10px}.drop-it .block-wrap .block-title-wrap .see-all{margin-left:auto}.drop-it .block-title-wrap .block-title{font-size:2rem;line-height:1}.drop-it .block-title:after,.drop-it .block-title:before{display:none}.drop-it .block-title-wrap{opacity:0}.main-menu-bar-color-2 .dropper>a{position:relative}.main-menu-bar-color-2 .dropper>a:before{position:absolute;bottom:0;left:50%;-webkit-transform:translate3d(0,5px,0);transform:translate3d(0,5px,0);content:'';width:0;height:0;border-left:7px solid transparent;border-right:7px solid transparent;border-bottom:7px solid #161616;opacity:0;margin-left:-7px}.main-menu-bar-color-2 .dropper .dropper a:before{display:none}.mm-2 .sub-menu{text-align:center;width:100%;left:0;width:100%;top:100%;padding:15px 0;position:absolute}.mm-2 .sub-menu a{padding:15px}.mm-2 .sub-menu li{border-bottom:0;display:inline-block}.menu-wrap-more-10{-webkit-box-orient:horizontal;-webkit-box-direction:reverse;-ms-flex-direction:row-reverse;flex-direction:row-reverse}.menu-wrap-more-10 .block-wrap{width:100%}.mm-art>.menu{position:absolute;z-index:10;width:100%;left:50%;-webkit-transform:translateX(-50%);transform:translateX(-50%);top:100%;margin-top:-3px}.mm-art>.menu .preview-classic{padding-bottom:0;border-bottom:0}.mm-art>.menu .meta{text-align:center}.mm-art>.menu .meta .title{margin:0;font-size:14px}.mm-art>.menu .block-wrap .block-inner-style{margin-bottom:0}.main-navigation .horizontal-menu>li{display:-webkit-box;display:-ms-flexbox;display:flex;-webkit-box-align:center;-ms-flex-align:center;align-items:center}.main-navigation-border{border-bottom:3px solid #161616}.tipi-m-4{width:33.33333333333333%}.tipi-m-8{width:66.66666666666667%}.tipi-cols{margin-left:-15px;margin-right:-15px;width:calc(100% + 30px)}.side-spacing{padding-left:30px;padding-right:30px}.tipi-col{padding-right:15px;padding-left:15px}.ppl-m-3 article{-webkit-box-flex:0;-ms-flex:0 0 calc(100%/3 - 20px);flex:0 0 calc(100%/3 - 20px);width:calc(100%/3 - 20px)}.ppl-m-3 article:nth-last-child(-n+3){margin-bottom:0}}@media only screen and (max-width:1019px){.tipi-m-0-down{display:none}.site-header-block .logo-main{display:none}}@media only screen and (min-width:1020px){.preview-classic .title{font-size:20px}.tipi-l-0{display:none}}@media only screen and (max-width:1199px){.secondary-menu-wrap{width:auto;max-width:none}.secondary-menu-wrap .cb-top-menu-wrap{max-width:none}}@media only screen and (min-width:1200px){.sidebar{margin-top:30px;margin-bottom:30px;padding:30px}.main-menu-wrap>ul>li>a{padding-left:10px;padding-right:10px}.main-navigation.wrap:not(.stuck) .main-menu-wrap{padding:0}}[class^=codetipi-15zine-i-]{font-family:'codetipi-15zine'!important;speak:none;font-style:normal;font-weight:400;font-variant:normal;text-transform:none;font-size:inherit;line-height:1;letter-spacing:0;-webkit-font-feature-settings:\"liga\";-ms-font-feature-settings:\"liga\" 1;font-feature-settings:\"liga\";-webkit-font-variant-ligatures:discretionary-ligatures;font-variant-ligatures:discretionary-ligatures;-webkit-font-smoothing:antialiased;-moz-osx-font-smoothing:grayscale}.codetipi-15zine-i-search:before{content:\"\\e917\"}.codetipi-15zine-i-menu:before{content:\"\\e916\"}.codetipi-15zine-i-x:before{content:\"\\e90a\"}.codetipi-15zine-i-facebook:before{content:\"\\f09a\"}.tipi-cols{width:calc(100% + 30px)}:root{--swiper-theme-color:#007aff}:root{--swiper-navigation-size:44px}:root{--jp-carousel-primary-color:#fff;--jp-carousel-primary-subtle-color:#999;--jp-carousel-bg-color:#000;--jp-carousel-bg-faded-color:#222;--jp-carousel-border-color:#3a3a3a}:root{--jetpack--contact-form--border:1px solid #8c8f94;--jetpack--contact-form--border-color:#8c8f94;--jetpack--contact-form--border-size:1px;--jetpack--contact-form--border-style:solid;--jetpack--contact-form--border-radius:0px;--jetpack--contact-form--input-padding:16px;--jetpack--contact-form--font-size:16px}p#breadcrumbs{display:block;margin-block-start:1em;margin-block-end:1em;margin-inline-start:5.2em}p{display:block;margin-block-start:1em;margin-block-end:1em;margin-inline-start:0px;margin-inline-end:0px;line-height:1.8em;margin-top:1.8em;//margin-bottom:1.2em}a{text-decoration:none;color:blue}.cb-body-light .block-wrap .title a{color:#673ab7;text-transform:none}.cb-body-light .sidebar{background:#f1f8e9}.site-skin-2{background:#333;color:red;padding:4px;font-size:13.9px}@media only screen and (min-width:1200px){.logo-main img{display:inline-block;width:221px;height:92px}}.main-menu-bar-color-2 .main-menu .menu-item-35.drop-it>a:before{border-bottom-color:#dd8500}.main-navigation .menu-item-35 .menu-wrap>*{border-top-color:#dd8500!important}.main-menu-bar-color-2 .main-menu .menu-item-6359.drop-it>a:before{border-bottom-color:#dd8500}.main-navigation .menu-item-6359 .menu-wrap>*{border-top-color:#dd8500!important}.main-menu-bar-color-2 .main-menu .menu-item-190.drop-it>a:before{border-bottom-color:#dd8500}.main-navigation .menu-item-190 .menu-wrap>*{border-top-color:#dd8500!important}.main-menu-bar-color-2 .main-menu .menu-item-4802.drop-it>a:before{border-bottom-color:#dd8500}.main-navigation .menu-item-4802 .menu-wrap>*{border-top-color:#dd8500!important}.main-menu-bar-color-2 .main-menu .menu-item-493.drop-it>a:before{border-bottom-color:#dd8f1a}.main-navigation .menu-item-493 .menu-wrap>*{border-top-color:#dd8f1a!important}.main-menu-bar-color-2 .main-menu .menu-item-84.drop-it>a:before{border-bottom-color:#dd8500}.main-navigation .menu-item-84 .menu-wrap>*{border-top-color:#dd8500!important}.main-menu-bar-color-2 .main-menu .menu-item-4801.drop-it>a:before{border-bottom-color:#dd8500}.main-navigation .menu-item-4801 .menu-wrap>*{border-top-color:#dd8500!important}.main-menu-bar-color-2 .main-menu .menu-item-4803.drop-it>a:before{border-bottom-color:#dd8500}.main-navigation .menu-item-4803 .menu-wrap>*{border-top-color:#dd8500!important}</style><link as=\"style\" data-asynced=\"1\" data-optimized=\"2\" href=\"https://www.jitimu.com/wp-jtech/wp-content/litespeed/ucss/3ea2947f43481a366144dc4049a44fb8.css?ver=49799\" onload=\"this.onload=null;this.rel='stylesheet'\" rel=\"preload\"/><script type=\"litespeed/javascript\">!function(a){\"use strict\";var b=function(b,c,d){function e(a){return h.body?a():void setTimeout(function(){e(a)})}function f(){i.addEventListener&&i.removeEventListener(\"load\",f),i.media=d||\"all\"}var g,h=a.document,i=h.createElement(\"link\");if(c)g=c;else{var j=(h.body||h.getElementsByTagName(\"head\")[0]).childNodes;g=j[j.length-1]}var k=h.styleSheets;i.rel=\"stylesheet\",i.href=b,i.media=\"only x\",e(function(){g.parentNode.insertBefore(i,c?g:g.nextSibling)});var l=function(a){for(var b=i.href,c=k.length;c--;)if(k[c].href===b)return a();setTimeout(function(){l(a)})};return i.addEventListener&&i.addEventListener(\"load\",f),i.onloadcssdefined=l,l(f),i};\"undefined\"!=typeof exports?exports.loadCSS=b:a.loadCSS=b}(\"undefined\"!=typeof global?global:this);!function(a){if(a.loadCSS){var b=loadCSS.relpreload={};if(b.support=function(){try{return a.document.createElement(\"link\").relList.supports(\"preload\")}catch(b){return!1}},b.poly=function(){for(var b=a.document.getElementsByTagName(\"link\"),c=0;c<b.length;c++){var d=b[c];\"preload\"===d.rel&&\"style\"===d.getAttribute(\"as\")&&(a.loadCSS(d.href,d,d.getAttribute(\"media\")),d.rel=null)}},!b.support()){b.poly();var c=a.setInterval(b.poly,300);a.addEventListener&&a.addEventListener(\"load\",function(){b.poly(),a.clearInterval(c)}),a.attachEvent&&a.attachEvent(\"onload\",function(){a.clearInterval(c)})}}}(this);</script> <link href=\"https://www.jitimu.com/favicon.png\" rel=\"shortcut icon\"/><meta content=\"width=device-width, height=device-height, initial-scale=1.0, minimum-scale=1.0\" name=\"viewport\"/><link href=\"http://gmpg.org/xfn/11\" rel=\"profile\"/><meta content=\"index, follow, max-image-preview:large, max-snippet:-1, max-video-preview:-1\" name=\"robots\"><title>List of NHIF Hospitals Offering Renal Dialysis Services - JITIMU</title><meta content=\"Here is the list of NHIF accredited hospitals that provide renal dialysis specialized services to NHIF registered and active members.\" name=\"description\"><link href=\"https://www.jitimu.com/2023/02/nhif-hospitals-offering-renal-dialysis/\" rel=\"canonical\"><meta content=\"en_US\" property=\"og:locale\"/><meta content=\"article\" property=\"og:type\"/><meta content=\"List of NHIF Hospitals Offering Renal Dialysis Services - JITIMU\" property=\"og:title\"/><meta content=\"Here is the list of NHIF accredited hospitals that provide renal dialysis specialized services to NHIF registered and active members.\" property=\"og:description\"/><meta content=\"https://www.jitimu.com/2023/02/nhif-hospitals-offering-renal-dialysis/\" property=\"og:url\"/><meta content=\"JITIMU\" property=\"og:site_name\"/><meta content=\"https://www.facebook.com/JitimuKenya/\" property=\"article:publisher\"/><meta content=\"https://www.facebook.com/ezekey.ochami/\" property=\"article:author\"/><meta content=\"2023-02-10T20:23:25+00:00\" property=\"article:published_time\"/><meta content=\"2023-02-11T20:39:19+00:00\" property=\"article:modified_time\"/><meta content=\"https://www.jitimu.com/wp-jtech/wp-content/uploads/2020/08/NHIF-services-in-Kenya-min-e1647613991627.png\" property=\"og:image\"/><meta content=\"400\" property=\"og:image:width\"/><meta content=\"259\" property=\"og:image:height\"/><meta content=\"image/png\" property=\"og:image:type\"/><meta content=\"Ezekiel M.\" name=\"author\"/><meta content=\"summary_large_image\" name=\"twitter:card\"/><meta content=\"@ochamitox\" name=\"twitter:creator\"/><meta content=\"@ochamitox\" name=\"twitter:site\"/><meta content=\"Written by\" name=\"twitter:label1\"/><meta content=\"Ezekiel M.\" name=\"twitter:data1\"/><meta content=\"Est. reading time\" name=\"twitter:label2\"/><meta content=\"3 minutes\" name=\"twitter:data2\"/> <script class=\"yoast-schema-graph\" type=\"application/ld+json\">{\"@context\":\"https://schema.org\",\"@graph\":[{\"@type\":\"Article\",\"@id\":\"https://www.jitimu.com/2023/02/nhif-hospitals-offering-renal-dialysis/#article\",\"isPartOf\":{\"@id\":\"https://www.jitimu.com/2023/02/nhif-hospitals-offering-renal-dialysis/\"},\"author\":{\"name\":\"Ezekiel M.\",\"@id\":\"https://www.jitimu.com/#/schema/person/8d3e61d5bdc8a9d14efc5279b49c6a6e\"},\"headline\":\"List of NHIF Hospitals Offering Renal Dialysis Services\",\"datePublished\":\"2023-02-10T20:23:25+00:00\",\"dateModified\":\"2023-02-11T20:39:19+00:00\",\"mainEntityOfPage\":{\"@id\":\"https://www.jitimu.com/2023/02/nhif-hospitals-offering-renal-dialysis/\"},\"wordCount\":551,\"publisher\":{\"@id\":\"https://www.jitimu.com/#organization\"},\"image\":{\"@id\":\"https://www.jitimu.com/2023/02/nhif-hospitals-offering-renal-dialysis/#primaryimage\"},\"thumbnailUrl\":\"https://www.jitimu.com/wp-jtech/wp-content/uploads/2020/08/NHIF-services-in-Kenya-min-e1647613991627.png\",\"keywords\":[\"NHIF cover\"],\"articleSection\":[\"HEALTH\"],\"inLanguage\":\"en-US\"},{\"@type\":\"WebPage\",\"@id\":\"https://www.jitimu.com/2023/02/nhif-hospitals-offering-renal-dialysis/\",\"url\":\"https://www.jitimu.com/2023/02/nhif-hospitals-offering-renal-dialysis/\",\"name\":\"List of NHIF Hospitals Offering Renal Dialysis Services - JITIMU\",\"isPartOf\":{\"@id\":\"https://www.jitimu.com/#website\"},\"primaryImageOfPage\":{\"@id\":\"https://www.jitimu.com/2023/02/nhif-hospitals-offering-renal-dialysis/#primaryimage\"},\"image\":{\"@id\":\"https://www.jitimu.com/2023/02/nhif-hospitals-offering-renal-dialysis/#primaryimage\"},\"thumbnailUrl\":\"https://www.jitimu.com/wp-jtech/wp-content/uploads/2020/08/NHIF-services-in-Kenya-min-e1647613991627.png\",\"datePublished\":\"2023-02-10T20:23:25+00:00\",\"dateModified\":\"2023-02-11T20:39:19+00:00\",\"description\":\"Here is the list of NHIF accredited hospitals that provide renal dialysis specialized services to NHIF registered and active members.\",\"breadcrumb\":{\"@id\":\"https://www.jitimu.com/2023/02/nhif-hospitals-offering-renal-dialysis/#breadcrumb\"},\"inLanguage\":\"en-US\",\"potentialAction\":[{\"@type\":\"ReadAction\",\"target\":[\"https://www.jitimu.com/2023/02/nhif-hospitals-offering-renal-dialysis/\"]}]},{\"@type\":\"ImageObject\",\"inLanguage\":\"en-US\",\"@id\":\"https://www.jitimu.com/2023/02/nhif-hospitals-offering-renal-dialysis/#primaryimage\",\"url\":\"https://www.jitimu.com/wp-jtech/wp-content/uploads/2020/08/NHIF-services-in-Kenya-min-e1647613991627.png\",\"contentUrl\":\"https://www.jitimu.com/wp-jtech/wp-content/uploads/2020/08/NHIF-services-in-Kenya-min-e1647613991627.png\",\"width\":400,\"height\":259,\"caption\":\"NHIF SUPA cover and civil servants products and services in Nairobi and other parts of Kenya, branches. Premiums and how to pay through MPesa and Airtel Money, check status.\"},{\"@type\":\"BreadcrumbList\",\"@id\":\"https://www.jitimu.com/2023/02/nhif-hospitals-offering-renal-dialysis/#breadcrumb\",\"itemListElement\":[{\"@type\":\"ListItem\",\"position\":1,\"name\":\"HEALTH\",\"item\":\"https://www.jitimu.com/category/health/\"},{\"@type\":\"ListItem\",\"position\":2,\"name\":\"List of NHIF Hospitals Offering Renal Dialysis Services\"}]},{\"@type\":\"WebSite\",\"@id\":\"https://www.jitimu.com/#website\",\"url\":\"https://www.jitimu.com/\",\"name\":\"JITIMU\",\"description\":\"A knowledge base of credible information on technology, education, business and careers\",\"publisher\":{\"@id\":\"https://www.jitimu.com/#organization\"},\"potentialAction\":[{\"@type\":\"SearchAction\",\"target\":{\"@type\":\"EntryPoint\",\"urlTemplate\":\"https://www.jitimu.com/?s={search_term_string}\"},\"query-input\":\"required name=search_term_string\"}],\"inLanguage\":\"en-US\"},{\"@type\":\"Organization\",\"@id\":\"https://www.jitimu.com/#organization\",\"name\":\"JitimuTech\",\"url\":\"https://www.jitimu.com/\",\"logo\":{\"@type\":\"ImageObject\",\"inLanguage\":\"en-US\",\"@id\":\"https://www.jitimu.com/#/schema/logo/image/\",\"url\":\"https://i0.wp.com/www.jitimu.com/wp-jtech/wp-content/uploads/2020/06/favicon-1.png?fit=512%2C512&ssl=1\",\"contentUrl\":\"https://i0.wp.com/www.jitimu.com/wp-jtech/wp-content/uploads/2020/06/favicon-1.png?fit=512%2C512&ssl=1\",\"width\":512,\"height\":512,\"caption\":\"JitimuTech\"},\"image\":{\"@id\":\"https://www.jitimu.com/#/schema/logo/image/\"},\"sameAs\":[\"https://www.facebook.com/JitimuKenya/\",\"https://twitter.com/ochamitox\",\"https://www.linkedin.com/in/ezekiel-ochami-01483015b/\",\"https://www.pinterest.com/JitimuTech/boards/\"]},{\"@type\":\"Person\",\"@id\":\"https://www.jitimu.com/#/schema/person/8d3e61d5bdc8a9d14efc5279b49c6a6e\",\"name\":\"Ezekiel M.\",\"image\":{\"@type\":\"ImageObject\",\"inLanguage\":\"en-US\",\"@id\":\"https://www.jitimu.com/#/schema/person/image/\",\"url\":\"https://www.jitimu.com/wp-jtech/wp-content/litespeed/avatar/38bce08583f659fb4b52a94abac9c1b6.jpg?ver=1692045045\",\"contentUrl\":\"https://www.jitimu.com/wp-jtech/wp-content/litespeed/avatar/38bce08583f659fb4b52a94abac9c1b6.jpg?ver=1692045045\",\"caption\":\"Ezekiel M.\"},\"description\":\"Ezekiel is a typical guy who loves everything technology. When not occupied with his job, you will find him coding and researching credible information to share with the world.\",\"sameAs\":[\"https://www.jitimu.com\",\"https://www.facebook.com/ezekey.ochami/\",\"https://www.linkedin.com/in/ezekiel-ochami-01483015b/\",\"https://twitter.com/ochamitox\"]}]}</script> <link href=\"//stats.wp.com\" rel=\"dns-prefetch\"><link href=\"//fonts.googleapis.com\" rel=\"dns-prefetch\"/><link href=\"https://www.jitimu.com/feed/\" rel=\"alternate\" title=\"JITIMU » Feed\" type=\"application/rss+xml\"/><link href=\"https://www.jitimu.com/comments/feed/\" rel=\"alternate\" title=\"JITIMU » Comments Feed\" type=\"application/rss+xml\"/><!--[if IE]><link rel='stylesheet' id='codetipi-15zine-ie9-css' href='https://www.jitimu.com/wp-jtech/wp-content/themes/15zine/assets/css/ie.css' type='text/css' media='all' />\n",
      "<![endif]--> <script data-src=\"https://www.jitimu.com/wp-jtech/wp-includes/js/jquery/jquery.min.js\" id=\"jquery-core-js\" type=\"litespeed/javascript\"></script> <link href=\"https://www.jitimu.com/wp-json/\" rel=\"https://api.w.org/\"/><link href=\"https://www.jitimu.com/wp-json/wp/v2/posts/3455\" rel=\"alternate\" type=\"application/json\"/><link href=\"https://www.jitimu.com/wp-jtech/xmlrpc.php?rsd\" rel=\"EditURI\" title=\"RSD\" type=\"application/rsd+xml\"/><meta content=\"WordPress 6.3\" name=\"generator\"/><link href=\"https://www.jitimu.com/?p=3455\" rel=\"shortlink\"/><link href=\"https://www.jitimu.com/wp-json/oembed/1.0/embed?url=https%3A%2F%2Fwww.jitimu.com%2F2023%2F02%2Fnhif-hospitals-offering-renal-dialysis%2F\" rel=\"alternate\" type=\"application/json+oembed\"/><link href=\"https://www.jitimu.com/wp-json/oembed/1.0/embed?url=https%3A%2F%2Fwww.jitimu.com%2F2023%2F02%2Fnhif-hospitals-offering-renal-dialysis%2F&amp;format=xml\" rel=\"alternate\" type=\"text/xml+oembed\"/><link as=\"font\" crossorigin=\"\" href=\"https://www.jitimu.com/wp-jtech/wp-content/themes/15zine/assets/css/15zine/codetipi-15zine.woff2?9oa0lg\" rel=\"preload\" type=\"font/woff2\"/><link href=\"//fonts.googleapis.com\" rel=\"dns-prefetch\"/><link crossorigin=\"\" href=\"https://fonts.gstatic.com/\" rel=\"preconnect\"/><meta content=\"wordpress-plugin\" name=\"onesignal\"/><link href=\"https://www.jitimu.com/wp-jtech/wp-content/uploads/2020/06/cropped-favicon-1-32x32.png\" rel=\"icon\" sizes=\"32x32\"><link href=\"https://www.jitimu.com/wp-jtech/wp-content/uploads/2020/06/cropped-favicon-1-192x192.png\" rel=\"icon\" sizes=\"192x192\"><link href=\"https://www.jitimu.com/wp-jtech/wp-content/uploads/2020/06/cropped-favicon-1-180x180.png\" rel=\"apple-touch-icon\"><meta content=\"https://www.jitimu.com/wp-jtech/wp-content/uploads/2020/06/cropped-favicon-1-270x270.png\" name=\"msapplication-TileImage\"/> <script crossorigin=\"anonymous\" data-src=\"https://pagead2.googlesyndication.com/pagead/js/adsbygoogle.js?client=ca-pub-9253013805403673\" type=\"litespeed/javascript\"></script> </link></link></link></link></link></meta></meta></head><body class=\"post-template-default single single-post postid-3455 single-format-standard header__da--mob-off sidebars-mob-off cb-body-light cb-footer-dark has--bg body-mob-header-1 site-mob-menu-a-4 site-mob-menu-1 mm-submenu-2\"><div id=\"fb-root\"></div><div class=\"site\" id=\"cb-outer-container\"><header class=\"site-header-block site-mob-header tipi-l-0 site-mob-header-1 sticky-menu-3 sticky-menu site-skin-1\" id=\"mobhead\"><div class=\"bg-area header-padding tipi-row side-spacing tipi-vertical-c\"><ul class=\"menu-left icons-wrap tipi-vertical-c\"><li class=\"codetipi-15zine-icon vertical-c\"><a class=\"mob-tr-open\" data-target=\"slide-menu\" href=\"#\"><i aria-hidden=\"true\" class=\"codetipi-15zine-i-menu\"></i></a></li></ul><div class=\"logo-main-wrap logo-mob-wrap\"><div class=\"logo logo-mobile\"><a data-pin-nopin=\"true\" href=\"https://www.jitimu.com\"><img height=\"25\" src=\"https://www.jitimu.com/wp-jtech/wp-content/uploads/2020/06/small_header_logo.png\" srcset=\"https://www.jitimu.com/wp-jtech/wp-content/uploads/2020/06/header_logo.png 2x\" width=\"110\"/></a></div></div><ul class=\"menu-right icons-wrap tipi-vertical-c\"><li class=\"codetipi-15zine-icon cb-icon-search cb-menu-icon vertical-c\"><a class=\"tipi-tip tipi-tip-b vertical-c modal-tr\" data-title=\"Search\" data-type=\"search\" href=\"#\"><i aria-hidden=\"true\" class=\"codetipi-15zine-i-search\"></i></a></li></ul></div></header><div class=\"tipi-l-0\" id=\"mob-line\"></div><div class=\"site-inner container clearfix\" id=\"cb-container\"><div class=\"secondary-menu-wrap cb-font-header tipi-m-0-down clearfix site-skin-2\" id=\"cb-top-menu\"><div class=\"cb-top-menu-wrap tipi-flex side-spacing wrap\"><ul class=\"cb-top-nav secondary-menu tipi-flex\"><li class=\"menu-item menu-item-type-post_type menu-item-object-page dropper standard-drop mm-art mm-wrap-2 mm-wrap menu-item-4806\" id=\"menu-item-4806\"><a href=\"https://www.jitimu.com/free-revision-papers-and-schemes-of-work/free-kcse-revision-papers-with-answers/\">KCSE Past Papers</a></li><li class=\"menu-item menu-item-type-post_type menu-item-object-page dropper standard-drop mm-art mm-wrap-2 mm-wrap menu-item-4807\" id=\"menu-item-4807\"><a href=\"https://www.jitimu.com/free-revision-papers-and-schemes-of-work/revision-papers/\">MOCK Revision Papers</a></li><li class=\"menu-item menu-item-type-post_type menu-item-object-page dropper standard-drop mm-art mm-wrap-2 mm-wrap menu-item-4808\" id=\"menu-item-4808\"><a href=\"https://www.jitimu.com/kcse-topical-questions/\">KCSE Topical Questions</a></li><li class=\"menu-item menu-item-type-post_type menu-item-object-page dropper standard-drop mm-art mm-wrap-2 mm-wrap menu-item-4809\" id=\"menu-item-4809\"><a href=\"https://www.jitimu.com/schemes-of-work/\">Schemes of Work</a></li><li class=\"menu-item menu-item-type-post_type menu-item-object-page dropper standard-drop mm-art mm-wrap-2 mm-wrap menu-item-4810\" id=\"menu-item-4810\"><a href=\"https://www.jitimu.com/secondary-kcse-syllabus-in-pdf-format-for-all-subjects/\">Syllabus</a></li><li class=\"menu-item menu-item-type-post_type menu-item-object-page dropper standard-drop mm-art mm-wrap-2 mm-wrap menu-item-4811\" id=\"menu-item-4811\"><a href=\"https://www.jitimu.com/teachers-schemes-of-work-and-notes/secondary-school-notes/\">Notes</a></li><li class=\"menu-item menu-item-type-post_type menu-item-object-page dropper standard-drop mm-art mm-wrap-2 mm-wrap menu-item-4805\" id=\"menu-item-4805\"><a href=\"https://www.jitimu.com/contact-us/\">Contact Us</a></li></ul><ul class=\"menu-icons tipi-flex-eq-height\"></ul></div></div><header class=\"site-header-block site-header clearfix site-header-2 header-skin-1 site-img-1 mm-ani-1 mm-skin-1 main-menu-skin-1 main-menu-width-3 main-menu-bar-color-2 wrap logo-only-when-stuck main-menu-c\" id=\"masthead\"><div class=\"bg-area\"><div class=\"logo-main-wrap tipi-flex-lcr header-padding tipi-vertical-c tipi-flex-eq-height logo-main-wrap-center side-spacing\"><div class=\"logo-main-wrap header-padding tipi-all-c\"><div class=\"logo logo-main\"><a data-pin-nopin=\"true\" href=\"https://www.jitimu.com\"><img alt=\"jitimu\" height=\"92\" src=\"https://www.jitimu.com/wp-jtech/wp-content/uploads/2020/06/header_logo.png\" width=\"221\"/></a></div></div></div><div class=\"background\"></div></div></header><div id=\"header-line\"></div><nav class=\"main-navigation cb-nav-bar-wrap nav-bar tipi-m-0-down clearfix site-skin-1 mm-ani-1 mm-skin-1 main-menu-bar-color-2 wrap side-spacing sticky-top sticky-menu sticky-menu-1 logo-only-when-stuck main-menu-c\" id=\"cb-nav-bar\"><div class=\"menu-bg-area main-navigation-border\"><div class=\"main-menu-wrap cb-nav-bar-wrap clearfix cb-font-header main-nav-wrap vertical-c side-spacing wrap\" id=\"cb-main-menu\"><div class=\"logo-menu-wrap tipi-vertical-c\"><div class=\"main-menu-logo logo\" id=\"cb-nav-logo\"><a href=\"https://www.jitimu.com\"><img alt=\"Menu logo\" src=\"https://www.jitimu.com/wp-jtech/wp-content/uploads/2020/06/small_header_logo.png\"/></a></div></div><ul class=\"main-menu nav cb-main-nav main-nav clearfix tipi-flex horizontal-menu\" id=\"menu-main-menu\"><li class=\"menu-item menu-item-type-custom menu-item-object-custom menu-item-home dropper drop-it mm-art mm-wrap-11 mm-wrap mm-color mm-sb-left menu-item-35\" id=\"menu-item-35\"><a href=\"https://www.jitimu.com/\">Home</a><div class=\"menu mm-11 tipi-row side-spacing\" data-mm=\"11\"><div class=\"menu-wrap menu-wrap-more-10 tipi-flex\"><div class=\"block-wrap block-wrap-61 block-to-see block-wrap-classic clearfix ppl-m-3 ppl-s-3 block-css-35 block--light\" data-id=\"35\" id=\"block-wrap-35\"><div class=\"block-inner-style\"><div class=\"block-inner-box contents\"><div class=\"block-title-wrap cb-module-header\"><h2 class=\"block-title cb-module-title title\">Home</h2><a class=\"see-all\" href=\"https://www.jitimu.com/\">See All</a></div><div class=\"block\"><article class=\"preview-classic separation-border-style stack ani-base tipi-xs-12 preview-61 with-fi post-7319 post type-post status-publish format-standard has-post-thumbnail hentry category-health tag-health tag-insurance tag-ira\"><div class=\"cb-mask mask\" style=\"background:#dd8500;\">\n",
      "<a class=\"mask-img\" href=\"https://www.jitimu.com/2023/08/licensed-insurance-brokers-kenya/\">\n",
      "<img alt=\"IRA licensed insurance brokers in Kenya\" class=\"attachment-codetipi-15zine-360-240 size-codetipi-15zine-360-240 wp-post-image\" data-lazyloaded=\"1\" data-src=\"https://www.jitimu.com/wp-jtech/wp-content/uploads/2023/08/insurance-brokers-ira-360x240.jpg\" decoding=\"async\" fetchpriority=\"high\" height=\"240\" src=\"data:image/svg+xml;base64,PHN2ZyB4bWxucz0iaHR0cDovL3d3dy53My5vcmcvMjAwMC9zdmciIHdpZHRoPSIzNjAiIGhlaWdodD0iMjQwIiB2aWV3Qm94PSIwIDAgMzYwIDI0MCI+PHJlY3Qgd2lkdGg9IjEwMCUiIGhlaWdodD0iMTAwJSIgc3R5bGU9ImZpbGw6I2NmZDRkYjtmaWxsLW9wYWNpdHk6IDAuMTsiLz48L3N2Zz4=\" width=\"360\"> </img></a></div><div class=\"cb-meta cb-article-meta meta\"><h2 class=\"title cb-post-title\">\n",
      "<a href=\"https://www.jitimu.com/2023/08/licensed-insurance-brokers-kenya/\">\n",
      "Licensed Insurance Brokers in Kenya for 2023\t\t\t\t\t</a></h2></div></article><article class=\"preview-classic separation-border-style stack ani-base tipi-xs-12 preview-61 with-fi post-7306 post type-post status-publish format-standard has-post-thumbnail hentry category-tech tag-hef tag-helb tag-helb-loan-disbursement tag-helb-portal\"><div class=\"cb-mask mask\" style=\"background:#dd8f1a;\">\n",
      "<a class=\"mask-img\" href=\"https://www.jitimu.com/2023/08/helb-clearance-certificate-online/\">\n",
      "<img alt=\"HEF, HELB portal downloading clearance (compliance) certificate\" class=\"attachment-codetipi-15zine-360-240 size-codetipi-15zine-360-240 wp-post-image\" data-lazyloaded=\"1\" data-src=\"https://www.jitimu.com/wp-jtech/wp-content/uploads/2023/08/HELB-portal-get-certificate-360x240.jpg\" decoding=\"async\" height=\"240\" src=\"data:image/svg+xml;base64,PHN2ZyB4bWxucz0iaHR0cDovL3d3dy53My5vcmcvMjAwMC9zdmciIHdpZHRoPSIzNjAiIGhlaWdodD0iMjQwIiB2aWV3Qm94PSIwIDAgMzYwIDI0MCI+PHJlY3Qgd2lkdGg9IjEwMCUiIGhlaWdodD0iMTAwJSIgc3R5bGU9ImZpbGw6I2NmZDRkYjtmaWxsLW9wYWNpdHk6IDAuMTsiLz48L3N2Zz4=\" width=\"360\"> </img></a></div><div class=\"cb-meta cb-article-meta meta\"><h2 class=\"title cb-post-title\">\n",
      "<a href=\"https://www.jitimu.com/2023/08/helb-clearance-certificate-online/\">\n",
      "How to Download HELB Clearance Certificate Online for Free\t\t\t\t\t</a></h2></div></article><article class=\"preview-classic separation-border-style stack ani-base tipi-xs-12 preview-61 with-fi post-7297 post type-post status-publish format-standard has-post-thumbnail hentry category-business tag-banks-in-kenya tag-mobile-banking\"><div class=\"cb-mask mask\" style=\"background:#dd8500;\">\n",
      "<a class=\"mask-img\" href=\"https://www.jitimu.com/2023/08/forex-bureaus-in-kenya-licensed-by-cbk/\">\n",
      "<img alt=\"Forex bureaus in Kenya licensed by CBK\" class=\"attachment-codetipi-15zine-360-240 size-codetipi-15zine-360-240 wp-post-image\" data-lazyloaded=\"1\" data-src=\"https://www.jitimu.com/wp-jtech/wp-content/uploads/2023/08/forex-bureaus-in-kenya-360x240.jpg\" decoding=\"async\" height=\"240\" src=\"data:image/svg+xml;base64,PHN2ZyB4bWxucz0iaHR0cDovL3d3dy53My5vcmcvMjAwMC9zdmciIHdpZHRoPSIzNjAiIGhlaWdodD0iMjQwIiB2aWV3Qm94PSIwIDAgMzYwIDI0MCI+PHJlY3Qgd2lkdGg9IjEwMCUiIGhlaWdodD0iMTAwJSIgc3R5bGU9ImZpbGw6I2NmZDRkYjtmaWxsLW9wYWNpdHk6IDAuMTsiLz48L3N2Zz4=\" width=\"360\"> </img></a></div><div class=\"cb-meta cb-article-meta meta\"><h2 class=\"title cb-post-title\">\n",
      "<a href=\"https://www.jitimu.com/2023/08/forex-bureaus-in-kenya-licensed-by-cbk/\">\n",
      "List of Forex Bureaus in Kenya Licensed by CBK\t\t\t\t\t</a></h2></div></article></div></div></div></div></div></div></li><li class=\"menu-item menu-item-type-taxonomy menu-item-object-category dropper drop-it mm-art mm-wrap-11 mm-wrap mm-color mm-sb-left menu-item-6359\" id=\"menu-item-6359\"><a data-ppp=\"3\" data-term=\"category\" data-tid=\"348\" href=\"https://www.jitimu.com/category/general/\">GENERAL</a><div class=\"menu mm-11 tipi-row side-spacing\" data-mm=\"11\"><div class=\"menu-wrap menu-wrap-more-10 tipi-flex\"><div class=\"block-wrap block-wrap-61 block-to-see block-wrap-classic clearfix ppl-m-3 ppl-s-3 block-css-6359 block--light\" data-id=\"6359\" id=\"block-wrap-6359\"><div class=\"block-inner-style\"><div class=\"block-inner-box contents\"><div class=\"block-title-wrap cb-module-header\"><h2 class=\"block-title cb-module-title title\">GENERAL</h2><a class=\"see-all\" href=\"https://www.jitimu.com/category/general/\">See All</a></div><div class=\"block\"><article class=\"preview-classic separation-border-style stack ani-base tipi-xs-12 preview-61 with-fi post-3657 post type-post status-publish format-standard has-post-thumbnail hentry category-general tag-governance tag-magical-kenya\"><div class=\"cb-mask mask\" style=\"background:#dd8500;\">\n",
      "<a class=\"mask-img\" href=\"https://www.jitimu.com/2022/10/cabinet-secretaries-kenya-ministries/\">\n",
      "<img alt=\"HE President Samwel Ruto list of cabinet secretaries in Kenya.\" class=\"attachment-codetipi-15zine-360-240 size-codetipi-15zine-360-240 wp-post-image\" decoding=\"async\" height=\"240\" src=\"https://www.jitimu.com/wp-jtech/wp-content/uploads/2021/07/he-president-ruto-360x240.jpg\" width=\"360\"/> </a></div><div class=\"cb-meta cb-article-meta meta\"><h2 class=\"title cb-post-title\">\n",
      "<a href=\"https://www.jitimu.com/2022/10/cabinet-secretaries-kenya-ministries/\">\n",
      "Current Cabinet Secretaries in Kenya and their Ministries 2023\t\t\t\t\t</a></h2></div></article><article class=\"preview-classic separation-border-style stack ani-base tipi-xs-12 preview-61 with-fi post-5480 post type-post status-publish format-standard has-post-thumbnail hentry category-general tag-governance tag-magical-kenya\"><div class=\"cb-mask mask\" style=\"background:#dd8500;\">\n",
      "<a class=\"mask-img\" href=\"https://www.jitimu.com/2022/10/nominated-mps-senators-kenya/\">\n",
      "<img alt=\"Parliament: nominated senators and MPs\" class=\"attachment-codetipi-15zine-360-240 size-codetipi-15zine-360-240 wp-post-image\" decoding=\"async\" height=\"240\" src=\"https://www.jitimu.com/wp-jtech/wp-content/uploads/2022/10/parliament-building-min-360x240.png\" width=\"360\"/> </a></div><div class=\"cb-meta cb-article-meta meta\"><h2 class=\"title cb-post-title\">\n",
      "<a href=\"https://www.jitimu.com/2022/10/nominated-mps-senators-kenya/\">\n",
      "Nominated MPs and Senators in Kenya 2023\t\t\t\t\t</a></h2></div></article><article class=\"preview-classic separation-border-style stack ani-base tipi-xs-12 preview-61 with-fi post-1460 post type-post status-publish format-standard has-post-thumbnail hentry category-general tag-counties tag-magical-kenya tag-senate\"><div class=\"cb-mask mask\" style=\"background:#dd8500;\">\n",
      "<a class=\"mask-img\" href=\"https://www.jitimu.com/2022/08/names-of-senators-in-kenya-and-their-counties/\">\n",
      "<img alt=\"Kenya Senators and their names\" class=\"attachment-codetipi-15zine-360-240 size-codetipi-15zine-360-240 wp-post-image\" decoding=\"async\" height=\"225\" sizes=\"(max-width: 360px) 100vw, 360px\" src=\"https://www.jitimu.com/wp-jtech/wp-content/uploads/2020/10/Kenyan-Senate-building-min.jpg\" srcset=\"https://www.jitimu.com/wp-jtech/wp-content/uploads/2020/10/Kenyan-Senate-building-min.jpg 500w, https://www.jitimu.com/wp-jtech/wp-content/uploads/2020/10/Kenyan-Senate-building-min-300x187.jpg 300w\" width=\"360\"/> </a></div><div class=\"cb-meta cb-article-meta meta\"><h2 class=\"title cb-post-title\">\n",
      "<a href=\"https://www.jitimu.com/2022/08/names-of-senators-in-kenya-and-their-counties/\">\n",
      "Names of Senators in Kenya and their Counties 2023\t\t\t\t\t</a></h2></div></article></div></div></div></div></div></div></li><li class=\"menu-item menu-item-type-taxonomy menu-item-object-category dropper drop-it mm-art mm-wrap-11 mm-wrap mm-color mm-sb-left menu-item-190\" id=\"menu-item-190\"><a data-ppp=\"3\" data-term=\"category\" data-tid=\"7\" href=\"https://www.jitimu.com/category/education/\">EDUCATION</a><div class=\"menu mm-11 tipi-row side-spacing\" data-mm=\"11\"><div class=\"menu-wrap menu-wrap-more-10 tipi-flex\"><div class=\"block-wrap block-wrap-61 block-to-see block-wrap-classic clearfix ppl-m-3 ppl-s-3 block-css-190 block--light\" data-id=\"190\" id=\"block-wrap-190\"><div class=\"block-inner-style\"><div class=\"block-inner-box contents\"><div class=\"block-title-wrap cb-module-header\"><h2 class=\"block-title cb-module-title title\">EDUCATION</h2><a class=\"see-all\" href=\"https://www.jitimu.com/category/education/\">See All</a></div><div class=\"block\"><article class=\"preview-classic separation-border-style stack ani-base tipi-xs-12 preview-61 with-fi post-198 post type-post status-publish format-standard has-post-thumbnail hentry category-education tag-career-guide tag-colleges tag-kuccps tag-university\"><div class=\"cb-mask mask\" style=\"background:#dd8500;\">\n",
      "<a class=\"mask-img\" href=\"https://www.jitimu.com/2023/07/apply-kuccps-inter-university-college-transfer/\">\n",
      "<img alt=\"KUCCPS Apply for inter university transfer; application for TVET training\" class=\"attachment-codetipi-15zine-360-240 size-codetipi-15zine-360-240 wp-post-image\" decoding=\"async\" height=\"202\" sizes=\"(max-width: 360px) 100vw, 360px\" src=\"https://www.jitimu.com/wp-jtech/wp-content/uploads/2020/07/kuccps_logo.png\" srcset=\"https://www.jitimu.com/wp-jtech/wp-content/uploads/2020/07/kuccps_logo.png 678w, https://www.jitimu.com/wp-jtech/wp-content/uploads/2020/07/kuccps_logo-300x169.png 300w\" width=\"360\"/> </a></div><div class=\"cb-meta cb-article-meta meta\"><h2 class=\"title cb-post-title\">\n",
      "<a href=\"https://www.jitimu.com/2023/07/apply-kuccps-inter-university-college-transfer/\">\n",
      "How to Apply for KUCCPS Inter University or College Transfer [2023]\t\t\t\t\t</a></h2></div></article><article class=\"preview-classic separation-border-style stack ani-base tipi-xs-12 preview-61 with-fi post-1629 post type-post status-publish format-standard has-post-thumbnail hentry category-education tag-kcpe-timetable tag-kcse-results tag-kcse-timetable tag-timetables\"><div class=\"cb-mask mask\" style=\"background:#dd8500;\">\n",
      "<a class=\"mask-img\" href=\"https://www.jitimu.com/2023/06/kcpe-2023-timetable/\">\n",
      "<img alt=\"KCPE 2023 exam timetable\" class=\"attachment-codetipi-15zine-360-240 size-codetipi-15zine-360-240 wp-post-image\" data-lazyloaded=\"1\" data-src=\"https://www.jitimu.com/wp-jtech/wp-content/uploads/2022/09/kcpe-2023-timetable-min-360x240.png\" decoding=\"async\" height=\"240\" src=\"data:image/svg+xml;base64,PHN2ZyB4bWxucz0iaHR0cDovL3d3dy53My5vcmcvMjAwMC9zdmciIHdpZHRoPSIzNjAiIGhlaWdodD0iMjQwIiB2aWV3Qm94PSIwIDAgMzYwIDI0MCI+PHJlY3Qgd2lkdGg9IjEwMCUiIGhlaWdodD0iMTAwJSIgc3R5bGU9ImZpbGw6I2NmZDRkYjtmaWxsLW9wYWNpdHk6IDAuMTsiLz48L3N2Zz4=\" width=\"360\"/> </a></div><div class=\"cb-meta cb-article-meta meta\"><h2 class=\"title cb-post-title\">\n",
      "<a href=\"https://www.jitimu.com/2023/06/kcpe-2023-timetable/\">\n",
      "The New KCPE 2023 Examination Timetable\t\t\t\t\t</a></h2></div></article><article class=\"preview-classic separation-border-style stack ani-base tipi-xs-12 preview-61 with-fi post-1622 post type-post status-publish format-standard has-post-thumbnail hentry category-education tag-certificate-courses tag-kcpe-timetable tag-kcse-timetable tag-universities-in-kenya\"><div class=\"cb-mask mask\" style=\"background:#dd8500;\">\n",
      "<a class=\"mask-img\" href=\"https://www.jitimu.com/2023/06/new-2023-kcse-timetable/\">\n",
      "<img alt=\"\" class=\"attachment-codetipi-15zine-360-240 size-codetipi-15zine-360-240 wp-post-image\" data-lazyloaded=\"1\" data-src=\"https://www.jitimu.com/wp-jtech/wp-content/uploads/2022/09/kcse-2023-timetable-min-360x240.png\" decoding=\"async\" height=\"240\" src=\"data:image/svg+xml;base64,PHN2ZyB4bWxucz0iaHR0cDovL3d3dy53My5vcmcvMjAwMC9zdmciIHdpZHRoPSIzNjAiIGhlaWdodD0iMjQwIiB2aWV3Qm94PSIwIDAgMzYwIDI0MCI+PHJlY3Qgd2lkdGg9IjEwMCUiIGhlaWdodD0iMTAwJSIgc3R5bGU9ImZpbGw6I2NmZDRkYjtmaWxsLW9wYWNpdHk6IDAuMTsiLz48L3N2Zz4=\" width=\"360\"/> </a></div><div class=\"cb-meta cb-article-meta meta\"><h2 class=\"title cb-post-title\">\n",
      "<a href=\"https://www.jitimu.com/2023/06/new-2023-kcse-timetable/\">\n",
      "The New 2023 KCSE Timetable From KNEC\t\t\t\t\t</a></h2></div></article></div></div></div></div></div></div></li><li class=\"menu-item menu-item-type-taxonomy menu-item-object-category dropper drop-it mm-art mm-wrap-11 mm-wrap mm-color mm-sb-left menu-item-4802\" id=\"menu-item-4802\"><a data-ppp=\"3\" data-term=\"category\" data-tid=\"125\" href=\"https://www.jitimu.com/category/business/\">BUSINESS</a><div class=\"menu mm-11 tipi-row side-spacing\" data-mm=\"11\"><div class=\"menu-wrap menu-wrap-more-10 tipi-flex\"><div class=\"block-wrap block-wrap-61 block-to-see block-wrap-classic clearfix ppl-m-3 ppl-s-3 block-css-4802 block--light\" data-id=\"4802\" id=\"block-wrap-4802\"><div class=\"block-inner-style\"><div class=\"block-inner-box contents\"><div class=\"block-title-wrap cb-module-header\"><h2 class=\"block-title cb-module-title title\">BUSINESS</h2><a class=\"see-all\" href=\"https://www.jitimu.com/category/business/\">See All</a></div><div class=\"block\"><article class=\"preview-classic separation-border-style stack ani-base tipi-xs-12 preview-61 with-fi post-7297 post type-post status-publish format-standard has-post-thumbnail hentry category-business tag-banks-in-kenya tag-mobile-banking\"><div class=\"cb-mask mask\" style=\"background:#dd8500;\">\n",
      "<a class=\"mask-img\" href=\"https://www.jitimu.com/2023/08/forex-bureaus-in-kenya-licensed-by-cbk/\">\n",
      "<img alt=\"Forex bureaus in Kenya licensed by CBK\" class=\"attachment-codetipi-15zine-360-240 size-codetipi-15zine-360-240 wp-post-image\" data-lazyloaded=\"1\" data-src=\"https://www.jitimu.com/wp-jtech/wp-content/uploads/2023/08/forex-bureaus-in-kenya-360x240.jpg\" decoding=\"async\" height=\"240\" src=\"data:image/svg+xml;base64,PHN2ZyB4bWxucz0iaHR0cDovL3d3dy53My5vcmcvMjAwMC9zdmciIHdpZHRoPSIzNjAiIGhlaWdodD0iMjQwIiB2aWV3Qm94PSIwIDAgMzYwIDI0MCI+PHJlY3Qgd2lkdGg9IjEwMCUiIGhlaWdodD0iMTAwJSIgc3R5bGU9ImZpbGw6I2NmZDRkYjtmaWxsLW9wYWNpdHk6IDAuMTsiLz48L3N2Zz4=\" width=\"360\"/> </a></div><div class=\"cb-meta cb-article-meta meta\"><h2 class=\"title cb-post-title\">\n",
      "<a href=\"https://www.jitimu.com/2023/08/forex-bureaus-in-kenya-licensed-by-cbk/\">\n",
      "List of Forex Bureaus in Kenya Licensed by CBK\t\t\t\t\t</a></h2></div></article><article class=\"preview-classic separation-border-style stack ani-base tipi-xs-12 preview-61 with-fi post-7180 post type-post status-publish format-standard has-post-thumbnail hentry category-business tag-lipa-mdogo-mdogo tag-loan-apps tag-mobile-services\"><div class=\"cb-mask mask\" style=\"background:#dd8500;\">\n",
      "<a class=\"mask-img\" href=\"https://www.jitimu.com/2023/07/m-kopa-phones-deposit-daily-prices/\">\n",
      "<img alt=\"List of MKopa phones available in Kenya\" class=\"attachment-codetipi-15zine-360-240 size-codetipi-15zine-360-240 wp-post-image\" data-lazyloaded=\"1\" data-src=\"https://www.jitimu.com/wp-jtech/wp-content/uploads/2023/07/mkopa-phones-list-min-360x240.png\" decoding=\"async\" height=\"240\" src=\"data:image/svg+xml;base64,PHN2ZyB4bWxucz0iaHR0cDovL3d3dy53My5vcmcvMjAwMC9zdmciIHdpZHRoPSIzNjAiIGhlaWdodD0iMjQwIiB2aWV3Qm94PSIwIDAgMzYwIDI0MCI+PHJlY3Qgd2lkdGg9IjEwMCUiIGhlaWdodD0iMTAwJSIgc3R5bGU9ImZpbGw6I2NmZDRkYjtmaWxsLW9wYWNpdHk6IDAuMTsiLz48L3N2Zz4=\" width=\"360\"/> </a></div><div class=\"cb-meta cb-article-meta meta\"><h2 class=\"title cb-post-title\">\n",
      "<a href=\"https://www.jitimu.com/2023/07/m-kopa-phones-deposit-daily-prices/\">\n",
      "M-Kopa Phones in Kenya, Deposit and Daily Repayment Prices\t\t\t\t\t</a></h2></div></article><article class=\"preview-classic separation-border-style stack ani-base tipi-xs-12 preview-61 with-fi post-7174 post type-post status-publish format-standard has-post-thumbnail hentry category-business tag-loan-apps tag-mobile-banking tag-tala-loan-app\"><div class=\"cb-mask mask\" style=\"background:#dd8500;\">\n",
      "<a class=\"mask-img\" href=\"https://www.jitimu.com/2023/07/tala-loan-limit/\">\n",
      "<img alt=\"Tala loan app, register, apply, repay loan, interest rates, increase limit.\" class=\"attachment-codetipi-15zine-360-240 size-codetipi-15zine-360-240 wp-post-image\" data-lazyloaded=\"1\" data-sizes=\"(max-width: 360px) 100vw, 360px\" data-src=\"https://www.jitimu.com/wp-jtech/wp-content/uploads/2021/10/tala-loan-app-logo-360x240.jpg\" data-srcset=\"https://www.jitimu.com/wp-jtech/wp-content/uploads/2021/10/tala-loan-app-logo-360x240.jpg 360w, https://www.jitimu.com/wp-jtech/wp-content/uploads/2021/10/tala-loan-app-logo-379x253.jpg 379w\" decoding=\"async\" height=\"240\" src=\"data:image/svg+xml;base64,PHN2ZyB4bWxucz0iaHR0cDovL3d3dy53My5vcmcvMjAwMC9zdmciIHdpZHRoPSIzNjAiIGhlaWdodD0iMjQwIiB2aWV3Qm94PSIwIDAgMzYwIDI0MCI+PHJlY3Qgd2lkdGg9IjEwMCUiIGhlaWdodD0iMTAwJSIgc3R5bGU9ImZpbGw6I2NmZDRkYjtmaWxsLW9wYWNpdHk6IDAuMTsiLz48L3N2Zz4=\" width=\"360\"/> </a></div><div class=\"cb-meta cb-article-meta meta\"><h2 class=\"title cb-post-title\">\n",
      "<a href=\"https://www.jitimu.com/2023/07/tala-loan-limit/\">\n",
      "Tala Loan Limit: Top Strategies to Boost your Limit\t\t\t\t\t</a></h2></div></article></div></div></div></div></div></div></li><li class=\"menu-item menu-item-type-taxonomy menu-item-object-category dropper drop-it mm-art mm-wrap-11 mm-wrap mm-color mm-sb-left menu-item-493\" id=\"menu-item-493\"><a data-ppp=\"3\" data-term=\"category\" data-tid=\"6\" href=\"https://www.jitimu.com/category/tech/\">TECHNOLOGY</a><div class=\"menu mm-11 tipi-row side-spacing\" data-mm=\"11\"><div class=\"menu-wrap menu-wrap-more-10 tipi-flex\"><div class=\"block-wrap block-wrap-61 block-to-see block-wrap-classic clearfix ppl-m-3 ppl-s-3 block-css-493 block--light\" data-id=\"493\" id=\"block-wrap-493\"><div class=\"block-inner-style\"><div class=\"block-inner-box contents\"><div class=\"block-title-wrap cb-module-header\"><h2 class=\"block-title cb-module-title title\">TECHNOLOGY</h2><a class=\"see-all\" href=\"https://www.jitimu.com/category/tech/\">See All</a></div><div class=\"block\"><article class=\"preview-classic separation-border-style stack ani-base tipi-xs-12 preview-61 with-fi post-7306 post type-post status-publish format-standard has-post-thumbnail hentry category-tech tag-hef tag-helb tag-helb-loan-disbursement tag-helb-portal\"><div class=\"cb-mask mask\" style=\"background:#dd8f1a;\">\n",
      "<a class=\"mask-img\" href=\"https://www.jitimu.com/2023/08/helb-clearance-certificate-online/\">\n",
      "<img alt=\"HEF, HELB portal downloading clearance (compliance) certificate\" class=\"attachment-codetipi-15zine-360-240 size-codetipi-15zine-360-240 wp-post-image\" data-lazyloaded=\"1\" data-src=\"https://www.jitimu.com/wp-jtech/wp-content/uploads/2023/08/HELB-portal-get-certificate-360x240.jpg\" decoding=\"async\" height=\"240\" src=\"data:image/svg+xml;base64,PHN2ZyB4bWxucz0iaHR0cDovL3d3dy53My5vcmcvMjAwMC9zdmciIHdpZHRoPSIzNjAiIGhlaWdodD0iMjQwIiB2aWV3Qm94PSIwIDAgMzYwIDI0MCI+PHJlY3Qgd2lkdGg9IjEwMCUiIGhlaWdodD0iMTAwJSIgc3R5bGU9ImZpbGw6I2NmZDRkYjtmaWxsLW9wYWNpdHk6IDAuMTsiLz48L3N2Zz4=\" width=\"360\"/> </a></div><div class=\"cb-meta cb-article-meta meta\"><h2 class=\"title cb-post-title\">\n",
      "<a href=\"https://www.jitimu.com/2023/08/helb-clearance-certificate-online/\">\n",
      "How to Download HELB Clearance Certificate Online for Free\t\t\t\t\t</a></h2></div></article><article class=\"preview-classic separation-border-style stack ani-base tipi-xs-12 preview-61 with-fi post-7290 post type-post status-publish format-standard has-post-thumbnail hentry category-tech tag-magical-kenya tag-mobile-banking tag-mobile-services\"><div class=\"cb-mask mask\" style=\"background:#dd8f1a;\">\n",
      "<a class=\"mask-img\" href=\"https://www.jitimu.com/2023/08/visa-free-or-visa-on-arrival-countries-for-kenya-passport/\">\n",
      "<img alt=\"Visa free countries for kenyans\" class=\"attachment-codetipi-15zine-360-240 size-codetipi-15zine-360-240 wp-post-image\" data-lazyloaded=\"1\" data-src=\"https://www.jitimu.com/wp-jtech/wp-content/uploads/2023/08/visa-free-countries-for-kenya-min-360x240.jpg\" decoding=\"async\" height=\"240\" src=\"data:image/svg+xml;base64,PHN2ZyB4bWxucz0iaHR0cDovL3d3dy53My5vcmcvMjAwMC9zdmciIHdpZHRoPSIzNjAiIGhlaWdodD0iMjQwIiB2aWV3Qm94PSIwIDAgMzYwIDI0MCI+PHJlY3Qgd2lkdGg9IjEwMCUiIGhlaWdodD0iMTAwJSIgc3R5bGU9ImZpbGw6I2NmZDRkYjtmaWxsLW9wYWNpdHk6IDAuMTsiLz48L3N2Zz4=\" width=\"360\"/> </a></div><div class=\"cb-meta cb-article-meta meta\"><h2 class=\"title cb-post-title\">\n",
      "<a href=\"https://www.jitimu.com/2023/08/visa-free-or-visa-on-arrival-countries-for-kenya-passport/\">\n",
      "73 Visa Free or Visa on Arrival Countries for Kenya\t\t\t\t\t</a></h2></div></article><article class=\"preview-classic separation-border-style stack ani-base tipi-xs-12 preview-61 with-fi post-7270 post type-post status-publish format-standard has-post-thumbnail hentry category-tech tag-mobile-banking tag-mpesa tag-safaricom-fuliza\"><div class=\"cb-mask mask\" style=\"background:#dd8f1a;\">\n",
      "<a class=\"mask-img\" href=\"https://www.jitimu.com/2023/08/activate-fuliza-ya-biashara-charges/\">\n",
      "<img alt=\"Fuliza ya Biashara, register, charges\" class=\"attachment-codetipi-15zine-360-240 size-codetipi-15zine-360-240 wp-post-image\" data-lazyloaded=\"1\" data-src=\"https://www.jitimu.com/wp-jtech/wp-content/uploads/2023/08/activate-fuliza-ya-biashara-min-360x240.png\" decoding=\"async\" height=\"240\" src=\"data:image/svg+xml;base64,PHN2ZyB4bWxucz0iaHR0cDovL3d3dy53My5vcmcvMjAwMC9zdmciIHdpZHRoPSIzNjAiIGhlaWdodD0iMjQwIiB2aWV3Qm94PSIwIDAgMzYwIDI0MCI+PHJlY3Qgd2lkdGg9IjEwMCUiIGhlaWdodD0iMTAwJSIgc3R5bGU9ImZpbGw6I2NmZDRkYjtmaWxsLW9wYWNpdHk6IDAuMTsiLz48L3N2Zz4=\" width=\"360\"/> </a></div><div class=\"cb-meta cb-article-meta meta\"><h2 class=\"title cb-post-title\">\n",
      "<a href=\"https://www.jitimu.com/2023/08/activate-fuliza-ya-biashara-charges/\">\n",
      "Fuliza ya Biashara, Activate and Daily Charges\t\t\t\t\t</a></h2></div></article></div></div></div></div></div></div></li><li class=\"menu-item menu-item-type-post_type menu-item-object-page menu-item-has-children dropper drop-it mm-art mm-wrap-2 mm-wrap menu-item-84\" id=\"menu-item-84\"><a href=\"https://www.jitimu.com/free-revision-papers-and-schemes-of-work/\">FREE RESOURCES</a><div class=\"menu mm-2 tipi-row side-spacing\" data-mm=\"2\"><div class=\"menu-wrap menu-wrap-minus-10\"><ul class=\"sub-menu\"><li class=\"menu-item menu-item-type-post_type menu-item-object-page dropper drop-it menu-item-1559\" id=\"menu-item-1559\"><a href=\"https://www.jitimu.com/secondary-kcse-syllabus-in-pdf-format-for-all-subjects/\">KCSE SYLLABUS</a></li><li class=\"menu-item menu-item-type-post_type menu-item-object-page dropper drop-it menu-item-3311\" id=\"menu-item-3311\"><a href=\"https://www.jitimu.com/teachers-schemes-of-work-and-notes/secondary-school-notes/\">HIGH SCHOOL NOTES</a></li><li class=\"menu-item menu-item-type-post_type menu-item-object-page dropper drop-it menu-item-102\" id=\"menu-item-102\"><a href=\"https://www.jitimu.com/free-revision-papers-and-schemes-of-work/free-kcse-revision-papers-with-answers/\">PAST KCSE PAPERS</a></li><li class=\"menu-item menu-item-type-post_type menu-item-object-page dropper drop-it menu-item-770\" id=\"menu-item-770\"><a href=\"https://www.jitimu.com/kcse-topical-questions/\">KCSE TOPICAL QUESTIONS</a></li><li class=\"menu-item menu-item-type-post_type menu-item-object-page dropper drop-it menu-item-103\" id=\"menu-item-103\"><a href=\"https://www.jitimu.com/free-revision-papers-and-schemes-of-work/revision-papers/\">MOCK EXAM PAPERS</a></li><li class=\"menu-item menu-item-type-post_type menu-item-object-page dropper drop-it menu-item-371\" id=\"menu-item-371\"><a href=\"https://www.jitimu.com/schemes-of-work/\">SCHEMES OF WORK</a></li></ul></div></div></li><li class=\"menu-item menu-item-type-taxonomy menu-item-object-category dropper drop-it mm-art mm-wrap-11 mm-wrap mm-color mm-sb-left menu-item-4801\" id=\"menu-item-4801\"><a data-ppp=\"3\" data-term=\"category\" data-tid=\"303\" href=\"https://www.jitimu.com/category/teaching/\">TEACHING</a><div class=\"menu mm-11 tipi-row side-spacing\" data-mm=\"11\"><div class=\"menu-wrap menu-wrap-more-10 tipi-flex\"><div class=\"block-wrap block-wrap-61 block-to-see block-wrap-classic clearfix ppl-m-3 ppl-s-3 block-css-4801 block--light\" data-id=\"4801\" id=\"block-wrap-4801\"><div class=\"block-inner-style\"><div class=\"block-inner-box contents\"><div class=\"block-title-wrap cb-module-header\"><h2 class=\"block-title cb-module-title title\">TEACHING</h2><a class=\"see-all\" href=\"https://www.jitimu.com/category/teaching/\">See All</a></div><div class=\"block\"><article class=\"preview-classic separation-border-style stack ani-base tipi-xs-12 preview-61 with-fi post-703 post type-post status-publish format-standard has-post-thumbnail hentry category-teaching tag-tsc tag-tsc-jobs\"><div class=\"cb-mask mask\" style=\"background:#dd8500;\">\n",
      "<a class=\"mask-img\" href=\"https://www.jitimu.com/2023/02/tsc-county-directors-in-kenya-and-their-contacts/\">\n",
      "<img alt=\"TSC County Directors contact details\" class=\"attachment-codetipi-15zine-360-240 size-codetipi-15zine-360-240 wp-post-image\" decoding=\"async\" height=\"240\" sizes=\"(max-width: 317px) 100vw, 317px\" src=\"https://www.jitimu.com/wp-jtech/wp-content/uploads/2020/08/TSC-county-directors-contact-min.png\" srcset=\"https://www.jitimu.com/wp-jtech/wp-content/uploads/2020/08/TSC-county-directors-contact-min.png 473w, https://www.jitimu.com/wp-jtech/wp-content/uploads/2020/08/TSC-county-directors-contact-min-300x227.png 300w\" width=\"317\"/> </a></div><div class=\"cb-meta cb-article-meta meta\"><h2 class=\"title cb-post-title\">\n",
      "<a href=\"https://www.jitimu.com/2023/02/tsc-county-directors-in-kenya-and-their-contacts/\">\n",
      "TSC County Directors in Kenya and Their Contacts\t\t\t\t\t</a></h2></div></article><article class=\"preview-classic separation-border-style stack ani-base tipi-xs-12 preview-61 with-fi post-671 post type-post status-publish format-standard has-post-thumbnail hentry category-teaching tag-tsc tag-tsc-jobs\"><div class=\"cb-mask mask\" style=\"background:#dd8500;\">\n",
      "<a class=\"mask-img\" href=\"https://www.jitimu.com/2023/02/tsc-allowances-per-job-group/\">\n",
      "<img alt=\"TSC allowances, house allowance per region and job group in Kenya\" class=\"attachment-codetipi-15zine-360-240 size-codetipi-15zine-360-240 wp-post-image\" decoding=\"async\" height=\"203\" sizes=\"(max-width: 360px) 100vw, 360px\" src=\"https://www.jitimu.com/wp-jtech/wp-content/uploads/2020/08/Teaching-as-a-Profession-.jpg\" srcset=\"https://www.jitimu.com/wp-jtech/wp-content/uploads/2020/08/Teaching-as-a-Profession-.jpg 560w, https://www.jitimu.com/wp-jtech/wp-content/uploads/2020/08/Teaching-as-a-Profession--300x169.jpg 300w\" width=\"360\"/> </a></div><div class=\"cb-meta cb-article-meta meta\"><h2 class=\"title cb-post-title\">\n",
      "<a href=\"https://www.jitimu.com/2023/02/tsc-allowances-per-job-group/\">\n",
      "TSC Allowances per Job Group, How House Allowance Vary by Region in Kenya\t\t\t\t\t</a></h2></div></article><article class=\"preview-classic separation-border-style stack ani-base tipi-xs-12 preview-61 with-fi post-656 post type-post status-publish format-standard has-post-thumbnail hentry category-teaching tag-tsc tag-tsc-jobs\"><div class=\"cb-mask mask\" style=\"background:#dd8500;\">\n",
      "<a class=\"mask-img\" href=\"https://www.jitimu.com/2022/12/apply-for-tsc-number-certificate-requirements/\">\n",
      "<img alt=\"How to apply for TSC number and certificate, requirements for TSC registration\" class=\"attachment-codetipi-15zine-360-240 size-codetipi-15zine-360-240 wp-post-image\" decoding=\"async\" height=\"240\" sizes=\"(max-width: 289px) 100vw, 289px\" src=\"https://www.jitimu.com/wp-jtech/wp-content/uploads/2020/08/appy-for-tsc-number-and-certificate-min.png\" srcset=\"https://www.jitimu.com/wp-jtech/wp-content/uploads/2020/08/appy-for-tsc-number-and-certificate-min.png 421w, https://www.jitimu.com/wp-jtech/wp-content/uploads/2020/08/appy-for-tsc-number-and-certificate-min-300x249.png 300w\" width=\"289\"/> </a></div><div class=\"cb-meta cb-article-meta meta\"><h2 class=\"title cb-post-title\">\n",
      "<a href=\"https://www.jitimu.com/2022/12/apply-for-tsc-number-certificate-requirements/\">\n",
      "How to Apply for TSC Number and Certificate Online and the Requirements\t\t\t\t\t</a></h2></div></article></div></div></div></div></div></div></li><li class=\"menu-item menu-item-type-taxonomy menu-item-object-category current-post-ancestor current-menu-parent current-post-parent dropper drop-it mm-art mm-wrap-11 mm-wrap mm-color mm-sb-left menu-item-4803\" id=\"menu-item-4803\"><a data-ppp=\"3\" data-term=\"category\" data-tid=\"302\" href=\"https://www.jitimu.com/category/health/\">HEALTH</a><div class=\"menu mm-11 tipi-row side-spacing\" data-mm=\"11\"><div class=\"menu-wrap menu-wrap-more-10 tipi-flex\"><div class=\"block-wrap block-wrap-61 block-to-see block-wrap-classic clearfix ppl-m-3 ppl-s-3 block-css-4803 block--light\" data-id=\"4803\" id=\"block-wrap-4803\"><div class=\"block-inner-style\"><div class=\"block-inner-box contents\"><div class=\"block-title-wrap cb-module-header\"><h2 class=\"block-title cb-module-title title\">HEALTH</h2><a class=\"see-all\" href=\"https://www.jitimu.com/category/health/\">See All</a></div><div class=\"block\"><article class=\"preview-classic separation-border-style stack ani-base tipi-xs-12 preview-61 with-fi post-7319 post type-post status-publish format-standard has-post-thumbnail hentry category-health tag-health tag-insurance tag-ira\"><div class=\"cb-mask mask\" style=\"background:#dd8500;\">\n",
      "<a class=\"mask-img\" href=\"https://www.jitimu.com/2023/08/licensed-insurance-brokers-kenya/\">\n",
      "<img alt=\"IRA licensed insurance brokers in Kenya\" class=\"attachment-codetipi-15zine-360-240 size-codetipi-15zine-360-240 wp-post-image\" data-lazyloaded=\"1\" data-src=\"https://www.jitimu.com/wp-jtech/wp-content/uploads/2023/08/insurance-brokers-ira-360x240.jpg\" decoding=\"async\" height=\"240\" src=\"data:image/svg+xml;base64,PHN2ZyB4bWxucz0iaHR0cDovL3d3dy53My5vcmcvMjAwMC9zdmciIHdpZHRoPSIzNjAiIGhlaWdodD0iMjQwIiB2aWV3Qm94PSIwIDAgMzYwIDI0MCI+PHJlY3Qgd2lkdGg9IjEwMCUiIGhlaWdodD0iMTAwJSIgc3R5bGU9ImZpbGw6I2NmZDRkYjtmaWxsLW9wYWNpdHk6IDAuMTsiLz48L3N2Zz4=\" width=\"360\"/> </a></div><div class=\"cb-meta cb-article-meta meta\"><h2 class=\"title cb-post-title\">\n",
      "<a href=\"https://www.jitimu.com/2023/08/licensed-insurance-brokers-kenya/\">\n",
      "Licensed Insurance Brokers in Kenya for 2023\t\t\t\t\t</a></h2></div></article><article class=\"preview-classic separation-border-style stack ani-base tipi-xs-12 preview-61 with-fi post-3435 post type-post status-publish format-standard has-post-thumbnail hentry category-health tag-nhif-cover\"><div class=\"cb-mask mask\" style=\"background:#dd8500;\">\n",
      "<a class=\"mask-img\" href=\"https://www.jitimu.com/2023/06/current-nhif-rates-employees-self-employed/\">\n",
      "<img alt=\"NHIF SUPA cover and civil servants products and services in Nairobi and other parts of Kenya, branches. Premiums and how to pay through MPesa and Airtel Money, check status.\" class=\"attachment-codetipi-15zine-360-240 size-codetipi-15zine-360-240 wp-post-image\" decoding=\"async\" height=\"240\" src=\"https://www.jitimu.com/wp-jtech/wp-content/uploads/2020/08/NHIF-services-in-Kenya-min-e1647613991627-360x240.png\" width=\"360\"/> </a></div><div class=\"cb-meta cb-article-meta meta\"><h2 class=\"title cb-post-title\">\n",
      "<a href=\"https://www.jitimu.com/2023/06/current-nhif-rates-employees-self-employed/\">\n",
      "Current NHIF Rates for Employees and Self Employed [2023 New]\t\t\t\t\t</a></h2></div></article><article class=\"preview-classic separation-border-style stack ani-base tipi-xs-12 preview-61 with-fi post-5057 post type-post status-publish format-standard has-post-thumbnail hentry category-health tag-health tag-nhif-cover\"><div class=\"cb-mask mask\" style=\"background:#dd8500;\">\n",
      "<a class=\"mask-img\" href=\"https://www.jitimu.com/2023/06/rehabilitation-centres-in-kenya-accredited-by-nacada/\">\n",
      "<img alt=\"NACADA accredited drug and substance treatment and rehabilitation centres\" class=\"attachment-codetipi-15zine-360-240 size-codetipi-15zine-360-240 wp-post-image\" decoding=\"async\" height=\"240\" src=\"https://www.jitimu.com/wp-jtech/wp-content/uploads/2022/03/nacada-logo-360x240.jpg\" width=\"360\"/> </a></div><div class=\"cb-meta cb-article-meta meta\"><h2 class=\"title cb-post-title\">\n",
      "<a href=\"https://www.jitimu.com/2023/06/rehabilitation-centres-in-kenya-accredited-by-nacada/\">\n",
      "Rehabilitation Centres in Kenya Accredited by NACADA\t\t\t\t\t</a></h2></div></article></div></div></div></div></div></div></li></ul><ul class=\"menu-icons horizontal-menu tipi-flex-eq-height\"><li class=\"codetipi-15zine-icon cb-icon-search cb-menu-icon vertical-c\"><a class=\"tipi-tip tipi-tip-b vertical-c modal-tr\" data-title=\"Search\" data-type=\"search\" href=\"#\"><i aria-hidden=\"true\" class=\"codetipi-15zine-i-search\"></i></a></li></ul></div></div></nav><p id=\"breadcrumbs\"><span><span><a href=\"https://www.jitimu.com/category/health/\">HEALTH</a></span> » <span aria-current=\"page\" class=\"breadcrumb_last\"><strong>List of NHIF Hospitals Offering Renal Dialysis Services</strong></span></span></p><div class=\"content-area clearfix\" id=\"cb-content\"><div class=\"post-wrap clearfix title-beneath hero-s sidebar-on sidebar-right hero-core-1 post-3455 post type-post status-publish format-standard has-post-thumbnail hentry category-health tag-nhif-cover\"><div class=\"single-content contents-wrap wrap side-spacing content-bg clearfix article-layout-1\"><div class=\"tipi-cols clearfix\"><div class=\"cb-main main tipi-col tipi-xs-12 clearfix site-main main-block-wrap block-wrap tipi-m-8\" id=\"main\"><article><div class=\"hero-wrap cb-fis clearfix hero-1 no-par\"><div class=\"hero\"><img alt=\"NHIF SUPA cover and civil servants products and services in Nairobi and other parts of Kenya, branches. Premiums and how to pay through MPesa and Airtel Money, check status.\" class=\"flipboard-image wp-post-image\" decoding=\"async\" height=\"259\" sizes=\"(max-width: 400px) 100vw, 400px\" src=\"https://www.jitimu.com/wp-jtech/wp-content/uploads/2020/08/NHIF-services-in-Kenya-min-e1647613991627.png\" srcset=\"https://www.jitimu.com/wp-jtech/wp-content/uploads/2020/08/NHIF-services-in-Kenya-min-e1647613991627.png 400w, https://www.jitimu.com/wp-jtech/wp-content/uploads/2020/08/NHIF-services-in-Kenya-min-e1647613991627-300x194.png 300w\" width=\"400\"/></div></div><div class=\"meta-wrap hero-meta tipi-s-typo elements-design-1 clearfix\"><div class=\"meta\"><div class=\"title-wrap\"><h1 class=\"entry-title title flipboard-title\">List of NHIF Hospitals Offering Renal Dialysis Services</h1></div><div class=\"cb-byline byline byline-3\"><span class=\"byline-part author-avatar flipboard-author with-name\"><a class=\"author-avatar\" href=\"https://www.jitimu.com/author/ochami/\"><img alt=\"\" class=\"avatar avatar-50 photo\" data-lazyloaded=\"1\" data-src=\"https://www.jitimu.com/wp-jtech/wp-content/litespeed/avatar/a1f2a280decbb68a301215c20982289d.jpg?ver=1692045046\" data-srcset=\"https://www.jitimu.com/wp-jtech/wp-content/litespeed/avatar/7a1c2d3dbd60809ff58585164c769ea5.jpg?ver=1692045046 2x\" decoding=\"async\" height=\"50\" src=\"data:image/svg+xml;base64,PHN2ZyB4bWxucz0iaHR0cDovL3d3dy53My5vcmcvMjAwMC9zdmciIHdpZHRoPSI1MCIgaGVpZ2h0PSI1MCIgdmlld0JveD0iMCAwIDUwIDUwIj48cmVjdCB3aWR0aD0iMTAwJSIgaGVpZ2h0PSIxMDAlIiBzdHlsZT0iZmlsbDojY2ZkNGRiO2ZpbGwtb3BhY2l0eTogMC4xOyIvPjwvc3ZnPg==\" width=\"50\"/></a></span><span class=\"byline-part author\"><a class=\"url fn n\" href=\"https://www.jitimu.com/author/ochami/\">Ezekiel M.</a></span><span class=\"byline-part separator separator-date\">·</span><span class=\"byline-part cb-date date\"><time class=\"entry-date published dateCreated flipboard-date\" datetime=\"2023-02-10T23:23:25+03:00\">February 10, 2023</time></span></div></div></div><div class=\"entry-content-wrap clearfix\"><div class=\"entry-content body-color clearfix link-color-wrap\"><div class=\"shared-counts-wrap before_content style-classic\"><a class=\"shared-counts-button facebook shared-counts-no-count\" data-postid=\"3455\" data-social-action=\"Share\" data-social-network=\"Facebook\" data-social-target=\"https://www.jitimu.com/2023/02/nhif-hospitals-offering-renal-dialysis/\" href=\"https://www.facebook.com/sharer/sharer.php?u=https://www.jitimu.com/2023/02/nhif-hospitals-offering-renal-dialysis/&amp;display=popup&amp;ref=plugin&amp;src=share_button\" rel=\"nofollow noopener noreferrer\" target=\"_blank\" title=\"Share on Facebook\"><span class=\"shared-counts-icon-label\"><span class=\"shared-counts-icon\"><svg height=\"32\" version=\"1.1\" viewbox=\"0 0 602 1024\" width=\"18.8125\" xmlns=\"http://www.w3.org/2000/svg\"><path d=\"M548 6.857v150.857h-89.714q-49.143 0-66.286 20.571t-17.143 61.714v108h167.429l-22.286 169.143h-145.143v433.714h-174.857v-433.714h-145.714v-169.143h145.714v-124.571q0-106.286 59.429-164.857t158.286-58.571q84 0 130.286 6.857z\"></path></svg></span><span class=\"shared-counts-label\">Facebook</span></span></a><a class=\"shared-counts-button twitter shared-counts-no-count\" data-postid=\"3455\" data-social-action=\"Tweet\" data-social-network=\"Twitter\" data-social-target=\"https://www.jitimu.com/2023/02/nhif-hospitals-offering-renal-dialysis/\" href=\"https://twitter.com/share?url=https://www.jitimu.com/2023/02/nhif-hospitals-offering-renal-dialysis/&amp;text=List%20of%20NHIF%20Hospitals%20Offering%20Renal%20Dialysis%20Services\" rel=\"nofollow noopener noreferrer\" target=\"_blank\" title=\"Share on Twitter\"><span class=\"shared-counts-icon-label\"><span class=\"shared-counts-icon\"><svg height=\"32\" version=\"1.1\" viewbox=\"0 0 951 1024\" width=\"29.71875\" xmlns=\"http://www.w3.org/2000/svg\"><path d=\"M925.714 233.143q-38.286 56-92.571 95.429 0.571 8 0.571 24 0 74.286-21.714 148.286t-66 142-105.429 120.286-147.429 83.429-184.571 31.143q-154.857 0-283.429-82.857 20 2.286 44.571 2.286 128.571 0 229.143-78.857-60-1.143-107.429-36.857t-65.143-91.143q18.857 2.857 34.857 2.857 24.571 0 48.571-6.286-64-13.143-106-63.714t-42-117.429v-2.286q38.857 21.714 83.429 23.429-37.714-25.143-60-65.714t-22.286-88q0-50.286 25.143-93.143 69.143 85.143 168.286 136.286t212.286 56.857q-4.571-21.714-4.571-42.286 0-76.571 54-130.571t130.571-54q80 0 134.857 58.286 62.286-12 117.143-44.571-21.143 65.714-81.143 101.714 53.143-5.714 106.286-28.571z\"></path></svg></span><span class=\"shared-counts-label\">Tweet</span></span></a><a class=\"shared-counts-button pinterest shared-counts-no-count\" data-pin-do=\"none\" data-postid=\"3455\" data-social-action=\"Pin\" data-social-network=\"Pinterest\" data-social-target=\"https://www.jitimu.com/2023/02/nhif-hospitals-offering-renal-dialysis/\" href=\"https://pinterest.com/pin/create/button/?url=https://www.jitimu.com/2023/02/nhif-hospitals-offering-renal-dialysis/&amp;media=https://www.jitimu.com/wp-jtech/wp-content/uploads/2020/08/NHIF-services-in-Kenya-min-e1647613991627.png&amp;description=List of NHIF Hospitals Offering Renal Dialysis Services\" rel=\"nofollow noopener noreferrer\" target=\"_blank\" title=\"Share on Pinterest\"><span class=\"shared-counts-icon-label\"><span class=\"shared-counts-icon\"><svg height=\"32\" version=\"1.1\" viewbox=\"0 0 731 1024\" width=\"22.84375\" xmlns=\"http://www.w3.org/2000/svg\"><path d=\"M0 341.143q0-61.714 21.429-116.286t59.143-95.143 86.857-70.286 105.714-44.571 115.429-14.857q90.286 0 168 38t126.286 110.571 48.571 164q0 54.857-10.857 107.429t-34.286 101.143-57.143 85.429-82.857 58.857-108 22q-38.857 0-77.143-18.286t-54.857-50.286q-5.714 22.286-16 64.286t-13.429 54.286-11.714 40.571-14.857 40.571-18.286 35.714-26.286 44.286-35.429 49.429l-8 2.857-5.143-5.714q-8.571-89.714-8.571-107.429 0-52.571 12.286-118t38-164.286 29.714-116q-18.286-37.143-18.286-96.571 0-47.429 29.714-89.143t75.429-41.714q34.857 0 54.286 23.143t19.429 58.571q0 37.714-25.143 109.143t-25.143 106.857q0 36 25.714 59.714t62.286 23.714q31.429 0 58.286-14.286t44.857-38.857 32-54.286 21.714-63.143 11.429-63.429 3.714-56.857q0-98.857-62.571-154t-163.143-55.143q-114.286 0-190.857 74t-76.571 187.714q0 25.143 7.143 48.571t15.429 37.143 15.429 26 7.143 17.429q0 16-8.571 41.714t-21.143 25.714q-1.143 0-9.714-1.714-29.143-8.571-51.714-32t-34.857-54-18.571-61.714-6.286-60.857z\"></path></svg></span><span class=\"shared-counts-label\">Pin</span></span></a><a class=\"shared-counts-button linkedin shared-counts-no-count\" data-postid=\"3455\" data-social-action=\"Share\" data-social-network=\"LinkedIn\" data-social-target=\"https://www.jitimu.com/2023/02/nhif-hospitals-offering-renal-dialysis/\" href=\"https://www.linkedin.com/shareArticle?mini=true&amp;url=https://www.jitimu.com/2023/02/nhif-hospitals-offering-renal-dialysis/\" rel=\"nofollow noopener noreferrer\" target=\"_blank\" title=\"Share on LinkedIn\"><span class=\"shared-counts-icon-label\"><span class=\"shared-counts-icon\"><svg height=\"32\" version=\"1.1\" viewbox=\"0 0 878 1024\" width=\"27.4375\" xmlns=\"http://www.w3.org/2000/svg\"><path d=\"M199.429 357.143v566.286h-188.571v-566.286h188.571zM211.429 182.286q0.571 41.714-28.857 69.714t-77.429 28h-1.143q-46.857 0-75.429-28t-28.571-69.714q0-42.286 29.429-70t76.857-27.714 76 27.714 29.143 70zM877.714 598.857v324.571h-188v-302.857q0-60-23.143-94t-72.286-34q-36 0-60.286 19.714t-36.286 48.857q-6.286 17.143-6.286 46.286v316h-188q1.143-228 1.143-369.714t-0.571-169.143l-0.571-27.429h188v82.286h-1.143q11.429-18.286 23.429-32t32.286-29.714 49.714-24.857 65.429-8.857q97.714 0 157.143 64.857t59.429 190z\"></path></svg></span><span class=\"shared-counts-label\">LinkedIn</span></span></a></div><p>The NHIF specialized services are a comprehensively covered range of pre-defined services designed to help in the attainment of Universal Health Coverage for NHIF beneficiaries. NHIF specialized services under the outpatient Supa Cover scheme include Oncology services, Renal Dialysis, and Radiology services.</p><div class=\"code-block code-block-2\" style=\"margin: 8px auto; text-align: center; display: block; clear: both;\"> <script crossorigin=\"anonymous\" data-src=\"https://pagead2.googlesyndication.com/pagead/js/adsbygoogle.js?client=ca-pub-9253013805403673\" type=\"litespeed/javascript\"></script>\n",
      "<ins class=\"adsbygoogle\" data-ad-client=\"ca-pub-9253013805403673\" data-ad-format=\"auto\" data-ad-slot=\"2806645322\" data-full-width-responsive=\"true\" style=\"display:block\"></ins> <script type=\"litespeed/javascript\">(adsbygoogle=window.adsbygoogle||[]).push({})</script></div><p>The renal dialysis and kidney transplant NHIF package includes coverage of dialysis up to twice per week and kidney transplant package where the donor is covered as well by the national insurer.</p><h4>List of NHIF Hospitals Offering Renal Dialysis Services</h4><table style=\"width: 100%;\"><tbody><tr><th>HOSPITAL NAME</th><th>NHIF BRANCH</th><th>COUNTY</th></tr><tr><td>Africare Dialysis Centre</td><td>Ruaraka</td><td>Nairobi</td></tr><tr><td>Africare Limited</td><td>Westlands</td><td>Nairobi</td></tr><tr><td>Aga Khan Hospital</td><td>Mombasa</td><td>Mombasa</td></tr><tr><td>Aga Khan Hospital Nairobi</td><td>Westlands</td><td>Nairobi</td></tr><tr><td>Alliance Medical Centre</td><td>Eastleigh</td><td>Nairobi</td></tr><tr><td>Athi River Shalom Community Hospital</td><td>Kitengela</td><td>Kajiado</td></tr><tr><td>Avenue Hospital Kisumu</td><td>Kisumu</td><td>Kisumu</td></tr><tr><td>Central Dialysis &amp; Diagnostic Limited</td><td>Nyeri</td><td>Nyeri</td></tr><tr><td>Central Memorial Hospital Thika</td><td>Thika</td><td>Kiambu</td></tr><tr><td>Coast General Hospital</td><td>Mombasa</td><td>Mombasa</td></tr><tr><td>Coast Provincial General Hospital</td><td>Mombasa</td><td>Mombasa</td></tr><tr><td>Consolata Hospital Nyeri</td><td>Nyeri</td><td>Nyeri</td></tr><tr><td>Coptic Hospital</td><td>Nairobi</td><td>Nairobi</td></tr><tr><td>Eldoret Hospital</td><td>Eldoret</td><td>Uasin Gishu</td></tr><tr><td>Elgon View Hospital</td><td>Eldoret</td><td>Uasin Gishu</td></tr><tr><td>Embu Children Hospital</td><td>Embu</td><td>Embu</td></tr><tr><td>Hema Hospital</td><td>Kisii</td><td>Kisii</td></tr><tr><td>Homabay District Hospital</td><td>Homabay</td><td>Homabay</td></tr><tr><td>Jocham Hospital</td><td>Mombasa</td><td>Mombasa</td></tr><tr><td>Kakamega County General Hospital</td><td>Kakamega</td><td>Kakamega</td></tr><tr><td>Kenyatta National Hospital</td><td>Nairobi</td><td>Nairobi</td></tr><tr><td>Kijiji Medical Centre Naivasha</td><td>Naivasha</td><td>Nakuru</td></tr><tr><td>Kisii Level V Hospital</td><td>Kisii</td><td>Kisii</td></tr><tr><td>Ladnan Hospital</td><td>Eastleigh</td><td>Nairobi</td></tr><tr><td>Lanika Nursing Home And Dialysis Centre</td><td>Limuru</td><td>Kiambu</td></tr><tr><td>M.P. Shah Hospital</td><td>Westlands</td><td>Nairobi</td></tr><tr><td>Machakos Level V</td><td>Machakos</td><td>Machakos</td></tr><tr><td>Mariakani Cottage Hospital</td><td>Industrial Area</td><td>Nairobi</td></tr><tr><td>Mediheal Diagnostic &amp; Fertility Centre</td><td>Westlands</td><td>Nairobi</td></tr><tr><td>Mediheal Diagonistic Dialysis &amp; Day Care – Real Towers</td><td>Nairobi</td><td>Nairobi</td></tr><tr><td>Mediheal Hospital &amp; Fertility – Eldoret</td><td>Eldoret</td><td>Uasin Gishu</td></tr><tr><td>Mediheal Hospital Nakuru</td><td>Nakuru</td><td>Nakuru</td></tr><tr><td>Meridian Equator Hospital</td><td>Industrial Area</td><td>Nairobi</td></tr><tr><td>Meru Teaching And Referral Hospital</td><td>Meru</td><td>Meru</td></tr><tr><td>Moi Teaching And Referral Hospital</td><td>Eldoret</td><td>Uasin Gishu</td></tr><tr><td>Mombasa Dialysis Centre Limited, Rashid Sajjad Road Kizingo</td><td>Mombasa</td><td>Mombasa</td></tr><tr><td>Mombasa Dialysis Centre Limited,Nyali</td><td>Mombasa</td><td>Mombasa</td></tr><tr><td>Mombasa Hospital</td><td>Mombasa</td><td>Mombasa</td></tr><tr><td>Nairobi East Hospital</td><td>Eastleigh</td><td>Nairobi</td></tr><tr><td>Nairobi West Hospital</td><td>Industrial Area</td><td>Nairobi</td></tr><tr><td>Nairobi Women’S Hospital</td><td>Industrial Area</td><td>Nairobi</td></tr><tr><td>Nyali Bridge Hospital</td><td>Mombasa</td><td>Mombasa</td></tr><tr><td>Nyamira District Hospital</td><td>Nyamira</td><td>Nyamira</td></tr><tr><td>Oasis Doctors Plaza Kisumu</td><td>Kisumu</td><td>Kisumu</td></tr><tr><td>P.C.E.A Chogoria Hospital</td><td>Chuka</td><td>Tharaka Nithi</td></tr><tr><td>P.C.E.A Kikuyu Mission Hospital</td><td>Limuru</td><td>Kiambu</td></tr><tr><td>Pandya Hospital</td><td>Mombasa</td><td>Mombasa</td></tr><tr><td>Parklands Kidney Centre Ltd</td><td>Westlands</td><td>Nairobi</td></tr><tr><td>Pcea Tumutumu Hospital</td><td>Nyeri</td><td>Nyeri</td></tr><tr><td>Poly-Clinic Hospital</td><td>Naivasha</td><td>Naivasha</td></tr><tr><td>Provincial General Hospital Embu</td><td>Embu</td><td>Embu</td></tr><tr><td>Provincial General Hospital Kisumu</td><td>Kisumu</td><td>Kisumu</td></tr><tr><td>Provincial General Hospital Nakuru</td><td>Nakuru</td><td>Nakuru</td></tr><tr><td>Provincial General Hospital Nyeri</td><td>Nyeri</td><td>Nyeri</td></tr><tr><td>Rapha Dialysis And Diagnostic Centre</td><td>Eldoret</td><td>Uasin Gishu</td></tr><tr><td>Reale Hospital</td><td>Eldoret</td><td>Uasin Gishu</td></tr><tr><td>Sayyida Fatimah</td><td>Mombasa</td><td>Mombasa</td></tr><tr><td>Shalom Community Hospital</td><td>Machakos</td><td>Machakos</td></tr><tr><td>Siloam Hospital</td><td>Eldoret</td><td>Kericho</td></tr><tr><td>South C Dialysis Centre Limited</td><td>Industrial Area</td><td>Nairobi</td></tr><tr><td>St. Theresa’S Mission Hospital-Kiirua</td><td>Meru</td><td>Meru</td></tr><tr><td>Taqwa Nursing Home</td><td>Moyale</td><td>Marsabit</td></tr><tr><td>Tawfiq Hospital</td><td>Malindi</td><td>Malindi</td></tr><tr><td>The Karen Hospital</td><td>Ongata Rongai</td><td>Kajiado</td></tr><tr><td>The Mater Hospital</td><td>Industrial Area</td><td>Nairobi</td></tr><tr><td>The Nairobi Hospital</td><td>Nairobi</td><td>Nairobi</td></tr><tr><td>The Nairobi South Hospital</td><td>Industrial Area</td><td>Nairobi</td></tr><tr><td>Thika Level V Hospital</td><td>Thika</td><td>Kiambu</td></tr></tbody></table><div style=\"clear:both; margin-top:0em; margin-bottom:1em;\"><a class=\"u1f4d1b23091b3079530677471f8f2cbd\" href=\"https://www.jitimu.com/2023/06/current-nhif-rates-employees-self-employed/\" rel='\"dofollow\"' target=\"_self\"><div style=\"padding-left:1em; padding-right:1em;\"><span class=\"ctaText\">Read Also: </span>  <span class=\"postTitle\">Current NHIF Rates for Employees and Self Employed [2023 New]</span></div></a></div><p>Also Read:</p><ol><li><a href=\"https://www.jitimu.com/2021/01/approved-nursing-schools-kenya/\">Approved Nursing Schools in Kenya for Diploma and Degree</a></li><li><a href=\"https://www.jitimu.com/2021/01/kenya-institute-of-social-work-and-community-development-kiswcd-courses/\">Kenya Institute of Social Work and Community Development KISWCD Courses</a></li><li><a href=\"https://www.jitimu.com/2021/01/colleges-offering-diploma-in-social-work-and-community-development/\">Accredited Universities and Colleges Offering Diploma in Social Work and Community Development</a></li><li><a href=\"https://www.jitimu.com/2020/08/list-of-kmtc-colleges-in-kenya/\">List of KMTC colleges in Kenya, KMTC Campuses per County</a></li><li><a href=\"https://www.jitimu.com/2020/10/choose-nhif-outpatient-hospital-online-or-using-ussd-code/\">How to Choose or Change NHIF Outpatient Facility Online, USSD Code or App</a></li></ol><div class=\"code-block code-block-11\" style=\"margin: 8px auto; text-align: center; display: block; clear: both;\"> <script crossorigin=\"anonymous\" data-src=\"https://pagead2.googlesyndication.com/pagead/js/adsbygoogle.js?client=ca-pub-9253013805403673\" type=\"litespeed/javascript\"></script>\n",
      "<ins class=\"adsbygoogle\" data-ad-client=\"ca-pub-9253013805403673\" data-ad-slot=\"8154045000\" style=\"display:inline-block;width:336px;height:280px\"></ins> <script type=\"litespeed/javascript\">(adsbygoogle=window.adsbygoogle||[]).push({})</script></div><div class=\"shared-counts-wrap after_content style-classic\"><a class=\"shared-counts-button facebook shared-counts-no-count\" data-postid=\"3455\" data-social-action=\"Share\" data-social-network=\"Facebook\" data-social-target=\"https://www.jitimu.com/2023/02/nhif-hospitals-offering-renal-dialysis/\" href=\"https://www.facebook.com/sharer/sharer.php?u=https://www.jitimu.com/2023/02/nhif-hospitals-offering-renal-dialysis/&amp;display=popup&amp;ref=plugin&amp;src=share_button\" rel=\"nofollow noopener noreferrer\" target=\"_blank\" title=\"Share on Facebook\"><span class=\"shared-counts-icon-label\"><span class=\"shared-counts-icon\"><svg height=\"32\" version=\"1.1\" viewbox=\"0 0 602 1024\" width=\"18.8125\" xmlns=\"http://www.w3.org/2000/svg\"><path d=\"M548 6.857v150.857h-89.714q-49.143 0-66.286 20.571t-17.143 61.714v108h167.429l-22.286 169.143h-145.143v433.714h-174.857v-433.714h-145.714v-169.143h145.714v-124.571q0-106.286 59.429-164.857t158.286-58.571q84 0 130.286 6.857z\"></path></svg></span><span class=\"shared-counts-label\">Facebook</span></span></a><a class=\"shared-counts-button twitter shared-counts-no-count\" data-postid=\"3455\" data-social-action=\"Tweet\" data-social-network=\"Twitter\" data-social-target=\"https://www.jitimu.com/2023/02/nhif-hospitals-offering-renal-dialysis/\" href=\"https://twitter.com/share?url=https://www.jitimu.com/2023/02/nhif-hospitals-offering-renal-dialysis/&amp;text=List%20of%20NHIF%20Hospitals%20Offering%20Renal%20Dialysis%20Services\" rel=\"nofollow noopener noreferrer\" target=\"_blank\" title=\"Share on Twitter\"><span class=\"shared-counts-icon-label\"><span class=\"shared-counts-icon\"><svg height=\"32\" version=\"1.1\" viewbox=\"0 0 951 1024\" width=\"29.71875\" xmlns=\"http://www.w3.org/2000/svg\"><path d=\"M925.714 233.143q-38.286 56-92.571 95.429 0.571 8 0.571 24 0 74.286-21.714 148.286t-66 142-105.429 120.286-147.429 83.429-184.571 31.143q-154.857 0-283.429-82.857 20 2.286 44.571 2.286 128.571 0 229.143-78.857-60-1.143-107.429-36.857t-65.143-91.143q18.857 2.857 34.857 2.857 24.571 0 48.571-6.286-64-13.143-106-63.714t-42-117.429v-2.286q38.857 21.714 83.429 23.429-37.714-25.143-60-65.714t-22.286-88q0-50.286 25.143-93.143 69.143 85.143 168.286 136.286t212.286 56.857q-4.571-21.714-4.571-42.286 0-76.571 54-130.571t130.571-54q80 0 134.857 58.286 62.286-12 117.143-44.571-21.143 65.714-81.143 101.714 53.143-5.714 106.286-28.571z\"></path></svg></span><span class=\"shared-counts-label\">Tweet</span></span></a><a class=\"shared-counts-button pinterest shared-counts-no-count\" data-pin-do=\"none\" data-postid=\"3455\" data-social-action=\"Pin\" data-social-network=\"Pinterest\" data-social-target=\"https://www.jitimu.com/2023/02/nhif-hospitals-offering-renal-dialysis/\" href=\"https://pinterest.com/pin/create/button/?url=https://www.jitimu.com/2023/02/nhif-hospitals-offering-renal-dialysis/&amp;media=https://www.jitimu.com/wp-jtech/wp-content/uploads/2020/08/NHIF-services-in-Kenya-min-e1647613991627.png&amp;description=List of NHIF Hospitals Offering Renal Dialysis Services\" rel=\"nofollow noopener noreferrer\" target=\"_blank\" title=\"Share on Pinterest\"><span class=\"shared-counts-icon-label\"><span class=\"shared-counts-icon\"><svg height=\"32\" version=\"1.1\" viewbox=\"0 0 731 1024\" width=\"22.84375\" xmlns=\"http://www.w3.org/2000/svg\"><path d=\"M0 341.143q0-61.714 21.429-116.286t59.143-95.143 86.857-70.286 105.714-44.571 115.429-14.857q90.286 0 168 38t126.286 110.571 48.571 164q0 54.857-10.857 107.429t-34.286 101.143-57.143 85.429-82.857 58.857-108 22q-38.857 0-77.143-18.286t-54.857-50.286q-5.714 22.286-16 64.286t-13.429 54.286-11.714 40.571-14.857 40.571-18.286 35.714-26.286 44.286-35.429 49.429l-8 2.857-5.143-5.714q-8.571-89.714-8.571-107.429 0-52.571 12.286-118t38-164.286 29.714-116q-18.286-37.143-18.286-96.571 0-47.429 29.714-89.143t75.429-41.714q34.857 0 54.286 23.143t19.429 58.571q0 37.714-25.143 109.143t-25.143 106.857q0 36 25.714 59.714t62.286 23.714q31.429 0 58.286-14.286t44.857-38.857 32-54.286 21.714-63.143 11.429-63.429 3.714-56.857q0-98.857-62.571-154t-163.143-55.143q-114.286 0-190.857 74t-76.571 187.714q0 25.143 7.143 48.571t15.429 37.143 15.429 26 7.143 17.429q0 16-8.571 41.714t-21.143 25.714q-1.143 0-9.714-1.714-29.143-8.571-51.714-32t-34.857-54-18.571-61.714-6.286-60.857z\"></path></svg></span><span class=\"shared-counts-label\">Pin</span></span></a><a class=\"shared-counts-button linkedin shared-counts-no-count\" data-postid=\"3455\" data-social-action=\"Share\" data-social-network=\"LinkedIn\" data-social-target=\"https://www.jitimu.com/2023/02/nhif-hospitals-offering-renal-dialysis/\" href=\"https://www.linkedin.com/shareArticle?mini=true&amp;url=https://www.jitimu.com/2023/02/nhif-hospitals-offering-renal-dialysis/\" rel=\"nofollow noopener noreferrer\" target=\"_blank\" title=\"Share on LinkedIn\"><span class=\"shared-counts-icon-label\"><span class=\"shared-counts-icon\"><svg height=\"32\" version=\"1.1\" viewbox=\"0 0 878 1024\" width=\"27.4375\" xmlns=\"http://www.w3.org/2000/svg\"><path d=\"M199.429 357.143v566.286h-188.571v-566.286h188.571zM211.429 182.286q0.571 41.714-28.857 69.714t-77.429 28h-1.143q-46.857 0-75.429-28t-28.571-69.714q0-42.286 29.429-70t76.857-27.714 76 27.714 29.143 70zM877.714 598.857v324.571h-188v-302.857q0-60-23.143-94t-72.286-34q-36 0-60.286 19.714t-36.286 48.857q-6.286 17.143-6.286 46.286v316h-188q1.143-228 1.143-369.714t-0.571-169.143l-0.571-27.429h188v82.286h-1.143q11.429-18.286 23.429-32t32.286-29.714 49.714-24.857 65.429-8.857q97.714 0 157.143 64.857t59.429 190z\"></path></svg></span><span class=\"shared-counts-label\">LinkedIn</span></span></a></div><div class=\"code-block code-block-5\" style=\"margin: 8px auto; text-align: center; display: block; clear: both;\"> <script crossorigin=\"anonymous\" data-src=\"https://pagead2.googlesyndication.com/pagead/js/adsbygoogle.js?client=ca-pub-9253013805403673\" type=\"litespeed/javascript\"></script>\n",
      "<ins class=\"adsbygoogle\" data-ad-client=\"ca-pub-9253013805403673\" data-ad-slot=\"8154045000\" style=\"display:inline-block;width:336px;height:280px\"></ins> <script type=\"litespeed/javascript\">(adsbygoogle=window.adsbygoogle||[]).push({})</script></div></div></div><footer class=\"cb-article-footer entry-footer tipi-xs-12\"><div class=\"block-wrap block-wrap-22 block-to-see block-wrap-classic clearfix ppl-m-2 ppl-s-2 block-css-73250 block--light\" data-id=\"73250\" id=\"block-wrap-73250\"><div class=\"block-inner-style\"><div class=\"block-inner-box contents\"><div class=\"block-title-wrap singular-block-header\"><h2 class=\"block-title cb-module-title title\">Related Posts</h2></div><div class=\"block\"><article class=\"preview-thumbnail split ani-base article-ani article-ani-1 tipi-xs-12 preview-22 with-fi post-5057 post type-post status-publish format-standard has-post-thumbnail hentry category-health tag-health tag-nhif-cover\"><div class=\"cb-mask mask\" style=\"background:#dd8500;\">\n",
      "<a class=\"mask-img\" href=\"https://www.jitimu.com/2023/06/rehabilitation-centres-in-kenya-accredited-by-nacada/\">\n",
      "<img alt=\"NACADA accredited drug and substance treatment and rehabilitation centres\" class=\"attachment-codetipi-15zine-120-120 size-codetipi-15zine-120-120 wp-post-image\" data-lazyloaded=\"1\" data-sizes=\"(max-width: 120px) 100vw, 120px\" data-src=\"https://www.jitimu.com/wp-jtech/wp-content/uploads/2022/03/nacada-logo-120x120.jpg\" data-srcset=\"https://www.jitimu.com/wp-jtech/wp-content/uploads/2022/03/nacada-logo-120x120.jpg 120w, https://www.jitimu.com/wp-jtech/wp-content/uploads/2022/03/nacada-logo-150x150.jpg 150w, https://www.jitimu.com/wp-jtech/wp-content/uploads/2022/03/nacada-logo-240x240.jpg 240w, https://www.jitimu.com/wp-jtech/wp-content/uploads/2022/03/nacada-logo-125x125.jpg 125w\" decoding=\"async\" height=\"120\" src=\"data:image/svg+xml;base64,PHN2ZyB4bWxucz0iaHR0cDovL3d3dy53My5vcmcvMjAwMC9zdmciIHdpZHRoPSIxMjAiIGhlaWdodD0iMTIwIiB2aWV3Qm94PSIwIDAgMTIwIDEyMCI+PHJlY3Qgd2lkdGg9IjEwMCUiIGhlaWdodD0iMTAwJSIgc3R5bGU9ImZpbGw6I2NmZDRkYjtmaWxsLW9wYWNpdHk6IDAuMTsiLz48L3N2Zz4=\" width=\"120\"/> </a></div><div class=\"cb-meta cb-article-meta meta\"><h2 class=\"title cb-post-title\">\n",
      "<a href=\"https://www.jitimu.com/2023/06/rehabilitation-centres-in-kenya-accredited-by-nacada/\">\n",
      "Rehabilitation Centres in Kenya Accredited by NACADA\t\t\t\t\t</a></h2><div class=\"cb-byline byline byline-3 byline-cats-design-1\"><div class=\"byline-part cats\"><a class=\"cat\" href=\"https://www.jitimu.com/category/health/\">HEALTH</a></div><span class=\"byline-part separator separator-date\">·</span><span class=\"byline-part cb-date date\"><time class=\"entry-date published dateCreated flipboard-date\" datetime=\"2023-06-08T17:43:14+03:00\">June 8, 2023</time></span></div></div></article><article class=\"preview-thumbnail split ani-base article-ani article-ani-1 tipi-xs-12 preview-22 with-fi post-3750 post type-post status-publish format-standard has-post-thumbnail hentry category-health tag-aon-minet tag-bliss tag-health tag-nhif-cover\"><div class=\"cb-mask mask\" style=\"background:#dd8500;\">\n",
      "<a class=\"mask-img\" href=\"https://www.jitimu.com/2021/09/bliss-health-centre-branches/\">\n",
      "<img alt=\"Bliss Clinics Branches\" class=\"attachment-codetipi-15zine-120-120 size-codetipi-15zine-120-120 wp-post-image\" data-lazyloaded=\"1\" data-sizes=\"(max-width: 120px) 100vw, 120px\" data-src=\"https://www.jitimu.com/wp-jtech/wp-content/uploads/2021/09/Bliss-centres-120x120.jpg\" data-srcset=\"https://www.jitimu.com/wp-jtech/wp-content/uploads/2021/09/Bliss-centres-120x120.jpg 120w, https://www.jitimu.com/wp-jtech/wp-content/uploads/2021/09/Bliss-centres-150x150.jpg 150w, https://www.jitimu.com/wp-jtech/wp-content/uploads/2021/09/Bliss-centres-240x240.jpg 240w, https://www.jitimu.com/wp-jtech/wp-content/uploads/2021/09/Bliss-centres-360x360.jpg 360w, https://www.jitimu.com/wp-jtech/wp-content/uploads/2021/09/Bliss-centres-125x125.jpg 125w\" decoding=\"async\" height=\"120\" src=\"data:image/svg+xml;base64,PHN2ZyB4bWxucz0iaHR0cDovL3d3dy53My5vcmcvMjAwMC9zdmciIHdpZHRoPSIxMjAiIGhlaWdodD0iMTIwIiB2aWV3Qm94PSIwIDAgMTIwIDEyMCI+PHJlY3Qgd2lkdGg9IjEwMCUiIGhlaWdodD0iMTAwJSIgc3R5bGU9ImZpbGw6I2NmZDRkYjtmaWxsLW9wYWNpdHk6IDAuMTsiLz48L3N2Zz4=\" width=\"120\"/> </a></div><div class=\"cb-meta cb-article-meta meta\"><h2 class=\"title cb-post-title\">\n",
      "<a href=\"https://www.jitimu.com/2021/09/bliss-health-centre-branches/\">\n",
      "Bliss Health Centre Branches in Kenya\t\t\t\t\t</a></h2><div class=\"cb-byline byline byline-3 byline-cats-design-1\"><div class=\"byline-part cats\"><a class=\"cat\" href=\"https://www.jitimu.com/category/health/\">HEALTH</a></div><span class=\"byline-part separator separator-date\">·</span><span class=\"byline-part cb-date date\"><time class=\"entry-date published dateCreated flipboard-date\" datetime=\"2021-09-28T17:38:19+03:00\">September 28, 2021</time></span></div></div></article><article class=\"preview-thumbnail split ani-base article-ani article-ani-1 tipi-xs-12 preview-22 with-fi post-5129 post type-post status-publish format-standard has-post-thumbnail hentry category-health tag-health tag-nhif-cover\"><div class=\"cb-mask mask\" style=\"background:#dd8500;\">\n",
      "<a class=\"mask-img\" href=\"https://www.jitimu.com/2022/03/list-of-nhif-inpatient-hospitals-in-nairobi/\">\n",
      "<img alt=\"NHIF SUPA cover and civil servants products and services in Nairobi and other parts of Kenya, branches. Premiums and how to pay through MPesa and Airtel Money, check status.\" class=\"attachment-codetipi-15zine-120-120 size-codetipi-15zine-120-120 wp-post-image\" data-lazyloaded=\"1\" data-sizes=\"(max-width: 120px) 100vw, 120px\" data-src=\"https://www.jitimu.com/wp-jtech/wp-content/uploads/2020/08/NHIF-services-in-Kenya-min-e1647613991627-120x120.png\" data-srcset=\"https://www.jitimu.com/wp-jtech/wp-content/uploads/2020/08/NHIF-services-in-Kenya-min-e1647613991627-120x120.png 120w, https://www.jitimu.com/wp-jtech/wp-content/uploads/2020/08/NHIF-services-in-Kenya-min-e1647613991627-150x150.png 150w, https://www.jitimu.com/wp-jtech/wp-content/uploads/2020/08/NHIF-services-in-Kenya-min-e1647613991627-125x125.png 125w, https://www.jitimu.com/wp-jtech/wp-content/uploads/2020/08/NHIF-services-in-Kenya-min-e1647613991627-240x240.png 240w\" decoding=\"async\" height=\"120\" src=\"data:image/svg+xml;base64,PHN2ZyB4bWxucz0iaHR0cDovL3d3dy53My5vcmcvMjAwMC9zdmciIHdpZHRoPSIxMjAiIGhlaWdodD0iMTIwIiB2aWV3Qm94PSIwIDAgMTIwIDEyMCI+PHJlY3Qgd2lkdGg9IjEwMCUiIGhlaWdodD0iMTAwJSIgc3R5bGU9ImZpbGw6I2NmZDRkYjtmaWxsLW9wYWNpdHk6IDAuMTsiLz48L3N2Zz4=\" width=\"120\"/> </a></div><div class=\"cb-meta cb-article-meta meta\"><h2 class=\"title cb-post-title\">\n",
      "<a href=\"https://www.jitimu.com/2022/03/list-of-nhif-inpatient-hospitals-in-nairobi/\">\n",
      "List of NHIF Inpatient Hospitals  in Nairobi\t\t\t\t\t</a></h2><div class=\"cb-byline byline byline-3 byline-cats-design-1\"><div class=\"byline-part cats\"><a class=\"cat\" href=\"https://www.jitimu.com/category/health/\">HEALTH</a></div><span class=\"byline-part separator separator-date\">·</span><span class=\"byline-part cb-date date\"><time class=\"entry-date published dateCreated flipboard-date\" datetime=\"2022-03-18T17:30:07+03:00\">March 18, 2022</time></span></div></div></article><article class=\"preview-thumbnail split ani-base article-ani article-ani-1 tipi-xs-12 preview-22 with-fi post-1148 post type-post status-publish format-standard has-post-thumbnail hentry category-health tag-health tag-nhif-cover\"><div class=\"cb-mask mask\" style=\"background:#dd8500;\">\n",
      "<a class=\"mask-img\" href=\"https://www.jitimu.com/2020/08/list-of-nhif-outpatient-hospitals-in-nairobi-county/\">\n",
      "<img alt=\"NHIF outpatient hospitals and registration codes per county\" class=\"attachment-codetipi-15zine-120-120 size-codetipi-15zine-120-120 wp-post-image\" data-lazyloaded=\"1\" data-sizes=\"(max-width: 120px) 100vw, 120px\" data-src=\"https://www.jitimu.com/wp-jtech/wp-content/uploads/2020/08/NHIF-Outpatient-Hospitals-min.png\" data-srcset=\"https://www.jitimu.com/wp-jtech/wp-content/uploads/2020/08/NHIF-Outpatient-Hospitals-min.png 426w, https://www.jitimu.com/wp-jtech/wp-content/uploads/2020/08/NHIF-Outpatient-Hospitals-min-300x209.png 300w\" decoding=\"async\" height=\"84\" src=\"data:image/svg+xml;base64,PHN2ZyB4bWxucz0iaHR0cDovL3d3dy53My5vcmcvMjAwMC9zdmciIHdpZHRoPSIxMjAiIGhlaWdodD0iODQiIHZpZXdCb3g9IjAgMCAxMjAgODQiPjxyZWN0IHdpZHRoPSIxMDAlIiBoZWlnaHQ9IjEwMCUiIHN0eWxlPSJmaWxsOiNjZmQ0ZGI7ZmlsbC1vcGFjaXR5OiAwLjE7Ii8+PC9zdmc+\" width=\"120\"/> </a></div><div class=\"cb-meta cb-article-meta meta\"><h2 class=\"title cb-post-title\">\n",
      "<a href=\"https://www.jitimu.com/2020/08/list-of-nhif-outpatient-hospitals-in-nairobi-county/\">\n",
      "List of NHIF Outpatient Hospitals in Nairobi County\t\t\t\t\t</a></h2><div class=\"cb-byline byline byline-3 byline-cats-design-1\"><div class=\"byline-part cats\"><a class=\"cat\" href=\"https://www.jitimu.com/category/health/\">HEALTH</a></div><span class=\"byline-part separator separator-date\">·</span><span class=\"byline-part cb-date date\"><time class=\"entry-date published dateCreated flipboard-date\" datetime=\"2020-08-31T12:34:15+03:00\">August 31, 2020</time></span></div></div></article><article class=\"preview-thumbnail split ani-base article-ani article-ani-1 tipi-xs-12 preview-22 with-fi post-1141 post type-post status-publish format-standard has-post-thumbnail hentry category-health tag-health tag-nhif-cover\"><div class=\"cb-mask mask\" style=\"background:#dd8500;\">\n",
      "<a class=\"mask-img\" href=\"https://www.jitimu.com/2023/02/nhif-services-in-kenya/\">\n",
      "<img alt=\"NHIF SUPA cover and civil servants products and services in Nairobi and other parts of Kenya, branches. Premiums and how to pay through MPesa and Airtel Money, check status.\" class=\"attachment-codetipi-15zine-120-120 size-codetipi-15zine-120-120 wp-post-image\" data-lazyloaded=\"1\" data-sizes=\"(max-width: 120px) 100vw, 120px\" data-src=\"https://www.jitimu.com/wp-jtech/wp-content/uploads/2020/08/NHIF-services-in-Kenya-min-e1647613991627-120x120.png\" data-srcset=\"https://www.jitimu.com/wp-jtech/wp-content/uploads/2020/08/NHIF-services-in-Kenya-min-e1647613991627-120x120.png 120w, https://www.jitimu.com/wp-jtech/wp-content/uploads/2020/08/NHIF-services-in-Kenya-min-e1647613991627-150x150.png 150w, https://www.jitimu.com/wp-jtech/wp-content/uploads/2020/08/NHIF-services-in-Kenya-min-e1647613991627-125x125.png 125w, https://www.jitimu.com/wp-jtech/wp-content/uploads/2020/08/NHIF-services-in-Kenya-min-e1647613991627-240x240.png 240w\" decoding=\"async\" height=\"120\" src=\"data:image/svg+xml;base64,PHN2ZyB4bWxucz0iaHR0cDovL3d3dy53My5vcmcvMjAwMC9zdmciIHdpZHRoPSIxMjAiIGhlaWdodD0iMTIwIiB2aWV3Qm94PSIwIDAgMTIwIDEyMCI+PHJlY3Qgd2lkdGg9IjEwMCUiIGhlaWdodD0iMTAwJSIgc3R5bGU9ImZpbGw6I2NmZDRkYjtmaWxsLW9wYWNpdHk6IDAuMTsiLz48L3N2Zz4=\" width=\"120\"/> </a></div><div class=\"cb-meta cb-article-meta meta\"><h2 class=\"title cb-post-title\">\n",
      "<a href=\"https://www.jitimu.com/2023/02/nhif-services-in-kenya/\">\n",
      "List of NHIF Services in Kenya, NHIF Supa Cover Products and Services\t\t\t\t\t</a></h2><div class=\"cb-byline byline byline-3 byline-cats-design-1\"><div class=\"byline-part cats\"><a class=\"cat\" href=\"https://www.jitimu.com/category/health/\">HEALTH</a></div><span class=\"byline-part separator separator-date\">·</span><span class=\"byline-part cb-date date\"><time class=\"entry-date published dateCreated flipboard-date\" datetime=\"2023-02-28T12:45:17+03:00\">February 28, 2023</time></span></div></div></article><article class=\"preview-thumbnail split ani-base article-ani article-ani-1 tipi-xs-12 preview-22 with-fi post-3441 post type-post status-publish format-standard has-post-thumbnail hentry category-health tag-mobile-banking tag-nhif-cover\"><div class=\"cb-mask mask\" style=\"background:#dd8500;\">\n",
      "<a class=\"mask-img\" href=\"https://www.jitimu.com/2023/05/pay-nhif-premiums-penalties-mpesa/\">\n",
      "<img alt=\"NHIF SUPA cover and civil servants products and services in Nairobi and other parts of Kenya, branches. Premiums and how to pay through MPesa and Airtel Money, check status.\" class=\"attachment-codetipi-15zine-120-120 size-codetipi-15zine-120-120 wp-post-image\" data-lazyloaded=\"1\" data-sizes=\"(max-width: 120px) 100vw, 120px\" data-src=\"https://www.jitimu.com/wp-jtech/wp-content/uploads/2020/08/NHIF-services-in-Kenya-min-e1647613991627-120x120.png\" data-srcset=\"https://www.jitimu.com/wp-jtech/wp-content/uploads/2020/08/NHIF-services-in-Kenya-min-e1647613991627-120x120.png 120w, https://www.jitimu.com/wp-jtech/wp-content/uploads/2020/08/NHIF-services-in-Kenya-min-e1647613991627-150x150.png 150w, https://www.jitimu.com/wp-jtech/wp-content/uploads/2020/08/NHIF-services-in-Kenya-min-e1647613991627-125x125.png 125w, https://www.jitimu.com/wp-jtech/wp-content/uploads/2020/08/NHIF-services-in-Kenya-min-e1647613991627-240x240.png 240w\" decoding=\"async\" height=\"120\" src=\"data:image/svg+xml;base64,PHN2ZyB4bWxucz0iaHR0cDovL3d3dy53My5vcmcvMjAwMC9zdmciIHdpZHRoPSIxMjAiIGhlaWdodD0iMTIwIiB2aWV3Qm94PSIwIDAgMTIwIDEyMCI+PHJlY3Qgd2lkdGg9IjEwMCUiIGhlaWdodD0iMTAwJSIgc3R5bGU9ImZpbGw6I2NmZDRkYjtmaWxsLW9wYWNpdHk6IDAuMTsiLz48L3N2Zz4=\" width=\"120\"/> </a></div><div class=\"cb-meta cb-article-meta meta\"><h2 class=\"title cb-post-title\">\n",
      "<a href=\"https://www.jitimu.com/2023/05/pay-nhif-premiums-penalties-mpesa/\">\n",
      "How to Pay NHIF Premiums and Penalties via MPesa and Airtel Money\t\t\t\t\t</a></h2><div class=\"cb-byline byline byline-3 byline-cats-design-1\"><div class=\"byline-part cats\"><a class=\"cat\" href=\"https://www.jitimu.com/category/health/\">HEALTH</a></div><span class=\"byline-part separator separator-date\">·</span><span class=\"byline-part cb-date date\"><time class=\"entry-date published dateCreated flipboard-date\" datetime=\"2023-05-15T12:41:17+03:00\">May 15, 2023</time></span></div></div></article></div></div></div></div><div class=\"comments-area cb-post-footer-block clearfix singular-block-header\" id=\"comments\"></div></footer></article></div><div class=\"sidebar-wrap tipi-xs-12 tipi-m-4 tipi-col clearfix\"><aside class=\"cb-sidebar sidebar\"><div class=\"cb-sidebar-widget codetipi-15zine-widget ai_widget ai-sticky-widget\" id=\"ai_widget-5\"><div class=\"code-block code-block-9\" style=\"margin: 8px 0; clear: both;\"> <script crossorigin=\"anonymous\" data-src=\"https://pagead2.googlesyndication.com/pagead/js/adsbygoogle.js?client=ca-pub-9253013805403673\" type=\"litespeed/javascript\"></script>\n",
      "<ins class=\"adsbygoogle\" data-ad-client=\"ca-pub-9253013805403673\" data-ad-slot=\"4761912134\" style=\"display:inline-block;width:300px;height:250px\"></ins> <script type=\"litespeed/javascript\">(adsbygoogle=window.adsbygoogle||[]).push({})</script></div></div><div class=\"cb-sidebar-widget codetipi-15zine-widget codetipi-15zine-stylish-posts\" id=\"cb-recent-posts-4\"><h3 class=\"cb-sidebar-widget-title cb-widget-title widget-title title\">Hot Right Now!</h3><div class=\"codetipi-15zine-stylish-posts-wrap\"><div class=\"block-wrap block-wrap-23 block-to-see block-wrap-classic clearfix block-css-58803 block--light\" data-id=\"58803\" id=\"block-wrap-58803\"><div class=\"block-inner-style\"><div class=\"block-inner-box contents\"><div class=\"block\"><article class=\"preview-thumbnail split ani-base article-ani article-ani-1 tipi-xs-12 preview-23 with-fi post-1498 post type-post status-publish format-standard has-post-thumbnail hentry category-business tag-loan-apps tag-mobile-banking\"><div class=\"cb-mask mask\" style=\"background:#dd8500;\">\n",
      "<a class=\"mask-img\" href=\"https://www.jitimu.com/2023/05/best-loan-apps-in-kenya-instant-loans/\">\n",
      "<img alt=\"Best mobile loan apps in Kenya\" class=\"attachment-codetipi-15zine-120-120 size-codetipi-15zine-120-120 wp-post-image\" decoding=\"async\" height=\"120\" sizes=\"(max-width: 120px) 100vw, 120px\" src=\"https://www.jitimu.com/wp-jtech/wp-content/uploads/2020/11/mobile-loan-apps-min-e1671318687553-120x120.jpg\" srcset=\"https://www.jitimu.com/wp-jtech/wp-content/uploads/2020/11/mobile-loan-apps-min-e1671318687553-120x120.jpg 120w, https://www.jitimu.com/wp-jtech/wp-content/uploads/2020/11/mobile-loan-apps-min-e1671318687553-150x150.jpg 150w, https://www.jitimu.com/wp-jtech/wp-content/uploads/2020/11/mobile-loan-apps-min-e1671318687553-125x125.jpg 125w, https://www.jitimu.com/wp-jtech/wp-content/uploads/2020/11/mobile-loan-apps-min-e1671318687553-240x240.jpg 240w\" width=\"120\"/> </a></div><div class=\"cb-meta cb-article-meta meta\"><h2 class=\"title cb-post-title\">\n",
      "<a href=\"https://www.jitimu.com/2023/05/best-loan-apps-in-kenya-instant-loans/\">\n",
      "17 Best Loan Apps in Kenya for Instant Loans in 2023\t\t\t\t\t</a></h2></div></article><article class=\"preview-thumbnail split ani-base article-ani article-ani-1 tipi-xs-12 preview-23 with-fi post-476 post type-post status-publish format-standard has-post-thumbnail hentry category-tech tag-gotv tag-tv\"><div class=\"cb-mask mask\" style=\"background:#dd8f1a;\">\n",
      "<a class=\"mask-img\" href=\"https://www.jitimu.com/2023/03/gotv-packages-kenya-channels-prices/\">\n",
      "<img alt=\"GOtv Kenya packages and channels, paybill number, how to pay and customer care contacts.\" class=\"attachment-codetipi-15zine-120-120 size-codetipi-15zine-120-120 wp-post-image\" decoding=\"async\" height=\"120\" sizes=\"(max-width: 120px) 100vw, 120px\" src=\"https://www.jitimu.com/wp-jtech/wp-content/uploads/2020/07/gotv-kenya-e1674251611259-120x120.jpg\" srcset=\"https://www.jitimu.com/wp-jtech/wp-content/uploads/2020/07/gotv-kenya-e1674251611259-120x120.jpg 120w, https://www.jitimu.com/wp-jtech/wp-content/uploads/2020/07/gotv-kenya-e1674251611259-150x150.jpg 150w, https://www.jitimu.com/wp-jtech/wp-content/uploads/2020/07/gotv-kenya-e1674251611259-125x125.jpg 125w\" width=\"120\"/> </a></div><div class=\"cb-meta cb-article-meta meta\"><h2 class=\"title cb-post-title\">\n",
      "<a href=\"https://www.jitimu.com/2023/03/gotv-packages-kenya-channels-prices/\">\n",
      "GOTV Kenya Packages, Channels and Prices [2023]\t\t\t\t\t</a></h2></div></article><article class=\"preview-thumbnail split ani-base article-ani article-ani-1 tipi-xs-12 preview-23 with-fi post-3435 post type-post status-publish format-standard has-post-thumbnail hentry category-health tag-nhif-cover\"><div class=\"cb-mask mask\" style=\"background:#dd8500;\">\n",
      "<a class=\"mask-img\" href=\"https://www.jitimu.com/2023/06/current-nhif-rates-employees-self-employed/\">\n",
      "<img alt=\"NHIF SUPA cover and civil servants products and services in Nairobi and other parts of Kenya, branches. Premiums and how to pay through MPesa and Airtel Money, check status.\" class=\"attachment-codetipi-15zine-120-120 size-codetipi-15zine-120-120 wp-post-image\" data-lazyloaded=\"1\" data-sizes=\"(max-width: 120px) 100vw, 120px\" data-src=\"https://www.jitimu.com/wp-jtech/wp-content/uploads/2020/08/NHIF-services-in-Kenya-min-e1647613991627-120x120.png\" data-srcset=\"https://www.jitimu.com/wp-jtech/wp-content/uploads/2020/08/NHIF-services-in-Kenya-min-e1647613991627-120x120.png 120w, https://www.jitimu.com/wp-jtech/wp-content/uploads/2020/08/NHIF-services-in-Kenya-min-e1647613991627-150x150.png 150w, https://www.jitimu.com/wp-jtech/wp-content/uploads/2020/08/NHIF-services-in-Kenya-min-e1647613991627-125x125.png 125w, https://www.jitimu.com/wp-jtech/wp-content/uploads/2020/08/NHIF-services-in-Kenya-min-e1647613991627-240x240.png 240w\" decoding=\"async\" height=\"120\" src=\"data:image/svg+xml;base64,PHN2ZyB4bWxucz0iaHR0cDovL3d3dy53My5vcmcvMjAwMC9zdmciIHdpZHRoPSIxMjAiIGhlaWdodD0iMTIwIiB2aWV3Qm94PSIwIDAgMTIwIDEyMCI+PHJlY3Qgd2lkdGg9IjEwMCUiIGhlaWdodD0iMTAwJSIgc3R5bGU9ImZpbGw6I2NmZDRkYjtmaWxsLW9wYWNpdHk6IDAuMTsiLz48L3N2Zz4=\" width=\"120\"/> </a></div><div class=\"cb-meta cb-article-meta meta\"><h2 class=\"title cb-post-title\">\n",
      "<a href=\"https://www.jitimu.com/2023/06/current-nhif-rates-employees-self-employed/\">\n",
      "Current NHIF Rates for Employees and Self Employed [2023 New]\t\t\t\t\t</a></h2></div></article><article class=\"preview-thumbnail split ani-base article-ani article-ani-1 tipi-xs-12 preview-23 with-fi post-6328 post type-post status-publish format-standard has-post-thumbnail hentry category-tech tag-netflix tag-tv\"><div class=\"cb-mask mask\" style=\"background:#dd8f1a;\">\n",
      "<a class=\"mask-img\" href=\"https://www.jitimu.com/2023/04/pay-netflix-via-mpesa-global-pay/\">\n",
      "<img alt=\"Pay Netflix using MPesa Global Virtual VISA card\" class=\"attachment-codetipi-15zine-120-120 size-codetipi-15zine-120-120 wp-post-image\" data-lazyloaded=\"1\" data-sizes=\"(max-width: 120px) 100vw, 120px\" data-src=\"https://www.jitimu.com/wp-jtech/wp-content/uploads/2022/12/mpesa-virtual-card-120x120.jpg\" data-srcset=\"https://www.jitimu.com/wp-jtech/wp-content/uploads/2022/12/mpesa-virtual-card-120x120.jpg 120w, https://www.jitimu.com/wp-jtech/wp-content/uploads/2022/12/mpesa-virtual-card-150x150.jpg 150w, https://www.jitimu.com/wp-jtech/wp-content/uploads/2022/12/mpesa-virtual-card-240x240.jpg 240w, https://www.jitimu.com/wp-jtech/wp-content/uploads/2022/12/mpesa-virtual-card-125x125.jpg 125w\" decoding=\"async\" height=\"120\" src=\"data:image/svg+xml;base64,PHN2ZyB4bWxucz0iaHR0cDovL3d3dy53My5vcmcvMjAwMC9zdmciIHdpZHRoPSIxMjAiIGhlaWdodD0iMTIwIiB2aWV3Qm94PSIwIDAgMTIwIDEyMCI+PHJlY3Qgd2lkdGg9IjEwMCUiIGhlaWdodD0iMTAwJSIgc3R5bGU9ImZpbGw6I2NmZDRkYjtmaWxsLW9wYWNpdHk6IDAuMTsiLz48L3N2Zz4=\" width=\"120\"/> </a></div><div class=\"cb-meta cb-article-meta meta\"><h2 class=\"title cb-post-title\">\n",
      "<a href=\"https://www.jitimu.com/2023/04/pay-netflix-via-mpesa-global-pay/\">\n",
      "How to Pay Netflix Via Mpesa Global Pay\t\t\t\t\t</a></h2></div></article><article class=\"preview-thumbnail split ani-base article-ani article-ani-1 tipi-xs-12 preview-23 with-fi post-506 post type-post status-publish format-standard has-post-thumbnail hentry category-tech tag-startimes tag-tv\"><div class=\"cb-mask mask\" style=\"background:#dd8f1a;\">\n",
      "<a class=\"mask-img\" href=\"https://www.jitimu.com/2023/03/startimes-kenya-packages-channels/\">\n",
      "<img alt=\"StarTimes Kenya channels and Prices, offices and contacts, change package\" class=\"attachment-codetipi-15zine-120-120 size-codetipi-15zine-120-120 wp-post-image\" decoding=\"async\" height=\"120\" sizes=\"(max-width: 120px) 100vw, 120px\" src=\"https://www.jitimu.com/wp-jtech/wp-content/uploads/2022/01/startimes-packages-kenya-e1646128177810-120x120.jpg\" srcset=\"https://www.jitimu.com/wp-jtech/wp-content/uploads/2022/01/startimes-packages-kenya-e1646128177810-120x120.jpg 120w, https://www.jitimu.com/wp-jtech/wp-content/uploads/2022/01/startimes-packages-kenya-e1646128177810-150x150.jpg 150w, https://www.jitimu.com/wp-jtech/wp-content/uploads/2022/01/startimes-packages-kenya-e1646128177810-125x125.jpg 125w\" width=\"120\"/> </a></div><div class=\"cb-meta cb-article-meta meta\"><h2 class=\"title cb-post-title\">\n",
      "<a href=\"https://www.jitimu.com/2023/03/startimes-kenya-packages-channels/\">\n",
      "List of StarTimes Kenya Packages, Channels and Prices in 2023\t\t\t\t\t</a></h2></div></article><article class=\"preview-thumbnail split ani-base article-ani article-ani-1 tipi-xs-12 preview-23 with-fi post-1597 post type-post status-publish format-standard has-post-thumbnail hentry category-education tag-kcpe tag-kcse tag-kenya-school-calendar tag-schools-term-dates tag-tsc\"><div class=\"cb-mask mask\" style=\"background:#dd8500;\">\n",
      "<a class=\"mask-img\" href=\"https://www.jitimu.com/2023/06/school-calendar-kenya-2023/\">\n",
      "<img alt=\"School academic calendar, term dates Kenya 2023.\" class=\"attachment-codetipi-15zine-120-120 size-codetipi-15zine-120-120 wp-post-image\" data-lazyloaded=\"1\" data-sizes=\"(max-width: 120px) 100vw, 120px\" data-src=\"https://www.jitimu.com/wp-jtech/wp-content/uploads/2022/04/2023-school-calendar-min-120x120.webp\" data-srcset=\"https://www.jitimu.com/wp-jtech/wp-content/uploads/2022/04/2023-school-calendar-min-120x120.webp 120w, https://www.jitimu.com/wp-jtech/wp-content/uploads/2022/04/2023-school-calendar-min-150x150.webp 150w, https://www.jitimu.com/wp-jtech/wp-content/uploads/2022/04/2023-school-calendar-min-240x240.webp 240w, https://www.jitimu.com/wp-jtech/wp-content/uploads/2022/04/2023-school-calendar-min-125x125.webp 125w\" decoding=\"async\" height=\"120\" src=\"data:image/svg+xml;base64,PHN2ZyB4bWxucz0iaHR0cDovL3d3dy53My5vcmcvMjAwMC9zdmciIHdpZHRoPSIxMjAiIGhlaWdodD0iMTIwIiB2aWV3Qm94PSIwIDAgMTIwIDEyMCI+PHJlY3Qgd2lkdGg9IjEwMCUiIGhlaWdodD0iMTAwJSIgc3R5bGU9ImZpbGw6I2NmZDRkYjtmaWxsLW9wYWNpdHk6IDAuMTsiLz48L3N2Zz4=\" width=\"120\"/> </a></div><div class=\"cb-meta cb-article-meta meta\"><h2 class=\"title cb-post-title\">\n",
      "<a href=\"https://www.jitimu.com/2023/06/school-calendar-kenya-2023/\">\n",
      "Full 2023 Kenya School Calendar for Primary and Secondary Schools\t\t\t\t\t</a></h2></div></article><article class=\"preview-thumbnail split ani-base article-ani article-ani-1 tipi-xs-12 preview-23 with-fi post-2158 post type-post status-publish format-standard has-post-thumbnail hentry category-business tag-mobile-banking tag-mpesa-agent tag-safaricom-services\"><div class=\"cb-mask mask\" style=\"background:#dd8500;\">\n",
      "<a class=\"mask-img\" href=\"https://www.jitimu.com/2023/05/safaricom-mpesa-agent-commission-rates-2021/\">\n",
      "<img alt=\"safaricom Mpesa agent, business, commission earned\" class=\"attachment-codetipi-15zine-120-120 size-codetipi-15zine-120-120 wp-post-image\" data-lazyloaded=\"1\" data-sizes=\"(max-width: 120px) 100vw, 120px\" data-src=\"https://www.jitimu.com/wp-jtech/wp-content/uploads/2021/02/mpesa-agent-min-e1647515341144-120x120.jpg\" data-srcset=\"https://www.jitimu.com/wp-jtech/wp-content/uploads/2021/02/mpesa-agent-min-e1647515341144-120x120.jpg 120w, https://www.jitimu.com/wp-jtech/wp-content/uploads/2021/02/mpesa-agent-min-e1647515341144-150x150.jpg 150w, https://www.jitimu.com/wp-jtech/wp-content/uploads/2021/02/mpesa-agent-min-e1647515341144-125x125.jpg 125w, https://www.jitimu.com/wp-jtech/wp-content/uploads/2021/02/mpesa-agent-min-e1647515341144-240x240.jpg 240w\" decoding=\"async\" height=\"120\" src=\"data:image/svg+xml;base64,PHN2ZyB4bWxucz0iaHR0cDovL3d3dy53My5vcmcvMjAwMC9zdmciIHdpZHRoPSIxMjAiIGhlaWdodD0iMTIwIiB2aWV3Qm94PSIwIDAgMTIwIDEyMCI+PHJlY3Qgd2lkdGg9IjEwMCUiIGhlaWdodD0iMTAwJSIgc3R5bGU9ImZpbGw6I2NmZDRkYjtmaWxsLW9wYWNpdHk6IDAuMTsiLz48L3N2Zz4=\" width=\"120\"/> </a></div><div class=\"cb-meta cb-article-meta meta\"><h2 class=\"title cb-post-title\">\n",
      "<a href=\"https://www.jitimu.com/2023/05/safaricom-mpesa-agent-commission-rates-2021/\">\n",
      "Safaricom Mpesa Agent Commission Rates 2023\t\t\t\t\t</a></h2></div></article><article class=\"preview-thumbnail split ani-base article-ani article-ani-1 tipi-xs-12 preview-23 with-fi post-550 post type-post status-publish format-standard has-post-thumbnail hentry category-teaching tag-aon-minet tag-tsc\"><div class=\"cb-mask mask\" style=\"background:#dd8500;\">\n",
      "<a class=\"mask-img\" href=\"https://www.jitimu.com/2022/12/how-to-register-for-tsc-aon-add-dependants-and-check-details/\">\n",
      "<img alt=\"tsc aon minet register dependents, teachers insurance scheme medical cover, county managers contacts\" class=\"attachment-codetipi-15zine-120-120 size-codetipi-15zine-120-120 wp-post-image\" data-lazyloaded=\"1\" data-sizes=\"(max-width: 120px) 100vw, 120px\" data-src=\"https://www.jitimu.com/wp-jtech/wp-content/uploads/2020/07/TSC-AON-Minet-registration-min.png\" data-srcset=\"https://www.jitimu.com/wp-jtech/wp-content/uploads/2020/07/TSC-AON-Minet-registration-min.png 500w, https://www.jitimu.com/wp-jtech/wp-content/uploads/2020/07/TSC-AON-Minet-registration-min-300x241.png 300w, https://www.jitimu.com/wp-jtech/wp-content/uploads/2020/07/TSC-AON-Minet-registration-min-378x300.png 378w\" decoding=\"async\" height=\"96\" src=\"data:image/svg+xml;base64,PHN2ZyB4bWxucz0iaHR0cDovL3d3dy53My5vcmcvMjAwMC9zdmciIHdpZHRoPSIxMjAiIGhlaWdodD0iOTYiIHZpZXdCb3g9IjAgMCAxMjAgOTYiPjxyZWN0IHdpZHRoPSIxMDAlIiBoZWlnaHQ9IjEwMCUiIHN0eWxlPSJmaWxsOiNjZmQ0ZGI7ZmlsbC1vcGFjaXR5OiAwLjE7Ii8+PC9zdmc+\" width=\"120\"/> </a></div><div class=\"cb-meta cb-article-meta meta\"><h2 class=\"title cb-post-title\">\n",
      "<a href=\"https://www.jitimu.com/2022/12/how-to-register-for-tsc-aon-add-dependants-and-check-details/\">\n",
      "How to Register for AON Minet, Add Dependants and Check Details\t\t\t\t\t</a></h2></div></article></div></div></div></div></div></div><div class=\"cb-sidebar-widget codetipi-15zine-widget ai_widget\" id=\"ai_widget-7\"><div class=\"code-block code-block-7\" style=\"margin: 8px auto; text-align: center; display: block; clear: both;\"> <script crossorigin=\"anonymous\" data-src=\"https://pagead2.googlesyndication.com/pagead/js/adsbygoogle.js?client=ca-pub-9253013805403673\" type=\"litespeed/javascript\"></script>\n",
      "<ins class=\"adsbygoogle\" data-ad-client=\"ca-pub-9253013805403673\" data-ad-slot=\"9932258005\" style=\"display:inline-block;width:300px;height:600px\"></ins> <script type=\"litespeed/javascript\">(adsbygoogle=window.adsbygoogle||[]).push({})</script></div></div></aside></div></div></div></div></div><footer class=\"site-footer\" id=\"cb-footer\"><div class=\"cb-footer-lower cb-font-header clearfix\"><div class=\"wrap clearfix\"><div class=\"cb-footer-links clearfix\"><ul class=\"footer-menu nav cb-footer-nav clearfix\" id=\"menu-footer_menu\"><li class=\"menu-item menu-item-type-post_type menu-item-object-page dropper standard-drop menu-item-62\" id=\"menu-item-62\"><a href=\"https://www.jitimu.com/about-us/\">About Us</a></li><li class=\"menu-item menu-item-type-post_type menu-item-object-page dropper standard-drop menu-item-63\" id=\"menu-item-63\"><a href=\"https://www.jitimu.com/contact-us/\">Contact Us</a></li><li class=\"menu-item menu-item-type-post_type menu-item-object-page dropper standard-drop mm-art mm-wrap-2 mm-wrap menu-item-64\" id=\"menu-item-64\"><a href=\"https://www.jitimu.com/terms-of-service/\">Terms</a></li><li class=\"menu-item menu-item-type-post_type menu-item-object-page menu-item-privacy-policy dropper standard-drop menu-item-65\" id=\"menu-item-65\"><a href=\"https://www.jitimu.com/privacy-policy/\" rel=\"privacy-policy\">Privacy Policy</a></li></ul></div><div class=\"cb-copyright\">Copyright © 2023 Jitimu Tech Kenya</div><div class=\"to-top cb-to-top\" id=\"to-top-wrap\"><a href=\"#\" id=\"to-top-a\"><i class=\"codetipi-15zine-i-chevron-up cb-circle\"></i></a></div></div></div></footer></div></div><div class=\"mob-menu-wrap mobile-navigation-dd tipi-l-0 site-skin-3 site-img-1\" id=\"mob-menu-wrap\"><div class=\"bg-area\"><div class=\"content-wrap\"><div class=\"content\"><div class=\"logo-x-wrap tipi-flex vertical-c\">\n",
      "<a class=\"mob-tr-close tipi-close-icon\" href=\"#\"><i aria-hidden=\"true\" class=\"codetipi-15zine-i-x\"></i></a></div><nav class=\"mobile-navigation mobile-navigation-1\"><ul class=\"menu-mobile vertical-menu\" id=\"menu-mobile\"><li class=\"menu-item menu-item-type-taxonomy menu-item-object-category dropper standard-drop mm-art mm-wrap-11 mm-wrap mm-color mm-sb-left menu-item-2278\" id=\"menu-item-2278\"><a href=\"https://www.jitimu.com/category/education/\">EDUCATION</a></li><li class=\"menu-item menu-item-type-post_type menu-item-object-page dropper standard-drop mm-art mm-wrap-2 mm-wrap menu-item-2282\" id=\"menu-item-2282\"><a href=\"https://www.jitimu.com/secondary-kcse-syllabus-in-pdf-format-for-all-subjects/\">KICD Syllabus</a></li><li class=\"menu-item menu-item-type-post_type menu-item-object-page dropper standard-drop mm-art mm-wrap-2 mm-wrap menu-item-3312\" id=\"menu-item-3312\"><a href=\"https://www.jitimu.com/teachers-schemes-of-work-and-notes/secondary-school-notes/\">High School Notes</a></li><li class=\"menu-item menu-item-type-post_type menu-item-object-page dropper standard-drop mm-art mm-wrap-2 mm-wrap menu-item-2283\" id=\"menu-item-2283\"><a href=\"https://www.jitimu.com/kcse-topical-questions/\">KCSE Topical Questions</a></li><li class=\"menu-item menu-item-type-post_type menu-item-object-page dropper standard-drop mm-art mm-wrap-2 mm-wrap menu-item-2284\" id=\"menu-item-2284\"><a href=\"https://www.jitimu.com/free-revision-papers-and-schemes-of-work/free-kcse-revision-papers-with-answers/\">KCSE Past Papers</a></li><li class=\"menu-item menu-item-type-post_type menu-item-object-page dropper standard-drop mm-art mm-wrap-2 mm-wrap menu-item-2285\" id=\"menu-item-2285\"><a href=\"https://www.jitimu.com/free-revision-papers-and-schemes-of-work/revision-papers/\">MOCK Past Papers</a></li><li class=\"menu-item menu-item-type-post_type menu-item-object-page dropper standard-drop mm-art mm-wrap-2 mm-wrap menu-item-2281\" id=\"menu-item-2281\"><a href=\"https://www.jitimu.com/schemes-of-work/\">Schemes of Work</a></li><li class=\"menu-item menu-item-type-taxonomy menu-item-object-category dropper standard-drop mm-art mm-wrap-11 mm-wrap mm-color mm-sb-left menu-item-4815\" id=\"menu-item-4815\"><a href=\"https://www.jitimu.com/category/business/\">BUSINESS</a></li><li class=\"menu-item menu-item-type-taxonomy menu-item-object-category dropper standard-drop mm-art mm-wrap-11 mm-wrap mm-color mm-sb-left menu-item-4816\" id=\"menu-item-4816\"><a href=\"https://www.jitimu.com/category/teaching/\">TEACHER RESOURCES</a></li><li class=\"menu-item menu-item-type-taxonomy menu-item-object-category dropper standard-drop mm-art mm-wrap-11 mm-wrap mm-color mm-sb-left menu-item-2279\" id=\"menu-item-2279\"><a href=\"https://www.jitimu.com/category/tech/\">TECHNOLOGY</a></li><li class=\"menu-item menu-item-type-taxonomy menu-item-object-category current-post-ancestor current-menu-parent current-post-parent dropper standard-drop mm-art mm-wrap-11 mm-wrap mm-color mm-sb-left menu-item-4817\" id=\"menu-item-4817\"><a href=\"https://www.jitimu.com/category/health/\">HEALTH</a></li><li class=\"menu-item menu-item-type-taxonomy menu-item-object-category dropper standard-drop mm-art mm-wrap-11 mm-wrap mm-color mm-sb-left menu-item-2280\" id=\"menu-item-2280\"><a href=\"https://www.jitimu.com/category/news/\">NEWS</a></li></ul></nav><ul class=\"menu-icons horizontal-menu\"><li class=\"codetipi-15zine-icon icon-wrap icon-wrap-facebook\"><a class=\"tipi-vertical-c tipi-tip tipi-tip-b\" data-title=\"Facebook\" href=\"http://www.facebook.com/pg/JitimuKenya/posts/?ref=page_internal&amp;mt_nav=0\" rel=\"noopener nofollow\"><i aria-hidden=\"true\" class=\"codetipi-15zine-i-facebook\"></i></a></li><li class=\"codetipi-15zine-icon cb-icon-search cb-menu-icon vertical-c\"><a class=\"tipi-tip tipi-tip-b vertical-c modal-tr\" data-title=\"Search\" data-type=\"search\" href=\"#\"><i aria-hidden=\"true\" class=\"codetipi-15zine-i-search\"></i></a></li></ul></div></div><div class=\"background\"></div></div></div><div class=\"modal-wrap inactive dark-overlay\" id=\"modal\">\n",
      "<span class=\"tipi-overlay tipi-overlay-modal\"></span><div class=\"content tipi-vertical-c wrap\"><div class=\"content-search search-form-wrap content-block tipi-xs-12 tipi-m-8\"><form action=\"https://www.jitimu.com/\" class=\"search tipi-flex\" method=\"get\">\n",
      "<input aria-label=\"search form\" autocomplete=\"off\" class=\"search-field font-h\" name=\"s\" placeholder=\"Search\" type=\"search\" value=\"\"/>\n",
      "<button aria-label=\"search\" class=\"tipi-i-search-thin search-submit\" type=\"submit\" value=\"\"><i class=\"codetipi-15zine-i-search\"></i></button></form><div class=\"search-hints\">\n",
      "<span class=\"search-hint\">\n",
      "Type to search or hit ESC to close\t\t\t\t</span></div></div><div class=\"content-lwa content-block site-img-1 site-skin-2\"></div><div class=\"content-custom content-block\"></div></div>\n",
      "<a class=\"close tipi-x-wrap tipi-x-outer\" href=\"#\"><i class=\"codetipi-15zine-i-x\"></i></a></div>\n",
      "<span class=\"tipi-overlay tipi-overlay-base tipi-overlay-dark\" id=\"tipi-overlay\"><a class=\"close tipi-x-wrap\" href=\"#\"><i class=\"codetipi-15zine-i-x\"></i></a></span> <script type=\"application/ld+json\">{\"@context\": \"http://schema.org\",\n",
      "\t\"@type\": \"WebPage\",\n",
      "\t\"name\": \"JITIMU\",\n",
      "\t\"description\": \"A knowledge base of credible information on technology, education, business and careers\",\"url\": \"https://www.jitimu.com/wp-jtech/\",\"datePublished\": \"2023-02-10T23:23:25+03:00\",\"dateCreated\": \"2023-02-10T23:23:25+03:00\",\"dateModified\": \"2023-02-11T23:39:19+03:00\",\"potentialAction\": {\n",
      "\t\"@type\": \"SearchAction\",\n",
      "\t\"target\": \"https://www.jitimu.com/wp-jtech/?s=&#123;search_term&#125;\",\n",
      "\t\"query-input\": \"required name=search_term\"}}</script> <script defer=\"\" id=\"jetpack-stats-js\" src=\"https://stats.wp.com/e-202334.js\" type=\"text/javascript\"></script> <script id=\"jetpack-stats-js-after\" type=\"litespeed/javascript\">_stq=window._stq||[];_stq.push([\"view\",{v:'ext',blog:'179547451',post:'3455',tz:'3',srv:'www.jitimu.com',j:'1:12.4'}]);_stq.push([\"clickTrackerInit\",\"179547451\",\"3455\"])</script> <script data-no-optimize=\"1\">!function(t,e){\"object\"==typeof exports&&\"undefined\"!=typeof module?module.exports=e():\"function\"==typeof define&&define.amd?define(e):(t=\"undefined\"!=typeof globalThis?globalThis:t||self).LazyLoad=e()}(this,function(){\"use strict\";function e(){return(e=Object.assign||function(t){for(var e=1;e<arguments.length;e++){var n,a=arguments[e];for(n in a)Object.prototype.hasOwnProperty.call(a,n)&&(t[n]=a[n])}return t}).apply(this,arguments)}function i(t){return e({},it,t)}function o(t,e){var n,a=\"LazyLoad::Initialized\",i=new t(e);try{n=new CustomEvent(a,{detail:{instance:i}})}catch(t){(n=document.createEvent(\"CustomEvent\")).initCustomEvent(a,!1,!1,{instance:i})}window.dispatchEvent(n)}function l(t,e){return t.getAttribute(gt+e)}function c(t){return l(t,bt)}function s(t,e){return function(t,e,n){e=gt+e;null!==n?t.setAttribute(e,n):t.removeAttribute(e)}(t,bt,e)}function r(t){return s(t,null),0}function u(t){return null===c(t)}function d(t){return c(t)===vt}function f(t,e,n,a){t&&(void 0===a?void 0===n?t(e):t(e,n):t(e,n,a))}function _(t,e){nt?t.classList.add(e):t.className+=(t.className?\" \":\"\")+e}function v(t,e){nt?t.classList.remove(e):t.className=t.className.replace(new RegExp(\"(^|\\\\s+)\"+e+\"(\\\\s+|$)\"),\" \").replace(/^\\s+/,\"\").replace(/\\s+$/,\"\")}function g(t){return t.llTempImage}function b(t,e){!e||(e=e._observer)&&e.unobserve(t)}function p(t,e){t&&(t.loadingCount+=e)}function h(t,e){t&&(t.toLoadCount=e)}function n(t){for(var e,n=[],a=0;e=t.children[a];a+=1)\"SOURCE\"===e.tagName&&n.push(e);return n}function m(t,e){(t=t.parentNode)&&\"PICTURE\"===t.tagName&&n(t).forEach(e)}function a(t,e){n(t).forEach(e)}function E(t){return!!t[st]}function I(t){return t[st]}function y(t){return delete t[st]}function A(e,t){var n;E(e)||(n={},t.forEach(function(t){n[t]=e.getAttribute(t)}),e[st]=n)}function k(a,t){var i;E(a)&&(i=I(a),t.forEach(function(t){var e,n;e=a,(t=i[n=t])?e.setAttribute(n,t):e.removeAttribute(n)}))}function L(t,e,n){_(t,e.class_loading),s(t,ut),n&&(p(n,1),f(e.callback_loading,t,n))}function w(t,e,n){n&&t.setAttribute(e,n)}function x(t,e){w(t,ct,l(t,e.data_sizes)),w(t,rt,l(t,e.data_srcset)),w(t,ot,l(t,e.data_src))}function O(t,e,n){var a=l(t,e.data_bg_multi),i=l(t,e.data_bg_multi_hidpi);(a=at&&i?i:a)&&(t.style.backgroundImage=a,n=n,_(t=t,(e=e).class_applied),s(t,ft),n&&(e.unobserve_completed&&b(t,e),f(e.callback_applied,t,n)))}function N(t,e){!e||0<e.loadingCount||0<e.toLoadCount||f(t.callback_finish,e)}function C(t,e,n){t.addEventListener(e,n),t.llEvLisnrs[e]=n}function M(t){return!!t.llEvLisnrs}function z(t){if(M(t)){var e,n,a=t.llEvLisnrs;for(e in a){var i=a[e];n=e,i=i,t.removeEventListener(n,i)}delete t.llEvLisnrs}}function R(t,e,n){var a;delete t.llTempImage,p(n,-1),(a=n)&&--a.toLoadCount,v(t,e.class_loading),e.unobserve_completed&&b(t,n)}function T(o,r,c){var l=g(o)||o;M(l)||function(t,e,n){M(t)||(t.llEvLisnrs={});var a=\"VIDEO\"===t.tagName?\"loadeddata\":\"load\";C(t,a,e),C(t,\"error\",n)}(l,function(t){var e,n,a,i;n=r,a=c,i=d(e=o),R(e,n,a),_(e,n.class_loaded),s(e,dt),f(n.callback_loaded,e,a),i||N(n,a),z(l)},function(t){var e,n,a,i;n=r,a=c,i=d(e=o),R(e,n,a),_(e,n.class_error),s(e,_t),f(n.callback_error,e,a),i||N(n,a),z(l)})}function G(t,e,n){var a,i,o,r,c;t.llTempImage=document.createElement(\"IMG\"),T(t,e,n),E(c=t)||(c[st]={backgroundImage:c.style.backgroundImage}),o=n,r=l(a=t,(i=e).data_bg),c=l(a,i.data_bg_hidpi),(r=at&&c?c:r)&&(a.style.backgroundImage='url(\"'.concat(r,'\")'),g(a).setAttribute(ot,r),L(a,i,o)),O(t,e,n)}function D(t,e,n){var a;T(t,e,n),a=e,e=n,(t=It[(n=t).tagName])&&(t(n,a),L(n,a,e))}function V(t,e,n){var a;a=t,(-1<yt.indexOf(a.tagName)?D:G)(t,e,n)}function F(t,e,n){var a;t.setAttribute(\"loading\",\"lazy\"),T(t,e,n),a=e,(e=It[(n=t).tagName])&&e(n,a),s(t,vt)}function j(t){t.removeAttribute(ot),t.removeAttribute(rt),t.removeAttribute(ct)}function P(t){m(t,function(t){k(t,Et)}),k(t,Et)}function S(t){var e;(e=At[t.tagName])?e(t):E(e=t)&&(t=I(e),e.style.backgroundImage=t.backgroundImage)}function U(t,e){var n;S(t),n=e,u(e=t)||d(e)||(v(e,n.class_entered),v(e,n.class_exited),v(e,n.class_applied),v(e,n.class_loading),v(e,n.class_loaded),v(e,n.class_error)),r(t),y(t)}function $(t,e,n,a){var i;n.cancel_on_exit&&(c(t)!==ut||\"IMG\"===t.tagName&&(z(t),m(i=t,function(t){j(t)}),j(i),P(t),v(t,n.class_loading),p(a,-1),r(t),f(n.callback_cancel,t,e,a)))}function q(t,e,n,a){var i,o,r=(o=t,0<=pt.indexOf(c(o)));s(t,\"entered\"),_(t,n.class_entered),v(t,n.class_exited),i=t,o=a,n.unobserve_entered&&b(i,o),f(n.callback_enter,t,e,a),r||V(t,n,a)}function H(t){return t.use_native&&\"loading\"in HTMLImageElement.prototype}function B(t,i,o){t.forEach(function(t){return(a=t).isIntersecting||0<a.intersectionRatio?q(t.target,t,i,o):(e=t.target,n=t,a=i,t=o,void(u(e)||(_(e,a.class_exited),$(e,n,a,t),f(a.callback_exit,e,n,t))));var e,n,a})}function J(e,n){var t;et&&!H(e)&&(n._observer=new IntersectionObserver(function(t){B(t,e,n)},{root:(t=e).container===document?null:t.container,rootMargin:t.thresholds||t.threshold+\"px\"}))}function K(t){return Array.prototype.slice.call(t)}function Q(t){return t.container.querySelectorAll(t.elements_selector)}function W(t){return c(t)===_t}function X(t,e){return e=t||Q(e),K(e).filter(u)}function Y(e,t){var n;(n=Q(e),K(n).filter(W)).forEach(function(t){v(t,e.class_error),r(t)}),t.update()}function t(t,e){var n,a,t=i(t);this._settings=t,this.loadingCount=0,J(t,this),n=t,a=this,Z&&window.addEventListener(\"online\",function(){Y(n,a)}),this.update(e)}var Z=\"undefined\"!=typeof window,tt=Z&&!(\"onscroll\"in window)||\"undefined\"!=typeof navigator&&/(gle|ing|ro)bot|crawl|spider/i.test(navigator.userAgent),et=Z&&\"IntersectionObserver\"in window,nt=Z&&\"classList\"in document.createElement(\"p\"),at=Z&&1<window.devicePixelRatio,it={elements_selector:\".lazy\",container:tt||Z?document:null,threshold:300,thresholds:null,data_src:\"src\",data_srcset:\"srcset\",data_sizes:\"sizes\",data_bg:\"bg\",data_bg_hidpi:\"bg-hidpi\",data_bg_multi:\"bg-multi\",data_bg_multi_hidpi:\"bg-multi-hidpi\",data_poster:\"poster\",class_applied:\"applied\",class_loading:\"litespeed-loading\",class_loaded:\"litespeed-loaded\",class_error:\"error\",class_entered:\"entered\",class_exited:\"exited\",unobserve_completed:!0,unobserve_entered:!1,cancel_on_exit:!0,callback_enter:null,callback_exit:null,callback_applied:null,callback_loading:null,callback_loaded:null,callback_error:null,callback_finish:null,callback_cancel:null,use_native:!1},ot=\"src\",rt=\"srcset\",ct=\"sizes\",lt=\"poster\",st=\"llOriginalAttrs\",ut=\"loading\",dt=\"loaded\",ft=\"applied\",_t=\"error\",vt=\"native\",gt=\"data-\",bt=\"ll-status\",pt=[ut,dt,ft,_t],ht=[ot],mt=[ot,lt],Et=[ot,rt,ct],It={IMG:function(t,e){m(t,function(t){A(t,Et),x(t,e)}),A(t,Et),x(t,e)},IFRAME:function(t,e){A(t,ht),w(t,ot,l(t,e.data_src))},VIDEO:function(t,e){a(t,function(t){A(t,ht),w(t,ot,l(t,e.data_src))}),A(t,mt),w(t,lt,l(t,e.data_poster)),w(t,ot,l(t,e.data_src)),t.load()}},yt=[\"IMG\",\"IFRAME\",\"VIDEO\"],At={IMG:P,IFRAME:function(t){k(t,ht)},VIDEO:function(t){a(t,function(t){k(t,ht)}),k(t,mt),t.load()}},kt=[\"IMG\",\"IFRAME\",\"VIDEO\"];return t.prototype={update:function(t){var e,n,a,i=this._settings,o=X(t,i);{if(h(this,o.length),!tt&&et)return H(i)?(e=i,n=this,o.forEach(function(t){-1!==kt.indexOf(t.tagName)&&F(t,e,n)}),void h(n,0)):(t=this._observer,i=o,t.disconnect(),a=t,void i.forEach(function(t){a.observe(t)}));this.loadAll(o)}},destroy:function(){this._observer&&this._observer.disconnect(),Q(this._settings).forEach(function(t){y(t)}),delete this._observer,delete this._settings,delete this.loadingCount,delete this.toLoadCount},loadAll:function(t){var e=this,n=this._settings;X(t,n).forEach(function(t){b(t,e),V(t,n,e)})},restoreAll:function(){var e=this._settings;Q(e).forEach(function(t){U(t,e)})}},t.load=function(t,e){e=i(e);V(t,e)},t.resetStatus=function(t){r(t)},Z&&function(t,e){if(e)if(e.length)for(var n,a=0;n=e[a];a+=1)o(t,n);else o(t,e)}(t,window.lazyLoadOptions),t});!function(e,t){\"use strict\";function a(){t.body.classList.add(\"litespeed_lazyloaded\")}function n(){console.log(\"[LiteSpeed] Start Lazy Load Images\"),d=new LazyLoad({elements_selector:\"[data-lazyloaded]\",callback_finish:a}),o=function(){d.update()},e.MutationObserver&&new MutationObserver(o).observe(t.documentElement,{childList:!0,subtree:!0,attributes:!0})}var d,o;e.addEventListener?e.addEventListener(\"load\",n,!1):e.attachEvent(\"onload\",n)}(window,document);</script><script data-no-optimize=\"1\">var litespeed_vary=document.cookie.replace(/(?:(?:^|.*;\\s*)_lscache_vary\\s*\\=\\s*([^;]*).*$)|^.*$/,\"\");litespeed_vary||fetch(\"/wp-jtech/wp-content/plugins/litespeed-cache/guest.vary.php\",{method:\"POST\",cache:\"no-cache\",redirect:\"follow\"}).then(e=>e.json()).then(e=>{console.log(e),e.hasOwnProperty(\"reload\")&&\"yes\"==e.reload&&(sessionStorage.setItem(\"litespeed_docref\",document.referrer),window.location.reload(!0))});</script><script data-optimized=\"1\" data-src=\"https://www.jitimu.com/wp-jtech/wp-content/litespeed/js/252163f05980175296764b511528f0ca.js?ver=49799\" type=\"litespeed/javascript\"></script><script>const litespeed_ui_events=[\"mouseover\",\"click\",\"keydown\",\"wheel\",\"touchmove\",\"touchstart\"];var urlCreator=window.URL||window.webkitURL;function litespeed_load_delayed_js_force(){console.log(\"[LiteSpeed] Start Load JS Delayed\"),litespeed_ui_events.forEach(e=>{window.removeEventListener(e,litespeed_load_delayed_js_force,{passive:!0})}),document.querySelectorAll(\"iframe[data-litespeed-src]\").forEach(e=>{e.setAttribute(\"src\",e.getAttribute(\"data-litespeed-src\"))}),\"loading\"==document.readyState?window.addEventListener(\"DOMContentLoaded\",litespeed_load_delayed_js):litespeed_load_delayed_js()}litespeed_ui_events.forEach(e=>{window.addEventListener(e,litespeed_load_delayed_js_force,{passive:!0})});async function litespeed_load_delayed_js(){let t=[];for(var d in document.querySelectorAll('script[type=\"litespeed/javascript\"]').forEach(e=>{t.push(e)}),t)await new Promise(e=>litespeed_load_one(t[d],e));document.dispatchEvent(new Event(\"DOMContentLiteSpeedLoaded\")),window.dispatchEvent(new Event(\"DOMContentLiteSpeedLoaded\"))}function litespeed_load_one(t,e){console.log(\"[LiteSpeed] Load \",t);var d=document.createElement(\"script\");d.addEventListener(\"load\",e),d.addEventListener(\"error\",e),t.getAttributeNames().forEach(e=>{\"type\"!=e&&d.setAttribute(\"data-src\"==e?\"src\":e,t.getAttribute(e))});let a=!(d.type=\"text/javascript\");!d.src&&t.textContent&&(d.src=litespeed_inline2src(t.textContent),a=!0),t.after(d),t.remove(),a&&e()}function litespeed_inline2src(t){try{var d=urlCreator.createObjectURL(new Blob([t.replace(/^(?:<!--)?(.*?)(?:-->)?$/gm,\"$1\")],{type:\"text/javascript\"}))}catch(e){d=\"data:text/javascript;base64,\"+btoa(t.replace(/^(?:<!--)?(.*?)(?:-->)?$/gm,\"$1\"))}return d}</script></body></html>\n",
      "<!-- Page optimized by LiteSpeed Cache @2023-08-21 13:17:26 -->\n",
      "<!-- Page cached by LiteSpeed Cache 5.6 on 2023-08-21 13:17:26 -->\n",
      "<!-- Guest Mode -->\n",
      "<!-- QUIC.cloud CCSS loaded ✅ /ccss/e5f2d9a824ed72e754c061abe8021566.css -->\n",
      "<!-- QUIC.cloud UCSS loaded ✅ -->\n"
     ]
    }
   ],
   "source": [
    "print(soup)"
   ]
  },
  {
   "cell_type": "code",
   "execution_count": 160,
   "metadata": {},
   "outputs": [
    {
     "name": "stdout",
     "output_type": "stream",
     "text": [
      "<table style=\"width: 100%;\"><tbody><tr><th>HOSPITAL NAME</th><th>NHIF BRANCH</th><th>COUNTY</th></tr><tr><td>Africare Dialysis Centre</td><td>Ruaraka</td><td>Nairobi</td></tr><tr><td>Africare Limited</td><td>Westlands</td><td>Nairobi</td></tr><tr><td>Aga Khan Hospital</td><td>Mombasa</td><td>Mombasa</td></tr><tr><td>Aga Khan Hospital Nairobi</td><td>Westlands</td><td>Nairobi</td></tr><tr><td>Alliance Medical Centre</td><td>Eastleigh</td><td>Nairobi</td></tr><tr><td>Athi River Shalom Community Hospital</td><td>Kitengela</td><td>Kajiado</td></tr><tr><td>Avenue Hospital Kisumu</td><td>Kisumu</td><td>Kisumu</td></tr><tr><td>Central Dialysis &amp; Diagnostic Limited</td><td>Nyeri</td><td>Nyeri</td></tr><tr><td>Central Memorial Hospital Thika</td><td>Thika</td><td>Kiambu</td></tr><tr><td>Coast General Hospital</td><td>Mombasa</td><td>Mombasa</td></tr><tr><td>Coast Provincial General Hospital</td><td>Mombasa</td><td>Mombasa</td></tr><tr><td>Consolata Hospital Nyeri</td><td>Nyeri</td><td>Nyeri</td></tr><tr><td>Coptic Hospital</td><td>Nairobi</td><td>Nairobi</td></tr><tr><td>Eldoret Hospital</td><td>Eldoret</td><td>Uasin Gishu</td></tr><tr><td>Elgon View Hospital</td><td>Eldoret</td><td>Uasin Gishu</td></tr><tr><td>Embu Children Hospital</td><td>Embu</td><td>Embu</td></tr><tr><td>Hema Hospital</td><td>Kisii</td><td>Kisii</td></tr><tr><td>Homabay District Hospital</td><td>Homabay</td><td>Homabay</td></tr><tr><td>Jocham Hospital</td><td>Mombasa</td><td>Mombasa</td></tr><tr><td>Kakamega County General Hospital</td><td>Kakamega</td><td>Kakamega</td></tr><tr><td>Kenyatta National Hospital</td><td>Nairobi</td><td>Nairobi</td></tr><tr><td>Kijiji Medical Centre Naivasha</td><td>Naivasha</td><td>Nakuru</td></tr><tr><td>Kisii Level V Hospital</td><td>Kisii</td><td>Kisii</td></tr><tr><td>Ladnan Hospital</td><td>Eastleigh</td><td>Nairobi</td></tr><tr><td>Lanika Nursing Home And Dialysis Centre</td><td>Limuru</td><td>Kiambu</td></tr><tr><td>M.P. Shah Hospital</td><td>Westlands</td><td>Nairobi</td></tr><tr><td>Machakos Level V</td><td>Machakos</td><td>Machakos</td></tr><tr><td>Mariakani Cottage Hospital</td><td>Industrial Area</td><td>Nairobi</td></tr><tr><td>Mediheal Diagnostic &amp; Fertility Centre</td><td>Westlands</td><td>Nairobi</td></tr><tr><td>Mediheal Diagonistic Dialysis &amp; Day Care – Real Towers</td><td>Nairobi</td><td>Nairobi</td></tr><tr><td>Mediheal Hospital &amp; Fertility – Eldoret</td><td>Eldoret</td><td>Uasin Gishu</td></tr><tr><td>Mediheal Hospital Nakuru</td><td>Nakuru</td><td>Nakuru</td></tr><tr><td>Meridian Equator Hospital</td><td>Industrial Area</td><td>Nairobi</td></tr><tr><td>Meru Teaching And Referral Hospital</td><td>Meru</td><td>Meru</td></tr><tr><td>Moi Teaching And Referral Hospital</td><td>Eldoret</td><td>Uasin Gishu</td></tr><tr><td>Mombasa Dialysis Centre Limited, Rashid Sajjad Road Kizingo</td><td>Mombasa</td><td>Mombasa</td></tr><tr><td>Mombasa Dialysis Centre Limited,Nyali</td><td>Mombasa</td><td>Mombasa</td></tr><tr><td>Mombasa Hospital</td><td>Mombasa</td><td>Mombasa</td></tr><tr><td>Nairobi East Hospital</td><td>Eastleigh</td><td>Nairobi</td></tr><tr><td>Nairobi West Hospital</td><td>Industrial Area</td><td>Nairobi</td></tr><tr><td>Nairobi Women’S Hospital</td><td>Industrial Area</td><td>Nairobi</td></tr><tr><td>Nyali Bridge Hospital</td><td>Mombasa</td><td>Mombasa</td></tr><tr><td>Nyamira District Hospital</td><td>Nyamira</td><td>Nyamira</td></tr><tr><td>Oasis Doctors Plaza Kisumu</td><td>Kisumu</td><td>Kisumu</td></tr><tr><td>P.C.E.A Chogoria Hospital</td><td>Chuka</td><td>Tharaka Nithi</td></tr><tr><td>P.C.E.A Kikuyu Mission Hospital</td><td>Limuru</td><td>Kiambu</td></tr><tr><td>Pandya Hospital</td><td>Mombasa</td><td>Mombasa</td></tr><tr><td>Parklands Kidney Centre Ltd</td><td>Westlands</td><td>Nairobi</td></tr><tr><td>Pcea Tumutumu Hospital</td><td>Nyeri</td><td>Nyeri</td></tr><tr><td>Poly-Clinic Hospital</td><td>Naivasha</td><td>Naivasha</td></tr><tr><td>Provincial General Hospital Embu</td><td>Embu</td><td>Embu</td></tr><tr><td>Provincial General Hospital Kisumu</td><td>Kisumu</td><td>Kisumu</td></tr><tr><td>Provincial General Hospital Nakuru</td><td>Nakuru</td><td>Nakuru</td></tr><tr><td>Provincial General Hospital Nyeri</td><td>Nyeri</td><td>Nyeri</td></tr><tr><td>Rapha Dialysis And Diagnostic Centre</td><td>Eldoret</td><td>Uasin Gishu</td></tr><tr><td>Reale Hospital</td><td>Eldoret</td><td>Uasin Gishu</td></tr><tr><td>Sayyida Fatimah</td><td>Mombasa</td><td>Mombasa</td></tr><tr><td>Shalom Community Hospital</td><td>Machakos</td><td>Machakos</td></tr><tr><td>Siloam Hospital</td><td>Eldoret</td><td>Kericho</td></tr><tr><td>South C Dialysis Centre Limited</td><td>Industrial Area</td><td>Nairobi</td></tr><tr><td>St. Theresa’S Mission Hospital-Kiirua</td><td>Meru</td><td>Meru</td></tr><tr><td>Taqwa Nursing Home</td><td>Moyale</td><td>Marsabit</td></tr><tr><td>Tawfiq Hospital</td><td>Malindi</td><td>Malindi</td></tr><tr><td>The Karen Hospital</td><td>Ongata Rongai</td><td>Kajiado</td></tr><tr><td>The Mater Hospital</td><td>Industrial Area</td><td>Nairobi</td></tr><tr><td>The Nairobi Hospital</td><td>Nairobi</td><td>Nairobi</td></tr><tr><td>The Nairobi South Hospital</td><td>Industrial Area</td><td>Nairobi</td></tr><tr><td>Thika Level V Hospital</td><td>Thika</td><td>Kiambu</td></tr></tbody></table>\n"
     ]
    }
   ],
   "source": [
    "results = soup.find(\"table\", style=\"width: 100%;\")\n",
    "print(results)"
   ]
  },
  {
   "cell_type": "code",
   "execution_count": 161,
   "metadata": {},
   "outputs": [
    {
     "data": {
      "text/plain": [
       "[<table style=\"width: 100%;\"><tbody><tr><th>HOSPITAL NAME</th><th>NHIF BRANCH</th><th>COUNTY</th></tr><tr><td>Africare Dialysis Centre</td><td>Ruaraka</td><td>Nairobi</td></tr><tr><td>Africare Limited</td><td>Westlands</td><td>Nairobi</td></tr><tr><td>Aga Khan Hospital</td><td>Mombasa</td><td>Mombasa</td></tr><tr><td>Aga Khan Hospital Nairobi</td><td>Westlands</td><td>Nairobi</td></tr><tr><td>Alliance Medical Centre</td><td>Eastleigh</td><td>Nairobi</td></tr><tr><td>Athi River Shalom Community Hospital</td><td>Kitengela</td><td>Kajiado</td></tr><tr><td>Avenue Hospital Kisumu</td><td>Kisumu</td><td>Kisumu</td></tr><tr><td>Central Dialysis &amp; Diagnostic Limited</td><td>Nyeri</td><td>Nyeri</td></tr><tr><td>Central Memorial Hospital Thika</td><td>Thika</td><td>Kiambu</td></tr><tr><td>Coast General Hospital</td><td>Mombasa</td><td>Mombasa</td></tr><tr><td>Coast Provincial General Hospital</td><td>Mombasa</td><td>Mombasa</td></tr><tr><td>Consolata Hospital Nyeri</td><td>Nyeri</td><td>Nyeri</td></tr><tr><td>Coptic Hospital</td><td>Nairobi</td><td>Nairobi</td></tr><tr><td>Eldoret Hospital</td><td>Eldoret</td><td>Uasin Gishu</td></tr><tr><td>Elgon View Hospital</td><td>Eldoret</td><td>Uasin Gishu</td></tr><tr><td>Embu Children Hospital</td><td>Embu</td><td>Embu</td></tr><tr><td>Hema Hospital</td><td>Kisii</td><td>Kisii</td></tr><tr><td>Homabay District Hospital</td><td>Homabay</td><td>Homabay</td></tr><tr><td>Jocham Hospital</td><td>Mombasa</td><td>Mombasa</td></tr><tr><td>Kakamega County General Hospital</td><td>Kakamega</td><td>Kakamega</td></tr><tr><td>Kenyatta National Hospital</td><td>Nairobi</td><td>Nairobi</td></tr><tr><td>Kijiji Medical Centre Naivasha</td><td>Naivasha</td><td>Nakuru</td></tr><tr><td>Kisii Level V Hospital</td><td>Kisii</td><td>Kisii</td></tr><tr><td>Ladnan Hospital</td><td>Eastleigh</td><td>Nairobi</td></tr><tr><td>Lanika Nursing Home And Dialysis Centre</td><td>Limuru</td><td>Kiambu</td></tr><tr><td>M.P. Shah Hospital</td><td>Westlands</td><td>Nairobi</td></tr><tr><td>Machakos Level V</td><td>Machakos</td><td>Machakos</td></tr><tr><td>Mariakani Cottage Hospital</td><td>Industrial Area</td><td>Nairobi</td></tr><tr><td>Mediheal Diagnostic &amp; Fertility Centre</td><td>Westlands</td><td>Nairobi</td></tr><tr><td>Mediheal Diagonistic Dialysis &amp; Day Care – Real Towers</td><td>Nairobi</td><td>Nairobi</td></tr><tr><td>Mediheal Hospital &amp; Fertility – Eldoret</td><td>Eldoret</td><td>Uasin Gishu</td></tr><tr><td>Mediheal Hospital Nakuru</td><td>Nakuru</td><td>Nakuru</td></tr><tr><td>Meridian Equator Hospital</td><td>Industrial Area</td><td>Nairobi</td></tr><tr><td>Meru Teaching And Referral Hospital</td><td>Meru</td><td>Meru</td></tr><tr><td>Moi Teaching And Referral Hospital</td><td>Eldoret</td><td>Uasin Gishu</td></tr><tr><td>Mombasa Dialysis Centre Limited, Rashid Sajjad Road Kizingo</td><td>Mombasa</td><td>Mombasa</td></tr><tr><td>Mombasa Dialysis Centre Limited,Nyali</td><td>Mombasa</td><td>Mombasa</td></tr><tr><td>Mombasa Hospital</td><td>Mombasa</td><td>Mombasa</td></tr><tr><td>Nairobi East Hospital</td><td>Eastleigh</td><td>Nairobi</td></tr><tr><td>Nairobi West Hospital</td><td>Industrial Area</td><td>Nairobi</td></tr><tr><td>Nairobi Women’S Hospital</td><td>Industrial Area</td><td>Nairobi</td></tr><tr><td>Nyali Bridge Hospital</td><td>Mombasa</td><td>Mombasa</td></tr><tr><td>Nyamira District Hospital</td><td>Nyamira</td><td>Nyamira</td></tr><tr><td>Oasis Doctors Plaza Kisumu</td><td>Kisumu</td><td>Kisumu</td></tr><tr><td>P.C.E.A Chogoria Hospital</td><td>Chuka</td><td>Tharaka Nithi</td></tr><tr><td>P.C.E.A Kikuyu Mission Hospital</td><td>Limuru</td><td>Kiambu</td></tr><tr><td>Pandya Hospital</td><td>Mombasa</td><td>Mombasa</td></tr><tr><td>Parklands Kidney Centre Ltd</td><td>Westlands</td><td>Nairobi</td></tr><tr><td>Pcea Tumutumu Hospital</td><td>Nyeri</td><td>Nyeri</td></tr><tr><td>Poly-Clinic Hospital</td><td>Naivasha</td><td>Naivasha</td></tr><tr><td>Provincial General Hospital Embu</td><td>Embu</td><td>Embu</td></tr><tr><td>Provincial General Hospital Kisumu</td><td>Kisumu</td><td>Kisumu</td></tr><tr><td>Provincial General Hospital Nakuru</td><td>Nakuru</td><td>Nakuru</td></tr><tr><td>Provincial General Hospital Nyeri</td><td>Nyeri</td><td>Nyeri</td></tr><tr><td>Rapha Dialysis And Diagnostic Centre</td><td>Eldoret</td><td>Uasin Gishu</td></tr><tr><td>Reale Hospital</td><td>Eldoret</td><td>Uasin Gishu</td></tr><tr><td>Sayyida Fatimah</td><td>Mombasa</td><td>Mombasa</td></tr><tr><td>Shalom Community Hospital</td><td>Machakos</td><td>Machakos</td></tr><tr><td>Siloam Hospital</td><td>Eldoret</td><td>Kericho</td></tr><tr><td>South C Dialysis Centre Limited</td><td>Industrial Area</td><td>Nairobi</td></tr><tr><td>St. Theresa’S Mission Hospital-Kiirua</td><td>Meru</td><td>Meru</td></tr><tr><td>Taqwa Nursing Home</td><td>Moyale</td><td>Marsabit</td></tr><tr><td>Tawfiq Hospital</td><td>Malindi</td><td>Malindi</td></tr><tr><td>The Karen Hospital</td><td>Ongata Rongai</td><td>Kajiado</td></tr><tr><td>The Mater Hospital</td><td>Industrial Area</td><td>Nairobi</td></tr><tr><td>The Nairobi Hospital</td><td>Nairobi</td><td>Nairobi</td></tr><tr><td>The Nairobi South Hospital</td><td>Industrial Area</td><td>Nairobi</td></tr><tr><td>Thika Level V Hospital</td><td>Thika</td><td>Kiambu</td></tr></tbody></table>]"
      ]
     },
     "execution_count": 161,
     "metadata": {},
     "output_type": "execute_result"
    }
   ],
   "source": [
    "soup.find_all(\"table\")"
   ]
  },
  {
   "cell_type": "code",
   "execution_count": 162,
   "metadata": {},
   "outputs": [
    {
     "name": "stdout",
     "output_type": "stream",
     "text": [
      "[<th>HOSPITAL NAME</th>, <th>NHIF BRANCH</th>, <th>COUNTY</th>]\n"
     ]
    }
   ],
   "source": [
    "headers = results.find_all(\"th\")\n",
    "print(headers)"
   ]
  },
  {
   "cell_type": "code",
   "execution_count": 163,
   "metadata": {},
   "outputs": [
    {
     "name": "stdout",
     "output_type": "stream",
     "text": [
      "[<table style=\"width: 100%;\"><tbody><tr><th>HOSPITAL NAME</th><th>NHIF BRANCH</th><th>COUNTY</th></tr><tr><td>Africare Dialysis Centre</td><td>Ruaraka</td><td>Nairobi</td></tr><tr><td>Africare Limited</td><td>Westlands</td><td>Nairobi</td></tr><tr><td>Aga Khan Hospital</td><td>Mombasa</td><td>Mombasa</td></tr><tr><td>Aga Khan Hospital Nairobi</td><td>Westlands</td><td>Nairobi</td></tr><tr><td>Alliance Medical Centre</td><td>Eastleigh</td><td>Nairobi</td></tr><tr><td>Athi River Shalom Community Hospital</td><td>Kitengela</td><td>Kajiado</td></tr><tr><td>Avenue Hospital Kisumu</td><td>Kisumu</td><td>Kisumu</td></tr><tr><td>Central Dialysis &amp; Diagnostic Limited</td><td>Nyeri</td><td>Nyeri</td></tr><tr><td>Central Memorial Hospital Thika</td><td>Thika</td><td>Kiambu</td></tr><tr><td>Coast General Hospital</td><td>Mombasa</td><td>Mombasa</td></tr><tr><td>Coast Provincial General Hospital</td><td>Mombasa</td><td>Mombasa</td></tr><tr><td>Consolata Hospital Nyeri</td><td>Nyeri</td><td>Nyeri</td></tr><tr><td>Coptic Hospital</td><td>Nairobi</td><td>Nairobi</td></tr><tr><td>Eldoret Hospital</td><td>Eldoret</td><td>Uasin Gishu</td></tr><tr><td>Elgon View Hospital</td><td>Eldoret</td><td>Uasin Gishu</td></tr><tr><td>Embu Children Hospital</td><td>Embu</td><td>Embu</td></tr><tr><td>Hema Hospital</td><td>Kisii</td><td>Kisii</td></tr><tr><td>Homabay District Hospital</td><td>Homabay</td><td>Homabay</td></tr><tr><td>Jocham Hospital</td><td>Mombasa</td><td>Mombasa</td></tr><tr><td>Kakamega County General Hospital</td><td>Kakamega</td><td>Kakamega</td></tr><tr><td>Kenyatta National Hospital</td><td>Nairobi</td><td>Nairobi</td></tr><tr><td>Kijiji Medical Centre Naivasha</td><td>Naivasha</td><td>Nakuru</td></tr><tr><td>Kisii Level V Hospital</td><td>Kisii</td><td>Kisii</td></tr><tr><td>Ladnan Hospital</td><td>Eastleigh</td><td>Nairobi</td></tr><tr><td>Lanika Nursing Home And Dialysis Centre</td><td>Limuru</td><td>Kiambu</td></tr><tr><td>M.P. Shah Hospital</td><td>Westlands</td><td>Nairobi</td></tr><tr><td>Machakos Level V</td><td>Machakos</td><td>Machakos</td></tr><tr><td>Mariakani Cottage Hospital</td><td>Industrial Area</td><td>Nairobi</td></tr><tr><td>Mediheal Diagnostic &amp; Fertility Centre</td><td>Westlands</td><td>Nairobi</td></tr><tr><td>Mediheal Diagonistic Dialysis &amp; Day Care – Real Towers</td><td>Nairobi</td><td>Nairobi</td></tr><tr><td>Mediheal Hospital &amp; Fertility – Eldoret</td><td>Eldoret</td><td>Uasin Gishu</td></tr><tr><td>Mediheal Hospital Nakuru</td><td>Nakuru</td><td>Nakuru</td></tr><tr><td>Meridian Equator Hospital</td><td>Industrial Area</td><td>Nairobi</td></tr><tr><td>Meru Teaching And Referral Hospital</td><td>Meru</td><td>Meru</td></tr><tr><td>Moi Teaching And Referral Hospital</td><td>Eldoret</td><td>Uasin Gishu</td></tr><tr><td>Mombasa Dialysis Centre Limited, Rashid Sajjad Road Kizingo</td><td>Mombasa</td><td>Mombasa</td></tr><tr><td>Mombasa Dialysis Centre Limited,Nyali</td><td>Mombasa</td><td>Mombasa</td></tr><tr><td>Mombasa Hospital</td><td>Mombasa</td><td>Mombasa</td></tr><tr><td>Nairobi East Hospital</td><td>Eastleigh</td><td>Nairobi</td></tr><tr><td>Nairobi West Hospital</td><td>Industrial Area</td><td>Nairobi</td></tr><tr><td>Nairobi Women’S Hospital</td><td>Industrial Area</td><td>Nairobi</td></tr><tr><td>Nyali Bridge Hospital</td><td>Mombasa</td><td>Mombasa</td></tr><tr><td>Nyamira District Hospital</td><td>Nyamira</td><td>Nyamira</td></tr><tr><td>Oasis Doctors Plaza Kisumu</td><td>Kisumu</td><td>Kisumu</td></tr><tr><td>P.C.E.A Chogoria Hospital</td><td>Chuka</td><td>Tharaka Nithi</td></tr><tr><td>P.C.E.A Kikuyu Mission Hospital</td><td>Limuru</td><td>Kiambu</td></tr><tr><td>Pandya Hospital</td><td>Mombasa</td><td>Mombasa</td></tr><tr><td>Parklands Kidney Centre Ltd</td><td>Westlands</td><td>Nairobi</td></tr><tr><td>Pcea Tumutumu Hospital</td><td>Nyeri</td><td>Nyeri</td></tr><tr><td>Poly-Clinic Hospital</td><td>Naivasha</td><td>Naivasha</td></tr><tr><td>Provincial General Hospital Embu</td><td>Embu</td><td>Embu</td></tr><tr><td>Provincial General Hospital Kisumu</td><td>Kisumu</td><td>Kisumu</td></tr><tr><td>Provincial General Hospital Nakuru</td><td>Nakuru</td><td>Nakuru</td></tr><tr><td>Provincial General Hospital Nyeri</td><td>Nyeri</td><td>Nyeri</td></tr><tr><td>Rapha Dialysis And Diagnostic Centre</td><td>Eldoret</td><td>Uasin Gishu</td></tr><tr><td>Reale Hospital</td><td>Eldoret</td><td>Uasin Gishu</td></tr><tr><td>Sayyida Fatimah</td><td>Mombasa</td><td>Mombasa</td></tr><tr><td>Shalom Community Hospital</td><td>Machakos</td><td>Machakos</td></tr><tr><td>Siloam Hospital</td><td>Eldoret</td><td>Kericho</td></tr><tr><td>South C Dialysis Centre Limited</td><td>Industrial Area</td><td>Nairobi</td></tr><tr><td>St. Theresa’S Mission Hospital-Kiirua</td><td>Meru</td><td>Meru</td></tr><tr><td>Taqwa Nursing Home</td><td>Moyale</td><td>Marsabit</td></tr><tr><td>Tawfiq Hospital</td><td>Malindi</td><td>Malindi</td></tr><tr><td>The Karen Hospital</td><td>Ongata Rongai</td><td>Kajiado</td></tr><tr><td>The Mater Hospital</td><td>Industrial Area</td><td>Nairobi</td></tr><tr><td>The Nairobi Hospital</td><td>Nairobi</td><td>Nairobi</td></tr><tr><td>The Nairobi South Hospital</td><td>Industrial Area</td><td>Nairobi</td></tr><tr><td>Thika Level V Hospital</td><td>Thika</td><td>Kiambu</td></tr></tbody></table>]\n"
     ]
    }
   ],
   "source": [
    "table= soup.find_all('table')\n",
    "\n",
    "print(table)"
   ]
  },
  {
   "cell_type": "code",
   "execution_count": 164,
   "metadata": {},
   "outputs": [
    {
     "name": "stdout",
     "output_type": "stream",
     "text": [
      "['HOSPITAL NAME', 'NHIF BRANCH', 'COUNTY']\n"
     ]
    }
   ],
   "source": [
    "renal_facilities= [title.text for title in headers]\n",
    "\n",
    "print(renal_facilities)"
   ]
  },
  {
   "cell_type": "code",
   "execution_count": 165,
   "metadata": {},
   "outputs": [
    {
     "data": {
      "text/html": [
       "<div>\n",
       "<style scoped>\n",
       "    .dataframe tbody tr th:only-of-type {\n",
       "        vertical-align: middle;\n",
       "    }\n",
       "\n",
       "    .dataframe tbody tr th {\n",
       "        vertical-align: top;\n",
       "    }\n",
       "\n",
       "    .dataframe thead th {\n",
       "        text-align: right;\n",
       "    }\n",
       "</style>\n",
       "<table border=\"1\" class=\"dataframe\">\n",
       "  <thead>\n",
       "    <tr style=\"text-align: right;\">\n",
       "      <th></th>\n",
       "      <th>HOSPITAL NAME</th>\n",
       "      <th>NHIF BRANCH</th>\n",
       "      <th>COUNTY</th>\n",
       "    </tr>\n",
       "  </thead>\n",
       "  <tbody>\n",
       "  </tbody>\n",
       "</table>\n",
       "</div>"
      ],
      "text/plain": [
       "Empty DataFrame\n",
       "Columns: [HOSPITAL NAME, NHIF BRANCH, COUNTY]\n",
       "Index: []"
      ]
     },
     "execution_count": 165,
     "metadata": {},
     "output_type": "execute_result"
    }
   ],
   "source": [
    "# Getting the dataframe\n",
    "import pandas as pd\n",
    "df = pd.DataFrame(columns = renal_facilities)\n",
    "df"
   ]
  },
  {
   "cell_type": "code",
   "execution_count": 166,
   "metadata": {},
   "outputs": [],
   "source": [
    "column_data = results.find_all('tr')\n",
    "for row in column_data[1:]:\n",
    "    row_data = row.find_all('td')\n",
    "    individual_row_data = [data.text.strip() for data in row_data]\n",
    "\n",
    "\n",
    "    length = len(df)\n",
    "    df.loc[length] = individual_row_data\n",
    "   "
   ]
  },
  {
   "cell_type": "code",
   "execution_count": 167,
   "metadata": {},
   "outputs": [
    {
     "data": {
      "text/html": [
       "<div>\n",
       "<style scoped>\n",
       "    .dataframe tbody tr th:only-of-type {\n",
       "        vertical-align: middle;\n",
       "    }\n",
       "\n",
       "    .dataframe tbody tr th {\n",
       "        vertical-align: top;\n",
       "    }\n",
       "\n",
       "    .dataframe thead th {\n",
       "        text-align: right;\n",
       "    }\n",
       "</style>\n",
       "<table border=\"1\" class=\"dataframe\">\n",
       "  <thead>\n",
       "    <tr style=\"text-align: right;\">\n",
       "      <th></th>\n",
       "      <th>HOSPITAL NAME</th>\n",
       "      <th>NHIF BRANCH</th>\n",
       "      <th>COUNTY</th>\n",
       "    </tr>\n",
       "  </thead>\n",
       "  <tbody>\n",
       "    <tr>\n",
       "      <th>0</th>\n",
       "      <td>Africare Dialysis Centre</td>\n",
       "      <td>Ruaraka</td>\n",
       "      <td>Nairobi</td>\n",
       "    </tr>\n",
       "    <tr>\n",
       "      <th>1</th>\n",
       "      <td>Africare Limited</td>\n",
       "      <td>Westlands</td>\n",
       "      <td>Nairobi</td>\n",
       "    </tr>\n",
       "    <tr>\n",
       "      <th>2</th>\n",
       "      <td>Aga Khan Hospital</td>\n",
       "      <td>Mombasa</td>\n",
       "      <td>Mombasa</td>\n",
       "    </tr>\n",
       "    <tr>\n",
       "      <th>3</th>\n",
       "      <td>Aga Khan Hospital Nairobi</td>\n",
       "      <td>Westlands</td>\n",
       "      <td>Nairobi</td>\n",
       "    </tr>\n",
       "    <tr>\n",
       "      <th>4</th>\n",
       "      <td>Alliance Medical Centre</td>\n",
       "      <td>Eastleigh</td>\n",
       "      <td>Nairobi</td>\n",
       "    </tr>\n",
       "    <tr>\n",
       "      <th>...</th>\n",
       "      <td>...</td>\n",
       "      <td>...</td>\n",
       "      <td>...</td>\n",
       "    </tr>\n",
       "    <tr>\n",
       "      <th>63</th>\n",
       "      <td>The Karen Hospital</td>\n",
       "      <td>Ongata Rongai</td>\n",
       "      <td>Kajiado</td>\n",
       "    </tr>\n",
       "    <tr>\n",
       "      <th>64</th>\n",
       "      <td>The Mater Hospital</td>\n",
       "      <td>Industrial Area</td>\n",
       "      <td>Nairobi</td>\n",
       "    </tr>\n",
       "    <tr>\n",
       "      <th>65</th>\n",
       "      <td>The Nairobi Hospital</td>\n",
       "      <td>Nairobi</td>\n",
       "      <td>Nairobi</td>\n",
       "    </tr>\n",
       "    <tr>\n",
       "      <th>66</th>\n",
       "      <td>The Nairobi South Hospital</td>\n",
       "      <td>Industrial Area</td>\n",
       "      <td>Nairobi</td>\n",
       "    </tr>\n",
       "    <tr>\n",
       "      <th>67</th>\n",
       "      <td>Thika Level V Hospital</td>\n",
       "      <td>Thika</td>\n",
       "      <td>Kiambu</td>\n",
       "    </tr>\n",
       "  </tbody>\n",
       "</table>\n",
       "<p>68 rows × 3 columns</p>\n",
       "</div>"
      ],
      "text/plain": [
       "                 HOSPITAL NAME      NHIF BRANCH   COUNTY\n",
       "0     Africare Dialysis Centre          Ruaraka  Nairobi\n",
       "1             Africare Limited        Westlands  Nairobi\n",
       "2            Aga Khan Hospital          Mombasa  Mombasa\n",
       "3    Aga Khan Hospital Nairobi        Westlands  Nairobi\n",
       "4      Alliance Medical Centre        Eastleigh  Nairobi\n",
       "..                         ...              ...      ...\n",
       "63          The Karen Hospital    Ongata Rongai  Kajiado\n",
       "64          The Mater Hospital  Industrial Area  Nairobi\n",
       "65        The Nairobi Hospital          Nairobi  Nairobi\n",
       "66  The Nairobi South Hospital  Industrial Area  Nairobi\n",
       "67      Thika Level V Hospital            Thika   Kiambu\n",
       "\n",
       "[68 rows x 3 columns]"
      ]
     },
     "execution_count": 167,
     "metadata": {},
     "output_type": "execute_result"
    }
   ],
   "source": [
    "df"
   ]
  },
  {
   "cell_type": "markdown",
   "metadata": {},
   "source": [
    "- WORKING WITH DATASETS "
   ]
  },
  {
   "cell_type": "code",
   "execution_count": 168,
   "metadata": {},
   "outputs": [
    {
     "data": {
      "text/html": [
       "<div>\n",
       "<style scoped>\n",
       "    .dataframe tbody tr th:only-of-type {\n",
       "        vertical-align: middle;\n",
       "    }\n",
       "\n",
       "    .dataframe tbody tr th {\n",
       "        vertical-align: top;\n",
       "    }\n",
       "\n",
       "    .dataframe thead th {\n",
       "        text-align: right;\n",
       "    }\n",
       "</style>\n",
       "<table border=\"1\" class=\"dataframe\">\n",
       "  <thead>\n",
       "    <tr style=\"text-align: right;\">\n",
       "      <th></th>\n",
       "      <th>Code</th>\n",
       "      <th>Name</th>\n",
       "      <th>Registration_number</th>\n",
       "      <th>Keph level</th>\n",
       "      <th>Facility type</th>\n",
       "      <th>Owner</th>\n",
       "      <th>Regulatory body</th>\n",
       "      <th>Beds</th>\n",
       "      <th>Cots</th>\n",
       "      <th>County</th>\n",
       "      <th>...</th>\n",
       "      <th>Ward</th>\n",
       "      <th>Operation status</th>\n",
       "      <th>Open_whole_day</th>\n",
       "      <th>Open_public_holidays</th>\n",
       "      <th>Open_weekends</th>\n",
       "      <th>Open_late_night</th>\n",
       "      <th>Service_names</th>\n",
       "      <th>Approved</th>\n",
       "      <th>Public visible</th>\n",
       "      <th>Closed</th>\n",
       "    </tr>\n",
       "  </thead>\n",
       "  <tbody>\n",
       "    <tr>\n",
       "      <th>0</th>\n",
       "      <td>22998</td>\n",
       "      <td>Kaka Medical Clinic</td>\n",
       "      <td>None</td>\n",
       "      <td>Level 2</td>\n",
       "      <td>Dispensaries and clinic-out patient only</td>\n",
       "      <td>Private Practice - Medical Specialist</td>\n",
       "      <td>None</td>\n",
       "      <td>0</td>\n",
       "      <td>0</td>\n",
       "      <td>KAKAMEGA</td>\n",
       "      <td>...</td>\n",
       "      <td>SHEYWE</td>\n",
       "      <td>Operational</td>\n",
       "      <td>No</td>\n",
       "      <td>No</td>\n",
       "      <td>No</td>\n",
       "      <td>No</td>\n",
       "      <td>NaN</td>\n",
       "      <td>Yes</td>\n",
       "      <td>Yes</td>\n",
       "      <td>No</td>\n",
       "    </tr>\n",
       "    <tr>\n",
       "      <th>1</th>\n",
       "      <td>22985</td>\n",
       "      <td>KOPANGA DISPENSARY</td>\n",
       "      <td>None</td>\n",
       "      <td>Level 2</td>\n",
       "      <td>Basic primary health care facility</td>\n",
       "      <td>Ministry of Health</td>\n",
       "      <td>None</td>\n",
       "      <td>2</td>\n",
       "      <td>1</td>\n",
       "      <td>MIGORI</td>\n",
       "      <td>...</td>\n",
       "      <td>WASIMBETE</td>\n",
       "      <td>Operational</td>\n",
       "      <td>No</td>\n",
       "      <td>No</td>\n",
       "      <td>No</td>\n",
       "      <td>No</td>\n",
       "      <td>NaN</td>\n",
       "      <td>Yes</td>\n",
       "      <td>Yes</td>\n",
       "      <td>No</td>\n",
       "    </tr>\n",
       "    <tr>\n",
       "      <th>2</th>\n",
       "      <td>22977</td>\n",
       "      <td>Fairview Medical Centre</td>\n",
       "      <td>None</td>\n",
       "      <td>Level 2</td>\n",
       "      <td>Secondary care hospitals</td>\n",
       "      <td>Private Practice - Unspecified</td>\n",
       "      <td>Nursing Council of Kenya (Private Practice)</td>\n",
       "      <td>4</td>\n",
       "      <td>0</td>\n",
       "      <td>NAIROBI</td>\n",
       "      <td>...</td>\n",
       "      <td>KAYOLE SOUTH</td>\n",
       "      <td>Operational</td>\n",
       "      <td>No</td>\n",
       "      <td>No</td>\n",
       "      <td>Yes</td>\n",
       "      <td>No</td>\n",
       "      <td>NaN</td>\n",
       "      <td>Yes</td>\n",
       "      <td>Yes</td>\n",
       "      <td>No</td>\n",
       "    </tr>\n",
       "    <tr>\n",
       "      <th>3</th>\n",
       "      <td>22976</td>\n",
       "      <td>RADIANT GROUP OF HOSPITALS-UMOJA</td>\n",
       "      <td>None</td>\n",
       "      <td>Level 3</td>\n",
       "      <td>Secondary care hospitals</td>\n",
       "      <td>Private Practice - Unspecified</td>\n",
       "      <td>Kenya MPDB - Private Practice</td>\n",
       "      <td>34</td>\n",
       "      <td>0</td>\n",
       "      <td>NAIROBI</td>\n",
       "      <td>...</td>\n",
       "      <td>UMOJA II</td>\n",
       "      <td>Operational</td>\n",
       "      <td>Yes</td>\n",
       "      <td>Yes</td>\n",
       "      <td>Yes</td>\n",
       "      <td>Yes</td>\n",
       "      <td>NaN</td>\n",
       "      <td>Yes</td>\n",
       "      <td>Yes</td>\n",
       "      <td>No</td>\n",
       "    </tr>\n",
       "    <tr>\n",
       "      <th>4</th>\n",
       "      <td>22971</td>\n",
       "      <td>Songot Medical Clinic</td>\n",
       "      <td>None</td>\n",
       "      <td>Level 2</td>\n",
       "      <td>Basic primary health care facility</td>\n",
       "      <td>Private Practice - Nurse / Midwifery</td>\n",
       "      <td>None</td>\n",
       "      <td>0</td>\n",
       "      <td>0</td>\n",
       "      <td>TURKANA</td>\n",
       "      <td>...</td>\n",
       "      <td>LOKICHOGGIO</td>\n",
       "      <td>Operational</td>\n",
       "      <td>No</td>\n",
       "      <td>No</td>\n",
       "      <td>No</td>\n",
       "      <td>No</td>\n",
       "      <td>NaN</td>\n",
       "      <td>Yes</td>\n",
       "      <td>Yes</td>\n",
       "      <td>No</td>\n",
       "    </tr>\n",
       "    <tr>\n",
       "      <th>...</th>\n",
       "      <td>...</td>\n",
       "      <td>...</td>\n",
       "      <td>...</td>\n",
       "      <td>...</td>\n",
       "      <td>...</td>\n",
       "      <td>...</td>\n",
       "      <td>...</td>\n",
       "      <td>...</td>\n",
       "      <td>...</td>\n",
       "      <td>...</td>\n",
       "      <td>...</td>\n",
       "      <td>...</td>\n",
       "      <td>...</td>\n",
       "      <td>...</td>\n",
       "      <td>...</td>\n",
       "      <td>...</td>\n",
       "      <td>...</td>\n",
       "      <td>...</td>\n",
       "      <td>...</td>\n",
       "      <td>...</td>\n",
       "      <td>...</td>\n",
       "    </tr>\n",
       "    <tr>\n",
       "      <th>8927</th>\n",
       "      <td>10628</td>\n",
       "      <td>Kirichu Market Medical Clinic</td>\n",
       "      <td>None</td>\n",
       "      <td>Level 2</td>\n",
       "      <td>Dispensaries and clinic-out patient only</td>\n",
       "      <td>Private Practice - Nurse / Midwifery</td>\n",
       "      <td>Nursing Council of Kenya (Private Practice)</td>\n",
       "      <td>0</td>\n",
       "      <td>0</td>\n",
       "      <td>NYERI</td>\n",
       "      <td>...</td>\n",
       "      <td>KIGANJO/MATHARI</td>\n",
       "      <td>Operational</td>\n",
       "      <td>No</td>\n",
       "      <td>No</td>\n",
       "      <td>No</td>\n",
       "      <td>No</td>\n",
       "      <td>NaN</td>\n",
       "      <td>Yes</td>\n",
       "      <td>Yes</td>\n",
       "      <td>No</td>\n",
       "    </tr>\n",
       "    <tr>\n",
       "      <th>8928</th>\n",
       "      <td>10185</td>\n",
       "      <td>Fr Baldo Cath Disp</td>\n",
       "      <td>None</td>\n",
       "      <td>Level 2</td>\n",
       "      <td>Dispensaries and clinic-out patient only</td>\n",
       "      <td>Kenya Episcopal Conference-Catholic Secretariat</td>\n",
       "      <td>Kenya MPDB - Private Practice</td>\n",
       "      <td>0</td>\n",
       "      <td>0</td>\n",
       "      <td>NYANDARUA</td>\n",
       "      <td>...</td>\n",
       "      <td>KARAU</td>\n",
       "      <td>Operational</td>\n",
       "      <td>No</td>\n",
       "      <td>No</td>\n",
       "      <td>No</td>\n",
       "      <td>No</td>\n",
       "      <td>NaN</td>\n",
       "      <td>Yes</td>\n",
       "      <td>Yes</td>\n",
       "      <td>No</td>\n",
       "    </tr>\n",
       "    <tr>\n",
       "      <th>8929</th>\n",
       "      <td>11867</td>\n",
       "      <td>Ukunda Diani Catholic Dispensary</td>\n",
       "      <td>None</td>\n",
       "      <td>Level 2</td>\n",
       "      <td>Dispensaries and clinic-out patient only</td>\n",
       "      <td>Kenya Episcopal Conference-Catholic Secretariat</td>\n",
       "      <td>Kenya MPDB - Institution</td>\n",
       "      <td>0</td>\n",
       "      <td>0</td>\n",
       "      <td>KWALE</td>\n",
       "      <td>...</td>\n",
       "      <td>GAMBATO BONGWE</td>\n",
       "      <td>Operational</td>\n",
       "      <td>No</td>\n",
       "      <td>No</td>\n",
       "      <td>No</td>\n",
       "      <td>No</td>\n",
       "      <td>NaN</td>\n",
       "      <td>Yes</td>\n",
       "      <td>Yes</td>\n",
       "      <td>No</td>\n",
       "    </tr>\n",
       "    <tr>\n",
       "      <th>8930</th>\n",
       "      <td>10320</td>\n",
       "      <td>Holy Family Dispensary</td>\n",
       "      <td>None</td>\n",
       "      <td>Level 2</td>\n",
       "      <td>Dispensaries and clinic-out patient only</td>\n",
       "      <td>Kenya Episcopal Conference-Catholic Secretariat</td>\n",
       "      <td>Kenya MPDB - Institution</td>\n",
       "      <td>0</td>\n",
       "      <td>0</td>\n",
       "      <td>NYANDARUA</td>\n",
       "      <td>...</td>\n",
       "      <td>CENTRAL</td>\n",
       "      <td>Operational</td>\n",
       "      <td>No</td>\n",
       "      <td>No</td>\n",
       "      <td>No</td>\n",
       "      <td>No</td>\n",
       "      <td>NaN</td>\n",
       "      <td>Yes</td>\n",
       "      <td>Yes</td>\n",
       "      <td>No</td>\n",
       "    </tr>\n",
       "    <tr>\n",
       "      <th>8931</th>\n",
       "      <td>16500</td>\n",
       "      <td>Genesis Community Bamako Initiative</td>\n",
       "      <td>None</td>\n",
       "      <td>Level 2</td>\n",
       "      <td>Basic primary health care facility</td>\n",
       "      <td>Non-Governmental Organizations</td>\n",
       "      <td>Kenya MPDB - Institution</td>\n",
       "      <td>0</td>\n",
       "      <td>0</td>\n",
       "      <td>KIRINYAGA</td>\n",
       "      <td>...</td>\n",
       "      <td>MUTIRA</td>\n",
       "      <td>Operational</td>\n",
       "      <td>No</td>\n",
       "      <td>No</td>\n",
       "      <td>No</td>\n",
       "      <td>No</td>\n",
       "      <td>NaN</td>\n",
       "      <td>Yes</td>\n",
       "      <td>Yes</td>\n",
       "      <td>No</td>\n",
       "    </tr>\n",
       "  </tbody>\n",
       "</table>\n",
       "<p>8932 rows × 22 columns</p>\n",
       "</div>"
      ],
      "text/plain": [
       "       Code                                 Name Registration_number  \\\n",
       "0     22998                  Kaka Medical Clinic                None   \n",
       "1     22985                   KOPANGA DISPENSARY                None   \n",
       "2     22977              Fairview Medical Centre                None   \n",
       "3     22976     RADIANT GROUP OF HOSPITALS-UMOJA                None   \n",
       "4     22971                Songot Medical Clinic                None   \n",
       "...     ...                                  ...                 ...   \n",
       "8927  10628        Kirichu Market Medical Clinic                None   \n",
       "8928  10185                   Fr Baldo Cath Disp                None   \n",
       "8929  11867     Ukunda Diani Catholic Dispensary                None   \n",
       "8930  10320               Holy Family Dispensary                None   \n",
       "8931  16500  Genesis Community Bamako Initiative                None   \n",
       "\n",
       "     Keph level                             Facility type  \\\n",
       "0       Level 2  Dispensaries and clinic-out patient only   \n",
       "1       Level 2        Basic primary health care facility   \n",
       "2       Level 2                  Secondary care hospitals   \n",
       "3       Level 3                  Secondary care hospitals   \n",
       "4       Level 2        Basic primary health care facility   \n",
       "...         ...                                       ...   \n",
       "8927    Level 2  Dispensaries and clinic-out patient only   \n",
       "8928    Level 2  Dispensaries and clinic-out patient only   \n",
       "8929    Level 2  Dispensaries and clinic-out patient only   \n",
       "8930    Level 2  Dispensaries and clinic-out patient only   \n",
       "8931    Level 2        Basic primary health care facility   \n",
       "\n",
       "                                                Owner  \\\n",
       "0               Private Practice - Medical Specialist   \n",
       "1                                  Ministry of Health   \n",
       "2                      Private Practice - Unspecified   \n",
       "3                      Private Practice - Unspecified   \n",
       "4                Private Practice - Nurse / Midwifery   \n",
       "...                                               ...   \n",
       "8927             Private Practice - Nurse / Midwifery   \n",
       "8928  Kenya Episcopal Conference-Catholic Secretariat   \n",
       "8929  Kenya Episcopal Conference-Catholic Secretariat   \n",
       "8930  Kenya Episcopal Conference-Catholic Secretariat   \n",
       "8931                   Non-Governmental Organizations   \n",
       "\n",
       "                                  Regulatory body  Beds  Cots     County  ...  \\\n",
       "0                                            None     0     0   KAKAMEGA  ...   \n",
       "1                                            None     2     1     MIGORI  ...   \n",
       "2     Nursing Council of Kenya (Private Practice)     4     0    NAIROBI  ...   \n",
       "3                   Kenya MPDB - Private Practice    34     0    NAIROBI  ...   \n",
       "4                                            None     0     0    TURKANA  ...   \n",
       "...                                           ...   ...   ...        ...  ...   \n",
       "8927  Nursing Council of Kenya (Private Practice)     0     0      NYERI  ...   \n",
       "8928                Kenya MPDB - Private Practice     0     0  NYANDARUA  ...   \n",
       "8929                     Kenya MPDB - Institution     0     0      KWALE  ...   \n",
       "8930                     Kenya MPDB - Institution     0     0  NYANDARUA  ...   \n",
       "8931                     Kenya MPDB - Institution     0     0  KIRINYAGA  ...   \n",
       "\n",
       "                 Ward Operation status Open_whole_day Open_public_holidays  \\\n",
       "0              SHEYWE      Operational             No                   No   \n",
       "1           WASIMBETE      Operational             No                   No   \n",
       "2        KAYOLE SOUTH      Operational             No                   No   \n",
       "3            UMOJA II      Operational            Yes                  Yes   \n",
       "4         LOKICHOGGIO      Operational             No                   No   \n",
       "...               ...              ...            ...                  ...   \n",
       "8927  KIGANJO/MATHARI      Operational             No                   No   \n",
       "8928            KARAU      Operational             No                   No   \n",
       "8929   GAMBATO BONGWE      Operational             No                   No   \n",
       "8930          CENTRAL      Operational             No                   No   \n",
       "8931           MUTIRA      Operational             No                   No   \n",
       "\n",
       "     Open_weekends Open_late_night Service_names Approved  Public visible  \\\n",
       "0               No              No           NaN      Yes             Yes   \n",
       "1               No              No           NaN      Yes             Yes   \n",
       "2              Yes              No           NaN      Yes             Yes   \n",
       "3              Yes             Yes           NaN      Yes             Yes   \n",
       "4               No              No           NaN      Yes             Yes   \n",
       "...            ...             ...           ...      ...             ...   \n",
       "8927            No              No           NaN      Yes             Yes   \n",
       "8928            No              No           NaN      Yes             Yes   \n",
       "8929            No              No           NaN      Yes             Yes   \n",
       "8930            No              No           NaN      Yes             Yes   \n",
       "8931            No              No           NaN      Yes             Yes   \n",
       "\n",
       "     Closed  \n",
       "0        No  \n",
       "1        No  \n",
       "2        No  \n",
       "3        No  \n",
       "4        No  \n",
       "...     ...  \n",
       "8927     No  \n",
       "8928     No  \n",
       "8929     No  \n",
       "8930     No  \n",
       "8931     No  \n",
       "\n",
       "[8932 rows x 22 columns]"
      ]
     },
     "execution_count": 168,
     "metadata": {},
     "output_type": "execute_result"
    }
   ],
   "source": [
    "df_facilities = pd.read_excel(\"kenya-health-facilities-2017.xlsx\")\n",
    "df_facilities "
   ]
  },
  {
   "cell_type": "code",
   "execution_count": 169,
   "metadata": {},
   "outputs": [
    {
     "name": "stdout",
     "output_type": "stream",
     "text": [
      "<class 'pandas.core.frame.DataFrame'>\n",
      "RangeIndex: 8932 entries, 0 to 8931\n",
      "Data columns (total 22 columns):\n",
      " #   Column                Non-Null Count  Dtype  \n",
      "---  ------                --------------  -----  \n",
      " 0   Code                  8932 non-null   int64  \n",
      " 1   Name                  8932 non-null   object \n",
      " 2   Registration_number   8930 non-null   object \n",
      " 3   Keph level            8932 non-null   object \n",
      " 4   Facility type         8932 non-null   object \n",
      " 5   Owner                 8932 non-null   object \n",
      " 6   Regulatory body       8932 non-null   object \n",
      " 7   Beds                  8932 non-null   int64  \n",
      " 8   Cots                  8932 non-null   int64  \n",
      " 9   County                8932 non-null   object \n",
      " 10  Constituency          8932 non-null   object \n",
      " 11  Sub county            8932 non-null   object \n",
      " 12  Ward                  8932 non-null   object \n",
      " 13  Operation status      8932 non-null   object \n",
      " 14  Open_whole_day        8932 non-null   object \n",
      " 15  Open_public_holidays  8932 non-null   object \n",
      " 16  Open_weekends         8932 non-null   object \n",
      " 17  Open_late_night       8932 non-null   object \n",
      " 18  Service_names         0 non-null      float64\n",
      " 19  Approved              8932 non-null   object \n",
      " 20  Public visible        8932 non-null   object \n",
      " 21  Closed                8932 non-null   object \n",
      "dtypes: float64(1), int64(3), object(18)\n",
      "memory usage: 1.5+ MB\n"
     ]
    }
   ],
   "source": [
    "# DERIVING INFORMATION \n",
    "df_facilities.info()"
   ]
  },
  {
   "cell_type": "code",
   "execution_count": 170,
   "metadata": {},
   "outputs": [
    {
     "data": {
      "text/html": [
       "<div>\n",
       "<style scoped>\n",
       "    .dataframe tbody tr th:only-of-type {\n",
       "        vertical-align: middle;\n",
       "    }\n",
       "\n",
       "    .dataframe tbody tr th {\n",
       "        vertical-align: top;\n",
       "    }\n",
       "\n",
       "    .dataframe thead th {\n",
       "        text-align: right;\n",
       "    }\n",
       "</style>\n",
       "<table border=\"1\" class=\"dataframe\">\n",
       "  <thead>\n",
       "    <tr style=\"text-align: right;\">\n",
       "      <th></th>\n",
       "      <th>Code</th>\n",
       "      <th>Beds</th>\n",
       "      <th>Cots</th>\n",
       "      <th>Service_names</th>\n",
       "    </tr>\n",
       "  </thead>\n",
       "  <tbody>\n",
       "    <tr>\n",
       "      <th>count</th>\n",
       "      <td>8932.000000</td>\n",
       "      <td>8932.000000</td>\n",
       "      <td>8932.000000</td>\n",
       "      <td>0.0</td>\n",
       "    </tr>\n",
       "    <tr>\n",
       "      <th>mean</th>\n",
       "      <td>16030.920958</td>\n",
       "      <td>6.094828</td>\n",
       "      <td>0.713726</td>\n",
       "      <td>NaN</td>\n",
       "    </tr>\n",
       "    <tr>\n",
       "      <th>std</th>\n",
       "      <td>3489.301803</td>\n",
       "      <td>31.561165</td>\n",
       "      <td>6.121864</td>\n",
       "      <td>NaN</td>\n",
       "    </tr>\n",
       "    <tr>\n",
       "      <th>min</th>\n",
       "      <td>10001.000000</td>\n",
       "      <td>0.000000</td>\n",
       "      <td>0.000000</td>\n",
       "      <td>NaN</td>\n",
       "    </tr>\n",
       "    <tr>\n",
       "      <th>25%</th>\n",
       "      <td>13110.750000</td>\n",
       "      <td>0.000000</td>\n",
       "      <td>0.000000</td>\n",
       "      <td>NaN</td>\n",
       "    </tr>\n",
       "    <tr>\n",
       "      <th>50%</th>\n",
       "      <td>15769.500000</td>\n",
       "      <td>0.000000</td>\n",
       "      <td>0.000000</td>\n",
       "      <td>NaN</td>\n",
       "    </tr>\n",
       "    <tr>\n",
       "      <th>75%</th>\n",
       "      <td>18904.000000</td>\n",
       "      <td>2.000000</td>\n",
       "      <td>0.000000</td>\n",
       "      <td>NaN</td>\n",
       "    </tr>\n",
       "    <tr>\n",
       "      <th>max</th>\n",
       "      <td>22998.000000</td>\n",
       "      <td>1455.000000</td>\n",
       "      <td>427.000000</td>\n",
       "      <td>NaN</td>\n",
       "    </tr>\n",
       "  </tbody>\n",
       "</table>\n",
       "</div>"
      ],
      "text/plain": [
       "               Code         Beds         Cots  Service_names\n",
       "count   8932.000000  8932.000000  8932.000000            0.0\n",
       "mean   16030.920958     6.094828     0.713726            NaN\n",
       "std     3489.301803    31.561165     6.121864            NaN\n",
       "min    10001.000000     0.000000     0.000000            NaN\n",
       "25%    13110.750000     0.000000     0.000000            NaN\n",
       "50%    15769.500000     0.000000     0.000000            NaN\n",
       "75%    18904.000000     2.000000     0.000000            NaN\n",
       "max    22998.000000  1455.000000   427.000000            NaN"
      ]
     },
     "execution_count": 170,
     "metadata": {},
     "output_type": "execute_result"
    }
   ],
   "source": [
    "# STATS\n",
    "df_facilities.describe()"
   ]
  },
  {
   "cell_type": "markdown",
   "metadata": {},
   "source": [
    "- This Dataset contains all health facilities and community units in Kenya. Each health facility and community unit is identified with unique code and their details describing the geographical location, administrative location, ownership, type and the services offered. From the information and stats, there are 8932 health facilities in the Country "
   ]
  },
  {
   "cell_type": "markdown",
   "metadata": {},
   "source": [
    "# CHRONIC KIDNEY DISEASE DETECTION PREDICTION SYSTEM\n",
    "\n",
    "# INTODUCTION\n",
    "- Chronic kidney disease (CKD), also known as chronic kidney failure, means a gradual loss of kidney function over time leading to renal failure.At times it is difficult to identify the accurate effects of the disease as there are limited diagnostic tests to show its existence.\n",
    "\n",
    "- In this notebooke we will use the dataset that will create a model that predicts if one has a Chronic Kidney Disease based on the various health parameters that can help us identify the diagnosis."
   ]
  },
  {
   "cell_type": "code",
   "execution_count": 171,
   "metadata": {},
   "outputs": [
    {
     "data": {
      "text/html": [
       "<div>\n",
       "<style scoped>\n",
       "    .dataframe tbody tr th:only-of-type {\n",
       "        vertical-align: middle;\n",
       "    }\n",
       "\n",
       "    .dataframe tbody tr th {\n",
       "        vertical-align: top;\n",
       "    }\n",
       "\n",
       "    .dataframe thead th {\n",
       "        text-align: right;\n",
       "    }\n",
       "</style>\n",
       "<table border=\"1\" class=\"dataframe\">\n",
       "  <thead>\n",
       "    <tr style=\"text-align: right;\">\n",
       "      <th></th>\n",
       "      <th>HOSPITAL NAME</th>\n",
       "      <th>NHIF BRANCH</th>\n",
       "      <th>COUNTY</th>\n",
       "    </tr>\n",
       "  </thead>\n",
       "  <tbody>\n",
       "    <tr>\n",
       "      <th>0</th>\n",
       "      <td>Africare Dialysis Centre</td>\n",
       "      <td>Ruaraka</td>\n",
       "      <td>Nairobi</td>\n",
       "    </tr>\n",
       "    <tr>\n",
       "      <th>1</th>\n",
       "      <td>Africare Limited</td>\n",
       "      <td>Westlands</td>\n",
       "      <td>Nairobi</td>\n",
       "    </tr>\n",
       "    <tr>\n",
       "      <th>2</th>\n",
       "      <td>Aga Khan Hospital</td>\n",
       "      <td>Mombasa</td>\n",
       "      <td>Mombasa</td>\n",
       "    </tr>\n",
       "    <tr>\n",
       "      <th>3</th>\n",
       "      <td>Aga Khan Hospital Nairobi</td>\n",
       "      <td>Westlands</td>\n",
       "      <td>Nairobi</td>\n",
       "    </tr>\n",
       "    <tr>\n",
       "      <th>4</th>\n",
       "      <td>Alliance Medical Centre</td>\n",
       "      <td>Eastleigh</td>\n",
       "      <td>Nairobi</td>\n",
       "    </tr>\n",
       "    <tr>\n",
       "      <th>...</th>\n",
       "      <td>...</td>\n",
       "      <td>...</td>\n",
       "      <td>...</td>\n",
       "    </tr>\n",
       "    <tr>\n",
       "      <th>63</th>\n",
       "      <td>The Karen Hospital</td>\n",
       "      <td>Ongata Rongai</td>\n",
       "      <td>Kajiado</td>\n",
       "    </tr>\n",
       "    <tr>\n",
       "      <th>64</th>\n",
       "      <td>The Mater Hospital</td>\n",
       "      <td>Industrial Area</td>\n",
       "      <td>Nairobi</td>\n",
       "    </tr>\n",
       "    <tr>\n",
       "      <th>65</th>\n",
       "      <td>The Nairobi Hospital</td>\n",
       "      <td>Nairobi</td>\n",
       "      <td>Nairobi</td>\n",
       "    </tr>\n",
       "    <tr>\n",
       "      <th>66</th>\n",
       "      <td>The Nairobi South Hospital</td>\n",
       "      <td>Industrial Area</td>\n",
       "      <td>Nairobi</td>\n",
       "    </tr>\n",
       "    <tr>\n",
       "      <th>67</th>\n",
       "      <td>Thika Level V Hospital</td>\n",
       "      <td>Thika</td>\n",
       "      <td>Kiambu</td>\n",
       "    </tr>\n",
       "  </tbody>\n",
       "</table>\n",
       "<p>68 rows × 3 columns</p>\n",
       "</div>"
      ],
      "text/plain": [
       "                 HOSPITAL NAME      NHIF BRANCH   COUNTY\n",
       "0     Africare Dialysis Centre          Ruaraka  Nairobi\n",
       "1             Africare Limited        Westlands  Nairobi\n",
       "2            Aga Khan Hospital          Mombasa  Mombasa\n",
       "3    Aga Khan Hospital Nairobi        Westlands  Nairobi\n",
       "4      Alliance Medical Centre        Eastleigh  Nairobi\n",
       "..                         ...              ...      ...\n",
       "63          The Karen Hospital    Ongata Rongai  Kajiado\n",
       "64          The Mater Hospital  Industrial Area  Nairobi\n",
       "65        The Nairobi Hospital          Nairobi  Nairobi\n",
       "66  The Nairobi South Hospital  Industrial Area  Nairobi\n",
       "67      Thika Level V Hospital            Thika   Kiambu\n",
       "\n",
       "[68 rows x 3 columns]"
      ]
     },
     "execution_count": 171,
     "metadata": {},
     "output_type": "execute_result"
    }
   ],
   "source": [
    "df"
   ]
  },
  {
   "cell_type": "code",
   "execution_count": 172,
   "metadata": {},
   "outputs": [],
   "source": [
    "#IMPORT IMPORTANT LIBRARIES\n",
    "\n",
    "import numpy as np \n",
    "import pandas as pd \n",
    "from IPython.display import HTML\n",
    "from pandas_profiling import ProfileReport\n",
    "import matplotlib.pyplot as plt\n",
    "import plotly.express as px"
   ]
  },
  {
   "cell_type": "code",
   "execution_count": 173,
   "metadata": {},
   "outputs": [
    {
     "data": {
      "text/html": [
       "<div>\n",
       "<style scoped>\n",
       "    .dataframe tbody tr th:only-of-type {\n",
       "        vertical-align: middle;\n",
       "    }\n",
       "\n",
       "    .dataframe tbody tr th {\n",
       "        vertical-align: top;\n",
       "    }\n",
       "\n",
       "    .dataframe thead th {\n",
       "        text-align: right;\n",
       "    }\n",
       "</style>\n",
       "<table border=\"1\" class=\"dataframe\">\n",
       "  <thead>\n",
       "    <tr style=\"text-align: right;\">\n",
       "      <th></th>\n",
       "      <th>id</th>\n",
       "      <th>age</th>\n",
       "      <th>bp</th>\n",
       "      <th>sg</th>\n",
       "      <th>al</th>\n",
       "      <th>su</th>\n",
       "      <th>rbc</th>\n",
       "      <th>pc</th>\n",
       "      <th>pcc</th>\n",
       "      <th>ba</th>\n",
       "      <th>...</th>\n",
       "      <th>pcv</th>\n",
       "      <th>wc</th>\n",
       "      <th>rc</th>\n",
       "      <th>htn</th>\n",
       "      <th>dm</th>\n",
       "      <th>cad</th>\n",
       "      <th>appet</th>\n",
       "      <th>pe</th>\n",
       "      <th>ane</th>\n",
       "      <th>classification</th>\n",
       "    </tr>\n",
       "  </thead>\n",
       "  <tbody>\n",
       "    <tr>\n",
       "      <th>0</th>\n",
       "      <td>0</td>\n",
       "      <td>48.0</td>\n",
       "      <td>80.0</td>\n",
       "      <td>1.020</td>\n",
       "      <td>1.0</td>\n",
       "      <td>0.0</td>\n",
       "      <td>NaN</td>\n",
       "      <td>normal</td>\n",
       "      <td>notpresent</td>\n",
       "      <td>notpresent</td>\n",
       "      <td>...</td>\n",
       "      <td>44</td>\n",
       "      <td>7800</td>\n",
       "      <td>5.2</td>\n",
       "      <td>yes</td>\n",
       "      <td>yes</td>\n",
       "      <td>no</td>\n",
       "      <td>good</td>\n",
       "      <td>no</td>\n",
       "      <td>no</td>\n",
       "      <td>ckd</td>\n",
       "    </tr>\n",
       "    <tr>\n",
       "      <th>1</th>\n",
       "      <td>1</td>\n",
       "      <td>7.0</td>\n",
       "      <td>50.0</td>\n",
       "      <td>1.020</td>\n",
       "      <td>4.0</td>\n",
       "      <td>0.0</td>\n",
       "      <td>NaN</td>\n",
       "      <td>normal</td>\n",
       "      <td>notpresent</td>\n",
       "      <td>notpresent</td>\n",
       "      <td>...</td>\n",
       "      <td>38</td>\n",
       "      <td>6000</td>\n",
       "      <td>NaN</td>\n",
       "      <td>no</td>\n",
       "      <td>no</td>\n",
       "      <td>no</td>\n",
       "      <td>good</td>\n",
       "      <td>no</td>\n",
       "      <td>no</td>\n",
       "      <td>ckd</td>\n",
       "    </tr>\n",
       "    <tr>\n",
       "      <th>2</th>\n",
       "      <td>2</td>\n",
       "      <td>62.0</td>\n",
       "      <td>80.0</td>\n",
       "      <td>1.010</td>\n",
       "      <td>2.0</td>\n",
       "      <td>3.0</td>\n",
       "      <td>normal</td>\n",
       "      <td>normal</td>\n",
       "      <td>notpresent</td>\n",
       "      <td>notpresent</td>\n",
       "      <td>...</td>\n",
       "      <td>31</td>\n",
       "      <td>7500</td>\n",
       "      <td>NaN</td>\n",
       "      <td>no</td>\n",
       "      <td>yes</td>\n",
       "      <td>no</td>\n",
       "      <td>poor</td>\n",
       "      <td>no</td>\n",
       "      <td>yes</td>\n",
       "      <td>ckd</td>\n",
       "    </tr>\n",
       "    <tr>\n",
       "      <th>3</th>\n",
       "      <td>3</td>\n",
       "      <td>48.0</td>\n",
       "      <td>70.0</td>\n",
       "      <td>1.005</td>\n",
       "      <td>4.0</td>\n",
       "      <td>0.0</td>\n",
       "      <td>normal</td>\n",
       "      <td>abnormal</td>\n",
       "      <td>present</td>\n",
       "      <td>notpresent</td>\n",
       "      <td>...</td>\n",
       "      <td>32</td>\n",
       "      <td>6700</td>\n",
       "      <td>3.9</td>\n",
       "      <td>yes</td>\n",
       "      <td>no</td>\n",
       "      <td>no</td>\n",
       "      <td>poor</td>\n",
       "      <td>yes</td>\n",
       "      <td>yes</td>\n",
       "      <td>ckd</td>\n",
       "    </tr>\n",
       "    <tr>\n",
       "      <th>4</th>\n",
       "      <td>4</td>\n",
       "      <td>51.0</td>\n",
       "      <td>80.0</td>\n",
       "      <td>1.010</td>\n",
       "      <td>2.0</td>\n",
       "      <td>0.0</td>\n",
       "      <td>normal</td>\n",
       "      <td>normal</td>\n",
       "      <td>notpresent</td>\n",
       "      <td>notpresent</td>\n",
       "      <td>...</td>\n",
       "      <td>35</td>\n",
       "      <td>7300</td>\n",
       "      <td>4.6</td>\n",
       "      <td>no</td>\n",
       "      <td>no</td>\n",
       "      <td>no</td>\n",
       "      <td>good</td>\n",
       "      <td>no</td>\n",
       "      <td>no</td>\n",
       "      <td>ckd</td>\n",
       "    </tr>\n",
       "    <tr>\n",
       "      <th>...</th>\n",
       "      <td>...</td>\n",
       "      <td>...</td>\n",
       "      <td>...</td>\n",
       "      <td>...</td>\n",
       "      <td>...</td>\n",
       "      <td>...</td>\n",
       "      <td>...</td>\n",
       "      <td>...</td>\n",
       "      <td>...</td>\n",
       "      <td>...</td>\n",
       "      <td>...</td>\n",
       "      <td>...</td>\n",
       "      <td>...</td>\n",
       "      <td>...</td>\n",
       "      <td>...</td>\n",
       "      <td>...</td>\n",
       "      <td>...</td>\n",
       "      <td>...</td>\n",
       "      <td>...</td>\n",
       "      <td>...</td>\n",
       "      <td>...</td>\n",
       "    </tr>\n",
       "    <tr>\n",
       "      <th>395</th>\n",
       "      <td>395</td>\n",
       "      <td>55.0</td>\n",
       "      <td>80.0</td>\n",
       "      <td>1.020</td>\n",
       "      <td>0.0</td>\n",
       "      <td>0.0</td>\n",
       "      <td>normal</td>\n",
       "      <td>normal</td>\n",
       "      <td>notpresent</td>\n",
       "      <td>notpresent</td>\n",
       "      <td>...</td>\n",
       "      <td>47</td>\n",
       "      <td>6700</td>\n",
       "      <td>4.9</td>\n",
       "      <td>no</td>\n",
       "      <td>no</td>\n",
       "      <td>no</td>\n",
       "      <td>good</td>\n",
       "      <td>no</td>\n",
       "      <td>no</td>\n",
       "      <td>notckd</td>\n",
       "    </tr>\n",
       "    <tr>\n",
       "      <th>396</th>\n",
       "      <td>396</td>\n",
       "      <td>42.0</td>\n",
       "      <td>70.0</td>\n",
       "      <td>1.025</td>\n",
       "      <td>0.0</td>\n",
       "      <td>0.0</td>\n",
       "      <td>normal</td>\n",
       "      <td>normal</td>\n",
       "      <td>notpresent</td>\n",
       "      <td>notpresent</td>\n",
       "      <td>...</td>\n",
       "      <td>54</td>\n",
       "      <td>7800</td>\n",
       "      <td>6.2</td>\n",
       "      <td>no</td>\n",
       "      <td>no</td>\n",
       "      <td>no</td>\n",
       "      <td>good</td>\n",
       "      <td>no</td>\n",
       "      <td>no</td>\n",
       "      <td>notckd</td>\n",
       "    </tr>\n",
       "    <tr>\n",
       "      <th>397</th>\n",
       "      <td>397</td>\n",
       "      <td>12.0</td>\n",
       "      <td>80.0</td>\n",
       "      <td>1.020</td>\n",
       "      <td>0.0</td>\n",
       "      <td>0.0</td>\n",
       "      <td>normal</td>\n",
       "      <td>normal</td>\n",
       "      <td>notpresent</td>\n",
       "      <td>notpresent</td>\n",
       "      <td>...</td>\n",
       "      <td>49</td>\n",
       "      <td>6600</td>\n",
       "      <td>5.4</td>\n",
       "      <td>no</td>\n",
       "      <td>no</td>\n",
       "      <td>no</td>\n",
       "      <td>good</td>\n",
       "      <td>no</td>\n",
       "      <td>no</td>\n",
       "      <td>notckd</td>\n",
       "    </tr>\n",
       "    <tr>\n",
       "      <th>398</th>\n",
       "      <td>398</td>\n",
       "      <td>17.0</td>\n",
       "      <td>60.0</td>\n",
       "      <td>1.025</td>\n",
       "      <td>0.0</td>\n",
       "      <td>0.0</td>\n",
       "      <td>normal</td>\n",
       "      <td>normal</td>\n",
       "      <td>notpresent</td>\n",
       "      <td>notpresent</td>\n",
       "      <td>...</td>\n",
       "      <td>51</td>\n",
       "      <td>7200</td>\n",
       "      <td>5.9</td>\n",
       "      <td>no</td>\n",
       "      <td>no</td>\n",
       "      <td>no</td>\n",
       "      <td>good</td>\n",
       "      <td>no</td>\n",
       "      <td>no</td>\n",
       "      <td>notckd</td>\n",
       "    </tr>\n",
       "    <tr>\n",
       "      <th>399</th>\n",
       "      <td>399</td>\n",
       "      <td>58.0</td>\n",
       "      <td>80.0</td>\n",
       "      <td>1.025</td>\n",
       "      <td>0.0</td>\n",
       "      <td>0.0</td>\n",
       "      <td>normal</td>\n",
       "      <td>normal</td>\n",
       "      <td>notpresent</td>\n",
       "      <td>notpresent</td>\n",
       "      <td>...</td>\n",
       "      <td>53</td>\n",
       "      <td>6800</td>\n",
       "      <td>6.1</td>\n",
       "      <td>no</td>\n",
       "      <td>no</td>\n",
       "      <td>no</td>\n",
       "      <td>good</td>\n",
       "      <td>no</td>\n",
       "      <td>no</td>\n",
       "      <td>notckd</td>\n",
       "    </tr>\n",
       "  </tbody>\n",
       "</table>\n",
       "<p>400 rows × 26 columns</p>\n",
       "</div>"
      ],
      "text/plain": [
       "      id   age    bp     sg   al   su     rbc        pc         pcc  \\\n",
       "0      0  48.0  80.0  1.020  1.0  0.0     NaN    normal  notpresent   \n",
       "1      1   7.0  50.0  1.020  4.0  0.0     NaN    normal  notpresent   \n",
       "2      2  62.0  80.0  1.010  2.0  3.0  normal    normal  notpresent   \n",
       "3      3  48.0  70.0  1.005  4.0  0.0  normal  abnormal     present   \n",
       "4      4  51.0  80.0  1.010  2.0  0.0  normal    normal  notpresent   \n",
       "..   ...   ...   ...    ...  ...  ...     ...       ...         ...   \n",
       "395  395  55.0  80.0  1.020  0.0  0.0  normal    normal  notpresent   \n",
       "396  396  42.0  70.0  1.025  0.0  0.0  normal    normal  notpresent   \n",
       "397  397  12.0  80.0  1.020  0.0  0.0  normal    normal  notpresent   \n",
       "398  398  17.0  60.0  1.025  0.0  0.0  normal    normal  notpresent   \n",
       "399  399  58.0  80.0  1.025  0.0  0.0  normal    normal  notpresent   \n",
       "\n",
       "             ba  ...  pcv    wc   rc  htn   dm  cad appet   pe  ane  \\\n",
       "0    notpresent  ...   44  7800  5.2  yes  yes   no  good   no   no   \n",
       "1    notpresent  ...   38  6000  NaN   no   no   no  good   no   no   \n",
       "2    notpresent  ...   31  7500  NaN   no  yes   no  poor   no  yes   \n",
       "3    notpresent  ...   32  6700  3.9  yes   no   no  poor  yes  yes   \n",
       "4    notpresent  ...   35  7300  4.6   no   no   no  good   no   no   \n",
       "..          ...  ...  ...   ...  ...  ...  ...  ...   ...  ...  ...   \n",
       "395  notpresent  ...   47  6700  4.9   no   no   no  good   no   no   \n",
       "396  notpresent  ...   54  7800  6.2   no   no   no  good   no   no   \n",
       "397  notpresent  ...   49  6600  5.4   no   no   no  good   no   no   \n",
       "398  notpresent  ...   51  7200  5.9   no   no   no  good   no   no   \n",
       "399  notpresent  ...   53  6800  6.1   no   no   no  good   no   no   \n",
       "\n",
       "    classification  \n",
       "0              ckd  \n",
       "1              ckd  \n",
       "2              ckd  \n",
       "3              ckd  \n",
       "4              ckd  \n",
       "..             ...  \n",
       "395         notckd  \n",
       "396         notckd  \n",
       "397         notckd  \n",
       "398         notckd  \n",
       "399         notckd  \n",
       "\n",
       "[400 rows x 26 columns]"
      ]
     },
     "execution_count": 173,
     "metadata": {},
     "output_type": "execute_result"
    }
   ],
   "source": [
    "#IMPORT DATASET\n",
    "\n",
    "kidney = pd.read_csv(\"kidney_disease.csv\")\n",
    "kidney"
   ]
  },
  {
   "cell_type": "markdown",
   "metadata": {},
   "source": [
    "- DATA DICTIONARY\n",
    "\n",
    "1. age - age\n",
    "2. bp - blood pressure\n",
    "3. sg - specific gravity\n",
    "4. al - albumin\n",
    "5. su - sugar\n",
    "6. rbc - red blood cells\n",
    "7. pc - pus cell\n",
    "8. pcc - pus cell clumps\n",
    "7. ba - bacteria\n",
    "8. bgr - blood glucose random\n",
    "9. bu - blood urea\n",
    "10. sc - serum creatinine\n",
    "11. sod - sodium\n",
    "12. pot - potassium\n",
    "13. hemo - hemoglobin\n",
    "14. pcv - packed cell volume\n",
    "15. wc - white blood cell count\n",
    "16. rc - red blood cell count\n",
    "17. htn - hypertension\n",
    "18. dm - diabetes mellitus\n",
    "19. cad - coronary artery disease\n",
    "20. appet - appetite\n",
    "21. pe - pedal edema\n",
    "22. ane - anemia\n",
    "23. classification - class\n"
   ]
  },
  {
   "cell_type": "code",
   "execution_count": 174,
   "metadata": {},
   "outputs": [
    {
     "name": "stdout",
     "output_type": "stream",
     "text": [
      "<class 'pandas.core.frame.DataFrame'>\n",
      "RangeIndex: 400 entries, 0 to 399\n",
      "Data columns (total 26 columns):\n",
      " #   Column          Non-Null Count  Dtype  \n",
      "---  ------          --------------  -----  \n",
      " 0   id              400 non-null    int64  \n",
      " 1   age             391 non-null    float64\n",
      " 2   bp              388 non-null    float64\n",
      " 3   sg              353 non-null    float64\n",
      " 4   al              354 non-null    float64\n",
      " 5   su              351 non-null    float64\n",
      " 6   rbc             248 non-null    object \n",
      " 7   pc              335 non-null    object \n",
      " 8   pcc             396 non-null    object \n",
      " 9   ba              396 non-null    object \n",
      " 10  bgr             356 non-null    float64\n",
      " 11  bu              381 non-null    float64\n",
      " 12  sc              383 non-null    float64\n",
      " 13  sod             313 non-null    float64\n",
      " 14  pot             312 non-null    float64\n",
      " 15  hemo            348 non-null    float64\n",
      " 16  pcv             330 non-null    object \n",
      " 17  wc              295 non-null    object \n",
      " 18  rc              270 non-null    object \n",
      " 19  htn             398 non-null    object \n",
      " 20  dm              398 non-null    object \n",
      " 21  cad             398 non-null    object \n",
      " 22  appet           399 non-null    object \n",
      " 23  pe              399 non-null    object \n",
      " 24  ane             399 non-null    object \n",
      " 25  classification  400 non-null    object \n",
      "dtypes: float64(11), int64(1), object(14)\n",
      "memory usage: 81.4+ KB\n"
     ]
    }
   ],
   "source": [
    "#INFORMATION ABOUT THE DATASET\n",
    "\n",
    "kidney.info()"
   ]
  },
  {
   "cell_type": "code",
   "execution_count": 175,
   "metadata": {},
   "outputs": [
    {
     "data": {
      "text/html": [
       "<div>\n",
       "<style scoped>\n",
       "    .dataframe tbody tr th:only-of-type {\n",
       "        vertical-align: middle;\n",
       "    }\n",
       "\n",
       "    .dataframe tbody tr th {\n",
       "        vertical-align: top;\n",
       "    }\n",
       "\n",
       "    .dataframe thead th {\n",
       "        text-align: right;\n",
       "    }\n",
       "</style>\n",
       "<table border=\"1\" class=\"dataframe\">\n",
       "  <thead>\n",
       "    <tr style=\"text-align: right;\">\n",
       "      <th></th>\n",
       "      <th>id</th>\n",
       "      <th>age</th>\n",
       "      <th>bp</th>\n",
       "      <th>sg</th>\n",
       "      <th>al</th>\n",
       "      <th>su</th>\n",
       "      <th>bgr</th>\n",
       "      <th>bu</th>\n",
       "      <th>sc</th>\n",
       "      <th>sod</th>\n",
       "      <th>pot</th>\n",
       "      <th>hemo</th>\n",
       "    </tr>\n",
       "  </thead>\n",
       "  <tbody>\n",
       "    <tr>\n",
       "      <th>count</th>\n",
       "      <td>400.000000</td>\n",
       "      <td>391.000000</td>\n",
       "      <td>388.000000</td>\n",
       "      <td>353.000000</td>\n",
       "      <td>354.000000</td>\n",
       "      <td>351.000000</td>\n",
       "      <td>356.000000</td>\n",
       "      <td>381.000000</td>\n",
       "      <td>383.000000</td>\n",
       "      <td>313.000000</td>\n",
       "      <td>312.000000</td>\n",
       "      <td>348.000000</td>\n",
       "    </tr>\n",
       "    <tr>\n",
       "      <th>mean</th>\n",
       "      <td>199.500000</td>\n",
       "      <td>51.483376</td>\n",
       "      <td>76.469072</td>\n",
       "      <td>1.017408</td>\n",
       "      <td>1.016949</td>\n",
       "      <td>0.450142</td>\n",
       "      <td>148.036517</td>\n",
       "      <td>57.425722</td>\n",
       "      <td>3.072454</td>\n",
       "      <td>137.528754</td>\n",
       "      <td>4.627244</td>\n",
       "      <td>12.526437</td>\n",
       "    </tr>\n",
       "    <tr>\n",
       "      <th>std</th>\n",
       "      <td>115.614301</td>\n",
       "      <td>17.169714</td>\n",
       "      <td>13.683637</td>\n",
       "      <td>0.005717</td>\n",
       "      <td>1.352679</td>\n",
       "      <td>1.099191</td>\n",
       "      <td>79.281714</td>\n",
       "      <td>50.503006</td>\n",
       "      <td>5.741126</td>\n",
       "      <td>10.408752</td>\n",
       "      <td>3.193904</td>\n",
       "      <td>2.912587</td>\n",
       "    </tr>\n",
       "    <tr>\n",
       "      <th>min</th>\n",
       "      <td>0.000000</td>\n",
       "      <td>2.000000</td>\n",
       "      <td>50.000000</td>\n",
       "      <td>1.005000</td>\n",
       "      <td>0.000000</td>\n",
       "      <td>0.000000</td>\n",
       "      <td>22.000000</td>\n",
       "      <td>1.500000</td>\n",
       "      <td>0.400000</td>\n",
       "      <td>4.500000</td>\n",
       "      <td>2.500000</td>\n",
       "      <td>3.100000</td>\n",
       "    </tr>\n",
       "    <tr>\n",
       "      <th>25%</th>\n",
       "      <td>99.750000</td>\n",
       "      <td>42.000000</td>\n",
       "      <td>70.000000</td>\n",
       "      <td>1.010000</td>\n",
       "      <td>0.000000</td>\n",
       "      <td>0.000000</td>\n",
       "      <td>99.000000</td>\n",
       "      <td>27.000000</td>\n",
       "      <td>0.900000</td>\n",
       "      <td>135.000000</td>\n",
       "      <td>3.800000</td>\n",
       "      <td>10.300000</td>\n",
       "    </tr>\n",
       "    <tr>\n",
       "      <th>50%</th>\n",
       "      <td>199.500000</td>\n",
       "      <td>55.000000</td>\n",
       "      <td>80.000000</td>\n",
       "      <td>1.020000</td>\n",
       "      <td>0.000000</td>\n",
       "      <td>0.000000</td>\n",
       "      <td>121.000000</td>\n",
       "      <td>42.000000</td>\n",
       "      <td>1.300000</td>\n",
       "      <td>138.000000</td>\n",
       "      <td>4.400000</td>\n",
       "      <td>12.650000</td>\n",
       "    </tr>\n",
       "    <tr>\n",
       "      <th>75%</th>\n",
       "      <td>299.250000</td>\n",
       "      <td>64.500000</td>\n",
       "      <td>80.000000</td>\n",
       "      <td>1.020000</td>\n",
       "      <td>2.000000</td>\n",
       "      <td>0.000000</td>\n",
       "      <td>163.000000</td>\n",
       "      <td>66.000000</td>\n",
       "      <td>2.800000</td>\n",
       "      <td>142.000000</td>\n",
       "      <td>4.900000</td>\n",
       "      <td>15.000000</td>\n",
       "    </tr>\n",
       "    <tr>\n",
       "      <th>max</th>\n",
       "      <td>399.000000</td>\n",
       "      <td>90.000000</td>\n",
       "      <td>180.000000</td>\n",
       "      <td>1.025000</td>\n",
       "      <td>5.000000</td>\n",
       "      <td>5.000000</td>\n",
       "      <td>490.000000</td>\n",
       "      <td>391.000000</td>\n",
       "      <td>76.000000</td>\n",
       "      <td>163.000000</td>\n",
       "      <td>47.000000</td>\n",
       "      <td>17.800000</td>\n",
       "    </tr>\n",
       "  </tbody>\n",
       "</table>\n",
       "</div>"
      ],
      "text/plain": [
       "               id         age          bp          sg          al          su  \\\n",
       "count  400.000000  391.000000  388.000000  353.000000  354.000000  351.000000   \n",
       "mean   199.500000   51.483376   76.469072    1.017408    1.016949    0.450142   \n",
       "std    115.614301   17.169714   13.683637    0.005717    1.352679    1.099191   \n",
       "min      0.000000    2.000000   50.000000    1.005000    0.000000    0.000000   \n",
       "25%     99.750000   42.000000   70.000000    1.010000    0.000000    0.000000   \n",
       "50%    199.500000   55.000000   80.000000    1.020000    0.000000    0.000000   \n",
       "75%    299.250000   64.500000   80.000000    1.020000    2.000000    0.000000   \n",
       "max    399.000000   90.000000  180.000000    1.025000    5.000000    5.000000   \n",
       "\n",
       "              bgr          bu          sc         sod         pot        hemo  \n",
       "count  356.000000  381.000000  383.000000  313.000000  312.000000  348.000000  \n",
       "mean   148.036517   57.425722    3.072454  137.528754    4.627244   12.526437  \n",
       "std     79.281714   50.503006    5.741126   10.408752    3.193904    2.912587  \n",
       "min     22.000000    1.500000    0.400000    4.500000    2.500000    3.100000  \n",
       "25%     99.000000   27.000000    0.900000  135.000000    3.800000   10.300000  \n",
       "50%    121.000000   42.000000    1.300000  138.000000    4.400000   12.650000  \n",
       "75%    163.000000   66.000000    2.800000  142.000000    4.900000   15.000000  \n",
       "max    490.000000  391.000000   76.000000  163.000000   47.000000   17.800000  "
      ]
     },
     "execution_count": 175,
     "metadata": {},
     "output_type": "execute_result"
    }
   ],
   "source": [
    "#INFORMATION STATS\n",
    "\n",
    "kidney.describe()"
   ]
  },
  {
   "cell_type": "code",
   "execution_count": 176,
   "metadata": {},
   "outputs": [],
   "source": [
    "kidney.columns = ['id','age', 'blood_pressure', 'specific_gravity', 'albumin', 'sugar', 'red_blood_cells', 'pus_cell',\n",
    "              'pus_cell_clumps', 'bacteria', 'blood_glucose_random', 'blood_urea', 'serum_creatinine', 'sodium',\n",
    "              'potassium', 'haemoglobin', 'packed_cell_volume', 'white_blood_cell_count', 'red_blood_cell_count',\n",
    "              'hypertension', 'diabetes_mellitus', 'coronary_artery_disease', 'appetite', 'peda_edema',\n",
    "              'anemia', 'class']"
   ]
  },
  {
   "cell_type": "code",
   "execution_count": 177,
   "metadata": {},
   "outputs": [
    {
     "data": {
      "text/html": [
       "<div>\n",
       "<style scoped>\n",
       "    .dataframe tbody tr th:only-of-type {\n",
       "        vertical-align: middle;\n",
       "    }\n",
       "\n",
       "    .dataframe tbody tr th {\n",
       "        vertical-align: top;\n",
       "    }\n",
       "\n",
       "    .dataframe thead th {\n",
       "        text-align: right;\n",
       "    }\n",
       "</style>\n",
       "<table border=\"1\" class=\"dataframe\">\n",
       "  <thead>\n",
       "    <tr style=\"text-align: right;\">\n",
       "      <th></th>\n",
       "      <th>id</th>\n",
       "      <th>age</th>\n",
       "      <th>blood_pressure</th>\n",
       "      <th>specific_gravity</th>\n",
       "      <th>albumin</th>\n",
       "      <th>sugar</th>\n",
       "      <th>red_blood_cells</th>\n",
       "      <th>pus_cell</th>\n",
       "      <th>pus_cell_clumps</th>\n",
       "      <th>bacteria</th>\n",
       "      <th>...</th>\n",
       "      <th>packed_cell_volume</th>\n",
       "      <th>white_blood_cell_count</th>\n",
       "      <th>red_blood_cell_count</th>\n",
       "      <th>hypertension</th>\n",
       "      <th>diabetes_mellitus</th>\n",
       "      <th>coronary_artery_disease</th>\n",
       "      <th>appetite</th>\n",
       "      <th>peda_edema</th>\n",
       "      <th>anemia</th>\n",
       "      <th>class</th>\n",
       "    </tr>\n",
       "  </thead>\n",
       "  <tbody>\n",
       "    <tr>\n",
       "      <th>0</th>\n",
       "      <td>0</td>\n",
       "      <td>48.0</td>\n",
       "      <td>80.0</td>\n",
       "      <td>1.020</td>\n",
       "      <td>1.0</td>\n",
       "      <td>0.0</td>\n",
       "      <td>NaN</td>\n",
       "      <td>normal</td>\n",
       "      <td>notpresent</td>\n",
       "      <td>notpresent</td>\n",
       "      <td>...</td>\n",
       "      <td>44</td>\n",
       "      <td>7800</td>\n",
       "      <td>5.2</td>\n",
       "      <td>yes</td>\n",
       "      <td>yes</td>\n",
       "      <td>no</td>\n",
       "      <td>good</td>\n",
       "      <td>no</td>\n",
       "      <td>no</td>\n",
       "      <td>ckd</td>\n",
       "    </tr>\n",
       "    <tr>\n",
       "      <th>1</th>\n",
       "      <td>1</td>\n",
       "      <td>7.0</td>\n",
       "      <td>50.0</td>\n",
       "      <td>1.020</td>\n",
       "      <td>4.0</td>\n",
       "      <td>0.0</td>\n",
       "      <td>NaN</td>\n",
       "      <td>normal</td>\n",
       "      <td>notpresent</td>\n",
       "      <td>notpresent</td>\n",
       "      <td>...</td>\n",
       "      <td>38</td>\n",
       "      <td>6000</td>\n",
       "      <td>NaN</td>\n",
       "      <td>no</td>\n",
       "      <td>no</td>\n",
       "      <td>no</td>\n",
       "      <td>good</td>\n",
       "      <td>no</td>\n",
       "      <td>no</td>\n",
       "      <td>ckd</td>\n",
       "    </tr>\n",
       "    <tr>\n",
       "      <th>2</th>\n",
       "      <td>2</td>\n",
       "      <td>62.0</td>\n",
       "      <td>80.0</td>\n",
       "      <td>1.010</td>\n",
       "      <td>2.0</td>\n",
       "      <td>3.0</td>\n",
       "      <td>normal</td>\n",
       "      <td>normal</td>\n",
       "      <td>notpresent</td>\n",
       "      <td>notpresent</td>\n",
       "      <td>...</td>\n",
       "      <td>31</td>\n",
       "      <td>7500</td>\n",
       "      <td>NaN</td>\n",
       "      <td>no</td>\n",
       "      <td>yes</td>\n",
       "      <td>no</td>\n",
       "      <td>poor</td>\n",
       "      <td>no</td>\n",
       "      <td>yes</td>\n",
       "      <td>ckd</td>\n",
       "    </tr>\n",
       "    <tr>\n",
       "      <th>3</th>\n",
       "      <td>3</td>\n",
       "      <td>48.0</td>\n",
       "      <td>70.0</td>\n",
       "      <td>1.005</td>\n",
       "      <td>4.0</td>\n",
       "      <td>0.0</td>\n",
       "      <td>normal</td>\n",
       "      <td>abnormal</td>\n",
       "      <td>present</td>\n",
       "      <td>notpresent</td>\n",
       "      <td>...</td>\n",
       "      <td>32</td>\n",
       "      <td>6700</td>\n",
       "      <td>3.9</td>\n",
       "      <td>yes</td>\n",
       "      <td>no</td>\n",
       "      <td>no</td>\n",
       "      <td>poor</td>\n",
       "      <td>yes</td>\n",
       "      <td>yes</td>\n",
       "      <td>ckd</td>\n",
       "    </tr>\n",
       "    <tr>\n",
       "      <th>4</th>\n",
       "      <td>4</td>\n",
       "      <td>51.0</td>\n",
       "      <td>80.0</td>\n",
       "      <td>1.010</td>\n",
       "      <td>2.0</td>\n",
       "      <td>0.0</td>\n",
       "      <td>normal</td>\n",
       "      <td>normal</td>\n",
       "      <td>notpresent</td>\n",
       "      <td>notpresent</td>\n",
       "      <td>...</td>\n",
       "      <td>35</td>\n",
       "      <td>7300</td>\n",
       "      <td>4.6</td>\n",
       "      <td>no</td>\n",
       "      <td>no</td>\n",
       "      <td>no</td>\n",
       "      <td>good</td>\n",
       "      <td>no</td>\n",
       "      <td>no</td>\n",
       "      <td>ckd</td>\n",
       "    </tr>\n",
       "  </tbody>\n",
       "</table>\n",
       "<p>5 rows × 26 columns</p>\n",
       "</div>"
      ],
      "text/plain": [
       "   id   age  blood_pressure  specific_gravity  albumin  sugar red_blood_cells  \\\n",
       "0   0  48.0            80.0             1.020      1.0    0.0             NaN   \n",
       "1   1   7.0            50.0             1.020      4.0    0.0             NaN   \n",
       "2   2  62.0            80.0             1.010      2.0    3.0          normal   \n",
       "3   3  48.0            70.0             1.005      4.0    0.0          normal   \n",
       "4   4  51.0            80.0             1.010      2.0    0.0          normal   \n",
       "\n",
       "   pus_cell pus_cell_clumps    bacteria  ...  packed_cell_volume  \\\n",
       "0    normal      notpresent  notpresent  ...                  44   \n",
       "1    normal      notpresent  notpresent  ...                  38   \n",
       "2    normal      notpresent  notpresent  ...                  31   \n",
       "3  abnormal         present  notpresent  ...                  32   \n",
       "4    normal      notpresent  notpresent  ...                  35   \n",
       "\n",
       "   white_blood_cell_count  red_blood_cell_count  hypertension  \\\n",
       "0                    7800                   5.2           yes   \n",
       "1                    6000                   NaN            no   \n",
       "2                    7500                   NaN            no   \n",
       "3                    6700                   3.9           yes   \n",
       "4                    7300                   4.6            no   \n",
       "\n",
       "   diabetes_mellitus  coronary_artery_disease appetite peda_edema anemia class  \n",
       "0                yes                       no     good         no     no   ckd  \n",
       "1                 no                       no     good         no     no   ckd  \n",
       "2                yes                       no     poor         no    yes   ckd  \n",
       "3                 no                       no     poor        yes    yes   ckd  \n",
       "4                 no                       no     good         no     no   ckd  \n",
       "\n",
       "[5 rows x 26 columns]"
      ]
     },
     "execution_count": 177,
     "metadata": {},
     "output_type": "execute_result"
    }
   ],
   "source": [
    "kidney.head()"
   ]
  },
  {
   "cell_type": "code",
   "execution_count": 178,
   "metadata": {},
   "outputs": [
    {
     "data": {
      "text/plain": [
       "id   age   blood_pressure  specific_gravity  albumin  sugar  red_blood_cells  pus_cell  pus_cell_clumps  bacteria    blood_glucose_random  blood_urea  serum_creatinine  sodium  potassium  haemoglobin  packed_cell_volume  white_blood_cell_count  red_blood_cell_count  hypertension  diabetes_mellitus  coronary_artery_disease  appetite  peda_edema  anemia  class \n",
       "3    48.0  70.0            1.005             4.0      0.0    normal           abnormal  present          notpresent  117.0                 56.0        3.8               111.0   2.5        11.2         32                  6700                    3.9                   yes           no                 no                       poor      yes         yes     ckd       1\n",
       "343  37.0  60.0            1.025             0.0      0.0    normal           normal    notpresent       notpresent  111.0                 35.0        0.8               135.0   4.1        16.2         50                  5500                    5.7                   no            no                 no                       good      no          no      notckd    1\n",
       "335  60.0  60.0            1.020             0.0      0.0    normal           normal    notpresent       notpresent  134.0                 45.0        0.5               139.0   4.8        14.2         48                  10700                   5.6                   no            no                 no                       good      no          no      notckd    1\n",
       "337  44.0  70.0            1.025             0.0      0.0    normal           normal    notpresent       notpresent  92.0                  40.0        0.9               141.0   4.9        14.0         52                  7500                    6.2                   no            no                 no                       good      no          no      notckd    1\n",
       "338  62.0  80.0            1.020             0.0      0.0    normal           normal    notpresent       notpresent  132.0                 34.0        0.8               147.0   3.5        17.8         44                  4700                    4.5                   no            no                 no                       good      no          no      notckd    1\n",
       "                                                                                                                                                                                                                                                                                                                                                                            ..\n",
       "260  30.0  80.0            1.020             0.0      0.0    normal           normal    notpresent       notpresent  131.0                 38.0        1.0               147.0   3.8        14.1         45                  9400                    5.3                   no            no                 no                       good      no          no      notckd    1\n",
       "261  49.0  80.0            1.020             0.0      0.0    normal           normal    notpresent       notpresent  122.0                 32.0        1.2               139.0   3.9        17.0         41                  5600                    4.9                   no            no                 no                       good      no          no      notckd    1\n",
       "262  55.0  80.0            1.020             0.0      0.0    normal           normal    notpresent       notpresent  118.0                 18.0        0.9               135.0   3.6        15.5         43                  7200                    5.4                   no            no                 no                       good      no          no      notckd    1\n",
       "263  45.0  80.0            1.020             0.0      0.0    normal           normal    notpresent       notpresent  117.0                 46.0        1.2               137.0   5.0        16.2         45                  8600                    5.2                   no            no                 no                       good      no          no      notckd    1\n",
       "399  58.0  80.0            1.025             0.0      0.0    normal           normal    notpresent       notpresent  131.0                 18.0        1.1               141.0   3.5        15.8         53                  6800                    6.1                   no            no                 no                       good      no          no      notckd    1\n",
       "Length: 158, dtype: int64"
      ]
     },
     "execution_count": 178,
     "metadata": {},
     "output_type": "execute_result"
    }
   ],
   "source": [
    "kidney.value_counts()"
   ]
  },
  {
   "cell_type": "code",
   "execution_count": 179,
   "metadata": {},
   "outputs": [
    {
     "data": {
      "text/html": [
       "<div>\n",
       "<style scoped>\n",
       "    .dataframe tbody tr th:only-of-type {\n",
       "        vertical-align: middle;\n",
       "    }\n",
       "\n",
       "    .dataframe tbody tr th {\n",
       "        vertical-align: top;\n",
       "    }\n",
       "\n",
       "    .dataframe thead th {\n",
       "        text-align: right;\n",
       "    }\n",
       "</style>\n",
       "<table border=\"1\" class=\"dataframe\">\n",
       "  <thead>\n",
       "    <tr style=\"text-align: right;\">\n",
       "      <th></th>\n",
       "      <th>count</th>\n",
       "      <th>unique</th>\n",
       "      <th>top</th>\n",
       "      <th>freq</th>\n",
       "      <th>mean</th>\n",
       "      <th>std</th>\n",
       "      <th>min</th>\n",
       "      <th>25%</th>\n",
       "      <th>50%</th>\n",
       "      <th>75%</th>\n",
       "      <th>max</th>\n",
       "    </tr>\n",
       "  </thead>\n",
       "  <tbody>\n",
       "    <tr>\n",
       "      <th>id</th>\n",
       "      <td>400.0</td>\n",
       "      <td>NaN</td>\n",
       "      <td>NaN</td>\n",
       "      <td>NaN</td>\n",
       "      <td>199.5</td>\n",
       "      <td>115.614301</td>\n",
       "      <td>0.0</td>\n",
       "      <td>99.75</td>\n",
       "      <td>199.5</td>\n",
       "      <td>299.25</td>\n",
       "      <td>399.0</td>\n",
       "    </tr>\n",
       "    <tr>\n",
       "      <th>age</th>\n",
       "      <td>391.0</td>\n",
       "      <td>NaN</td>\n",
       "      <td>NaN</td>\n",
       "      <td>NaN</td>\n",
       "      <td>51.483376</td>\n",
       "      <td>17.169714</td>\n",
       "      <td>2.0</td>\n",
       "      <td>42.0</td>\n",
       "      <td>55.0</td>\n",
       "      <td>64.5</td>\n",
       "      <td>90.0</td>\n",
       "    </tr>\n",
       "    <tr>\n",
       "      <th>blood_pressure</th>\n",
       "      <td>388.0</td>\n",
       "      <td>NaN</td>\n",
       "      <td>NaN</td>\n",
       "      <td>NaN</td>\n",
       "      <td>76.469072</td>\n",
       "      <td>13.683637</td>\n",
       "      <td>50.0</td>\n",
       "      <td>70.0</td>\n",
       "      <td>80.0</td>\n",
       "      <td>80.0</td>\n",
       "      <td>180.0</td>\n",
       "    </tr>\n",
       "    <tr>\n",
       "      <th>specific_gravity</th>\n",
       "      <td>353.0</td>\n",
       "      <td>NaN</td>\n",
       "      <td>NaN</td>\n",
       "      <td>NaN</td>\n",
       "      <td>1.017408</td>\n",
       "      <td>0.005717</td>\n",
       "      <td>1.005</td>\n",
       "      <td>1.01</td>\n",
       "      <td>1.02</td>\n",
       "      <td>1.02</td>\n",
       "      <td>1.025</td>\n",
       "    </tr>\n",
       "    <tr>\n",
       "      <th>albumin</th>\n",
       "      <td>354.0</td>\n",
       "      <td>NaN</td>\n",
       "      <td>NaN</td>\n",
       "      <td>NaN</td>\n",
       "      <td>1.016949</td>\n",
       "      <td>1.352679</td>\n",
       "      <td>0.0</td>\n",
       "      <td>0.0</td>\n",
       "      <td>0.0</td>\n",
       "      <td>2.0</td>\n",
       "      <td>5.0</td>\n",
       "    </tr>\n",
       "    <tr>\n",
       "      <th>sugar</th>\n",
       "      <td>351.0</td>\n",
       "      <td>NaN</td>\n",
       "      <td>NaN</td>\n",
       "      <td>NaN</td>\n",
       "      <td>0.450142</td>\n",
       "      <td>1.099191</td>\n",
       "      <td>0.0</td>\n",
       "      <td>0.0</td>\n",
       "      <td>0.0</td>\n",
       "      <td>0.0</td>\n",
       "      <td>5.0</td>\n",
       "    </tr>\n",
       "    <tr>\n",
       "      <th>red_blood_cells</th>\n",
       "      <td>248</td>\n",
       "      <td>2</td>\n",
       "      <td>normal</td>\n",
       "      <td>201</td>\n",
       "      <td>NaN</td>\n",
       "      <td>NaN</td>\n",
       "      <td>NaN</td>\n",
       "      <td>NaN</td>\n",
       "      <td>NaN</td>\n",
       "      <td>NaN</td>\n",
       "      <td>NaN</td>\n",
       "    </tr>\n",
       "    <tr>\n",
       "      <th>pus_cell</th>\n",
       "      <td>335</td>\n",
       "      <td>2</td>\n",
       "      <td>normal</td>\n",
       "      <td>259</td>\n",
       "      <td>NaN</td>\n",
       "      <td>NaN</td>\n",
       "      <td>NaN</td>\n",
       "      <td>NaN</td>\n",
       "      <td>NaN</td>\n",
       "      <td>NaN</td>\n",
       "      <td>NaN</td>\n",
       "    </tr>\n",
       "    <tr>\n",
       "      <th>pus_cell_clumps</th>\n",
       "      <td>396</td>\n",
       "      <td>2</td>\n",
       "      <td>notpresent</td>\n",
       "      <td>354</td>\n",
       "      <td>NaN</td>\n",
       "      <td>NaN</td>\n",
       "      <td>NaN</td>\n",
       "      <td>NaN</td>\n",
       "      <td>NaN</td>\n",
       "      <td>NaN</td>\n",
       "      <td>NaN</td>\n",
       "    </tr>\n",
       "    <tr>\n",
       "      <th>bacteria</th>\n",
       "      <td>396</td>\n",
       "      <td>2</td>\n",
       "      <td>notpresent</td>\n",
       "      <td>374</td>\n",
       "      <td>NaN</td>\n",
       "      <td>NaN</td>\n",
       "      <td>NaN</td>\n",
       "      <td>NaN</td>\n",
       "      <td>NaN</td>\n",
       "      <td>NaN</td>\n",
       "      <td>NaN</td>\n",
       "    </tr>\n",
       "    <tr>\n",
       "      <th>blood_glucose_random</th>\n",
       "      <td>356.0</td>\n",
       "      <td>NaN</td>\n",
       "      <td>NaN</td>\n",
       "      <td>NaN</td>\n",
       "      <td>148.036517</td>\n",
       "      <td>79.281714</td>\n",
       "      <td>22.0</td>\n",
       "      <td>99.0</td>\n",
       "      <td>121.0</td>\n",
       "      <td>163.0</td>\n",
       "      <td>490.0</td>\n",
       "    </tr>\n",
       "    <tr>\n",
       "      <th>blood_urea</th>\n",
       "      <td>381.0</td>\n",
       "      <td>NaN</td>\n",
       "      <td>NaN</td>\n",
       "      <td>NaN</td>\n",
       "      <td>57.425722</td>\n",
       "      <td>50.503006</td>\n",
       "      <td>1.5</td>\n",
       "      <td>27.0</td>\n",
       "      <td>42.0</td>\n",
       "      <td>66.0</td>\n",
       "      <td>391.0</td>\n",
       "    </tr>\n",
       "    <tr>\n",
       "      <th>serum_creatinine</th>\n",
       "      <td>383.0</td>\n",
       "      <td>NaN</td>\n",
       "      <td>NaN</td>\n",
       "      <td>NaN</td>\n",
       "      <td>3.072454</td>\n",
       "      <td>5.741126</td>\n",
       "      <td>0.4</td>\n",
       "      <td>0.9</td>\n",
       "      <td>1.3</td>\n",
       "      <td>2.8</td>\n",
       "      <td>76.0</td>\n",
       "    </tr>\n",
       "    <tr>\n",
       "      <th>sodium</th>\n",
       "      <td>313.0</td>\n",
       "      <td>NaN</td>\n",
       "      <td>NaN</td>\n",
       "      <td>NaN</td>\n",
       "      <td>137.528754</td>\n",
       "      <td>10.408752</td>\n",
       "      <td>4.5</td>\n",
       "      <td>135.0</td>\n",
       "      <td>138.0</td>\n",
       "      <td>142.0</td>\n",
       "      <td>163.0</td>\n",
       "    </tr>\n",
       "    <tr>\n",
       "      <th>potassium</th>\n",
       "      <td>312.0</td>\n",
       "      <td>NaN</td>\n",
       "      <td>NaN</td>\n",
       "      <td>NaN</td>\n",
       "      <td>4.627244</td>\n",
       "      <td>3.193904</td>\n",
       "      <td>2.5</td>\n",
       "      <td>3.8</td>\n",
       "      <td>4.4</td>\n",
       "      <td>4.9</td>\n",
       "      <td>47.0</td>\n",
       "    </tr>\n",
       "    <tr>\n",
       "      <th>haemoglobin</th>\n",
       "      <td>348.0</td>\n",
       "      <td>NaN</td>\n",
       "      <td>NaN</td>\n",
       "      <td>NaN</td>\n",
       "      <td>12.526437</td>\n",
       "      <td>2.912587</td>\n",
       "      <td>3.1</td>\n",
       "      <td>10.3</td>\n",
       "      <td>12.65</td>\n",
       "      <td>15.0</td>\n",
       "      <td>17.8</td>\n",
       "    </tr>\n",
       "    <tr>\n",
       "      <th>packed_cell_volume</th>\n",
       "      <td>330</td>\n",
       "      <td>44</td>\n",
       "      <td>41</td>\n",
       "      <td>21</td>\n",
       "      <td>NaN</td>\n",
       "      <td>NaN</td>\n",
       "      <td>NaN</td>\n",
       "      <td>NaN</td>\n",
       "      <td>NaN</td>\n",
       "      <td>NaN</td>\n",
       "      <td>NaN</td>\n",
       "    </tr>\n",
       "    <tr>\n",
       "      <th>white_blood_cell_count</th>\n",
       "      <td>295</td>\n",
       "      <td>92</td>\n",
       "      <td>9800</td>\n",
       "      <td>11</td>\n",
       "      <td>NaN</td>\n",
       "      <td>NaN</td>\n",
       "      <td>NaN</td>\n",
       "      <td>NaN</td>\n",
       "      <td>NaN</td>\n",
       "      <td>NaN</td>\n",
       "      <td>NaN</td>\n",
       "    </tr>\n",
       "    <tr>\n",
       "      <th>red_blood_cell_count</th>\n",
       "      <td>270</td>\n",
       "      <td>49</td>\n",
       "      <td>5.2</td>\n",
       "      <td>18</td>\n",
       "      <td>NaN</td>\n",
       "      <td>NaN</td>\n",
       "      <td>NaN</td>\n",
       "      <td>NaN</td>\n",
       "      <td>NaN</td>\n",
       "      <td>NaN</td>\n",
       "      <td>NaN</td>\n",
       "    </tr>\n",
       "    <tr>\n",
       "      <th>hypertension</th>\n",
       "      <td>398</td>\n",
       "      <td>2</td>\n",
       "      <td>no</td>\n",
       "      <td>251</td>\n",
       "      <td>NaN</td>\n",
       "      <td>NaN</td>\n",
       "      <td>NaN</td>\n",
       "      <td>NaN</td>\n",
       "      <td>NaN</td>\n",
       "      <td>NaN</td>\n",
       "      <td>NaN</td>\n",
       "    </tr>\n",
       "    <tr>\n",
       "      <th>diabetes_mellitus</th>\n",
       "      <td>398</td>\n",
       "      <td>5</td>\n",
       "      <td>no</td>\n",
       "      <td>258</td>\n",
       "      <td>NaN</td>\n",
       "      <td>NaN</td>\n",
       "      <td>NaN</td>\n",
       "      <td>NaN</td>\n",
       "      <td>NaN</td>\n",
       "      <td>NaN</td>\n",
       "      <td>NaN</td>\n",
       "    </tr>\n",
       "    <tr>\n",
       "      <th>coronary_artery_disease</th>\n",
       "      <td>398</td>\n",
       "      <td>3</td>\n",
       "      <td>no</td>\n",
       "      <td>362</td>\n",
       "      <td>NaN</td>\n",
       "      <td>NaN</td>\n",
       "      <td>NaN</td>\n",
       "      <td>NaN</td>\n",
       "      <td>NaN</td>\n",
       "      <td>NaN</td>\n",
       "      <td>NaN</td>\n",
       "    </tr>\n",
       "    <tr>\n",
       "      <th>appetite</th>\n",
       "      <td>399</td>\n",
       "      <td>2</td>\n",
       "      <td>good</td>\n",
       "      <td>317</td>\n",
       "      <td>NaN</td>\n",
       "      <td>NaN</td>\n",
       "      <td>NaN</td>\n",
       "      <td>NaN</td>\n",
       "      <td>NaN</td>\n",
       "      <td>NaN</td>\n",
       "      <td>NaN</td>\n",
       "    </tr>\n",
       "    <tr>\n",
       "      <th>peda_edema</th>\n",
       "      <td>399</td>\n",
       "      <td>2</td>\n",
       "      <td>no</td>\n",
       "      <td>323</td>\n",
       "      <td>NaN</td>\n",
       "      <td>NaN</td>\n",
       "      <td>NaN</td>\n",
       "      <td>NaN</td>\n",
       "      <td>NaN</td>\n",
       "      <td>NaN</td>\n",
       "      <td>NaN</td>\n",
       "    </tr>\n",
       "    <tr>\n",
       "      <th>anemia</th>\n",
       "      <td>399</td>\n",
       "      <td>2</td>\n",
       "      <td>no</td>\n",
       "      <td>339</td>\n",
       "      <td>NaN</td>\n",
       "      <td>NaN</td>\n",
       "      <td>NaN</td>\n",
       "      <td>NaN</td>\n",
       "      <td>NaN</td>\n",
       "      <td>NaN</td>\n",
       "      <td>NaN</td>\n",
       "    </tr>\n",
       "    <tr>\n",
       "      <th>class</th>\n",
       "      <td>400</td>\n",
       "      <td>3</td>\n",
       "      <td>ckd</td>\n",
       "      <td>248</td>\n",
       "      <td>NaN</td>\n",
       "      <td>NaN</td>\n",
       "      <td>NaN</td>\n",
       "      <td>NaN</td>\n",
       "      <td>NaN</td>\n",
       "      <td>NaN</td>\n",
       "      <td>NaN</td>\n",
       "    </tr>\n",
       "  </tbody>\n",
       "</table>\n",
       "</div>"
      ],
      "text/plain": [
       "                         count unique         top freq        mean  \\\n",
       "id                       400.0    NaN         NaN  NaN       199.5   \n",
       "age                      391.0    NaN         NaN  NaN   51.483376   \n",
       "blood_pressure           388.0    NaN         NaN  NaN   76.469072   \n",
       "specific_gravity         353.0    NaN         NaN  NaN    1.017408   \n",
       "albumin                  354.0    NaN         NaN  NaN    1.016949   \n",
       "sugar                    351.0    NaN         NaN  NaN    0.450142   \n",
       "red_blood_cells            248      2      normal  201         NaN   \n",
       "pus_cell                   335      2      normal  259         NaN   \n",
       "pus_cell_clumps            396      2  notpresent  354         NaN   \n",
       "bacteria                   396      2  notpresent  374         NaN   \n",
       "blood_glucose_random     356.0    NaN         NaN  NaN  148.036517   \n",
       "blood_urea               381.0    NaN         NaN  NaN   57.425722   \n",
       "serum_creatinine         383.0    NaN         NaN  NaN    3.072454   \n",
       "sodium                   313.0    NaN         NaN  NaN  137.528754   \n",
       "potassium                312.0    NaN         NaN  NaN    4.627244   \n",
       "haemoglobin              348.0    NaN         NaN  NaN   12.526437   \n",
       "packed_cell_volume         330     44          41   21         NaN   \n",
       "white_blood_cell_count     295     92        9800   11         NaN   \n",
       "red_blood_cell_count       270     49         5.2   18         NaN   \n",
       "hypertension               398      2          no  251         NaN   \n",
       "diabetes_mellitus          398      5          no  258         NaN   \n",
       "coronary_artery_disease    398      3          no  362         NaN   \n",
       "appetite                   399      2        good  317         NaN   \n",
       "peda_edema                 399      2          no  323         NaN   \n",
       "anemia                     399      2          no  339         NaN   \n",
       "class                      400      3         ckd  248         NaN   \n",
       "\n",
       "                                std    min    25%    50%     75%    max  \n",
       "id                       115.614301    0.0  99.75  199.5  299.25  399.0  \n",
       "age                       17.169714    2.0   42.0   55.0    64.5   90.0  \n",
       "blood_pressure            13.683637   50.0   70.0   80.0    80.0  180.0  \n",
       "specific_gravity           0.005717  1.005   1.01   1.02    1.02  1.025  \n",
       "albumin                    1.352679    0.0    0.0    0.0     2.0    5.0  \n",
       "sugar                      1.099191    0.0    0.0    0.0     0.0    5.0  \n",
       "red_blood_cells                 NaN    NaN    NaN    NaN     NaN    NaN  \n",
       "pus_cell                        NaN    NaN    NaN    NaN     NaN    NaN  \n",
       "pus_cell_clumps                 NaN    NaN    NaN    NaN     NaN    NaN  \n",
       "bacteria                        NaN    NaN    NaN    NaN     NaN    NaN  \n",
       "blood_glucose_random      79.281714   22.0   99.0  121.0   163.0  490.0  \n",
       "blood_urea                50.503006    1.5   27.0   42.0    66.0  391.0  \n",
       "serum_creatinine           5.741126    0.4    0.9    1.3     2.8   76.0  \n",
       "sodium                    10.408752    4.5  135.0  138.0   142.0  163.0  \n",
       "potassium                  3.193904    2.5    3.8    4.4     4.9   47.0  \n",
       "haemoglobin                2.912587    3.1   10.3  12.65    15.0   17.8  \n",
       "packed_cell_volume              NaN    NaN    NaN    NaN     NaN    NaN  \n",
       "white_blood_cell_count          NaN    NaN    NaN    NaN     NaN    NaN  \n",
       "red_blood_cell_count            NaN    NaN    NaN    NaN     NaN    NaN  \n",
       "hypertension                    NaN    NaN    NaN    NaN     NaN    NaN  \n",
       "diabetes_mellitus               NaN    NaN    NaN    NaN     NaN    NaN  \n",
       "coronary_artery_disease         NaN    NaN    NaN    NaN     NaN    NaN  \n",
       "appetite                        NaN    NaN    NaN    NaN     NaN    NaN  \n",
       "peda_edema                      NaN    NaN    NaN    NaN     NaN    NaN  \n",
       "anemia                          NaN    NaN    NaN    NaN     NaN    NaN  \n",
       "class                           NaN    NaN    NaN    NaN     NaN    NaN  "
      ]
     },
     "execution_count": 179,
     "metadata": {},
     "output_type": "execute_result"
    }
   ],
   "source": [
    "kidney.describe(include=\"all\").T"
   ]
  },
  {
   "cell_type": "code",
   "execution_count": 180,
   "metadata": {},
   "outputs": [
    {
     "data": {
      "text/plain": [
       "red_blood_cells            152\n",
       "red_blood_cell_count       130\n",
       "white_blood_cell_count     105\n",
       "potassium                   88\n",
       "sodium                      87\n",
       "packed_cell_volume          70\n",
       "pus_cell                    65\n",
       "haemoglobin                 52\n",
       "sugar                       49\n",
       "specific_gravity            47\n",
       "albumin                     46\n",
       "blood_glucose_random        44\n",
       "blood_urea                  19\n",
       "serum_creatinine            17\n",
       "blood_pressure              12\n",
       "age                          9\n",
       "bacteria                     4\n",
       "pus_cell_clumps              4\n",
       "hypertension                 2\n",
       "diabetes_mellitus            2\n",
       "coronary_artery_disease      2\n",
       "anemia                       1\n",
       "appetite                     1\n",
       "peda_edema                   1\n",
       "id                           0\n",
       "class                        0\n",
       "dtype: int64"
      ]
     },
     "execution_count": 180,
     "metadata": {},
     "output_type": "execute_result"
    }
   ],
   "source": [
    "#MIISING VALUES\n",
    "kidney.isnull().sum().sort_values(ascending = False)"
   ]
  },
  {
   "cell_type": "code",
   "execution_count": 181,
   "metadata": {},
   "outputs": [
    {
     "data": {
      "text/plain": [
       "red_blood_cells            38.00\n",
       "red_blood_cell_count       32.50\n",
       "white_blood_cell_count     26.25\n",
       "potassium                  22.00\n",
       "sodium                     21.75\n",
       "packed_cell_volume         17.50\n",
       "pus_cell                   16.25\n",
       "haemoglobin                13.00\n",
       "sugar                      12.25\n",
       "specific_gravity           11.75\n",
       "albumin                    11.50\n",
       "blood_glucose_random       11.00\n",
       "blood_urea                  4.75\n",
       "serum_creatinine            4.25\n",
       "blood_pressure              3.00\n",
       "age                         2.25\n",
       "bacteria                    1.00\n",
       "pus_cell_clumps             1.00\n",
       "hypertension                0.50\n",
       "diabetes_mellitus           0.50\n",
       "coronary_artery_disease     0.50\n",
       "anemia                      0.25\n",
       "appetite                    0.25\n",
       "peda_edema                  0.25\n",
       "id                          0.00\n",
       "class                       0.00\n",
       "dtype: float64"
      ]
     },
     "execution_count": 181,
     "metadata": {},
     "output_type": "execute_result"
    }
   ],
   "source": [
    "#PERCENTAGE OF MISSING VALUES\n",
    "((kidney.isnull().sum()/kidney.shape[0])*100).sort_values(ascending=False)"
   ]
  },
  {
   "cell_type": "code",
   "execution_count": 182,
   "metadata": {},
   "outputs": [
    {
     "data": {
      "text/plain": [
       "id                           int64\n",
       "age                        float64\n",
       "blood_pressure             float64\n",
       "specific_gravity           float64\n",
       "albumin                    float64\n",
       "sugar                      float64\n",
       "red_blood_cells             object\n",
       "pus_cell                    object\n",
       "pus_cell_clumps             object\n",
       "bacteria                    object\n",
       "blood_glucose_random       float64\n",
       "blood_urea                 float64\n",
       "serum_creatinine           float64\n",
       "sodium                     float64\n",
       "potassium                  float64\n",
       "haemoglobin                float64\n",
       "packed_cell_volume          object\n",
       "white_blood_cell_count      object\n",
       "red_blood_cell_count        object\n",
       "hypertension                object\n",
       "diabetes_mellitus           object\n",
       "coronary_artery_disease     object\n",
       "appetite                    object\n",
       "peda_edema                  object\n",
       "anemia                      object\n",
       "class                       object\n",
       "dtype: object"
      ]
     },
     "execution_count": 182,
     "metadata": {},
     "output_type": "execute_result"
    }
   ],
   "source": [
    "kidney.dtypes"
   ]
  },
  {
   "cell_type": "code",
   "execution_count": 183,
   "metadata": {},
   "outputs": [],
   "source": [
    "# EXTRACTING CATEGORICAL AND NUMERICAL COLUMNS DATA \n",
    "\n",
    "cat_cols = [col for col in kidney.columns if kidney[col].dtype == 'object']\n",
    "num_cols = [col for col in kidney.columns if kidney[col].dtype != 'object']"
   ]
  },
  {
   "cell_type": "code",
   "execution_count": 184,
   "metadata": {},
   "outputs": [
    {
     "name": "stdout",
     "output_type": "stream",
     "text": [
      "red_blood_cells has [nan 'normal' 'abnormal'] values\n",
      "\n",
      "pus_cell has ['normal' 'abnormal' nan] values\n",
      "\n",
      "pus_cell_clumps has ['notpresent' 'present' nan] values\n",
      "\n",
      "bacteria has ['notpresent' 'present' nan] values\n",
      "\n",
      "packed_cell_volume has ['44' '38' '31' '32' '35' '39' '36' '33' '29' '28' nan '16' '24' '37' '30'\n",
      " '34' '40' '45' '27' '48' '\\t?' '52' '14' '22' '18' '42' '17' '46' '23'\n",
      " '19' '25' '41' '26' '15' '21' '43' '20' '\\t43' '47' '9' '49' '50' '53'\n",
      " '51' '54'] values\n",
      "\n",
      "white_blood_cell_count has ['7800' '6000' '7500' '6700' '7300' nan '6900' '9600' '12100' '4500'\n",
      " '12200' '11000' '3800' '11400' '5300' '9200' '6200' '8300' '8400' '10300'\n",
      " '9800' '9100' '7900' '6400' '8600' '18900' '21600' '4300' '8500' '11300'\n",
      " '7200' '7700' '14600' '6300' '\\t6200' '7100' '11800' '9400' '5500' '5800'\n",
      " '13200' '12500' '5600' '7000' '11900' '10400' '10700' '12700' '6800'\n",
      " '6500' '13600' '10200' '9000' '14900' '8200' '15200' '5000' '16300'\n",
      " '12400' '\\t8400' '10500' '4200' '4700' '10900' '8100' '9500' '2200'\n",
      " '12800' '11200' '19100' '\\t?' '12300' '16700' '2600' '26400' '8800'\n",
      " '7400' '4900' '8000' '12000' '15700' '4100' '5700' '11500' '5400' '10800'\n",
      " '9900' '5200' '5900' '9300' '9700' '5100' '6600'] values\n",
      "\n",
      "red_blood_cell_count has ['5.2' nan '3.9' '4.6' '4.4' '5' '4.0' '3.7' '3.8' '3.4' '2.6' '2.8' '4.3'\n",
      " '3.2' '3.6' '4' '4.1' '4.9' '2.5' '4.2' '4.5' '3.1' '4.7' '3.5' '6.0'\n",
      " '5.0' '2.1' '5.6' '2.3' '2.9' '2.7' '8.0' '3.3' '3.0' '3' '2.4' '4.8'\n",
      " '\\t?' '5.4' '6.1' '6.2' '6.3' '5.1' '5.8' '5.5' '5.3' '6.4' '5.7' '5.9'\n",
      " '6.5'] values\n",
      "\n",
      "hypertension has ['yes' 'no' nan] values\n",
      "\n",
      "diabetes_mellitus has ['yes' 'no' ' yes' '\\tno' '\\tyes' nan] values\n",
      "\n",
      "coronary_artery_disease has ['no' 'yes' '\\tno' nan] values\n",
      "\n",
      "appetite has ['good' 'poor' nan] values\n",
      "\n",
      "peda_edema has ['no' 'yes' nan] values\n",
      "\n",
      "anemia has ['no' 'yes' nan] values\n",
      "\n",
      "class has ['ckd' 'ckd\\t' 'notckd'] values\n",
      "\n"
     ]
    }
   ],
   "source": [
    "# Looking At unique values in Categorical Columns \n",
    "\n",
    "for col in cat_cols:\n",
    " print(f\"{col} has {kidney[col].unique()} values\\n\")"
   ]
  },
  {
   "cell_type": "code",
   "execution_count": 185,
   "metadata": {},
   "outputs": [],
   "source": [
    "#Removing Ambiguous Values In Columns\n",
    "\n",
    "# replace incorrect values\n",
    "kidney['diabetes_mellitus'].replace(to_replace = {'\\tno':'no','\\tyes':'yes',' yes':'yes'},inplace=True)\n",
    "\n",
    "kidney['coronary_artery_disease'] = kidney['coronary_artery_disease'].replace(to_replace = '\\tno', value='no')\n",
    "\n",
    "kidney['class'] = kidney['class'].replace(to_replace = {'ckd\\t': 'ckd', 'notckd': 'not ckd'})\n",
    "\n"
   ]
  },
  {
   "cell_type": "code",
   "execution_count": 186,
   "metadata": {},
   "outputs": [],
   "source": [
    "kidney['class'] = kidney['class'].map({'ckd': 0, 'not ckd': 1})\n",
    "kidney['class'] = pd.to_numeric(kidney['class'], errors='coerce')\n"
   ]
  },
  {
   "cell_type": "markdown",
   "metadata": {},
   "source": [
    "- This way we can change the classification column from object variables to numerical variables so as to easily work with Machine Learning Algorithms for the predictive model. In this case:\n",
    "\n",
    "                *ckd(Chronic Kidney Disease)= 0 \n",
    "                *not ckd(Not Having Chronic Kidney Disease)=1"
   ]
  },
  {
   "cell_type": "code",
   "execution_count": 187,
   "metadata": {},
   "outputs": [
    {
     "name": "stdout",
     "output_type": "stream",
     "text": [
      "diabetes_mellitus has ['yes' 'no' nan] values\n",
      "\n",
      "coronary_artery_disease has ['no' 'yes' nan] values\n",
      "\n",
      "class has [0 1] values\n",
      "\n"
     ]
    }
   ],
   "source": [
    "cols = ['diabetes_mellitus', 'coronary_artery_disease', 'class']\n",
    "\n",
    "for col in cols:\n",
    "    print(f\"{col} has {kidney[col].unique()} values\\n\")"
   ]
  },
  {
   "cell_type": "code",
   "execution_count": 188,
   "metadata": {},
   "outputs": [],
   "source": [
    "# converting necessary columns to numerical type\n",
    "\n",
    "kidney['packed_cell_volume'] = pd.to_numeric(kidney['packed_cell_volume'], errors='coerce')\n",
    "kidney['white_blood_cell_count'] = pd.to_numeric(kidney['white_blood_cell_count'], errors='coerce')\n",
    "kidney['red_blood_cell_count'] = pd.to_numeric(kidney['red_blood_cell_count'], errors='coerce')"
   ]
  },
  {
   "cell_type": "code",
   "execution_count": 189,
   "metadata": {},
   "outputs": [
    {
     "data": {
      "text/plain": [
       "id                           int64\n",
       "age                        float64\n",
       "blood_pressure             float64\n",
       "specific_gravity           float64\n",
       "albumin                    float64\n",
       "sugar                      float64\n",
       "red_blood_cells             object\n",
       "pus_cell                    object\n",
       "pus_cell_clumps             object\n",
       "bacteria                    object\n",
       "blood_glucose_random       float64\n",
       "blood_urea                 float64\n",
       "serum_creatinine           float64\n",
       "sodium                     float64\n",
       "potassium                  float64\n",
       "haemoglobin                float64\n",
       "packed_cell_volume         float64\n",
       "white_blood_cell_count     float64\n",
       "red_blood_cell_count       float64\n",
       "hypertension                object\n",
       "diabetes_mellitus           object\n",
       "coronary_artery_disease     object\n",
       "appetite                    object\n",
       "peda_edema                  object\n",
       "anemia                      object\n",
       "class                        int64\n",
       "dtype: object"
      ]
     },
     "execution_count": 189,
     "metadata": {},
     "output_type": "execute_result"
    }
   ],
   "source": [
    "kidney.dtypes"
   ]
  },
  {
   "cell_type": "markdown",
   "metadata": {},
   "source": [
    "- VIZUALISATION"
   ]
  },
  {
   "cell_type": "code",
   "execution_count": 190,
   "metadata": {},
   "outputs": [
    {
     "data": {
      "image/png": "[encoded data removed]",
      "text/plain": [
       "<Figure size 640x480 with 1 Axes>"
      ]
     },
     "metadata": {},
     "output_type": "display_data"
    },
    {
     "name": "stdout",
     "output_type": "stream",
     "text": [
      "Percent of chronic kidney disease sample:  62.5 %\n",
      "Percent of not a chronic kidney disease sample:  37.5 %\n"
     ]
    }
   ],
   "source": [
    "import seaborn as sns\n",
    "\n",
    "sns.countplot(x='class', data=kidney)\n",
    "plt.xlabel('Classification')\n",
    "plt.ylabel('Count')\n",
    "plt.title('Target Class')\n",
    "plt.show()\n",
    "print('Percent of chronic kidney disease sample: ',round(len(kidney[kidney['class']== 0])/len(kidney['class'])*100,2),\"%\")\n",
    "print('Percent of not a chronic kidney disease sample: ',round(len(kidney[kidney['class']== 1])/len(kidney['class'])*100,2),\"%\")\n"
   ]
  },
  {
   "cell_type": "code",
   "execution_count": 191,
   "metadata": {},
   "outputs": [
    {
     "name": "stderr",
     "output_type": "stream",
     "text": [
      "/tmp/ipykernel_7007/3773839074.py:9: UserWarning:\n",
      "\n",
      "\n",
      "\n",
      "`distplot` is a deprecated function and will be removed in seaborn v0.14.0.\n",
      "\n",
      "Please adapt your code to use either `displot` (a figure-level function with\n",
      "similar flexibility) or `histplot` (an axes-level function for histograms).\n",
      "\n",
      "For a guide to updating your code to use the new functions, please see\n",
      "https://gist.github.com/mwaskom/de44147ed2974457ad6372750bbe5751\n",
      "\n",
      "\n",
      "/tmp/ipykernel_7007/3773839074.py:9: UserWarning:\n",
      "\n",
      "\n",
      "\n",
      "`distplot` is a deprecated function and will be removed in seaborn v0.14.0.\n",
      "\n",
      "Please adapt your code to use either `displot` (a figure-level function with\n",
      "similar flexibility) or `histplot` (an axes-level function for histograms).\n",
      "\n",
      "For a guide to updating your code to use the new functions, please see\n",
      "https://gist.github.com/mwaskom/de44147ed2974457ad6372750bbe5751\n",
      "\n",
      "\n",
      "/tmp/ipykernel_7007/3773839074.py:9: UserWarning:\n",
      "\n",
      "\n",
      "\n",
      "`distplot` is a deprecated function and will be removed in seaborn v0.14.0.\n",
      "\n",
      "Please adapt your code to use either `displot` (a figure-level function with\n",
      "similar flexibility) or `histplot` (an axes-level function for histograms).\n",
      "\n",
      "For a guide to updating your code to use the new functions, please see\n",
      "https://gist.github.com/mwaskom/de44147ed2974457ad6372750bbe5751\n",
      "\n",
      "\n"
     ]
    },
    {
     "name": "stderr",
     "output_type": "stream",
     "text": [
      "/tmp/ipykernel_7007/3773839074.py:9: UserWarning:\n",
      "\n",
      "\n",
      "\n",
      "`distplot` is a deprecated function and will be removed in seaborn v0.14.0.\n",
      "\n",
      "Please adapt your code to use either `displot` (a figure-level function with\n",
      "similar flexibility) or `histplot` (an axes-level function for histograms).\n",
      "\n",
      "For a guide to updating your code to use the new functions, please see\n",
      "https://gist.github.com/mwaskom/de44147ed2974457ad6372750bbe5751\n",
      "\n",
      "\n",
      "/tmp/ipykernel_7007/3773839074.py:9: UserWarning:\n",
      "\n",
      "\n",
      "\n",
      "`distplot` is a deprecated function and will be removed in seaborn v0.14.0.\n",
      "\n",
      "Please adapt your code to use either `displot` (a figure-level function with\n",
      "similar flexibility) or `histplot` (an axes-level function for histograms).\n",
      "\n",
      "For a guide to updating your code to use the new functions, please see\n",
      "https://gist.github.com/mwaskom/de44147ed2974457ad6372750bbe5751\n",
      "\n",
      "\n",
      "/tmp/ipykernel_7007/3773839074.py:9: UserWarning:\n",
      "\n",
      "\n",
      "\n",
      "`distplot` is a deprecated function and will be removed in seaborn v0.14.0.\n",
      "\n",
      "Please adapt your code to use either `displot` (a figure-level function with\n",
      "similar flexibility) or `histplot` (an axes-level function for histograms).\n",
      "\n",
      "For a guide to updating your code to use the new functions, please see\n",
      "https://gist.github.com/mwaskom/de44147ed2974457ad6372750bbe5751\n",
      "\n",
      "\n",
      "/tmp/ipykernel_7007/3773839074.py:9: UserWarning:\n",
      "\n",
      "\n",
      "\n",
      "`distplot` is a deprecated function and will be removed in seaborn v0.14.0.\n",
      "\n",
      "Please adapt your code to use either `displot` (a figure-level function with\n",
      "similar flexibility) or `histplot` (an axes-level function for histograms).\n",
      "\n",
      "For a guide to updating your code to use the new functions, please see\n",
      "https://gist.github.com/mwaskom/de44147ed2974457ad6372750bbe5751\n",
      "\n",
      "\n",
      "/tmp/ipykernel_7007/3773839074.py:9: UserWarning:\n",
      "\n",
      "\n",
      "\n",
      "`distplot` is a deprecated function and will be removed in seaborn v0.14.0.\n",
      "\n",
      "Please adapt your code to use either `displot` (a figure-level function with\n",
      "similar flexibility) or `histplot` (an axes-level function for histograms).\n",
      "\n",
      "For a guide to updating your code to use the new functions, please see\n",
      "https://gist.github.com/mwaskom/de44147ed2974457ad6372750bbe5751\n",
      "\n",
      "\n",
      "/tmp/ipykernel_7007/3773839074.py:9: UserWarning:\n",
      "\n",
      "\n",
      "\n",
      "`distplot` is a deprecated function and will be removed in seaborn v0.14.0.\n",
      "\n",
      "Please adapt your code to use either `displot` (a figure-level function with\n",
      "similar flexibility) or `histplot` (an axes-level function for histograms).\n",
      "\n",
      "For a guide to updating your code to use the new functions, please see\n",
      "https://gist.github.com/mwaskom/de44147ed2974457ad6372750bbe5751\n",
      "\n",
      "\n",
      "/tmp/ipykernel_7007/3773839074.py:9: UserWarning:\n",
      "\n",
      "\n",
      "\n",
      "`distplot` is a deprecated function and will be removed in seaborn v0.14.0.\n",
      "\n",
      "Please adapt your code to use either `displot` (a figure-level function with\n",
      "similar flexibility) or `histplot` (an axes-level function for histograms).\n",
      "\n",
      "For a guide to updating your code to use the new functions, please see\n",
      "https://gist.github.com/mwaskom/de44147ed2974457ad6372750bbe5751\n",
      "\n",
      "\n",
      "/tmp/ipykernel_7007/3773839074.py:9: UserWarning:\n",
      "\n",
      "\n",
      "\n",
      "`distplot` is a deprecated function and will be removed in seaborn v0.14.0.\n",
      "\n",
      "Please adapt your code to use either `displot` (a figure-level function with\n",
      "similar flexibility) or `histplot` (an axes-level function for histograms).\n",
      "\n",
      "For a guide to updating your code to use the new functions, please see\n",
      "https://gist.github.com/mwaskom/de44147ed2974457ad6372750bbe5751\n",
      "\n",
      "\n",
      "/tmp/ipykernel_7007/3773839074.py:9: UserWarning:\n",
      "\n",
      "\n",
      "\n",
      "`distplot` is a deprecated function and will be removed in seaborn v0.14.0.\n",
      "\n",
      "Please adapt your code to use either `displot` (a figure-level function with\n",
      "similar flexibility) or `histplot` (an axes-level function for histograms).\n",
      "\n",
      "For a guide to updating your code to use the new functions, please see\n",
      "https://gist.github.com/mwaskom/de44147ed2974457ad6372750bbe5751\n",
      "\n",
      "\n"
     ]
    },
    {
     "data": {
      "image/png": "[encoded data removed]",
      "text/plain": [
       "<Figure size 2000x1500 with 12 Axes>"
      ]
     },
     "metadata": {},
     "output_type": "display_data"
    }
   ],
   "source": [
    "# checking numerical features distribution\n",
    "\n",
    "plt.figure(figsize = (20, 15))\n",
    "plotnumber = 1\n",
    "\n",
    "for column in num_cols:\n",
    "    if plotnumber <= 14:\n",
    "        ax = plt.subplot(3, 5, plotnumber)\n",
    "        sns.distplot(kidney[column])\n",
    "        plt.xlabel(column)\n",
    "        \n",
    "    plotnumber += 1\n",
    "\n",
    "plt.tight_layout()\n",
    "plt.show()"
   ]
  },
  {
   "cell_type": "code",
   "execution_count": 192,
   "metadata": {},
   "outputs": [
    {
     "data": {
      "application/vnd.plotly.v1+json": {
       "config": {
        "plotlyServerURL": "https://plot.ly"
       },
       "data": [
        {
         "alignmentgroup": "True",
         "hovertemplate": "red_blood_cells=%{x}<br>red_blood_cell_count=%{y}<br>class=%{marker.color}<extra></extra>",
         "legendgroup": "",
         "marker": {
          "color": [
           0,
           0,
           0,
           0,
           0,
           0,
           0,
           0,
           0,
           0,
           0,
           0,
           0,
           0,
           0,
           0,
           0,
           0,
           0,
           0,
           0,
           0,
           0,
           0,
           0,
           0,
           0,
           0,
           0,
           0,
           0,
           0,
           0,
           0,
           0,
           0,
           0,
           0,
           0,
           0,
           0,
           0,
           0,
           0,
           0,
           0,
           0,
           0,
           0,
           0,
           0,
           0,
           0,
           0,
           0,
           0,
           0,
           0,
           0,
           0,
           0,
           0,
           0,
           0,
           0,
           0,
           0,
           0,
           0,
           0,
           0,
           0,
           0,
           0,
           0,
           0,
           0,
           0,
           0,
           0,
           0,
           0,
           0,
           0,
           0,
           0,
           0,
           0,
           0,
           0,
           0,
           0,
           0,
           0,
           0,
           0,
           0,
           0,
           0,
           0,
           0,
           0,
           0,
           0,
           0,
           0,
           0,
           0,
           0,
           0,
           0,
           0,
           0,
           0,
           0,
           0,
           0,
           0,
           0,
           0,
           0,
           0,
           0,
           0,
           0,
           0,
           0,
           0,
           0,
           0,
           0,
           0,
           0,
           0,
           0,
           0,
           0,
           0,
           0,
           0,
           0,
           0,
           0,
           0,
           0,
           0,
           0,
           0,
           0,
           0,
           0,
           0,
           0,
           0,
           0,
           0,
           0,
           0,
           0,
           0,
           0,
           0,
           0,
           0,
           0,
           0,
           0,
           0,
           0,
           0,
           0,
           0,
           0,
           0,
           0,
           0,
           0,
           0,
           0,
           0,
           0,
           0,
           0,
           0,
           0,
           0,
           0,
           0,
           0,
           0,
           0,
           0,
           0,
           0,
           0,
           0,
           0,
           0,
           0,
           0,
           0,
           0,
           0,
           0,
           0,
           0,
           0,
           0,
           0,
           0,
           0,
           0,
           0,
           0,
           0,
           0,
           0,
           0,
           0,
           0,
           0,
           0,
           0,
           0,
           0,
           0,
           0,
           0,
           0,
           0,
           0,
           0,
           0,
           0,
           0,
           0,
           0,
           0,
           0,
           0,
           0,
           0,
           0,
           0,
           0,
           0,
           0,
           0,
           0,
           0,
           1,
           1,
           1,
           1,
           1,
           1,
           1,
           1,
           1,
           1,
           1,
           1,
           1,
           1,
           1,
           1,
           1,
           1,
           1,
           1,
           1,
           1,
           1,
           1,
           1,
           1,
           1,
           1,
           1,
           1,
           1,
           1,
           1,
           1,
           1,
           1,
           1,
           1,
           1,
           1,
           1,
           1,
           1,
           1,
           1,
           1,
           1,
           1,
           1,
           1,
           1,
           1,
           1,
           1,
           1,
           1,
           1,
           1,
           1,
           1,
           1,
           1,
           1,
           1,
           1,
           1,
           1,
           1,
           1,
           1,
           1,
           1,
           1,
           1,
           1,
           1,
           1,
           1,
           1,
           1,
           1,
           1,
           1,
           1,
           1,
           1,
           1,
           1,
           1,
           1,
           1,
           1,
           1,
           1,
           1,
           1,
           1,
           1,
           1,
           1,
           1,
           1,
           1,
           1,
           1,
           1,
           1,
           1,
           1,
           1,
           1,
           1,
           1,
           1,
           1,
           1,
           1,
           1,
           1,
           1,
           1,
           1,
           1,
           1,
           1,
           1,
           1,
           1,
           1,
           1,
           1,
           1,
           1,
           1,
           1,
           1,
           1,
           1,
           1,
           1,
           1,
           1,
           1,
           1,
           1,
           1,
           1,
           1,
           1,
           1
          ],
          "coloraxis": "coloraxis",
          "pattern": {
           "shape": ""
          }
         },
         "name": "",
         "offsetgroup": "",
         "orientation": "v",
         "showlegend": false,
         "textposition": "auto",
         "type": "bar",
         "x": [
          null,
          null,
          "normal",
          "normal",
          "normal",
          null,
          null,
          "normal",
          "normal",
          "abnormal",
          null,
          "abnormal",
          null,
          null,
          "normal",
          null,
          null,
          null,
          null,
          null,
          "abnormal",
          null,
          "normal",
          null,
          "normal",
          null,
          null,
          "normal",
          null,
          "abnormal",
          null,
          null,
          null,
          "abnormal",
          "normal",
          "abnormal",
          "normal",
          null,
          "abnormal",
          "normal",
          "normal",
          null,
          null,
          "abnormal",
          "abnormal",
          null,
          null,
          null,
          "normal",
          "normal",
          null,
          null,
          null,
          null,
          "normal",
          "abnormal",
          "normal",
          null,
          "abnormal",
          null,
          null,
          "normal",
          null,
          "abnormal",
          null,
          null,
          "abnormal",
          "normal",
          null,
          null,
          null,
          "normal",
          null,
          "abnormal",
          "abnormal",
          null,
          "abnormal",
          null,
          null,
          null,
          null,
          null,
          null,
          "normal",
          "normal",
          null,
          null,
          "normal",
          null,
          null,
          "normal",
          "abnormal",
          "normal",
          "abnormal",
          null,
          null,
          null,
          null,
          null,
          null,
          "abnormal",
          null,
          null,
          "normal",
          null,
          null,
          null,
          "normal",
          null,
          null,
          null,
          null,
          "abnormal",
          null,
          "abnormal",
          null,
          "abnormal",
          null,
          null,
          null,
          null,
          null,
          null,
          null,
          null,
          null,
          null,
          "normal",
          "normal",
          null,
          "normal",
          null,
          "normal",
          "normal",
          "normal",
          null,
          null,
          "normal",
          null,
          null,
          null,
          "normal",
          null,
          "abnormal",
          "abnormal",
          "abnormal",
          "abnormal",
          "normal",
          null,
          "abnormal",
          "normal",
          null,
          null,
          "abnormal",
          "abnormal",
          "abnormal",
          null,
          "normal",
          "normal",
          "abnormal",
          null,
          "abnormal",
          null,
          null,
          null,
          null,
          null,
          "abnormal",
          null,
          null,
          null,
          "normal",
          null,
          "abnormal",
          null,
          null,
          "normal",
          "normal",
          "abnormal",
          null,
          "abnormal",
          "normal",
          null,
          null,
          null,
          null,
          "normal",
          "normal",
          null,
          "abnormal",
          "abnormal",
          "normal",
          null,
          "abnormal",
          null,
          "abnormal",
          "abnormal",
          null,
          "normal",
          null,
          null,
          null,
          null,
          null,
          "normal",
          null,
          null,
          null,
          null,
          null,
          "normal",
          null,
          "normal",
          "normal",
          null,
          "normal",
          null,
          null,
          null,
          null,
          null,
          "normal",
          null,
          null,
          null,
          "abnormal",
          "abnormal",
          null,
          null,
          "normal",
          "normal",
          null,
          "abnormal",
          "normal",
          "abnormal",
          null,
          null,
          null,
          null,
          "normal",
          null,
          null,
          "normal",
          null,
          null,
          null,
          "abnormal",
          "normal",
          "abnormal",
          "normal",
          "normal",
          "normal",
          "normal",
          "normal",
          "normal",
          "normal",
          "normal",
          "normal",
          "normal",
          "normal",
          "normal",
          "normal",
          "normal",
          "normal",
          "normal",
          "normal",
          "normal",
          "normal",
          null,
          "normal",
          "normal",
          "normal",
          "normal",
          "normal",
          "normal",
          "normal",
          "normal",
          "normal",
          "normal",
          "normal",
          null,
          "normal",
          "normal",
          "normal",
          "normal",
          "normal",
          "normal",
          "normal",
          "normal",
          "normal",
          null,
          "normal",
          "normal",
          "normal",
          "normal",
          null,
          "normal",
          "normal",
          "normal",
          "normal",
          "normal",
          "normal",
          "normal",
          "normal",
          "normal",
          "normal",
          "normal",
          "normal",
          "normal",
          null,
          "normal",
          "normal",
          "normal",
          "normal",
          "normal",
          "normal",
          "normal",
          "normal",
          "normal",
          "normal",
          "normal",
          "normal",
          null,
          "normal",
          "normal",
          "normal",
          "normal",
          "normal",
          "normal",
          "normal",
          "normal",
          "normal",
          "normal",
          "normal",
          "normal",
          "normal",
          "normal",
          "normal",
          "normal",
          "normal",
          "normal",
          "normal",
          "normal",
          "normal",
          "normal",
          "normal",
          "normal",
          "normal",
          "normal",
          null,
          null,
          "normal",
          "normal",
          "normal",
          "normal",
          "normal",
          "normal",
          "normal",
          "normal",
          "normal",
          "normal",
          "normal",
          "normal",
          "normal",
          "normal",
          "normal",
          "normal",
          "normal",
          "normal",
          "normal",
          "normal",
          "normal",
          "normal",
          "normal",
          "normal",
          "normal",
          "normal",
          "normal",
          "normal",
          "normal",
          "normal",
          null,
          "normal",
          "normal",
          "normal",
          "normal",
          "normal",
          "normal",
          "normal",
          "normal",
          "normal",
          "normal",
          "normal",
          "normal",
          "normal",
          "normal",
          "normal",
          "normal",
          "normal",
          "normal"
         ],
         "xaxis": "x",
         "y": [
          5.2,
          null,
          null,
          3.9,
          4.6,
          4.4,
          null,
          5,
          4,
          3.7,
          null,
          3.8,
          3.4,
          null,
          2.6,
          2.8,
          null,
          null,
          4.3,
          3.7,
          3.2,
          3.6,
          3.4,
          null,
          4.6,
          3.7,
          4,
          4.1,
          null,
          null,
          null,
          4,
          4,
          null,
          null,
          4.9,
          null,
          2.5,
          null,
          4.2,
          4.1,
          null,
          4.5,
          3.1,
          null,
          null,
          4.7,
          null,
          3.5,
          3.5,
          3.8,
          null,
          3.7,
          4.7,
          4.2,
          null,
          3.4,
          null,
          4.3,
          null,
          null,
          null,
          3.8,
          null,
          null,
          null,
          null,
          null,
          null,
          6,
          5.2,
          3.2,
          null,
          null,
          3.4,
          null,
          4,
          3.7,
          null,
          5,
          3.8,
          3.7,
          null,
          null,
          2.1,
          null,
          null,
          5,
          4.7,
          null,
          4.2,
          5.6,
          3.6,
          3.2,
          3.9,
          null,
          null,
          4,
          2.3,
          4.2,
          null,
          3.9,
          null,
          4.2,
          null,
          5.2,
          null,
          4.4,
          4.2,
          null,
          4.7,
          3.9,
          null,
          null,
          null,
          4.3,
          null,
          4.4,
          null,
          null,
          null,
          null,
          null,
          null,
          3.6,
          null,
          4.5,
          4.3,
          2.9,
          null,
          2.7,
          null,
          2.7,
          8,
          3.8,
          null,
          null,
          null,
          null,
          null,
          null,
          null,
          null,
          null,
          4.1,
          3.3,
          null,
          3,
          null,
          null,
          null,
          null,
          null,
          2.9,
          3,
          null,
          null,
          3.9,
          null,
          4.3,
          2.4,
          4.8,
          null,
          3.2,
          5.4,
          null,
          null,
          null,
          null,
          null,
          4.4,
          3.1,
          4.9,
          null,
          4.6,
          3.4,
          3.9,
          null,
          null,
          null,
          null,
          3.7,
          null,
          null,
          3.6,
          null,
          null,
          null,
          null,
          3.4,
          4.8,
          3.4,
          null,
          2.8,
          null,
          null,
          3.5,
          3,
          3.9,
          3.2,
          3.9,
          null,
          null,
          null,
          null,
          null,
          null,
          4.6,
          4.9,
          null,
          3.9,
          null,
          3.4,
          3.7,
          5.2,
          null,
          null,
          4.3,
          null,
          3.3,
          null,
          null,
          null,
          4.6,
          null,
          4.5,
          3.4,
          3.8,
          null,
          3.8,
          null,
          null,
          null,
          null,
          5.2,
          null,
          null,
          null,
          null,
          null,
          4.1,
          3.9,
          3.3,
          6.1,
          4.6,
          2.6,
          2.5,
          null,
          4.1,
          2.1,
          4.5,
          5,
          4.7,
          6.2,
          5.2,
          6.3,
          5.1,
          5.8,
          5.5,
          5.2,
          5.3,
          4.9,
          5.4,
          5.2,
          4.5,
          5,
          5.3,
          4.8,
          4.9,
          5.3,
          5,
          4.5,
          5.5,
          null,
          null,
          4.6,
          5.5,
          4.8,
          6.4,
          5.6,
          5.2,
          6,
          4.8,
          5.7,
          6,
          5.9,
          6,
          null,
          5.1,
          5.3,
          5.9,
          5.7,
          5,
          5.4,
          5.8,
          6.5,
          5.9,
          5.2,
          4.9,
          4.7,
          5.8,
          5,
          null,
          6.1,
          4.5,
          5.2,
          5.7,
          4.5,
          4.9,
          5.9,
          5.4,
          5.6,
          6.1,
          4.8,
          4.7,
          4.4,
          5.2,
          4.9,
          5.3,
          null,
          6.2,
          4.8,
          4.9,
          4.5,
          null,
          6.5,
          5.2,
          5.8,
          6.5,
          5.1,
          null,
          4.5,
          6.1,
          5.5,
          4.5,
          5.6,
          5.2,
          6.2,
          4.5,
          4.9,
          5.9,
          4.7,
          6.3,
          5.7,
          4.7,
          6.4,
          5.8,
          5.5,
          6.4,
          6.1,
          4.5,
          4.7,
          5.2,
          4.5,
          5.1,
          4.6,
          6.1,
          4.9,
          5.6,
          4.5,
          6.2,
          5.8,
          4.8,
          5.2,
          4.7,
          6.3,
          5.3,
          6.1,
          5.9,
          4.8,
          5.4,
          5,
          5.5,
          4.9,
          6.4,
          5.6,
          5.2,
          4.8,
          5.5,
          5.7,
          4.9,
          5.9,
          6.5,
          5,
          4.5,
          5.1,
          6.5,
          5.2,
          6.4,
          5.8,
          5.3,
          6.3,
          5.5,
          5.4,
          4.6,
          4.9,
          6.2,
          5.4,
          5.9,
          6.1
         ],
         "yaxis": "y"
        }
       ],
       "layout": {
        "barmode": "group",
        "coloraxis": {
         "colorbar": {
          "title": {
           "text": "class"
          }
         },
         "colorscale": [
          [
           0,
           "#0d0887"
          ],
          [
           0.1111111111111111,
           "#46039f"
          ],
          [
           0.2222222222222222,
           "#7201a8"
          ],
          [
           0.3333333333333333,
           "#9c179e"
          ],
          [
           0.4444444444444444,
           "#bd3786"
          ],
          [
           0.5555555555555556,
           "#d8576b"
          ],
          [
           0.6666666666666666,
           "#ed7953"
          ],
          [
           0.7777777777777778,
           "#fb9f3a"
          ],
          [
           0.8888888888888888,
           "#fdca26"
          ],
          [
           1,
           "#f0f921"
          ]
         ]
        },
        "height": 400,
        "legend": {
         "tracegroupgap": 0
        },
        "margin": {
         "t": 60
        },
        "template": {
         "data": {
          "bar": [
           {
            "error_x": {
             "color": "#2a3f5f"
            },
            "error_y": {
             "color": "#2a3f5f"
            },
            "marker": {
             "line": {
              "color": "#E5ECF6",
              "width": 0.5
             },
             "pattern": {
              "fillmode": "overlay",
              "size": 10,
              "solidity": 0.2
             }
            },
            "type": "bar"
           }
          ],
          "barpolar": [
           {
            "marker": {
             "line": {
              "color": "#E5ECF6",
              "width": 0.5
             },
             "pattern": {
              "fillmode": "overlay",
              "size": 10,
              "solidity": 0.2
             }
            },
            "type": "barpolar"
           }
          ],
          "carpet": [
           {
            "aaxis": {
             "endlinecolor": "#2a3f5f",
             "gridcolor": "white",
             "linecolor": "white",
             "minorgridcolor": "white",
             "startlinecolor": "#2a3f5f"
            },
            "baxis": {
             "endlinecolor": "#2a3f5f",
             "gridcolor": "white",
             "linecolor": "white",
             "minorgridcolor": "white",
             "startlinecolor": "#2a3f5f"
            },
            "type": "carpet"
           }
          ],
          "choropleth": [
           {
            "colorbar": {
             "outlinewidth": 0,
             "ticks": ""
            },
            "type": "choropleth"
           }
          ],
          "contour": [
           {
            "colorbar": {
             "outlinewidth": 0,
             "ticks": ""
            },
            "colorscale": [
             [
              0,
              "#0d0887"
             ],
             [
              0.1111111111111111,
              "#46039f"
             ],
             [
              0.2222222222222222,
              "#7201a8"
             ],
             [
              0.3333333333333333,
              "#9c179e"
             ],
             [
              0.4444444444444444,
              "#bd3786"
             ],
             [
              0.5555555555555556,
              "#d8576b"
             ],
             [
              0.6666666666666666,
              "#ed7953"
             ],
             [
              0.7777777777777778,
              "#fb9f3a"
             ],
             [
              0.8888888888888888,
              "#fdca26"
             ],
             [
              1,
              "#f0f921"
             ]
            ],
            "type": "contour"
           }
          ],
          "contourcarpet": [
           {
            "colorbar": {
             "outlinewidth": 0,
             "ticks": ""
            },
            "type": "contourcarpet"
           }
          ],
          "heatmap": [
           {
            "colorbar": {
             "outlinewidth": 0,
             "ticks": ""
            },
            "colorscale": [
             [
              0,
              "#0d0887"
             ],
             [
              0.1111111111111111,
              "#46039f"
             ],
             [
              0.2222222222222222,
              "#7201a8"
             ],
             [
              0.3333333333333333,
              "#9c179e"
             ],
             [
              0.4444444444444444,
              "#bd3786"
             ],
             [
              0.5555555555555556,
              "#d8576b"
             ],
             [
              0.6666666666666666,
              "#ed7953"
             ],
             [
              0.7777777777777778,
              "#fb9f3a"
             ],
             [
              0.8888888888888888,
              "#fdca26"
             ],
             [
              1,
              "#f0f921"
             ]
            ],
            "type": "heatmap"
           }
          ],
          "heatmapgl": [
           {
            "colorbar": {
             "outlinewidth": 0,
             "ticks": ""
            },
            "colorscale": [
             [
              0,
              "#0d0887"
             ],
             [
              0.1111111111111111,
              "#46039f"
             ],
             [
              0.2222222222222222,
              "#7201a8"
             ],
             [
              0.3333333333333333,
              "#9c179e"
             ],
             [
              0.4444444444444444,
              "#bd3786"
             ],
             [
              0.5555555555555556,
              "#d8576b"
             ],
             [
              0.6666666666666666,
              "#ed7953"
             ],
             [
              0.7777777777777778,
              "#fb9f3a"
             ],
             [
              0.8888888888888888,
              "#fdca26"
             ],
             [
              1,
              "#f0f921"
             ]
            ],
            "type": "heatmapgl"
           }
          ],
          "histogram": [
           {
            "marker": {
             "pattern": {
              "fillmode": "overlay",
              "size": 10,
              "solidity": 0.2
             }
            },
            "type": "histogram"
           }
          ],
          "histogram2d": [
           {
            "colorbar": {
             "outlinewidth": 0,
             "ticks": ""
            },
            "colorscale": [
             [
              0,
              "#0d0887"
             ],
             [
              0.1111111111111111,
              "#46039f"
             ],
             [
              0.2222222222222222,
              "#7201a8"
             ],
             [
              0.3333333333333333,
              "#9c179e"
             ],
             [
              0.4444444444444444,
              "#bd3786"
             ],
             [
              0.5555555555555556,
              "#d8576b"
             ],
             [
              0.6666666666666666,
              "#ed7953"
             ],
             [
              0.7777777777777778,
              "#fb9f3a"
             ],
             [
              0.8888888888888888,
              "#fdca26"
             ],
             [
              1,
              "#f0f921"
             ]
            ],
            "type": "histogram2d"
           }
          ],
          "histogram2dcontour": [
           {
            "colorbar": {
             "outlinewidth": 0,
             "ticks": ""
            },
            "colorscale": [
             [
              0,
              "#0d0887"
             ],
             [
              0.1111111111111111,
              "#46039f"
             ],
             [
              0.2222222222222222,
              "#7201a8"
             ],
             [
              0.3333333333333333,
              "#9c179e"
             ],
             [
              0.4444444444444444,
              "#bd3786"
             ],
             [
              0.5555555555555556,
              "#d8576b"
             ],
             [
              0.6666666666666666,
              "#ed7953"
             ],
             [
              0.7777777777777778,
              "#fb9f3a"
             ],
             [
              0.8888888888888888,
              "#fdca26"
             ],
             [
              1,
              "#f0f921"
             ]
            ],
            "type": "histogram2dcontour"
           }
          ],
          "mesh3d": [
           {
            "colorbar": {
             "outlinewidth": 0,
             "ticks": ""
            },
            "type": "mesh3d"
           }
          ],
          "parcoords": [
           {
            "line": {
             "colorbar": {
              "outlinewidth": 0,
              "ticks": ""
             }
            },
            "type": "parcoords"
           }
          ],
          "pie": [
           {
            "automargin": true,
            "type": "pie"
           }
          ],
          "scatter": [
           {
            "fillpattern": {
             "fillmode": "overlay",
             "size": 10,
             "solidity": 0.2
            },
            "type": "scatter"
           }
          ],
          "scatter3d": [
           {
            "line": {
             "colorbar": {
              "outlinewidth": 0,
              "ticks": ""
             }
            },
            "marker": {
             "colorbar": {
              "outlinewidth": 0,
              "ticks": ""
             }
            },
            "type": "scatter3d"
           }
          ],
          "scattercarpet": [
           {
            "marker": {
             "colorbar": {
              "outlinewidth": 0,
              "ticks": ""
             }
            },
            "type": "scattercarpet"
           }
          ],
          "scattergeo": [
           {
            "marker": {
             "colorbar": {
              "outlinewidth": 0,
              "ticks": ""
             }
            },
            "type": "scattergeo"
           }
          ],
          "scattergl": [
           {
            "marker": {
             "colorbar": {
              "outlinewidth": 0,
              "ticks": ""
             }
            },
            "type": "scattergl"
           }
          ],
          "scattermapbox": [
           {
            "marker": {
             "colorbar": {
              "outlinewidth": 0,
              "ticks": ""
             }
            },
            "type": "scattermapbox"
           }
          ],
          "scatterpolar": [
           {
            "marker": {
             "colorbar": {
              "outlinewidth": 0,
              "ticks": ""
             }
            },
            "type": "scatterpolar"
           }
          ],
          "scatterpolargl": [
           {
            "marker": {
             "colorbar": {
              "outlinewidth": 0,
              "ticks": ""
             }
            },
            "type": "scatterpolargl"
           }
          ],
          "scatterternary": [
           {
            "marker": {
             "colorbar": {
              "outlinewidth": 0,
              "ticks": ""
             }
            },
            "type": "scatterternary"
           }
          ],
          "surface": [
           {
            "colorbar": {
             "outlinewidth": 0,
             "ticks": ""
            },
            "colorscale": [
             [
              0,
              "#0d0887"
             ],
             [
              0.1111111111111111,
              "#46039f"
             ],
             [
              0.2222222222222222,
              "#7201a8"
             ],
             [
              0.3333333333333333,
              "#9c179e"
             ],
             [
              0.4444444444444444,
              "#bd3786"
             ],
             [
              0.5555555555555556,
              "#d8576b"
             ],
             [
              0.6666666666666666,
              "#ed7953"
             ],
             [
              0.7777777777777778,
              "#fb9f3a"
             ],
             [
              0.8888888888888888,
              "#fdca26"
             ],
             [
              1,
              "#f0f921"
             ]
            ],
            "type": "surface"
           }
          ],
          "table": [
           {
            "cells": {
             "fill": {
              "color": "#EBF0F8"
             },
             "line": {
              "color": "white"
             }
            },
            "header": {
             "fill": {
              "color": "#C8D4E3"
             },
             "line": {
              "color": "white"
             }
            },
            "type": "table"
           }
          ]
         },
         "layout": {
          "annotationdefaults": {
           "arrowcolor": "#2a3f5f",
           "arrowhead": 0,
           "arrowwidth": 1
          },
          "autotypenumbers": "strict",
          "coloraxis": {
           "colorbar": {
            "outlinewidth": 0,
            "ticks": ""
           }
          },
          "colorscale": {
           "diverging": [
            [
             0,
             "#8e0152"
            ],
            [
             0.1,
             "#c51b7d"
            ],
            [
             0.2,
             "#de77ae"
            ],
            [
             0.3,
             "#f1b6da"
            ],
            [
             0.4,
             "#fde0ef"
            ],
            [
             0.5,
             "#f7f7f7"
            ],
            [
             0.6,
             "#e6f5d0"
            ],
            [
             0.7,
             "#b8e186"
            ],
            [
             0.8,
             "#7fbc41"
            ],
            [
             0.9,
             "#4d9221"
            ],
            [
             1,
             "#276419"
            ]
           ],
           "sequential": [
            [
             0,
             "#0d0887"
            ],
            [
             0.1111111111111111,
             "#46039f"
            ],
            [
             0.2222222222222222,
             "#7201a8"
            ],
            [
             0.3333333333333333,
             "#9c179e"
            ],
            [
             0.4444444444444444,
             "#bd3786"
            ],
            [
             0.5555555555555556,
             "#d8576b"
            ],
            [
             0.6666666666666666,
             "#ed7953"
            ],
            [
             0.7777777777777778,
             "#fb9f3a"
            ],
            [
             0.8888888888888888,
             "#fdca26"
            ],
            [
             1,
             "#f0f921"
            ]
           ],
           "sequentialminus": [
            [
             0,
             "#0d0887"
            ],
            [
             0.1111111111111111,
             "#46039f"
            ],
            [
             0.2222222222222222,
             "#7201a8"
            ],
            [
             0.3333333333333333,
             "#9c179e"
            ],
            [
             0.4444444444444444,
             "#bd3786"
            ],
            [
             0.5555555555555556,
             "#d8576b"
            ],
            [
             0.6666666666666666,
             "#ed7953"
            ],
            [
             0.7777777777777778,
             "#fb9f3a"
            ],
            [
             0.8888888888888888,
             "#fdca26"
            ],
            [
             1,
             "#f0f921"
            ]
           ]
          },
          "colorway": [
           "#636efa",
           "#EF553B",
           "#00cc96",
           "#ab63fa",
           "#FFA15A",
           "#19d3f3",
           "#FF6692",
           "#B6E880",
           "#FF97FF",
           "#FECB52"
          ],
          "font": {
           "color": "#2a3f5f"
          },
          "geo": {
           "bgcolor": "white",
           "lakecolor": "white",
           "landcolor": "#E5ECF6",
           "showlakes": true,
           "showland": true,
           "subunitcolor": "white"
          },
          "hoverlabel": {
           "align": "left"
          },
          "hovermode": "closest",
          "mapbox": {
           "style": "light"
          },
          "paper_bgcolor": "white",
          "plot_bgcolor": "#E5ECF6",
          "polar": {
           "angularaxis": {
            "gridcolor": "white",
            "linecolor": "white",
            "ticks": ""
           },
           "bgcolor": "#E5ECF6",
           "radialaxis": {
            "gridcolor": "white",
            "linecolor": "white",
            "ticks": ""
           }
          },
          "scene": {
           "xaxis": {
            "backgroundcolor": "#E5ECF6",
            "gridcolor": "white",
            "gridwidth": 2,
            "linecolor": "white",
            "showbackground": true,
            "ticks": "",
            "zerolinecolor": "white"
           },
           "yaxis": {
            "backgroundcolor": "#E5ECF6",
            "gridcolor": "white",
            "gridwidth": 2,
            "linecolor": "white",
            "showbackground": true,
            "ticks": "",
            "zerolinecolor": "white"
           },
           "zaxis": {
            "backgroundcolor": "#E5ECF6",
            "gridcolor": "white",
            "gridwidth": 2,
            "linecolor": "white",
            "showbackground": true,
            "ticks": "",
            "zerolinecolor": "white"
           }
          },
          "shapedefaults": {
           "line": {
            "color": "#2a3f5f"
           }
          },
          "ternary": {
           "aaxis": {
            "gridcolor": "white",
            "linecolor": "white",
            "ticks": ""
           },
           "baxis": {
            "gridcolor": "white",
            "linecolor": "white",
            "ticks": ""
           },
           "bgcolor": "#E5ECF6",
           "caxis": {
            "gridcolor": "white",
            "linecolor": "white",
            "ticks": ""
           }
          },
          "title": {
           "x": 0.05
          },
          "xaxis": {
           "automargin": true,
           "gridcolor": "white",
           "linecolor": "white",
           "ticks": "",
           "title": {
            "standoff": 15
           },
           "zerolinecolor": "white",
           "zerolinewidth": 2
          },
          "yaxis": {
           "automargin": true,
           "gridcolor": "white",
           "linecolor": "white",
           "ticks": "",
           "title": {
            "standoff": 15
           },
           "zerolinecolor": "white",
           "zerolinewidth": 2
          }
         }
        },
        "xaxis": {
         "anchor": "y",
         "domain": [
          0,
          1
         ],
         "title": {
          "text": "red_blood_cells"
         }
        },
        "yaxis": {
         "anchor": "x",
         "domain": [
          0,
          1
         ],
         "title": {
          "text": "red_blood_cell_count"
         }
        }
       }
      }
     },
     "metadata": {},
     "output_type": "display_data"
    }
   ],
   "source": [
    "fig = px.bar(kidney, x=\"red_blood_cells\", y=\"red_blood_cell_count\",color='class', barmode='group',height=400)\n",
    "fig.show()"
   ]
  },
  {
   "cell_type": "markdown",
   "metadata": {},
   "source": []
  },
  {
   "cell_type": "code",
   "execution_count": 193,
   "metadata": {},
   "outputs": [
    {
     "data": {
      "application/vnd.plotly.v1+json": {
       "config": {
        "plotlyServerURL": "https://plot.ly"
       },
       "data": [
        {
         "alignmentgroup": "True",
         "hovertemplate": "specific_gravity=%{x}<br>packed_cell_volume=%{y}<br>class=%{marker.color}<extra></extra>",
         "legendgroup": "",
         "marker": {
          "color": [
           0,
           0,
           0,
           0,
           0,
           0,
           0,
           0,
           0,
           0,
           0,
           0,
           0,
           0,
           0,
           0,
           0,
           0,
           0,
           0,
           0,
           0,
           0,
           0,
           0,
           0,
           0,
           0,
           0,
           0,
           0,
           0,
           0,
           0,
           0,
           0,
           0,
           0,
           0,
           0,
           0,
           0,
           0,
           0,
           0,
           0,
           0,
           0,
           0,
           0,
           0,
           0,
           0,
           0,
           0,
           0,
           0,
           0,
           0,
           0,
           0,
           0,
           0,
           0,
           0,
           0,
           0,
           0,
           0,
           0,
           0,
           0,
           0,
           0,
           0,
           0,
           0,
           0,
           0,
           0,
           0,
           0,
           0,
           0,
           0,
           0,
           0,
           0,
           0,
           0,
           0,
           0,
           0,
           0,
           0,
           0,
           0,
           0,
           0,
           0,
           0,
           0,
           0,
           0,
           0,
           0,
           0,
           0,
           0,
           0,
           0,
           0,
           0,
           0,
           0,
           0,
           0,
           0,
           0,
           0,
           0,
           0,
           0,
           0,
           0,
           0,
           0,
           0,
           0,
           0,
           0,
           0,
           0,
           0,
           0,
           0,
           0,
           0,
           0,
           0,
           0,
           0,
           0,
           0,
           0,
           0,
           0,
           0,
           0,
           0,
           0,
           0,
           0,
           0,
           0,
           0,
           0,
           0,
           0,
           0,
           0,
           0,
           0,
           0,
           0,
           0,
           0,
           0,
           0,
           0,
           0,
           0,
           0,
           0,
           0,
           0,
           0,
           0,
           0,
           0,
           0,
           0,
           0,
           0,
           0,
           0,
           0,
           0,
           0,
           0,
           0,
           0,
           0,
           0,
           0,
           0,
           0,
           0,
           0,
           0,
           0,
           0,
           0,
           0,
           0,
           0,
           0,
           0,
           0,
           0,
           0,
           0,
           0,
           0,
           0,
           0,
           0,
           0,
           0,
           0,
           0,
           0,
           0,
           0,
           0,
           0,
           0,
           0,
           0,
           0,
           0,
           0,
           0,
           0,
           0,
           0,
           0,
           0,
           0,
           0,
           0,
           0,
           0,
           0,
           0,
           0,
           0,
           0,
           0,
           0,
           1,
           1,
           1,
           1,
           1,
           1,
           1,
           1,
           1,
           1,
           1,
           1,
           1,
           1,
           1,
           1,
           1,
           1,
           1,
           1,
           1,
           1,
           1,
           1,
           1,
           1,
           1,
           1,
           1,
           1,
           1,
           1,
           1,
           1,
           1,
           1,
           1,
           1,
           1,
           1,
           1,
           1,
           1,
           1,
           1,
           1,
           1,
           1,
           1,
           1,
           1,
           1,
           1,
           1,
           1,
           1,
           1,
           1,
           1,
           1,
           1,
           1,
           1,
           1,
           1,
           1,
           1,
           1,
           1,
           1,
           1,
           1,
           1,
           1,
           1,
           1,
           1,
           1,
           1,
           1,
           1,
           1,
           1,
           1,
           1,
           1,
           1,
           1,
           1,
           1,
           1,
           1,
           1,
           1,
           1,
           1,
           1,
           1,
           1,
           1,
           1,
           1,
           1,
           1,
           1,
           1,
           1,
           1,
           1,
           1,
           1,
           1,
           1,
           1,
           1,
           1,
           1,
           1,
           1,
           1,
           1,
           1,
           1,
           1,
           1,
           1,
           1,
           1,
           1,
           1,
           1,
           1,
           1,
           1,
           1,
           1,
           1,
           1,
           1,
           1,
           1,
           1,
           1,
           1,
           1,
           1,
           1,
           1,
           1,
           1
          ],
          "coloraxis": "coloraxis",
          "pattern": {
           "shape": ""
          }
         },
         "name": "",
         "offsetgroup": "",
         "orientation": "v",
         "showlegend": false,
         "textposition": "auto",
         "type": "bar",
         "x": [
          1.02,
          1.02,
          1.01,
          1.005,
          1.01,
          1.015,
          1.01,
          1.015,
          1.015,
          1.02,
          1.01,
          1.01,
          1.015,
          null,
          1.01,
          1.015,
          1.015,
          null,
          1.025,
          1.015,
          1.015,
          null,
          1.025,
          1.01,
          1.015,
          1.025,
          1.015,
          1.01,
          null,
          1.005,
          null,
          1.015,
          1.01,
          1.02,
          1.01,
          1.02,
          1.015,
          null,
          1.02,
          1.01,
          1.01,
          1.01,
          1.01,
          1.01,
          1.01,
          1.02,
          1.015,
          1.01,
          1.005,
          1.01,
          null,
          1.015,
          1.015,
          1.015,
          1.01,
          1.005,
          1.015,
          null,
          1.02,
          null,
          1.02,
          1.01,
          1.02,
          1.015,
          1.01,
          1.01,
          1.02,
          1.02,
          1.01,
          1.015,
          1.015,
          1.01,
          1.01,
          1.015,
          1.015,
          1.015,
          1.005,
          1.01,
          null,
          1.01,
          1.01,
          null,
          null,
          1.015,
          1.01,
          1.015,
          null,
          1.005,
          1.01,
          1.02,
          1.01,
          1.015,
          1.01,
          1.01,
          1.01,
          1.015,
          1.01,
          1.015,
          null,
          null,
          1.015,
          1.015,
          1.01,
          1.015,
          null,
          1.015,
          null,
          1.015,
          1.015,
          null,
          1.015,
          1.01,
          1.015,
          1.015,
          1.015,
          1.01,
          1.015,
          1.02,
          1.01,
          1.01,
          1.025,
          null,
          null,
          1.015,
          1.015,
          null,
          1.015,
          1.015,
          1.015,
          1.025,
          1.01,
          1.01,
          null,
          1.015,
          1.01,
          1.015,
          1.02,
          1.01,
          1.01,
          1.015,
          1.01,
          1.01,
          null,
          1.015,
          1.01,
          1.015,
          1.01,
          1.01,
          null,
          1.02,
          1.025,
          null,
          1.01,
          1.01,
          1.005,
          1.02,
          1.015,
          1.025,
          1.02,
          1.01,
          null,
          1.015,
          null,
          1.01,
          1.015,
          1.02,
          null,
          1.02,
          1.015,
          1.01,
          1.015,
          1.02,
          1.01,
          1.015,
          null,
          1.01,
          1.01,
          1.015,
          1.02,
          1.01,
          1.01,
          1.025,
          1.02,
          1.015,
          1.015,
          1.02,
          1.02,
          1.01,
          null,
          1.01,
          1.01,
          1.01,
          1.015,
          1.025,
          1.01,
          1.02,
          1.01,
          null,
          1.02,
          1.015,
          1.025,
          null,
          null,
          null,
          1.01,
          null,
          1.01,
          1.01,
          null,
          1.02,
          1.015,
          1.015,
          1.015,
          1.01,
          1.015,
          1.01,
          1.01,
          1.01,
          1.015,
          1.01,
          1.01,
          1.02,
          null,
          1.01,
          1.02,
          1.01,
          1.015,
          1.015,
          null,
          1.01,
          1.01,
          null,
          1.015,
          1.015,
          1.01,
          1.01,
          null,
          1.015,
          null,
          1.015,
          1.015,
          1.015,
          1.01,
          1.02,
          1.015,
          null,
          1.015,
          1.025,
          1.01,
          1.01,
          1.025,
          1.025,
          1.025,
          1.025,
          1.025,
          1.025,
          1.025,
          1.02,
          1.02,
          1.02,
          1.02,
          1.02,
          1.02,
          1.02,
          1.02,
          1.02,
          1.02,
          1.025,
          null,
          1.025,
          1.025,
          1.025,
          1.025,
          1.02,
          1.02,
          1.02,
          1.025,
          1.025,
          1.02,
          1.025,
          null,
          1.025,
          1.02,
          1.02,
          1.025,
          1.02,
          1.02,
          1.025,
          1.025,
          1.02,
          1.02,
          1.025,
          1.02,
          1.02,
          1.02,
          null,
          1.02,
          1.025,
          1.02,
          1.02,
          1.02,
          1.025,
          1.02,
          1.02,
          1.025,
          1.02,
          1.02,
          1.02,
          1.025,
          1.02,
          1.02,
          1.025,
          1.02,
          1.02,
          1.025,
          1.025,
          1.02,
          1.02,
          1.025,
          1.02,
          1.02,
          1.02,
          null,
          1.025,
          1.02,
          1.02,
          1.02,
          1.025,
          1.02,
          1.025,
          1.02,
          1.025,
          1.025,
          1.02,
          1.025,
          1.02,
          1.02,
          1.025,
          1.02,
          1.02,
          1.025,
          1.025,
          1.02,
          1.025,
          1.02,
          1.025,
          null,
          1.025,
          1.02,
          1.025,
          1.025,
          1.02,
          1.02,
          1.02,
          1.025,
          1.02,
          1.025,
          1.025,
          1.02,
          1.02,
          1.025,
          1.02,
          1.025,
          1.025,
          1.025,
          1.02,
          1.025,
          1.025,
          1.025,
          1.02,
          1.02,
          1.025,
          1.02,
          1.025,
          1.025,
          1.02,
          1.025,
          1.02,
          1.025,
          1.025,
          1.02,
          1.025,
          1.025,
          1.025,
          1.02,
          1.02,
          1.025,
          1.025,
          1.02,
          1.025,
          1.025,
          1.025,
          1.02,
          1.025,
          1.02,
          1.02,
          1.025,
          1.02,
          1.025,
          1.025
         ],
         "xaxis": "x",
         "y": [
          44,
          38,
          31,
          32,
          35,
          39,
          36,
          44,
          33,
          29,
          28,
          32,
          28,
          null,
          16,
          24,
          null,
          null,
          37,
          30,
          24,
          32,
          32,
          null,
          39,
          29,
          35,
          37,
          null,
          38,
          null,
          30,
          34,
          29,
          null,
          36,
          32,
          28,
          null,
          40,
          32,
          null,
          33,
          24,
          28,
          null,
          37,
          45,
          29,
          29,
          28,
          33,
          34,
          40,
          40,
          28,
          30,
          null,
          33,
          null,
          null,
          null,
          33,
          27,
          null,
          48,
          null,
          null,
          37,
          52,
          44,
          28,
          null,
          14,
          29,
          null,
          36,
          34,
          30,
          40,
          31,
          29,
          null,
          null,
          22,
          null,
          null,
          32,
          null,
          null,
          40,
          52,
          33,
          30,
          36,
          null,
          36,
          32,
          18,
          32,
          null,
          33,
          52,
          36,
          null,
          42,
          17,
          34,
          37,
          null,
          34,
          32,
          33,
          null,
          null,
          44,
          null,
          37,
          null,
          null,
          null,
          46,
          null,
          42,
          28,
          null,
          37,
          35,
          23,
          null,
          22,
          36,
          24,
          37,
          33,
          39,
          null,
          29,
          null,
          33,
          null,
          19,
          null,
          null,
          33,
          24,
          null,
          25,
          null,
          32,
          41,
          30,
          32,
          22,
          26,
          36,
          null,
          39,
          31,
          35,
          35,
          42,
          37,
          27,
          40,
          null,
          null,
          42,
          39,
          27,
          33,
          26,
          34,
          41,
          35,
          null,
          23,
          41,
          34,
          39,
          28,
          30,
          35,
          null,
          31,
          34,
          null,
          34,
          38,
          29,
          30,
          26,
          null,
          15,
          null,
          null,
          24,
          null,
          30,
          25,
          37,
          21,
          24,
          null,
          31,
          43,
          41,
          41,
          41,
          null,
          20,
          null,
          31,
          34,
          43,
          null,
          38,
          36,
          34,
          28,
          36,
          null,
          null,
          38,
          null,
          35,
          26,
          36,
          null,
          31,
          null,
          35,
          null,
          null,
          44,
          26,
          25,
          40,
          28,
          39,
          36,
          31,
          28,
          47,
          40,
          19,
          26,
          null,
          37,
          9,
          48,
          52,
          46,
          42,
          49,
          52,
          41,
          46,
          44,
          45,
          45,
          41,
          43,
          45,
          50,
          48,
          41,
          48,
          53,
          48,
          41,
          42,
          42,
          null,
          44,
          43,
          41,
          50,
          44,
          48,
          52,
          41,
          44,
          43,
          52,
          41,
          44,
          43,
          50,
          43,
          52,
          41,
          52,
          48,
          40,
          50,
          41,
          45,
          48,
          52,
          43,
          41,
          48,
          50,
          45,
          41,
          52,
          44,
          48,
          40,
          44,
          45,
          48,
          52,
          41,
          48,
          48,
          40,
          52,
          null,
          44,
          48,
          43,
          45,
          null,
          50,
          41,
          44,
          45,
          48,
          42,
          46,
          44,
          46,
          43,
          48,
          40,
          52,
          44,
          48,
          43,
          41,
          50,
          50,
          42,
          42,
          52,
          43,
          44,
          52,
          43,
          40,
          48,
          51,
          41,
          52,
          47,
          42,
          45,
          53,
          43,
          54,
          40,
          44,
          45,
          null,
          46,
          50,
          45,
          46,
          50,
          51,
          52,
          47,
          40,
          48,
          53,
          49,
          42,
          50,
          54,
          40,
          51,
          49,
          42,
          52,
          43,
          50,
          46,
          52,
          52,
          44,
          46,
          54,
          45,
          47,
          54,
          49,
          51,
          53
         ],
         "yaxis": "y"
        }
       ],
       "layout": {
        "barmode": "group",
        "coloraxis": {
         "colorbar": {
          "title": {
           "text": "class"
          }
         },
         "colorscale": [
          [
           0,
           "#0d0887"
          ],
          [
           0.1111111111111111,
           "#46039f"
          ],
          [
           0.2222222222222222,
           "#7201a8"
          ],
          [
           0.3333333333333333,
           "#9c179e"
          ],
          [
           0.4444444444444444,
           "#bd3786"
          ],
          [
           0.5555555555555556,
           "#d8576b"
          ],
          [
           0.6666666666666666,
           "#ed7953"
          ],
          [
           0.7777777777777778,
           "#fb9f3a"
          ],
          [
           0.8888888888888888,
           "#fdca26"
          ],
          [
           1,
           "#f0f921"
          ]
         ]
        },
        "height": 400,
        "legend": {
         "tracegroupgap": 0
        },
        "margin": {
         "t": 60
        },
        "template": {
         "data": {
          "bar": [
           {
            "error_x": {
             "color": "#f2f5fa"
            },
            "error_y": {
             "color": "#f2f5fa"
            },
            "marker": {
             "line": {
              "color": "rgb(17,17,17)",
              "width": 0.5
             },
             "pattern": {
              "fillmode": "overlay",
              "size": 10,
              "solidity": 0.2
             }
            },
            "type": "bar"
           }
          ],
          "barpolar": [
           {
            "marker": {
             "line": {
              "color": "rgb(17,17,17)",
              "width": 0.5
             },
             "pattern": {
              "fillmode": "overlay",
              "size": 10,
              "solidity": 0.2
             }
            },
            "type": "barpolar"
           }
          ],
          "carpet": [
           {
            "aaxis": {
             "endlinecolor": "#A2B1C6",
             "gridcolor": "#506784",
             "linecolor": "#506784",
             "minorgridcolor": "#506784",
             "startlinecolor": "#A2B1C6"
            },
            "baxis": {
             "endlinecolor": "#A2B1C6",
             "gridcolor": "#506784",
             "linecolor": "#506784",
             "minorgridcolor": "#506784",
             "startlinecolor": "#A2B1C6"
            },
            "type": "carpet"
           }
          ],
          "choropleth": [
           {
            "colorbar": {
             "outlinewidth": 0,
             "ticks": ""
            },
            "type": "choropleth"
           }
          ],
          "contour": [
           {
            "colorbar": {
             "outlinewidth": 0,
             "ticks": ""
            },
            "colorscale": [
             [
              0,
              "#0d0887"
             ],
             [
              0.1111111111111111,
              "#46039f"
             ],
             [
              0.2222222222222222,
              "#7201a8"
             ],
             [
              0.3333333333333333,
              "#9c179e"
             ],
             [
              0.4444444444444444,
              "#bd3786"
             ],
             [
              0.5555555555555556,
              "#d8576b"
             ],
             [
              0.6666666666666666,
              "#ed7953"
             ],
             [
              0.7777777777777778,
              "#fb9f3a"
             ],
             [
              0.8888888888888888,
              "#fdca26"
             ],
             [
              1,
              "#f0f921"
             ]
            ],
            "type": "contour"
           }
          ],
          "contourcarpet": [
           {
            "colorbar": {
             "outlinewidth": 0,
             "ticks": ""
            },
            "type": "contourcarpet"
           }
          ],
          "heatmap": [
           {
            "colorbar": {
             "outlinewidth": 0,
             "ticks": ""
            },
            "colorscale": [
             [
              0,
              "#0d0887"
             ],
             [
              0.1111111111111111,
              "#46039f"
             ],
             [
              0.2222222222222222,
              "#7201a8"
             ],
             [
              0.3333333333333333,
              "#9c179e"
             ],
             [
              0.4444444444444444,
              "#bd3786"
             ],
             [
              0.5555555555555556,
              "#d8576b"
             ],
             [
              0.6666666666666666,
              "#ed7953"
             ],
             [
              0.7777777777777778,
              "#fb9f3a"
             ],
             [
              0.8888888888888888,
              "#fdca26"
             ],
             [
              1,
              "#f0f921"
             ]
            ],
            "type": "heatmap"
           }
          ],
          "heatmapgl": [
           {
            "colorbar": {
             "outlinewidth": 0,
             "ticks": ""
            },
            "colorscale": [
             [
              0,
              "#0d0887"
             ],
             [
              0.1111111111111111,
              "#46039f"
             ],
             [
              0.2222222222222222,
              "#7201a8"
             ],
             [
              0.3333333333333333,
              "#9c179e"
             ],
             [
              0.4444444444444444,
              "#bd3786"
             ],
             [
              0.5555555555555556,
              "#d8576b"
             ],
             [
              0.6666666666666666,
              "#ed7953"
             ],
             [
              0.7777777777777778,
              "#fb9f3a"
             ],
             [
              0.8888888888888888,
              "#fdca26"
             ],
             [
              1,
              "#f0f921"
             ]
            ],
            "type": "heatmapgl"
           }
          ],
          "histogram": [
           {
            "marker": {
             "pattern": {
              "fillmode": "overlay",
              "size": 10,
              "solidity": 0.2
             }
            },
            "type": "histogram"
           }
          ],
          "histogram2d": [
           {
            "colorbar": {
             "outlinewidth": 0,
             "ticks": ""
            },
            "colorscale": [
             [
              0,
              "#0d0887"
             ],
             [
              0.1111111111111111,
              "#46039f"
             ],
             [
              0.2222222222222222,
              "#7201a8"
             ],
             [
              0.3333333333333333,
              "#9c179e"
             ],
             [
              0.4444444444444444,
              "#bd3786"
             ],
             [
              0.5555555555555556,
              "#d8576b"
             ],
             [
              0.6666666666666666,
              "#ed7953"
             ],
             [
              0.7777777777777778,
              "#fb9f3a"
             ],
             [
              0.8888888888888888,
              "#fdca26"
             ],
             [
              1,
              "#f0f921"
             ]
            ],
            "type": "histogram2d"
           }
          ],
          "histogram2dcontour": [
           {
            "colorbar": {
             "outlinewidth": 0,
             "ticks": ""
            },
            "colorscale": [
             [
              0,
              "#0d0887"
             ],
             [
              0.1111111111111111,
              "#46039f"
             ],
             [
              0.2222222222222222,
              "#7201a8"
             ],
             [
              0.3333333333333333,
              "#9c179e"
             ],
             [
              0.4444444444444444,
              "#bd3786"
             ],
             [
              0.5555555555555556,
              "#d8576b"
             ],
             [
              0.6666666666666666,
              "#ed7953"
             ],
             [
              0.7777777777777778,
              "#fb9f3a"
             ],
             [
              0.8888888888888888,
              "#fdca26"
             ],
             [
              1,
              "#f0f921"
             ]
            ],
            "type": "histogram2dcontour"
           }
          ],
          "mesh3d": [
           {
            "colorbar": {
             "outlinewidth": 0,
             "ticks": ""
            },
            "type": "mesh3d"
           }
          ],
          "parcoords": [
           {
            "line": {
             "colorbar": {
              "outlinewidth": 0,
              "ticks": ""
             }
            },
            "type": "parcoords"
           }
          ],
          "pie": [
           {
            "automargin": true,
            "type": "pie"
           }
          ],
          "scatter": [
           {
            "marker": {
             "line": {
              "color": "#283442"
             }
            },
            "type": "scatter"
           }
          ],
          "scatter3d": [
           {
            "line": {
             "colorbar": {
              "outlinewidth": 0,
              "ticks": ""
             }
            },
            "marker": {
             "colorbar": {
              "outlinewidth": 0,
              "ticks": ""
             }
            },
            "type": "scatter3d"
           }
          ],
          "scattercarpet": [
           {
            "marker": {
             "colorbar": {
              "outlinewidth": 0,
              "ticks": ""
             }
            },
            "type": "scattercarpet"
           }
          ],
          "scattergeo": [
           {
            "marker": {
             "colorbar": {
              "outlinewidth": 0,
              "ticks": ""
             }
            },
            "type": "scattergeo"
           }
          ],
          "scattergl": [
           {
            "marker": {
             "line": {
              "color": "#283442"
             }
            },
            "type": "scattergl"
           }
          ],
          "scattermapbox": [
           {
            "marker": {
             "colorbar": {
              "outlinewidth": 0,
              "ticks": ""
             }
            },
            "type": "scattermapbox"
           }
          ],
          "scatterpolar": [
           {
            "marker": {
             "colorbar": {
              "outlinewidth": 0,
              "ticks": ""
             }
            },
            "type": "scatterpolar"
           }
          ],
          "scatterpolargl": [
           {
            "marker": {
             "colorbar": {
              "outlinewidth": 0,
              "ticks": ""
             }
            },
            "type": "scatterpolargl"
           }
          ],
          "scatterternary": [
           {
            "marker": {
             "colorbar": {
              "outlinewidth": 0,
              "ticks": ""
             }
            },
            "type": "scatterternary"
           }
          ],
          "surface": [
           {
            "colorbar": {
             "outlinewidth": 0,
             "ticks": ""
            },
            "colorscale": [
             [
              0,
              "#0d0887"
             ],
             [
              0.1111111111111111,
              "#46039f"
             ],
             [
              0.2222222222222222,
              "#7201a8"
             ],
             [
              0.3333333333333333,
              "#9c179e"
             ],
             [
              0.4444444444444444,
              "#bd3786"
             ],
             [
              0.5555555555555556,
              "#d8576b"
             ],
             [
              0.6666666666666666,
              "#ed7953"
             ],
             [
              0.7777777777777778,
              "#fb9f3a"
             ],
             [
              0.8888888888888888,
              "#fdca26"
             ],
             [
              1,
              "#f0f921"
             ]
            ],
            "type": "surface"
           }
          ],
          "table": [
           {
            "cells": {
             "fill": {
              "color": "#506784"
             },
             "line": {
              "color": "rgb(17,17,17)"
             }
            },
            "header": {
             "fill": {
              "color": "#2a3f5f"
             },
             "line": {
              "color": "rgb(17,17,17)"
             }
            },
            "type": "table"
           }
          ]
         },
         "layout": {
          "annotationdefaults": {
           "arrowcolor": "#f2f5fa",
           "arrowhead": 0,
           "arrowwidth": 1
          },
          "autotypenumbers": "strict",
          "coloraxis": {
           "colorbar": {
            "outlinewidth": 0,
            "ticks": ""
           }
          },
          "colorscale": {
           "diverging": [
            [
             0,
             "#8e0152"
            ],
            [
             0.1,
             "#c51b7d"
            ],
            [
             0.2,
             "#de77ae"
            ],
            [
             0.3,
             "#f1b6da"
            ],
            [
             0.4,
             "#fde0ef"
            ],
            [
             0.5,
             "#f7f7f7"
            ],
            [
             0.6,
             "#e6f5d0"
            ],
            [
             0.7,
             "#b8e186"
            ],
            [
             0.8,
             "#7fbc41"
            ],
            [
             0.9,
             "#4d9221"
            ],
            [
             1,
             "#276419"
            ]
           ],
           "sequential": [
            [
             0,
             "#0d0887"
            ],
            [
             0.1111111111111111,
             "#46039f"
            ],
            [
             0.2222222222222222,
             "#7201a8"
            ],
            [
             0.3333333333333333,
             "#9c179e"
            ],
            [
             0.4444444444444444,
             "#bd3786"
            ],
            [
             0.5555555555555556,
             "#d8576b"
            ],
            [
             0.6666666666666666,
             "#ed7953"
            ],
            [
             0.7777777777777778,
             "#fb9f3a"
            ],
            [
             0.8888888888888888,
             "#fdca26"
            ],
            [
             1,
             "#f0f921"
            ]
           ],
           "sequentialminus": [
            [
             0,
             "#0d0887"
            ],
            [
             0.1111111111111111,
             "#46039f"
            ],
            [
             0.2222222222222222,
             "#7201a8"
            ],
            [
             0.3333333333333333,
             "#9c179e"
            ],
            [
             0.4444444444444444,
             "#bd3786"
            ],
            [
             0.5555555555555556,
             "#d8576b"
            ],
            [
             0.6666666666666666,
             "#ed7953"
            ],
            [
             0.7777777777777778,
             "#fb9f3a"
            ],
            [
             0.8888888888888888,
             "#fdca26"
            ],
            [
             1,
             "#f0f921"
            ]
           ]
          },
          "colorway": [
           "#636efa",
           "#EF553B",
           "#00cc96",
           "#ab63fa",
           "#FFA15A",
           "#19d3f3",
           "#FF6692",
           "#B6E880",
           "#FF97FF",
           "#FECB52"
          ],
          "font": {
           "color": "#f2f5fa"
          },
          "geo": {
           "bgcolor": "rgb(17,17,17)",
           "lakecolor": "rgb(17,17,17)",
           "landcolor": "rgb(17,17,17)",
           "showlakes": true,
           "showland": true,
           "subunitcolor": "#506784"
          },
          "hoverlabel": {
           "align": "left"
          },
          "hovermode": "closest",
          "mapbox": {
           "style": "dark"
          },
          "paper_bgcolor": "rgb(17,17,17)",
          "plot_bgcolor": "rgb(17,17,17)",
          "polar": {
           "angularaxis": {
            "gridcolor": "#506784",
            "linecolor": "#506784",
            "ticks": ""
           },
           "bgcolor": "rgb(17,17,17)",
           "radialaxis": {
            "gridcolor": "#506784",
            "linecolor": "#506784",
            "ticks": ""
           }
          },
          "scene": {
           "xaxis": {
            "backgroundcolor": "rgb(17,17,17)",
            "gridcolor": "#506784",
            "gridwidth": 2,
            "linecolor": "#506784",
            "showbackground": true,
            "ticks": "",
            "zerolinecolor": "#C8D4E3"
           },
           "yaxis": {
            "backgroundcolor": "rgb(17,17,17)",
            "gridcolor": "#506784",
            "gridwidth": 2,
            "linecolor": "#506784",
            "showbackground": true,
            "ticks": "",
            "zerolinecolor": "#C8D4E3"
           },
           "zaxis": {
            "backgroundcolor": "rgb(17,17,17)",
            "gridcolor": "#506784",
            "gridwidth": 2,
            "linecolor": "#506784",
            "showbackground": true,
            "ticks": "",
            "zerolinecolor": "#C8D4E3"
           }
          },
          "shapedefaults": {
           "line": {
            "color": "#f2f5fa"
           }
          },
          "sliderdefaults": {
           "bgcolor": "#C8D4E3",
           "bordercolor": "rgb(17,17,17)",
           "borderwidth": 1,
           "tickwidth": 0
          },
          "ternary": {
           "aaxis": {
            "gridcolor": "#506784",
            "linecolor": "#506784",
            "ticks": ""
           },
           "baxis": {
            "gridcolor": "#506784",
            "linecolor": "#506784",
            "ticks": ""
           },
           "bgcolor": "rgb(17,17,17)",
           "caxis": {
            "gridcolor": "#506784",
            "linecolor": "#506784",
            "ticks": ""
           }
          },
          "title": {
           "x": 0.05
          },
          "updatemenudefaults": {
           "bgcolor": "#506784",
           "borderwidth": 0
          },
          "xaxis": {
           "automargin": true,
           "gridcolor": "#283442",
           "linecolor": "#506784",
           "ticks": "",
           "title": {
            "standoff": 15
           },
           "zerolinecolor": "#283442",
           "zerolinewidth": 2
          },
          "yaxis": {
           "automargin": true,
           "gridcolor": "#283442",
           "linecolor": "#506784",
           "ticks": "",
           "title": {
            "standoff": 15
           },
           "zerolinecolor": "#283442",
           "zerolinewidth": 2
          }
         }
        },
        "xaxis": {
         "anchor": "y",
         "domain": [
          0,
          1
         ],
         "title": {
          "text": "specific_gravity"
         }
        },
        "yaxis": {
         "anchor": "x",
         "domain": [
          0,
          1
         ],
         "title": {
          "text": "packed_cell_volume"
         }
        }
       }
      }
     },
     "metadata": {},
     "output_type": "display_data"
    }
   ],
   "source": [
    "px.bar(kidney, x=\"specific_gravity\", y=\"packed_cell_volume\", color='class', barmode='group', template = 'plotly_dark', height = 400)"
   ]
  },
  {
   "cell_type": "code",
   "execution_count": 194,
   "metadata": {},
   "outputs": [
    {
     "data": {
      "application/vnd.plotly.v1+json": {
       "config": {
        "plotlyServerURL": "https://plot.ly"
       },
       "data": [
        {
         "alignmentgroup": "True",
         "hovertemplate": "specific_gravity=%{x}<br>packed_cell_volume=%{y}<br>class=%{marker.color}<extra></extra>",
         "legendgroup": "",
         "marker": {
          "color": [
           0,
           0,
           0,
           0,
           0,
           0,
           0,
           0,
           0,
           0,
           0,
           0,
           0,
           0,
           0,
           0,
           0,
           0,
           0,
           0,
           0,
           0,
           0,
           0,
           0,
           0,
           0,
           0,
           0,
           0,
           0,
           0,
           0,
           0,
           0,
           0,
           0,
           0,
           0,
           0,
           0,
           0,
           0,
           0,
           0,
           0,
           0,
           0,
           0,
           0,
           0,
           0,
           0,
           0,
           0,
           0,
           0,
           0,
           0,
           0,
           0,
           0,
           0,
           0,
           0,
           0,
           0,
           0,
           0,
           0,
           0,
           0,
           0,
           0,
           0,
           0,
           0,
           0,
           0,
           0,
           0,
           0,
           0,
           0,
           0,
           0,
           0,
           0,
           0,
           0,
           0,
           0,
           0,
           0,
           0,
           0,
           0,
           0,
           0,
           0,
           0,
           0,
           0,
           0,
           0,
           0,
           0,
           0,
           0,
           0,
           0,
           0,
           0,
           0,
           0,
           0,
           0,
           0,
           0,
           0,
           0,
           0,
           0,
           0,
           0,
           0,
           0,
           0,
           0,
           0,
           0,
           0,
           0,
           0,
           0,
           0,
           0,
           0,
           0,
           0,
           0,
           0,
           0,
           0,
           0,
           0,
           0,
           0,
           0,
           0,
           0,
           0,
           0,
           0,
           0,
           0,
           0,
           0,
           0,
           0,
           0,
           0,
           0,
           0,
           0,
           0,
           0,
           0,
           0,
           0,
           0,
           0,
           0,
           0,
           0,
           0,
           0,
           0,
           0,
           0,
           0,
           0,
           0,
           0,
           0,
           0,
           0,
           0,
           0,
           0,
           0,
           0,
           0,
           0,
           0,
           0,
           0,
           0,
           0,
           0,
           0,
           0,
           0,
           0,
           0,
           0,
           0,
           0,
           0,
           0,
           0,
           0,
           0,
           0,
           0,
           0,
           0,
           0,
           0,
           0,
           0,
           0,
           0,
           0,
           0,
           0,
           0,
           0,
           0,
           0,
           0,
           0,
           0,
           0,
           0,
           0,
           0,
           0,
           0,
           0,
           0,
           0,
           0,
           0,
           0,
           0,
           0,
           0,
           0,
           0,
           1,
           1,
           1,
           1,
           1,
           1,
           1,
           1,
           1,
           1,
           1,
           1,
           1,
           1,
           1,
           1,
           1,
           1,
           1,
           1,
           1,
           1,
           1,
           1,
           1,
           1,
           1,
           1,
           1,
           1,
           1,
           1,
           1,
           1,
           1,
           1,
           1,
           1,
           1,
           1,
           1,
           1,
           1,
           1,
           1,
           1,
           1,
           1,
           1,
           1,
           1,
           1,
           1,
           1,
           1,
           1,
           1,
           1,
           1,
           1,
           1,
           1,
           1,
           1,
           1,
           1,
           1,
           1,
           1,
           1,
           1,
           1,
           1,
           1,
           1,
           1,
           1,
           1,
           1,
           1,
           1,
           1,
           1,
           1,
           1,
           1,
           1,
           1,
           1,
           1,
           1,
           1,
           1,
           1,
           1,
           1,
           1,
           1,
           1,
           1,
           1,
           1,
           1,
           1,
           1,
           1,
           1,
           1,
           1,
           1,
           1,
           1,
           1,
           1,
           1,
           1,
           1,
           1,
           1,
           1,
           1,
           1,
           1,
           1,
           1,
           1,
           1,
           1,
           1,
           1,
           1,
           1,
           1,
           1,
           1,
           1,
           1,
           1,
           1,
           1,
           1,
           1,
           1,
           1,
           1,
           1,
           1,
           1,
           1,
           1
          ],
          "coloraxis": "coloraxis",
          "pattern": {
           "shape": ""
          }
         },
         "name": "",
         "offsetgroup": "",
         "orientation": "v",
         "showlegend": false,
         "textposition": "auto",
         "type": "bar",
         "x": [
          1.02,
          1.02,
          1.01,
          1.005,
          1.01,
          1.015,
          1.01,
          1.015,
          1.015,
          1.02,
          1.01,
          1.01,
          1.015,
          null,
          1.01,
          1.015,
          1.015,
          null,
          1.025,
          1.015,
          1.015,
          null,
          1.025,
          1.01,
          1.015,
          1.025,
          1.015,
          1.01,
          null,
          1.005,
          null,
          1.015,
          1.01,
          1.02,
          1.01,
          1.02,
          1.015,
          null,
          1.02,
          1.01,
          1.01,
          1.01,
          1.01,
          1.01,
          1.01,
          1.02,
          1.015,
          1.01,
          1.005,
          1.01,
          null,
          1.015,
          1.015,
          1.015,
          1.01,
          1.005,
          1.015,
          null,
          1.02,
          null,
          1.02,
          1.01,
          1.02,
          1.015,
          1.01,
          1.01,
          1.02,
          1.02,
          1.01,
          1.015,
          1.015,
          1.01,
          1.01,
          1.015,
          1.015,
          1.015,
          1.005,
          1.01,
          null,
          1.01,
          1.01,
          null,
          null,
          1.015,
          1.01,
          1.015,
          null,
          1.005,
          1.01,
          1.02,
          1.01,
          1.015,
          1.01,
          1.01,
          1.01,
          1.015,
          1.01,
          1.015,
          null,
          null,
          1.015,
          1.015,
          1.01,
          1.015,
          null,
          1.015,
          null,
          1.015,
          1.015,
          null,
          1.015,
          1.01,
          1.015,
          1.015,
          1.015,
          1.01,
          1.015,
          1.02,
          1.01,
          1.01,
          1.025,
          null,
          null,
          1.015,
          1.015,
          null,
          1.015,
          1.015,
          1.015,
          1.025,
          1.01,
          1.01,
          null,
          1.015,
          1.01,
          1.015,
          1.02,
          1.01,
          1.01,
          1.015,
          1.01,
          1.01,
          null,
          1.015,
          1.01,
          1.015,
          1.01,
          1.01,
          null,
          1.02,
          1.025,
          null,
          1.01,
          1.01,
          1.005,
          1.02,
          1.015,
          1.025,
          1.02,
          1.01,
          null,
          1.015,
          null,
          1.01,
          1.015,
          1.02,
          null,
          1.02,
          1.015,
          1.01,
          1.015,
          1.02,
          1.01,
          1.015,
          null,
          1.01,
          1.01,
          1.015,
          1.02,
          1.01,
          1.01,
          1.025,
          1.02,
          1.015,
          1.015,
          1.02,
          1.02,
          1.01,
          null,
          1.01,
          1.01,
          1.01,
          1.015,
          1.025,
          1.01,
          1.02,
          1.01,
          null,
          1.02,
          1.015,
          1.025,
          null,
          null,
          null,
          1.01,
          null,
          1.01,
          1.01,
          null,
          1.02,
          1.015,
          1.015,
          1.015,
          1.01,
          1.015,
          1.01,
          1.01,
          1.01,
          1.015,
          1.01,
          1.01,
          1.02,
          null,
          1.01,
          1.02,
          1.01,
          1.015,
          1.015,
          null,
          1.01,
          1.01,
          null,
          1.015,
          1.015,
          1.01,
          1.01,
          null,
          1.015,
          null,
          1.015,
          1.015,
          1.015,
          1.01,
          1.02,
          1.015,
          null,
          1.015,
          1.025,
          1.01,
          1.01,
          1.025,
          1.025,
          1.025,
          1.025,
          1.025,
          1.025,
          1.025,
          1.02,
          1.02,
          1.02,
          1.02,
          1.02,
          1.02,
          1.02,
          1.02,
          1.02,
          1.02,
          1.025,
          null,
          1.025,
          1.025,
          1.025,
          1.025,
          1.02,
          1.02,
          1.02,
          1.025,
          1.025,
          1.02,
          1.025,
          null,
          1.025,
          1.02,
          1.02,
          1.025,
          1.02,
          1.02,
          1.025,
          1.025,
          1.02,
          1.02,
          1.025,
          1.02,
          1.02,
          1.02,
          null,
          1.02,
          1.025,
          1.02,
          1.02,
          1.02,
          1.025,
          1.02,
          1.02,
          1.025,
          1.02,
          1.02,
          1.02,
          1.025,
          1.02,
          1.02,
          1.025,
          1.02,
          1.02,
          1.025,
          1.025,
          1.02,
          1.02,
          1.025,
          1.02,
          1.02,
          1.02,
          null,
          1.025,
          1.02,
          1.02,
          1.02,
          1.025,
          1.02,
          1.025,
          1.02,
          1.025,
          1.025,
          1.02,
          1.025,
          1.02,
          1.02,
          1.025,
          1.02,
          1.02,
          1.025,
          1.025,
          1.02,
          1.025,
          1.02,
          1.025,
          null,
          1.025,
          1.02,
          1.025,
          1.025,
          1.02,
          1.02,
          1.02,
          1.025,
          1.02,
          1.025,
          1.025,
          1.02,
          1.02,
          1.025,
          1.02,
          1.025,
          1.025,
          1.025,
          1.02,
          1.025,
          1.025,
          1.025,
          1.02,
          1.02,
          1.025,
          1.02,
          1.025,
          1.025,
          1.02,
          1.025,
          1.02,
          1.025,
          1.025,
          1.02,
          1.025,
          1.025,
          1.025,
          1.02,
          1.02,
          1.025,
          1.025,
          1.02,
          1.025,
          1.025,
          1.025,
          1.02,
          1.025,
          1.02,
          1.02,
          1.025,
          1.02,
          1.025,
          1.025
         ],
         "xaxis": "x",
         "y": [
          44,
          38,
          31,
          32,
          35,
          39,
          36,
          44,
          33,
          29,
          28,
          32,
          28,
          null,
          16,
          24,
          null,
          null,
          37,
          30,
          24,
          32,
          32,
          null,
          39,
          29,
          35,
          37,
          null,
          38,
          null,
          30,
          34,
          29,
          null,
          36,
          32,
          28,
          null,
          40,
          32,
          null,
          33,
          24,
          28,
          null,
          37,
          45,
          29,
          29,
          28,
          33,
          34,
          40,
          40,
          28,
          30,
          null,
          33,
          null,
          null,
          null,
          33,
          27,
          null,
          48,
          null,
          null,
          37,
          52,
          44,
          28,
          null,
          14,
          29,
          null,
          36,
          34,
          30,
          40,
          31,
          29,
          null,
          null,
          22,
          null,
          null,
          32,
          null,
          null,
          40,
          52,
          33,
          30,
          36,
          null,
          36,
          32,
          18,
          32,
          null,
          33,
          52,
          36,
          null,
          42,
          17,
          34,
          37,
          null,
          34,
          32,
          33,
          null,
          null,
          44,
          null,
          37,
          null,
          null,
          null,
          46,
          null,
          42,
          28,
          null,
          37,
          35,
          23,
          null,
          22,
          36,
          24,
          37,
          33,
          39,
          null,
          29,
          null,
          33,
          null,
          19,
          null,
          null,
          33,
          24,
          null,
          25,
          null,
          32,
          41,
          30,
          32,
          22,
          26,
          36,
          null,
          39,
          31,
          35,
          35,
          42,
          37,
          27,
          40,
          null,
          null,
          42,
          39,
          27,
          33,
          26,
          34,
          41,
          35,
          null,
          23,
          41,
          34,
          39,
          28,
          30,
          35,
          null,
          31,
          34,
          null,
          34,
          38,
          29,
          30,
          26,
          null,
          15,
          null,
          null,
          24,
          null,
          30,
          25,
          37,
          21,
          24,
          null,
          31,
          43,
          41,
          41,
          41,
          null,
          20,
          null,
          31,
          34,
          43,
          null,
          38,
          36,
          34,
          28,
          36,
          null,
          null,
          38,
          null,
          35,
          26,
          36,
          null,
          31,
          null,
          35,
          null,
          null,
          44,
          26,
          25,
          40,
          28,
          39,
          36,
          31,
          28,
          47,
          40,
          19,
          26,
          null,
          37,
          9,
          48,
          52,
          46,
          42,
          49,
          52,
          41,
          46,
          44,
          45,
          45,
          41,
          43,
          45,
          50,
          48,
          41,
          48,
          53,
          48,
          41,
          42,
          42,
          null,
          44,
          43,
          41,
          50,
          44,
          48,
          52,
          41,
          44,
          43,
          52,
          41,
          44,
          43,
          50,
          43,
          52,
          41,
          52,
          48,
          40,
          50,
          41,
          45,
          48,
          52,
          43,
          41,
          48,
          50,
          45,
          41,
          52,
          44,
          48,
          40,
          44,
          45,
          48,
          52,
          41,
          48,
          48,
          40,
          52,
          null,
          44,
          48,
          43,
          45,
          null,
          50,
          41,
          44,
          45,
          48,
          42,
          46,
          44,
          46,
          43,
          48,
          40,
          52,
          44,
          48,
          43,
          41,
          50,
          50,
          42,
          42,
          52,
          43,
          44,
          52,
          43,
          40,
          48,
          51,
          41,
          52,
          47,
          42,
          45,
          53,
          43,
          54,
          40,
          44,
          45,
          null,
          46,
          50,
          45,
          46,
          50,
          51,
          52,
          47,
          40,
          48,
          53,
          49,
          42,
          50,
          54,
          40,
          51,
          49,
          42,
          52,
          43,
          50,
          46,
          52,
          52,
          44,
          46,
          54,
          45,
          47,
          54,
          49,
          51,
          53
         ],
         "yaxis": "y"
        }
       ],
       "layout": {
        "barmode": "group",
        "coloraxis": {
         "colorbar": {
          "title": {
           "text": "class"
          }
         },
         "colorscale": [
          [
           0,
           "#0d0887"
          ],
          [
           0.1111111111111111,
           "#46039f"
          ],
          [
           0.2222222222222222,
           "#7201a8"
          ],
          [
           0.3333333333333333,
           "#9c179e"
          ],
          [
           0.4444444444444444,
           "#bd3786"
          ],
          [
           0.5555555555555556,
           "#d8576b"
          ],
          [
           0.6666666666666666,
           "#ed7953"
          ],
          [
           0.7777777777777778,
           "#fb9f3a"
          ],
          [
           0.8888888888888888,
           "#fdca26"
          ],
          [
           1,
           "#f0f921"
          ]
         ]
        },
        "height": 400,
        "legend": {
         "tracegroupgap": 0
        },
        "margin": {
         "t": 60
        },
        "template": {
         "data": {
          "bar": [
           {
            "error_x": {
             "color": "#f2f5fa"
            },
            "error_y": {
             "color": "#f2f5fa"
            },
            "marker": {
             "line": {
              "color": "rgb(17,17,17)",
              "width": 0.5
             },
             "pattern": {
              "fillmode": "overlay",
              "size": 10,
              "solidity": 0.2
             }
            },
            "type": "bar"
           }
          ],
          "barpolar": [
           {
            "marker": {
             "line": {
              "color": "rgb(17,17,17)",
              "width": 0.5
             },
             "pattern": {
              "fillmode": "overlay",
              "size": 10,
              "solidity": 0.2
             }
            },
            "type": "barpolar"
           }
          ],
          "carpet": [
           {
            "aaxis": {
             "endlinecolor": "#A2B1C6",
             "gridcolor": "#506784",
             "linecolor": "#506784",
             "minorgridcolor": "#506784",
             "startlinecolor": "#A2B1C6"
            },
            "baxis": {
             "endlinecolor": "#A2B1C6",
             "gridcolor": "#506784",
             "linecolor": "#506784",
             "minorgridcolor": "#506784",
             "startlinecolor": "#A2B1C6"
            },
            "type": "carpet"
           }
          ],
          "choropleth": [
           {
            "colorbar": {
             "outlinewidth": 0,
             "ticks": ""
            },
            "type": "choropleth"
           }
          ],
          "contour": [
           {
            "colorbar": {
             "outlinewidth": 0,
             "ticks": ""
            },
            "colorscale": [
             [
              0,
              "#0d0887"
             ],
             [
              0.1111111111111111,
              "#46039f"
             ],
             [
              0.2222222222222222,
              "#7201a8"
             ],
             [
              0.3333333333333333,
              "#9c179e"
             ],
             [
              0.4444444444444444,
              "#bd3786"
             ],
             [
              0.5555555555555556,
              "#d8576b"
             ],
             [
              0.6666666666666666,
              "#ed7953"
             ],
             [
              0.7777777777777778,
              "#fb9f3a"
             ],
             [
              0.8888888888888888,
              "#fdca26"
             ],
             [
              1,
              "#f0f921"
             ]
            ],
            "type": "contour"
           }
          ],
          "contourcarpet": [
           {
            "colorbar": {
             "outlinewidth": 0,
             "ticks": ""
            },
            "type": "contourcarpet"
           }
          ],
          "heatmap": [
           {
            "colorbar": {
             "outlinewidth": 0,
             "ticks": ""
            },
            "colorscale": [
             [
              0,
              "#0d0887"
             ],
             [
              0.1111111111111111,
              "#46039f"
             ],
             [
              0.2222222222222222,
              "#7201a8"
             ],
             [
              0.3333333333333333,
              "#9c179e"
             ],
             [
              0.4444444444444444,
              "#bd3786"
             ],
             [
              0.5555555555555556,
              "#d8576b"
             ],
             [
              0.6666666666666666,
              "#ed7953"
             ],
             [
              0.7777777777777778,
              "#fb9f3a"
             ],
             [
              0.8888888888888888,
              "#fdca26"
             ],
             [
              1,
              "#f0f921"
             ]
            ],
            "type": "heatmap"
           }
          ],
          "heatmapgl": [
           {
            "colorbar": {
             "outlinewidth": 0,
             "ticks": ""
            },
            "colorscale": [
             [
              0,
              "#0d0887"
             ],
             [
              0.1111111111111111,
              "#46039f"
             ],
             [
              0.2222222222222222,
              "#7201a8"
             ],
             [
              0.3333333333333333,
              "#9c179e"
             ],
             [
              0.4444444444444444,
              "#bd3786"
             ],
             [
              0.5555555555555556,
              "#d8576b"
             ],
             [
              0.6666666666666666,
              "#ed7953"
             ],
             [
              0.7777777777777778,
              "#fb9f3a"
             ],
             [
              0.8888888888888888,
              "#fdca26"
             ],
             [
              1,
              "#f0f921"
             ]
            ],
            "type": "heatmapgl"
           }
          ],
          "histogram": [
           {
            "marker": {
             "pattern": {
              "fillmode": "overlay",
              "size": 10,
              "solidity": 0.2
             }
            },
            "type": "histogram"
           }
          ],
          "histogram2d": [
           {
            "colorbar": {
             "outlinewidth": 0,
             "ticks": ""
            },
            "colorscale": [
             [
              0,
              "#0d0887"
             ],
             [
              0.1111111111111111,
              "#46039f"
             ],
             [
              0.2222222222222222,
              "#7201a8"
             ],
             [
              0.3333333333333333,
              "#9c179e"
             ],
             [
              0.4444444444444444,
              "#bd3786"
             ],
             [
              0.5555555555555556,
              "#d8576b"
             ],
             [
              0.6666666666666666,
              "#ed7953"
             ],
             [
              0.7777777777777778,
              "#fb9f3a"
             ],
             [
              0.8888888888888888,
              "#fdca26"
             ],
             [
              1,
              "#f0f921"
             ]
            ],
            "type": "histogram2d"
           }
          ],
          "histogram2dcontour": [
           {
            "colorbar": {
             "outlinewidth": 0,
             "ticks": ""
            },
            "colorscale": [
             [
              0,
              "#0d0887"
             ],
             [
              0.1111111111111111,
              "#46039f"
             ],
             [
              0.2222222222222222,
              "#7201a8"
             ],
             [
              0.3333333333333333,
              "#9c179e"
             ],
             [
              0.4444444444444444,
              "#bd3786"
             ],
             [
              0.5555555555555556,
              "#d8576b"
             ],
             [
              0.6666666666666666,
              "#ed7953"
             ],
             [
              0.7777777777777778,
              "#fb9f3a"
             ],
             [
              0.8888888888888888,
              "#fdca26"
             ],
             [
              1,
              "#f0f921"
             ]
            ],
            "type": "histogram2dcontour"
           }
          ],
          "mesh3d": [
           {
            "colorbar": {
             "outlinewidth": 0,
             "ticks": ""
            },
            "type": "mesh3d"
           }
          ],
          "parcoords": [
           {
            "line": {
             "colorbar": {
              "outlinewidth": 0,
              "ticks": ""
             }
            },
            "type": "parcoords"
           }
          ],
          "pie": [
           {
            "automargin": true,
            "type": "pie"
           }
          ],
          "scatter": [
           {
            "marker": {
             "line": {
              "color": "#283442"
             }
            },
            "type": "scatter"
           }
          ],
          "scatter3d": [
           {
            "line": {
             "colorbar": {
              "outlinewidth": 0,
              "ticks": ""
             }
            },
            "marker": {
             "colorbar": {
              "outlinewidth": 0,
              "ticks": ""
             }
            },
            "type": "scatter3d"
           }
          ],
          "scattercarpet": [
           {
            "marker": {
             "colorbar": {
              "outlinewidth": 0,
              "ticks": ""
             }
            },
            "type": "scattercarpet"
           }
          ],
          "scattergeo": [
           {
            "marker": {
             "colorbar": {
              "outlinewidth": 0,
              "ticks": ""
             }
            },
            "type": "scattergeo"
           }
          ],
          "scattergl": [
           {
            "marker": {
             "line": {
              "color": "#283442"
             }
            },
            "type": "scattergl"
           }
          ],
          "scattermapbox": [
           {
            "marker": {
             "colorbar": {
              "outlinewidth": 0,
              "ticks": ""
             }
            },
            "type": "scattermapbox"
           }
          ],
          "scatterpolar": [
           {
            "marker": {
             "colorbar": {
              "outlinewidth": 0,
              "ticks": ""
             }
            },
            "type": "scatterpolar"
           }
          ],
          "scatterpolargl": [
           {
            "marker": {
             "colorbar": {
              "outlinewidth": 0,
              "ticks": ""
             }
            },
            "type": "scatterpolargl"
           }
          ],
          "scatterternary": [
           {
            "marker": {
             "colorbar": {
              "outlinewidth": 0,
              "ticks": ""
             }
            },
            "type": "scatterternary"
           }
          ],
          "surface": [
           {
            "colorbar": {
             "outlinewidth": 0,
             "ticks": ""
            },
            "colorscale": [
             [
              0,
              "#0d0887"
             ],
             [
              0.1111111111111111,
              "#46039f"
             ],
             [
              0.2222222222222222,
              "#7201a8"
             ],
             [
              0.3333333333333333,
              "#9c179e"
             ],
             [
              0.4444444444444444,
              "#bd3786"
             ],
             [
              0.5555555555555556,
              "#d8576b"
             ],
             [
              0.6666666666666666,
              "#ed7953"
             ],
             [
              0.7777777777777778,
              "#fb9f3a"
             ],
             [
              0.8888888888888888,
              "#fdca26"
             ],
             [
              1,
              "#f0f921"
             ]
            ],
            "type": "surface"
           }
          ],
          "table": [
           {
            "cells": {
             "fill": {
              "color": "#506784"
             },
             "line": {
              "color": "rgb(17,17,17)"
             }
            },
            "header": {
             "fill": {
              "color": "#2a3f5f"
             },
             "line": {
              "color": "rgb(17,17,17)"
             }
            },
            "type": "table"
           }
          ]
         },
         "layout": {
          "annotationdefaults": {
           "arrowcolor": "#f2f5fa",
           "arrowhead": 0,
           "arrowwidth": 1
          },
          "autotypenumbers": "strict",
          "coloraxis": {
           "colorbar": {
            "outlinewidth": 0,
            "ticks": ""
           }
          },
          "colorscale": {
           "diverging": [
            [
             0,
             "#8e0152"
            ],
            [
             0.1,
             "#c51b7d"
            ],
            [
             0.2,
             "#de77ae"
            ],
            [
             0.3,
             "#f1b6da"
            ],
            [
             0.4,
             "#fde0ef"
            ],
            [
             0.5,
             "#f7f7f7"
            ],
            [
             0.6,
             "#e6f5d0"
            ],
            [
             0.7,
             "#b8e186"
            ],
            [
             0.8,
             "#7fbc41"
            ],
            [
             0.9,
             "#4d9221"
            ],
            [
             1,
             "#276419"
            ]
           ],
           "sequential": [
            [
             0,
             "#0d0887"
            ],
            [
             0.1111111111111111,
             "#46039f"
            ],
            [
             0.2222222222222222,
             "#7201a8"
            ],
            [
             0.3333333333333333,
             "#9c179e"
            ],
            [
             0.4444444444444444,
             "#bd3786"
            ],
            [
             0.5555555555555556,
             "#d8576b"
            ],
            [
             0.6666666666666666,
             "#ed7953"
            ],
            [
             0.7777777777777778,
             "#fb9f3a"
            ],
            [
             0.8888888888888888,
             "#fdca26"
            ],
            [
             1,
             "#f0f921"
            ]
           ],
           "sequentialminus": [
            [
             0,
             "#0d0887"
            ],
            [
             0.1111111111111111,
             "#46039f"
            ],
            [
             0.2222222222222222,
             "#7201a8"
            ],
            [
             0.3333333333333333,
             "#9c179e"
            ],
            [
             0.4444444444444444,
             "#bd3786"
            ],
            [
             0.5555555555555556,
             "#d8576b"
            ],
            [
             0.6666666666666666,
             "#ed7953"
            ],
            [
             0.7777777777777778,
             "#fb9f3a"
            ],
            [
             0.8888888888888888,
             "#fdca26"
            ],
            [
             1,
             "#f0f921"
            ]
           ]
          },
          "colorway": [
           "#636efa",
           "#EF553B",
           "#00cc96",
           "#ab63fa",
           "#FFA15A",
           "#19d3f3",
           "#FF6692",
           "#B6E880",
           "#FF97FF",
           "#FECB52"
          ],
          "font": {
           "color": "#f2f5fa"
          },
          "geo": {
           "bgcolor": "rgb(17,17,17)",
           "lakecolor": "rgb(17,17,17)",
           "landcolor": "rgb(17,17,17)",
           "showlakes": true,
           "showland": true,
           "subunitcolor": "#506784"
          },
          "hoverlabel": {
           "align": "left"
          },
          "hovermode": "closest",
          "mapbox": {
           "style": "dark"
          },
          "paper_bgcolor": "rgb(17,17,17)",
          "plot_bgcolor": "rgb(17,17,17)",
          "polar": {
           "angularaxis": {
            "gridcolor": "#506784",
            "linecolor": "#506784",
            "ticks": ""
           },
           "bgcolor": "rgb(17,17,17)",
           "radialaxis": {
            "gridcolor": "#506784",
            "linecolor": "#506784",
            "ticks": ""
           }
          },
          "scene": {
           "xaxis": {
            "backgroundcolor": "rgb(17,17,17)",
            "gridcolor": "#506784",
            "gridwidth": 2,
            "linecolor": "#506784",
            "showbackground": true,
            "ticks": "",
            "zerolinecolor": "#C8D4E3"
           },
           "yaxis": {
            "backgroundcolor": "rgb(17,17,17)",
            "gridcolor": "#506784",
            "gridwidth": 2,
            "linecolor": "#506784",
            "showbackground": true,
            "ticks": "",
            "zerolinecolor": "#C8D4E3"
           },
           "zaxis": {
            "backgroundcolor": "rgb(17,17,17)",
            "gridcolor": "#506784",
            "gridwidth": 2,
            "linecolor": "#506784",
            "showbackground": true,
            "ticks": "",
            "zerolinecolor": "#C8D4E3"
           }
          },
          "shapedefaults": {
           "line": {
            "color": "#f2f5fa"
           }
          },
          "sliderdefaults": {
           "bgcolor": "#C8D4E3",
           "bordercolor": "rgb(17,17,17)",
           "borderwidth": 1,
           "tickwidth": 0
          },
          "ternary": {
           "aaxis": {
            "gridcolor": "#506784",
            "linecolor": "#506784",
            "ticks": ""
           },
           "baxis": {
            "gridcolor": "#506784",
            "linecolor": "#506784",
            "ticks": ""
           },
           "bgcolor": "rgb(17,17,17)",
           "caxis": {
            "gridcolor": "#506784",
            "linecolor": "#506784",
            "ticks": ""
           }
          },
          "title": {
           "x": 0.05
          },
          "updatemenudefaults": {
           "bgcolor": "#506784",
           "borderwidth": 0
          },
          "xaxis": {
           "automargin": true,
           "gridcolor": "#283442",
           "linecolor": "#506784",
           "ticks": "",
           "title": {
            "standoff": 15
           },
           "zerolinecolor": "#283442",
           "zerolinewidth": 2
          },
          "yaxis": {
           "automargin": true,
           "gridcolor": "#283442",
           "linecolor": "#506784",
           "ticks": "",
           "title": {
            "standoff": 15
           },
           "zerolinecolor": "#283442",
           "zerolinewidth": 2
          }
         }
        },
        "xaxis": {
         "anchor": "y",
         "domain": [
          0,
          1
         ],
         "title": {
          "text": "specific_gravity"
         }
        },
        "yaxis": {
         "anchor": "x",
         "domain": [
          0,
          1
         ],
         "title": {
          "text": "packed_cell_volume"
         }
        }
       }
      }
     },
     "metadata": {},
     "output_type": "display_data"
    }
   ],
   "source": [
    "px.bar(kidney, x=\"specific_gravity\", y=\"packed_cell_volume\", color='class', barmode='group', template = 'plotly_dark', height = 400)"
   ]
  },
  {
   "cell_type": "markdown",
   "metadata": {},
   "source": [
    "- DATA PREPROCESSING"
   ]
  },
  {
   "cell_type": "code",
   "execution_count": 195,
   "metadata": {},
   "outputs": [
    {
     "data": {
      "text/plain": [
       "id                       0\n",
       "age                      9\n",
       "blood_pressure          12\n",
       "specific_gravity        47\n",
       "albumin                 46\n",
       "sugar                   49\n",
       "blood_glucose_random    44\n",
       "blood_urea              19\n",
       "serum_creatinine        17\n",
       "sodium                  87\n",
       "potassium               88\n",
       "haemoglobin             52\n",
       "dtype: int64"
      ]
     },
     "execution_count": 195,
     "metadata": {},
     "output_type": "execute_result"
    }
   ],
   "source": [
    "kidney[num_cols].isnull().sum()"
   ]
  },
  {
   "cell_type": "code",
   "execution_count": 196,
   "metadata": {},
   "outputs": [
    {
     "data": {
      "text/plain": [
       "red_blood_cells            152\n",
       "pus_cell                    65\n",
       "pus_cell_clumps              4\n",
       "bacteria                     4\n",
       "packed_cell_volume          71\n",
       "white_blood_cell_count     106\n",
       "red_blood_cell_count       131\n",
       "hypertension                 2\n",
       "diabetes_mellitus            2\n",
       "coronary_artery_disease      2\n",
       "appetite                     1\n",
       "peda_edema                   1\n",
       "anemia                       1\n",
       "class                        0\n",
       "dtype: int64"
      ]
     },
     "execution_count": 196,
     "metadata": {},
     "output_type": "execute_result"
    }
   ],
   "source": [
    "kidney[cat_cols].isnull().sum()"
   ]
  },
  {
   "cell_type": "code",
   "execution_count": 197,
   "metadata": {},
   "outputs": [
    {
     "data": {
      "text/plain": [
       "id                       0\n",
       "age                      9\n",
       "blood_pressure          12\n",
       "specific_gravity        47\n",
       "albumin                 46\n",
       "sugar                   49\n",
       "blood_glucose_random    44\n",
       "blood_urea              19\n",
       "serum_creatinine        17\n",
       "sodium                  87\n",
       "potassium               88\n",
       "haemoglobin             52\n",
       "dtype: int64"
      ]
     },
     "execution_count": 197,
     "metadata": {},
     "output_type": "execute_result"
    }
   ],
   "source": [
    "kidney[num_cols].isnull().sum()"
   ]
  },
  {
   "cell_type": "code",
   "execution_count": 198,
   "metadata": {},
   "outputs": [],
   "source": [
    "def random_value_imputation(feature):\n",
    "    random_sample = kidney[feature].dropna().sample(kidney[feature].isna().sum())\n",
    "    random_sample.index = kidney[kidney[feature].isnull()].index\n",
    "    kidney.loc[kidney[feature].isnull(), feature] = random_sample\n",
    "    \n",
    "def impute_mode(feature):\n",
    "    mode = kidney[feature].mode()[0]\n",
    "    kidney[feature] = kidney[feature].fillna(mode)\n"
   ]
  },
  {
   "cell_type": "code",
   "execution_count": 199,
   "metadata": {},
   "outputs": [],
   "source": [
    "# filling num_cols null values using random sampling method\n",
    "\n",
    "for col in num_cols:\n",
    "    random_value_imputation(col)\n"
   ]
  },
  {
   "cell_type": "code",
   "execution_count": 200,
   "metadata": {},
   "outputs": [
    {
     "data": {
      "text/plain": [
       "id                      0\n",
       "age                     0\n",
       "blood_pressure          0\n",
       "specific_gravity        0\n",
       "albumin                 0\n",
       "sugar                   0\n",
       "blood_glucose_random    0\n",
       "blood_urea              0\n",
       "serum_creatinine        0\n",
       "sodium                  0\n",
       "potassium               0\n",
       "haemoglobin             0\n",
       "dtype: int64"
      ]
     },
     "execution_count": 200,
     "metadata": {},
     "output_type": "execute_result"
    }
   ],
   "source": [
    "kidney[num_cols].isnull().sum()\n"
   ]
  },
  {
   "cell_type": "code",
   "execution_count": 201,
   "metadata": {},
   "outputs": [],
   "source": [
    "random_value_imputation('red_blood_cells')\n",
    "random_value_imputation('pus_cell')\n",
    "\n",
    "for col in cat_cols:\n",
    "    impute_mode(col)"
   ]
  },
  {
   "cell_type": "code",
   "execution_count": 202,
   "metadata": {},
   "outputs": [
    {
     "data": {
      "text/plain": [
       "red_blood_cells            0\n",
       "pus_cell                   0\n",
       "pus_cell_clumps            0\n",
       "bacteria                   0\n",
       "packed_cell_volume         0\n",
       "white_blood_cell_count     0\n",
       "red_blood_cell_count       0\n",
       "hypertension               0\n",
       "diabetes_mellitus          0\n",
       "coronary_artery_disease    0\n",
       "appetite                   0\n",
       "peda_edema                 0\n",
       "anemia                     0\n",
       "class                      0\n",
       "dtype: int64"
      ]
     },
     "execution_count": 202,
     "metadata": {},
     "output_type": "execute_result"
    }
   ],
   "source": [
    "kidney[cat_cols].isnull().sum()"
   ]
  },
  {
   "cell_type": "code",
   "execution_count": 203,
   "metadata": {},
   "outputs": [],
   "source": [
    "from sklearn.preprocessing import LabelEncoder\n",
    "le = LabelEncoder()\n",
    "\n",
    "for col in cat_cols:\n",
    "    kidney[col] = le.fit_transform(kidney[col])"
   ]
  },
  {
   "cell_type": "code",
   "execution_count": 204,
   "metadata": {},
   "outputs": [
    {
     "data": {
      "text/html": [
       "<div>\n",
       "<style scoped>\n",
       "    .dataframe tbody tr th:only-of-type {\n",
       "        vertical-align: middle;\n",
       "    }\n",
       "\n",
       "    .dataframe tbody tr th {\n",
       "        vertical-align: top;\n",
       "    }\n",
       "\n",
       "    .dataframe thead th {\n",
       "        text-align: right;\n",
       "    }\n",
       "</style>\n",
       "<table border=\"1\" class=\"dataframe\">\n",
       "  <thead>\n",
       "    <tr style=\"text-align: right;\">\n",
       "      <th></th>\n",
       "      <th>id</th>\n",
       "      <th>age</th>\n",
       "      <th>blood_pressure</th>\n",
       "      <th>specific_gravity</th>\n",
       "      <th>albumin</th>\n",
       "      <th>sugar</th>\n",
       "      <th>red_blood_cells</th>\n",
       "      <th>pus_cell</th>\n",
       "      <th>pus_cell_clumps</th>\n",
       "      <th>bacteria</th>\n",
       "      <th>...</th>\n",
       "      <th>packed_cell_volume</th>\n",
       "      <th>white_blood_cell_count</th>\n",
       "      <th>red_blood_cell_count</th>\n",
       "      <th>hypertension</th>\n",
       "      <th>diabetes_mellitus</th>\n",
       "      <th>coronary_artery_disease</th>\n",
       "      <th>appetite</th>\n",
       "      <th>peda_edema</th>\n",
       "      <th>anemia</th>\n",
       "      <th>class</th>\n",
       "    </tr>\n",
       "  </thead>\n",
       "  <tbody>\n",
       "    <tr>\n",
       "      <th>0</th>\n",
       "      <td>0</td>\n",
       "      <td>48.0</td>\n",
       "      <td>80.0</td>\n",
       "      <td>1.020</td>\n",
       "      <td>1.0</td>\n",
       "      <td>0.0</td>\n",
       "      <td>1</td>\n",
       "      <td>1</td>\n",
       "      <td>0</td>\n",
       "      <td>0</td>\n",
       "      <td>...</td>\n",
       "      <td>31</td>\n",
       "      <td>35</td>\n",
       "      <td>30</td>\n",
       "      <td>1</td>\n",
       "      <td>1</td>\n",
       "      <td>0</td>\n",
       "      <td>0</td>\n",
       "      <td>0</td>\n",
       "      <td>0</td>\n",
       "      <td>0</td>\n",
       "    </tr>\n",
       "    <tr>\n",
       "      <th>1</th>\n",
       "      <td>1</td>\n",
       "      <td>7.0</td>\n",
       "      <td>50.0</td>\n",
       "      <td>1.020</td>\n",
       "      <td>4.0</td>\n",
       "      <td>0.0</td>\n",
       "      <td>1</td>\n",
       "      <td>1</td>\n",
       "      <td>0</td>\n",
       "      <td>0</td>\n",
       "      <td>...</td>\n",
       "      <td>25</td>\n",
       "      <td>19</td>\n",
       "      <td>30</td>\n",
       "      <td>0</td>\n",
       "      <td>0</td>\n",
       "      <td>0</td>\n",
       "      <td>0</td>\n",
       "      <td>0</td>\n",
       "      <td>0</td>\n",
       "      <td>0</td>\n",
       "    </tr>\n",
       "    <tr>\n",
       "      <th>2</th>\n",
       "      <td>2</td>\n",
       "      <td>62.0</td>\n",
       "      <td>80.0</td>\n",
       "      <td>1.010</td>\n",
       "      <td>2.0</td>\n",
       "      <td>3.0</td>\n",
       "      <td>1</td>\n",
       "      <td>1</td>\n",
       "      <td>0</td>\n",
       "      <td>0</td>\n",
       "      <td>...</td>\n",
       "      <td>18</td>\n",
       "      <td>33</td>\n",
       "      <td>30</td>\n",
       "      <td>0</td>\n",
       "      <td>1</td>\n",
       "      <td>0</td>\n",
       "      <td>1</td>\n",
       "      <td>0</td>\n",
       "      <td>1</td>\n",
       "      <td>0</td>\n",
       "    </tr>\n",
       "    <tr>\n",
       "      <th>3</th>\n",
       "      <td>3</td>\n",
       "      <td>48.0</td>\n",
       "      <td>70.0</td>\n",
       "      <td>1.005</td>\n",
       "      <td>4.0</td>\n",
       "      <td>0.0</td>\n",
       "      <td>1</td>\n",
       "      <td>0</td>\n",
       "      <td>1</td>\n",
       "      <td>0</td>\n",
       "      <td>...</td>\n",
       "      <td>19</td>\n",
       "      <td>25</td>\n",
       "      <td>17</td>\n",
       "      <td>1</td>\n",
       "      <td>0</td>\n",
       "      <td>0</td>\n",
       "      <td>1</td>\n",
       "      <td>1</td>\n",
       "      <td>1</td>\n",
       "      <td>0</td>\n",
       "    </tr>\n",
       "    <tr>\n",
       "      <th>4</th>\n",
       "      <td>4</td>\n",
       "      <td>51.0</td>\n",
       "      <td>80.0</td>\n",
       "      <td>1.010</td>\n",
       "      <td>2.0</td>\n",
       "      <td>0.0</td>\n",
       "      <td>1</td>\n",
       "      <td>1</td>\n",
       "      <td>0</td>\n",
       "      <td>0</td>\n",
       "      <td>...</td>\n",
       "      <td>22</td>\n",
       "      <td>31</td>\n",
       "      <td>24</td>\n",
       "      <td>0</td>\n",
       "      <td>0</td>\n",
       "      <td>0</td>\n",
       "      <td>0</td>\n",
       "      <td>0</td>\n",
       "      <td>0</td>\n",
       "      <td>0</td>\n",
       "    </tr>\n",
       "  </tbody>\n",
       "</table>\n",
       "<p>5 rows × 26 columns</p>\n",
       "</div>"
      ],
      "text/plain": [
       "   id   age  blood_pressure  specific_gravity  albumin  sugar  \\\n",
       "0   0  48.0            80.0             1.020      1.0    0.0   \n",
       "1   1   7.0            50.0             1.020      4.0    0.0   \n",
       "2   2  62.0            80.0             1.010      2.0    3.0   \n",
       "3   3  48.0            70.0             1.005      4.0    0.0   \n",
       "4   4  51.0            80.0             1.010      2.0    0.0   \n",
       "\n",
       "   red_blood_cells  pus_cell  pus_cell_clumps  bacteria  ...  \\\n",
       "0                1         1                0         0  ...   \n",
       "1                1         1                0         0  ...   \n",
       "2                1         1                0         0  ...   \n",
       "3                1         0                1         0  ...   \n",
       "4                1         1                0         0  ...   \n",
       "\n",
       "   packed_cell_volume  white_blood_cell_count  red_blood_cell_count  \\\n",
       "0                  31                      35                    30   \n",
       "1                  25                      19                    30   \n",
       "2                  18                      33                    30   \n",
       "3                  19                      25                    17   \n",
       "4                  22                      31                    24   \n",
       "\n",
       "   hypertension  diabetes_mellitus  coronary_artery_disease  appetite  \\\n",
       "0             1                  1                        0         0   \n",
       "1             0                  0                        0         0   \n",
       "2             0                  1                        0         1   \n",
       "3             1                  0                        0         1   \n",
       "4             0                  0                        0         0   \n",
       "\n",
       "   peda_edema  anemia  class  \n",
       "0           0       0      0  \n",
       "1           0       0      0  \n",
       "2           0       1      0  \n",
       "3           1       1      0  \n",
       "4           0       0      0  \n",
       "\n",
       "[5 rows x 26 columns]"
      ]
     },
     "execution_count": 204,
     "metadata": {},
     "output_type": "execute_result"
    }
   ],
   "source": [
    "kidney.head()"
   ]
  },
  {
   "cell_type": "code",
   "execution_count": 205,
   "metadata": {},
   "outputs": [
    {
     "data": {
      "text/plain": [
       "id   age   blood_pressure  specific_gravity  albumin  sugar  red_blood_cells  pus_cell  pus_cell_clumps  bacteria  blood_glucose_random  blood_urea  serum_creatinine  sodium  potassium  haemoglobin  packed_cell_volume  white_blood_cell_count  red_blood_cell_count  hypertension  diabetes_mellitus  coronary_artery_disease  appetite  peda_edema  anemia  class\n",
       "0    48.0  80.0            1.020             1.0      0.0    1                1         0                0         121.0                 36.0        1.2               135.0   5.0        15.4         31                  35                      30                    1             1                  0                        0         0           0       0        1\n",
       "263  45.0  80.0            1.020             0.0      0.0    1                1         0                0         117.0                 46.0        1.2               137.0   5.0        16.2         32                  43                      30                    0             0                  0                        0         0           0       1        1\n",
       "273  47.0  80.0            1.020             0.0      0.0    1                1         0                0         95.0                  35.0        0.9               140.0   4.1        13.9         28                  53                      30                    0             0                  0                        0         0           0       1        1\n",
       "272  56.0  80.0            1.025             0.0      0.0    1                1         0                0         139.0                 15.0        1.2               135.0   5.0        14.8         29                  15                      33                    0             0                  0                        0         0           0       1        1\n",
       "271  30.0  80.0            1.025             0.0      0.0    1                1         0                0         96.0                  25.0        0.5               144.0   4.8        13.8         29                  45                      23                    0             0                  0                        0         0           0       1        1\n",
       "                                                                                                                                                                                                                                                                                                                                                                         ..\n",
       "130  50.0  90.0            1.010             2.0      0.0    1                0         1                1         128.0                 208.0       9.2               134.0   4.8        8.2          9                   83                      5                     0             0                  0                        1         1           1       0        1\n",
       "129  75.0  70.0            1.025             1.0      0.0    0                1         0                0         158.0                 49.0        1.4               135.0   4.7        11.1         28                  53                      30                    1             0                  0                        1         1           0       0        1\n",
       "128  52.0  90.0            1.015             4.0      3.0    1                0         0                0         224.0                 166.0       5.6               133.0   47.0       8.1          10                  9                       7                     1             1                  0                        0         0           1       0        1\n",
       "127  71.0  60.0            1.015             4.0      0.0    1                1         0                0         118.0                 125.0       5.3               136.0   4.9        11.4         22                  81                      21                    1             1                  0                        1         1           0       0        1\n",
       "399  58.0  80.0            1.025             0.0      0.0    1                1         0                0         131.0                 18.0        1.1               141.0   3.5        15.8         40                  26                      39                    0             0                  0                        0         0           0       1        1\n",
       "Length: 400, dtype: int64"
      ]
     },
     "execution_count": 205,
     "metadata": {},
     "output_type": "execute_result"
    }
   ],
   "source": [
    "kidney.value_counts()"
   ]
  },
  {
   "cell_type": "markdown",
   "metadata": {},
   "source": [
    "In this case\n",
    "\n",
    "(rbc):\n",
    "*normal=1 \n",
    "*abnormal=0\n",
    "\n",
    "(pc):\n",
    "*abnormal=1\n",
    "*normal=0\n",
    "\n",
    "(pcc):\n",
    "*present=0\n",
    "*notpresent=1\n",
    "\n",
    "(ba):\n",
    "*present=1\n",
    "*notpresent=0\n",
    "\n",
    "(htn):\n",
    "*yes = 1\n",
    "*no = 0\n",
    "\n",
    "(dm):\n",
    "*yes = 0\n",
    "*no = 1\n",
    "\n",
    "(cad):\n",
    "*yes = 1\n",
    "*no = 0\n",
    "\n",
    "(appet):\n",
    "*poor= 0\n",
    "*good =1\n",
    "\n",
    "(pe):\n",
    "*yes = 0\n",
    "*no = 1"
   ]
  },
  {
   "cell_type": "code",
   "execution_count": 206,
   "metadata": {},
   "outputs": [
    {
     "data": {
      "text/html": [
       "<div>\n",
       "<style scoped>\n",
       "    .dataframe tbody tr th:only-of-type {\n",
       "        vertical-align: middle;\n",
       "    }\n",
       "\n",
       "    .dataframe tbody tr th {\n",
       "        vertical-align: top;\n",
       "    }\n",
       "\n",
       "    .dataframe thead th {\n",
       "        text-align: right;\n",
       "    }\n",
       "</style>\n",
       "<table border=\"1\" class=\"dataframe\">\n",
       "  <thead>\n",
       "    <tr style=\"text-align: right;\">\n",
       "      <th></th>\n",
       "      <th>age</th>\n",
       "      <th>blood_pressure</th>\n",
       "      <th>specific_gravity</th>\n",
       "      <th>albumin</th>\n",
       "      <th>sugar</th>\n",
       "      <th>red_blood_cells</th>\n",
       "      <th>pus_cell</th>\n",
       "      <th>pus_cell_clumps</th>\n",
       "      <th>bacteria</th>\n",
       "      <th>blood_glucose_random</th>\n",
       "      <th>...</th>\n",
       "      <th>packed_cell_volume</th>\n",
       "      <th>white_blood_cell_count</th>\n",
       "      <th>red_blood_cell_count</th>\n",
       "      <th>hypertension</th>\n",
       "      <th>diabetes_mellitus</th>\n",
       "      <th>coronary_artery_disease</th>\n",
       "      <th>appetite</th>\n",
       "      <th>peda_edema</th>\n",
       "      <th>anemia</th>\n",
       "      <th>class</th>\n",
       "    </tr>\n",
       "  </thead>\n",
       "  <tbody>\n",
       "    <tr>\n",
       "      <th>0</th>\n",
       "      <td>48.0</td>\n",
       "      <td>80.0</td>\n",
       "      <td>1.020</td>\n",
       "      <td>1.0</td>\n",
       "      <td>0.0</td>\n",
       "      <td>1</td>\n",
       "      <td>1</td>\n",
       "      <td>0</td>\n",
       "      <td>0</td>\n",
       "      <td>121.0</td>\n",
       "      <td>...</td>\n",
       "      <td>31</td>\n",
       "      <td>35</td>\n",
       "      <td>30</td>\n",
       "      <td>1</td>\n",
       "      <td>1</td>\n",
       "      <td>0</td>\n",
       "      <td>0</td>\n",
       "      <td>0</td>\n",
       "      <td>0</td>\n",
       "      <td>0</td>\n",
       "    </tr>\n",
       "    <tr>\n",
       "      <th>1</th>\n",
       "      <td>7.0</td>\n",
       "      <td>50.0</td>\n",
       "      <td>1.020</td>\n",
       "      <td>4.0</td>\n",
       "      <td>0.0</td>\n",
       "      <td>1</td>\n",
       "      <td>1</td>\n",
       "      <td>0</td>\n",
       "      <td>0</td>\n",
       "      <td>100.0</td>\n",
       "      <td>...</td>\n",
       "      <td>25</td>\n",
       "      <td>19</td>\n",
       "      <td>30</td>\n",
       "      <td>0</td>\n",
       "      <td>0</td>\n",
       "      <td>0</td>\n",
       "      <td>0</td>\n",
       "      <td>0</td>\n",
       "      <td>0</td>\n",
       "      <td>0</td>\n",
       "    </tr>\n",
       "    <tr>\n",
       "      <th>2</th>\n",
       "      <td>62.0</td>\n",
       "      <td>80.0</td>\n",
       "      <td>1.010</td>\n",
       "      <td>2.0</td>\n",
       "      <td>3.0</td>\n",
       "      <td>1</td>\n",
       "      <td>1</td>\n",
       "      <td>0</td>\n",
       "      <td>0</td>\n",
       "      <td>423.0</td>\n",
       "      <td>...</td>\n",
       "      <td>18</td>\n",
       "      <td>33</td>\n",
       "      <td>30</td>\n",
       "      <td>0</td>\n",
       "      <td>1</td>\n",
       "      <td>0</td>\n",
       "      <td>1</td>\n",
       "      <td>0</td>\n",
       "      <td>1</td>\n",
       "      <td>0</td>\n",
       "    </tr>\n",
       "    <tr>\n",
       "      <th>3</th>\n",
       "      <td>48.0</td>\n",
       "      <td>70.0</td>\n",
       "      <td>1.005</td>\n",
       "      <td>4.0</td>\n",
       "      <td>0.0</td>\n",
       "      <td>1</td>\n",
       "      <td>0</td>\n",
       "      <td>1</td>\n",
       "      <td>0</td>\n",
       "      <td>117.0</td>\n",
       "      <td>...</td>\n",
       "      <td>19</td>\n",
       "      <td>25</td>\n",
       "      <td>17</td>\n",
       "      <td>1</td>\n",
       "      <td>0</td>\n",
       "      <td>0</td>\n",
       "      <td>1</td>\n",
       "      <td>1</td>\n",
       "      <td>1</td>\n",
       "      <td>0</td>\n",
       "    </tr>\n",
       "    <tr>\n",
       "      <th>4</th>\n",
       "      <td>51.0</td>\n",
       "      <td>80.0</td>\n",
       "      <td>1.010</td>\n",
       "      <td>2.0</td>\n",
       "      <td>0.0</td>\n",
       "      <td>1</td>\n",
       "      <td>1</td>\n",
       "      <td>0</td>\n",
       "      <td>0</td>\n",
       "      <td>106.0</td>\n",
       "      <td>...</td>\n",
       "      <td>22</td>\n",
       "      <td>31</td>\n",
       "      <td>24</td>\n",
       "      <td>0</td>\n",
       "      <td>0</td>\n",
       "      <td>0</td>\n",
       "      <td>0</td>\n",
       "      <td>0</td>\n",
       "      <td>0</td>\n",
       "      <td>0</td>\n",
       "    </tr>\n",
       "    <tr>\n",
       "      <th>...</th>\n",
       "      <td>...</td>\n",
       "      <td>...</td>\n",
       "      <td>...</td>\n",
       "      <td>...</td>\n",
       "      <td>...</td>\n",
       "      <td>...</td>\n",
       "      <td>...</td>\n",
       "      <td>...</td>\n",
       "      <td>...</td>\n",
       "      <td>...</td>\n",
       "      <td>...</td>\n",
       "      <td>...</td>\n",
       "      <td>...</td>\n",
       "      <td>...</td>\n",
       "      <td>...</td>\n",
       "      <td>...</td>\n",
       "      <td>...</td>\n",
       "      <td>...</td>\n",
       "      <td>...</td>\n",
       "      <td>...</td>\n",
       "      <td>...</td>\n",
       "    </tr>\n",
       "    <tr>\n",
       "      <th>395</th>\n",
       "      <td>55.0</td>\n",
       "      <td>80.0</td>\n",
       "      <td>1.020</td>\n",
       "      <td>0.0</td>\n",
       "      <td>0.0</td>\n",
       "      <td>1</td>\n",
       "      <td>1</td>\n",
       "      <td>0</td>\n",
       "      <td>0</td>\n",
       "      <td>140.0</td>\n",
       "      <td>...</td>\n",
       "      <td>34</td>\n",
       "      <td>25</td>\n",
       "      <td>27</td>\n",
       "      <td>0</td>\n",
       "      <td>0</td>\n",
       "      <td>0</td>\n",
       "      <td>0</td>\n",
       "      <td>0</td>\n",
       "      <td>0</td>\n",
       "      <td>1</td>\n",
       "    </tr>\n",
       "    <tr>\n",
       "      <th>396</th>\n",
       "      <td>42.0</td>\n",
       "      <td>70.0</td>\n",
       "      <td>1.025</td>\n",
       "      <td>0.0</td>\n",
       "      <td>0.0</td>\n",
       "      <td>1</td>\n",
       "      <td>1</td>\n",
       "      <td>0</td>\n",
       "      <td>0</td>\n",
       "      <td>75.0</td>\n",
       "      <td>...</td>\n",
       "      <td>41</td>\n",
       "      <td>35</td>\n",
       "      <td>40</td>\n",
       "      <td>0</td>\n",
       "      <td>0</td>\n",
       "      <td>0</td>\n",
       "      <td>0</td>\n",
       "      <td>0</td>\n",
       "      <td>0</td>\n",
       "      <td>1</td>\n",
       "    </tr>\n",
       "    <tr>\n",
       "      <th>397</th>\n",
       "      <td>12.0</td>\n",
       "      <td>80.0</td>\n",
       "      <td>1.020</td>\n",
       "      <td>0.0</td>\n",
       "      <td>0.0</td>\n",
       "      <td>1</td>\n",
       "      <td>1</td>\n",
       "      <td>0</td>\n",
       "      <td>0</td>\n",
       "      <td>100.0</td>\n",
       "      <td>...</td>\n",
       "      <td>36</td>\n",
       "      <td>24</td>\n",
       "      <td>32</td>\n",
       "      <td>0</td>\n",
       "      <td>0</td>\n",
       "      <td>0</td>\n",
       "      <td>0</td>\n",
       "      <td>0</td>\n",
       "      <td>0</td>\n",
       "      <td>1</td>\n",
       "    </tr>\n",
       "    <tr>\n",
       "      <th>398</th>\n",
       "      <td>17.0</td>\n",
       "      <td>60.0</td>\n",
       "      <td>1.025</td>\n",
       "      <td>0.0</td>\n",
       "      <td>0.0</td>\n",
       "      <td>1</td>\n",
       "      <td>1</td>\n",
       "      <td>0</td>\n",
       "      <td>0</td>\n",
       "      <td>114.0</td>\n",
       "      <td>...</td>\n",
       "      <td>38</td>\n",
       "      <td>30</td>\n",
       "      <td>37</td>\n",
       "      <td>0</td>\n",
       "      <td>0</td>\n",
       "      <td>0</td>\n",
       "      <td>0</td>\n",
       "      <td>0</td>\n",
       "      <td>0</td>\n",
       "      <td>1</td>\n",
       "    </tr>\n",
       "    <tr>\n",
       "      <th>399</th>\n",
       "      <td>58.0</td>\n",
       "      <td>80.0</td>\n",
       "      <td>1.025</td>\n",
       "      <td>0.0</td>\n",
       "      <td>0.0</td>\n",
       "      <td>1</td>\n",
       "      <td>1</td>\n",
       "      <td>0</td>\n",
       "      <td>0</td>\n",
       "      <td>131.0</td>\n",
       "      <td>...</td>\n",
       "      <td>40</td>\n",
       "      <td>26</td>\n",
       "      <td>39</td>\n",
       "      <td>0</td>\n",
       "      <td>0</td>\n",
       "      <td>0</td>\n",
       "      <td>0</td>\n",
       "      <td>0</td>\n",
       "      <td>0</td>\n",
       "      <td>1</td>\n",
       "    </tr>\n",
       "  </tbody>\n",
       "</table>\n",
       "<p>400 rows × 25 columns</p>\n",
       "</div>"
      ],
      "text/plain": [
       "      age  blood_pressure  specific_gravity  albumin  sugar  red_blood_cells  \\\n",
       "0    48.0            80.0             1.020      1.0    0.0                1   \n",
       "1     7.0            50.0             1.020      4.0    0.0                1   \n",
       "2    62.0            80.0             1.010      2.0    3.0                1   \n",
       "3    48.0            70.0             1.005      4.0    0.0                1   \n",
       "4    51.0            80.0             1.010      2.0    0.0                1   \n",
       "..    ...             ...               ...      ...    ...              ...   \n",
       "395  55.0            80.0             1.020      0.0    0.0                1   \n",
       "396  42.0            70.0             1.025      0.0    0.0                1   \n",
       "397  12.0            80.0             1.020      0.0    0.0                1   \n",
       "398  17.0            60.0             1.025      0.0    0.0                1   \n",
       "399  58.0            80.0             1.025      0.0    0.0                1   \n",
       "\n",
       "     pus_cell  pus_cell_clumps  bacteria  blood_glucose_random  ...  \\\n",
       "0           1                0         0                 121.0  ...   \n",
       "1           1                0         0                 100.0  ...   \n",
       "2           1                0         0                 423.0  ...   \n",
       "3           0                1         0                 117.0  ...   \n",
       "4           1                0         0                 106.0  ...   \n",
       "..        ...              ...       ...                   ...  ...   \n",
       "395         1                0         0                 140.0  ...   \n",
       "396         1                0         0                  75.0  ...   \n",
       "397         1                0         0                 100.0  ...   \n",
       "398         1                0         0                 114.0  ...   \n",
       "399         1                0         0                 131.0  ...   \n",
       "\n",
       "     packed_cell_volume  white_blood_cell_count  red_blood_cell_count  \\\n",
       "0                    31                      35                    30   \n",
       "1                    25                      19                    30   \n",
       "2                    18                      33                    30   \n",
       "3                    19                      25                    17   \n",
       "4                    22                      31                    24   \n",
       "..                  ...                     ...                   ...   \n",
       "395                  34                      25                    27   \n",
       "396                  41                      35                    40   \n",
       "397                  36                      24                    32   \n",
       "398                  38                      30                    37   \n",
       "399                  40                      26                    39   \n",
       "\n",
       "     hypertension  diabetes_mellitus  coronary_artery_disease  appetite  \\\n",
       "0               1                  1                        0         0   \n",
       "1               0                  0                        0         0   \n",
       "2               0                  1                        0         1   \n",
       "3               1                  0                        0         1   \n",
       "4               0                  0                        0         0   \n",
       "..            ...                ...                      ...       ...   \n",
       "395             0                  0                        0         0   \n",
       "396             0                  0                        0         0   \n",
       "397             0                  0                        0         0   \n",
       "398             0                  0                        0         0   \n",
       "399             0                  0                        0         0   \n",
       "\n",
       "     peda_edema  anemia  class  \n",
       "0             0       0      0  \n",
       "1             0       0      0  \n",
       "2             0       1      0  \n",
       "3             1       1      0  \n",
       "4             0       0      0  \n",
       "..          ...     ...    ...  \n",
       "395           0       0      1  \n",
       "396           0       0      1  \n",
       "397           0       0      1  \n",
       "398           0       0      1  \n",
       "399           0       0      1  \n",
       "\n",
       "[400 rows x 25 columns]"
      ]
     },
     "execution_count": 206,
     "metadata": {},
     "output_type": "execute_result"
    }
   ],
   "source": [
    "kidney.drop(['id'], axis=1)"
   ]
  },
  {
   "cell_type": "markdown",
   "metadata": {},
   "source": [
    "# MODEL BUILDING "
   ]
  },
  {
   "cell_type": "code",
   "execution_count": 207,
   "metadata": {},
   "outputs": [],
   "source": [
    "ind_col = [col for col in num_cols if col != 'class']\n",
    "dep_col = 'class'\n",
    "\n",
    "\n",
    "X = kidney[ind_col]\n",
    "y = kidney[dep_col]\n",
    "\n"
   ]
  },
  {
   "cell_type": "code",
   "execution_count": 208,
   "metadata": {},
   "outputs": [],
   "source": [
    "# splitting data intp training and test set\n",
    "\n",
    "from sklearn.model_selection import train_test_split\n",
    "\n",
    "X_train, X_test, y_train, y_test = train_test_split(X, y, test_size = 0.30, random_state = 0)"
   ]
  },
  {
   "cell_type": "markdown",
   "metadata": {},
   "source": [
    "# LOGISTIC REGRESSION"
   ]
  },
  {
   "cell_type": "code",
   "execution_count": 209,
   "metadata": {},
   "outputs": [],
   "source": [
    "from sklearn.linear_model import LogisticRegression\n",
    "from sklearn.model_selection import GridSearchCV\n",
    "from sklearn.metrics import  accuracy_score, f1_score,recall_score,classification_report, confusion_matrix\n",
    "from sklearn.pipeline import Pipeline \n",
    "from sklearn.model_selection import cross_val_score\n"
   ]
  },
  {
   "cell_type": "code",
   "execution_count": 210,
   "metadata": {},
   "outputs": [
    {
     "data": {
      "text/plain": [
       "1.0"
      ]
     },
     "execution_count": 210,
     "metadata": {},
     "output_type": "execute_result"
    }
   ],
   "source": [
    "log=LogisticRegression(class_weight=\"balanced\", random_state=1243, max_iter=1000)\n",
    "log.fit(X_train, y_train) \n",
    "log.score(X_test, y_test) "
   ]
  },
  {
   "cell_type": "code",
   "execution_count": 211,
   "metadata": {},
   "outputs": [
    {
     "data": {
      "text/plain": [
       "array([0, 1, 1, 0, 0, 0, 0, 1, 0, 0, 0, 0, 0, 1, 0, 0, 1, 0, 0, 0, 0, 1,\n",
       "       0, 1, 0, 1, 0, 0, 1, 0, 0, 1, 1, 0, 0, 0, 0, 0, 0, 1, 0, 1, 0, 0,\n",
       "       1, 0, 1, 1, 0, 0, 0, 0, 1, 0, 1, 1, 0, 0, 0, 0, 0, 1, 0, 1, 0, 1,\n",
       "       0, 0, 0, 1, 0, 1, 0, 0, 0, 0, 1, 1, 1, 1, 1, 0, 0, 0, 1, 0, 0, 1,\n",
       "       1, 1, 1, 1, 0, 0, 0, 0, 0, 1, 1, 1, 1, 0, 1, 0, 1, 1, 0, 1, 0, 1,\n",
       "       0, 0, 1, 0, 1, 0, 1, 0, 0, 1])"
      ]
     },
     "execution_count": 211,
     "metadata": {},
     "output_type": "execute_result"
    }
   ],
   "source": [
    "log_pred = log.predict(X_test)\n",
    "log_pred"
   ]
  },
  {
   "cell_type": "code",
   "execution_count": 212,
   "metadata": {},
   "outputs": [
    {
     "name": "stdout",
     "output_type": "stream",
     "text": [
      "Training Accuracy of Logistic Regression is 1.0\n",
      "Test Accuracy of Logistic Regression is 1.0 \n",
      "\n"
     ]
    }
   ],
   "source": [
    "# accuracy score, confusion matrix and classification report of knn\n",
    "\n",
    "log_acc = accuracy_score(y_test, log.predict(X_test))\n",
    "\n",
    "print(f\"Training Accuracy of Logistic Regression is {accuracy_score(y_train, log.predict(X_train))}\")\n",
    "print(f\"Test Accuracy of Logistic Regression is {log_acc} \\n\")"
   ]
  },
  {
   "cell_type": "code",
   "execution_count": 213,
   "metadata": {},
   "outputs": [
    {
     "data": {
      "text/plain": [
       "0.0"
      ]
     },
     "execution_count": 213,
     "metadata": {},
     "output_type": "execute_result"
    }
   ],
   "source": [
    "from sklearn.metrics import mean_squared_error\n",
    "log_mse = mean_squared_error(y_test, log_pred)\n",
    "log_rmse = np.sqrt(log_mse)\n",
    "log_rmse"
   ]
  },
  {
   "cell_type": "markdown",
   "metadata": {},
   "source": [
    "- The logistic regression model shows that the accuracy of both the training set and the test set is at 100% and it has 0.00 errors so far ."
   ]
  },
  {
   "cell_type": "code",
   "execution_count": 214,
   "metadata": {},
   "outputs": [
    {
     "name": "stdout",
     "output_type": "stream",
     "text": [
      "F1-Score: 1.000\n",
      "Recall Score: 1.000\n"
     ]
    }
   ],
   "source": [
    "#Checking the scores \n",
    "score_vote1 = recall_score(y_test, log_pred)\n",
    "score_vote2 = f1_score(y_test, log_pred)\n",
    "\n",
    "\n",
    "print('F1-Score: {:.3f}'.format(score_vote2))\n",
    "print('Recall Score: {:.3f}'.format(score_vote1))\n"
   ]
  },
  {
   "cell_type": "code",
   "execution_count": 215,
   "metadata": {},
   "outputs": [
    {
     "name": "stdout",
     "output_type": "stream",
     "text": [
      "Confusion Matrix :- \n",
      "[[72  0]\n",
      " [ 0 48]]\n",
      "Classification Report :- \n",
      "              precision    recall  f1-score   support\n",
      "\n",
      "           0       1.00      1.00      1.00        72\n",
      "           1       1.00      1.00      1.00        48\n",
      "\n",
      "    accuracy                           1.00       120\n",
      "   macro avg       1.00      1.00      1.00       120\n",
      "weighted avg       1.00      1.00      1.00       120\n",
      "\n"
     ]
    }
   ],
   "source": [
    "# CONFUSION MATRIX AND CLASSIFICATION REPORT \n",
    "\n",
    "print(f\"Confusion Matrix :- \\n{confusion_matrix(y_test, log_pred)}\")\n",
    "print(f\"Classification Report :- \\n{classification_report(y_test, log_pred)}\")"
   ]
  },
  {
   "cell_type": "markdown",
   "metadata": {},
   "source": [
    "# KNN CLASSIFIER"
   ]
  },
  {
   "cell_type": "code",
   "execution_count": 216,
   "metadata": {},
   "outputs": [],
   "source": [
    "from sklearn.neighbors import KNeighborsClassifier\n",
    "from sklearn.metrics import  accuracy_score, f1_score,recall_score,classification_report, confusion_matrix,precision_score\n",
    "\n",
    "knn = KNeighborsClassifier()\n",
    "knn.fit(X_train, y_train)\n",
    "knn.score(X_test, y_test)\n",
    "knn_pred = knn.predict(X_test)"
   ]
  },
  {
   "cell_type": "code",
   "execution_count": 217,
   "metadata": {},
   "outputs": [
    {
     "name": "stdout",
     "output_type": "stream",
     "text": [
      "Training Accuracy of KNN is 1.0\n",
      "Test Accuracy of KNN is 0.9916666666666667 \n",
      "\n"
     ]
    }
   ],
   "source": [
    "# accuracy score, confusion matrix and classification report of knn\n",
    "\n",
    "knn_acc = accuracy_score(y_test, knn_pred)\n",
    "\n",
    "print(f\"Training Accuracy of KNN is {accuracy_score(y_train, knn.predict(X_train))}\")\n",
    "print(f\"Test Accuracy of KNN is {knn_acc} \\n\")"
   ]
  },
  {
   "cell_type": "code",
   "execution_count": 218,
   "metadata": {},
   "outputs": [
    {
     "name": "stdout",
     "output_type": "stream",
     "text": [
      "Recall Score: 1.000\n",
      "F1-Score: 0.990\n",
      "Precision Score: 0.980\n"
     ]
    }
   ],
   "source": [
    "#Checking the scores \n",
    "score_vote1 = recall_score(y_test, knn_pred)\n",
    "score_vote2 = f1_score(y_test, knn_pred)\n",
    "score_vote3 = precision_score(y_test, knn_pred)\n",
    "\n",
    "\n",
    "\n",
    "print('Recall Score: {:.3f}'.format(score_vote1))\n",
    "print('F1-Score: {:.3f}'.format(score_vote2))\n",
    "print('Precision Score: {:.3f}'.format(score_vote3))"
   ]
  },
  {
   "cell_type": "code",
   "execution_count": 219,
   "metadata": {},
   "outputs": [
    {
     "data": {
      "text/plain": [
       "0.09128709291752768"
      ]
     },
     "execution_count": 219,
     "metadata": {},
     "output_type": "execute_result"
    }
   ],
   "source": [
    "from sklearn.metrics import mean_squared_error\n",
    "knn_mse = mean_squared_error(y_test, knn_pred)\n",
    "knn_rmse = np.sqrt(knn_mse)\n",
    "knn_rmse"
   ]
  },
  {
   "cell_type": "markdown",
   "metadata": {},
   "source": [
    "- The KNN algorithm shows an error of 0.13 and accuracies of averagely of 99% in both the training sets and test sets.  "
   ]
  },
  {
   "cell_type": "code",
   "execution_count": 220,
   "metadata": {},
   "outputs": [
    {
     "name": "stdout",
     "output_type": "stream",
     "text": [
      "Confusion Matrix :- \n",
      "[[71  1]\n",
      " [ 0 48]]\n",
      "Classification Report :- \n",
      "              precision    recall  f1-score   support\n",
      "\n",
      "           0       1.00      0.99      0.99        72\n",
      "           1       0.98      1.00      0.99        48\n",
      "\n",
      "    accuracy                           0.99       120\n",
      "   macro avg       0.99      0.99      0.99       120\n",
      "weighted avg       0.99      0.99      0.99       120\n",
      "\n"
     ]
    }
   ],
   "source": [
    "# CONFUSION MATRIX AND CLASSIFICATION REPORT \n",
    "\n",
    "print(f\"Confusion Matrix :- \\n{confusion_matrix(y_test, knn_pred)}\")\n",
    "print(f\"Classification Report :- \\n{classification_report(y_test, knn_pred)}\")"
   ]
  },
  {
   "cell_type": "markdown",
   "metadata": {},
   "source": [
    "# DECISION TREE CLASSIFIER"
   ]
  },
  {
   "cell_type": "code",
   "execution_count": 221,
   "metadata": {},
   "outputs": [],
   "source": [
    "from sklearn.tree import DecisionTreeClassifier\n",
    "\n",
    "dtc = DecisionTreeClassifier()\n",
    "dtc.fit(X_train, y_train)\n",
    "dtc.score(X_test, y_test)\n",
    "dtc_pred = dtc.predict(X_test)"
   ]
  },
  {
   "cell_type": "code",
   "execution_count": 222,
   "metadata": {},
   "outputs": [
    {
     "name": "stdout",
     "output_type": "stream",
     "text": [
      "Training Accuracy of Decision Tree Classifier is 1.0\n",
      "Test Accuracy of Decision Tree Classifier is 0.9916666666666667 \n",
      "\n"
     ]
    }
   ],
   "source": [
    "# ACCURACY SCORES, CONFUSION MATRIX, CLASSIFICATION REPORT\n",
    "\n",
    "dtc_acc = accuracy_score(y_test, dtc_pred)\n",
    "\n",
    "print(f\"Training Accuracy of Decision Tree Classifier is {accuracy_score(y_train, dtc.predict(X_train))}\")\n",
    "print(f\"Test Accuracy of Decision Tree Classifier is {dtc_acc} \\n\")\n"
   ]
  },
  {
   "cell_type": "code",
   "execution_count": 223,
   "metadata": {},
   "outputs": [
    {
     "data": {
      "text/plain": [
       "0.09128709291752768"
      ]
     },
     "execution_count": 223,
     "metadata": {},
     "output_type": "execute_result"
    }
   ],
   "source": [
    "from sklearn.metrics import mean_squared_error\n",
    "dtc_mse = mean_squared_error(y_test, dtc_pred)\n",
    "dtc_rmse = np.sqrt(dtc_mse)\n",
    "dtc_rmse"
   ]
  },
  {
   "cell_type": "markdown",
   "metadata": {},
   "source": [
    "- With the Decision Tree algorithm, the model shows acccuracies of 100% in the training set and 99% in the test set and and error of 0.09."
   ]
  },
  {
   "cell_type": "code",
   "execution_count": 224,
   "metadata": {},
   "outputs": [
    {
     "name": "stdout",
     "output_type": "stream",
     "text": [
      "Recall Score: 0.979\n",
      "F1-Score: 0.989\n",
      "Precision Score: 1.000\n"
     ]
    }
   ],
   "source": [
    "#Checking the scores \n",
    "score_vote1 = recall_score(y_test, dtc_pred)\n",
    "score_vote2 = f1_score(y_test, dtc_pred)\n",
    "score_vote3 = precision_score(y_test, dtc_pred)\n",
    "\n",
    "\n",
    "\n",
    "print('Recall Score: {:.3f}'.format(score_vote1))\n",
    "print('F1-Score: {:.3f}'.format(score_vote2))\n",
    "print('Precision Score: {:.3f}'.format(score_vote3))"
   ]
  },
  {
   "cell_type": "markdown",
   "metadata": {},
   "source": [
    "# RANDOM FOREST CLASSIFIER "
   ]
  },
  {
   "cell_type": "code",
   "execution_count": 225,
   "metadata": {},
   "outputs": [
    {
     "name": "stderr",
     "output_type": "stream",
     "text": [
      "/home/winnie/.local/lib/python3.10/site-packages/sklearn/ensemble/_forest.py:424: FutureWarning:\n",
      "\n",
      "`max_features='auto'` has been deprecated in 1.1 and will be removed in 1.3. To keep the past behaviour, explicitly set `max_features='sqrt'` or remove this parameter as it is also the default value for RandomForestClassifiers and ExtraTreesClassifiers.\n",
      "\n"
     ]
    }
   ],
   "source": [
    "from sklearn.ensemble import RandomForestClassifier\n",
    "\n",
    "rfc = RandomForestClassifier(criterion = 'entropy', max_depth = 11, max_features = 'auto', min_samples_leaf = 2, min_samples_split = 3, n_estimators = 130)\n",
    "rfc.fit(X_train, y_train)\n",
    "rfc.score(X_test, y_test)\n",
    "rfc_pred = rfc.predict(X_test)"
   ]
  },
  {
   "cell_type": "code",
   "execution_count": 226,
   "metadata": {},
   "outputs": [
    {
     "name": "stdout",
     "output_type": "stream",
     "text": [
      "Training Accuracy of Decision Tree Classifier is 1.0\n",
      "Test Accuracy of Decision Tree Classifier is 1.0 \n",
      "\n"
     ]
    }
   ],
   "source": [
    "# ACCURACY SCORES, CONFUSION MATRIX, CLASSIFICATION REPORT\n",
    "\n",
    "rfc_acc = accuracy_score(y_test, rfc_pred)\n",
    "\n",
    "print(f\"Training Accuracy of Decision Tree Classifier is {accuracy_score(y_train, rfc.predict(X_train))}\")\n",
    "print(f\"Test Accuracy of Decision Tree Classifier is {rfc_acc} \\n\")\n"
   ]
  },
  {
   "cell_type": "code",
   "execution_count": 227,
   "metadata": {},
   "outputs": [
    {
     "data": {
      "text/plain": [
       "0.0"
      ]
     },
     "execution_count": 227,
     "metadata": {},
     "output_type": "execute_result"
    }
   ],
   "source": [
    "from sklearn.metrics import mean_squared_error\n",
    "rfc_mse = mean_squared_error(y_test, rfc_pred)\n",
    "rfc_rmse = np.sqrt(rfc_mse)\n",
    "rfc_rmse"
   ]
  },
  {
   "cell_type": "code",
   "execution_count": 228,
   "metadata": {},
   "outputs": [
    {
     "name": "stdout",
     "output_type": "stream",
     "text": [
      "Recall Score: 1.000\n",
      "F1-Score: 1.000\n",
      "Precision Score: 1.000\n"
     ]
    }
   ],
   "source": [
    "#Checking the scores \n",
    "score_vote1 = recall_score(y_test, rfc_pred)\n",
    "score_vote2 = f1_score(y_test, rfc_pred)\n",
    "score_vote3 = precision_score(y_test, rfc_pred)\n",
    "\n",
    "\n",
    "\n",
    "print('Recall Score: {:.3f}'.format(score_vote1))\n",
    "print('F1-Score: {:.3f}'.format(score_vote2))\n",
    "print('Precision Score: {:.3f}'.format(score_vote3))"
   ]
  },
  {
   "cell_type": "code",
   "execution_count": 229,
   "metadata": {},
   "outputs": [
    {
     "name": "stdout",
     "output_type": "stream",
     "text": [
      "Classification Report :- \n",
      "               precision    recall  f1-score   support\n",
      "\n",
      "           0       1.00      1.00      1.00        72\n",
      "           1       1.00      1.00      1.00        48\n",
      "\n",
      "    accuracy                           1.00       120\n",
      "   macro avg       1.00      1.00      1.00       120\n",
      "weighted avg       1.00      1.00      1.00       120\n",
      "\n"
     ]
    }
   ],
   "source": [
    "#CLASSIFICATION REPORT\n",
    "\n",
    "print(f\"Classification Report :- \\n {classification_report(y_test, rfc_pred)}\")"
   ]
  },
  {
   "cell_type": "markdown",
   "metadata": {},
   "source": [
    "# SVM CLASSIFIER"
   ]
  },
  {
   "cell_type": "code",
   "execution_count": 230,
   "metadata": {},
   "outputs": [],
   "source": [
    "from sklearn.svm import SVC\n",
    "svm = SVC(kernel= 'linear', random_state=1, C=0.1)\n",
    "svm.fit(X_train, y_train)\n",
    "svm.score(X_test, y_test)\n",
    "svm_pred = svm.predict(X_test)"
   ]
  },
  {
   "cell_type": "code",
   "execution_count": 231,
   "metadata": {},
   "outputs": [
    {
     "name": "stdout",
     "output_type": "stream",
     "text": [
      "Training Accuracy of Decision Tree Classifier is 1.0\n",
      "Test Accuracy of Decision Tree Classifier is 1.0 \n",
      "\n"
     ]
    }
   ],
   "source": [
    "# ACCURACY SCORES, CONFUSION MATRIX, CLASSIFICATION REPORT\n",
    "\n",
    "svm_acc = accuracy_score(y_test, svm_pred)\n",
    "\n",
    "print(f\"Training Accuracy of Decision Tree Classifier is {accuracy_score(y_train, svm.predict(X_train))}\")\n",
    "print(f\"Test Accuracy of Decision Tree Classifier is {svm_acc} \\n\")"
   ]
  },
  {
   "cell_type": "code",
   "execution_count": 232,
   "metadata": {},
   "outputs": [
    {
     "data": {
      "text/plain": [
       "0.0"
      ]
     },
     "execution_count": 232,
     "metadata": {},
     "output_type": "execute_result"
    }
   ],
   "source": [
    "from sklearn.metrics import mean_squared_error\n",
    "svm_mse = mean_squared_error(y_test, svm_pred)\n",
    "svm_rmse = np.sqrt(svm_mse)\n",
    "svm_rmse"
   ]
  },
  {
   "cell_type": "code",
   "execution_count": 233,
   "metadata": {},
   "outputs": [
    {
     "name": "stdout",
     "output_type": "stream",
     "text": [
      "Recall Score: 1.000\n",
      "F1-Score: 1.000\n",
      "Precision Score: 1.000\n"
     ]
    }
   ],
   "source": [
    "#Checking the scores \n",
    "score_vote1 = recall_score(y_test, svm_pred)\n",
    "score_vote2 = f1_score(y_test, svm_pred)\n",
    "score_vote3 = precision_score(y_test, svm_pred)\n",
    "\n",
    "\n",
    "\n",
    "print('Recall Score: {:.3f}'.format(score_vote1))\n",
    "print('F1-Score: {:.3f}'.format(score_vote2))\n",
    "print('Precision Score: {:.3f}'.format(score_vote3))"
   ]
  },
  {
   "cell_type": "code",
   "execution_count": 234,
   "metadata": {},
   "outputs": [
    {
     "name": "stdout",
     "output_type": "stream",
     "text": [
      "Classification Report :- \n",
      "               precision    recall  f1-score   support\n",
      "\n",
      "           0       1.00      1.00      1.00        72\n",
      "           1       1.00      1.00      1.00        48\n",
      "\n",
      "    accuracy                           1.00       120\n",
      "   macro avg       1.00      1.00      1.00       120\n",
      "weighted avg       1.00      1.00      1.00       120\n",
      "\n"
     ]
    }
   ],
   "source": [
    "#CLASSIFICATION REPORT\n",
    "\n",
    "print(f\"Classification Report :- \\n {classification_report(y_test, svm_pred)}\")"
   ]
  },
  {
   "cell_type": "markdown",
   "metadata": {},
   "source": [
    "# XGBOOST"
   ]
  },
  {
   "cell_type": "code",
   "execution_count": 235,
   "metadata": {},
   "outputs": [],
   "source": [
    "from xgboost import XGBClassifier\n",
    "\n",
    "xgb = XGBClassifier(objective = 'binary:logistic', learning_rate = 0.5, max_depth = 5, n_estimators = 150)\n",
    "xgb.fit(X_train, y_train)\n",
    "xgb.score(X_test, y_test)\n",
    "xgb_pred=xgb.predict(X_test)"
   ]
  },
  {
   "cell_type": "code",
   "execution_count": 236,
   "metadata": {},
   "outputs": [
    {
     "name": "stdout",
     "output_type": "stream",
     "text": [
      "Training Accuracy of XgBoost is is 1.0\n",
      "Test Accuracy of XgBoost is 1.0 \n",
      "\n"
     ]
    }
   ],
   "source": [
    "# accuracy score\n",
    "xgb_acc = accuracy_score(y_test, xgb_pred)\n",
    "\n",
    "print(f\"Training Accuracy of XgBoost is is {accuracy_score(y_train, xgb.predict(X_train))}\")\n",
    "print(f\"Test Accuracy of XgBoost is {xgb_acc} \\n\")\n"
   ]
  },
  {
   "cell_type": "code",
   "execution_count": 237,
   "metadata": {},
   "outputs": [
    {
     "data": {
      "text/plain": [
       "0.0"
      ]
     },
     "execution_count": 237,
     "metadata": {},
     "output_type": "execute_result"
    }
   ],
   "source": [
    "from sklearn.metrics import mean_squared_error\n",
    "xgb_mse = mean_squared_error(y_test, xgb_pred)\n",
    "xgb_rmse = np.sqrt(xgb_mse)\n",
    "xgb_rmse"
   ]
  },
  {
   "cell_type": "code",
   "execution_count": 238,
   "metadata": {},
   "outputs": [
    {
     "name": "stdout",
     "output_type": "stream",
     "text": [
      "Recall Score: 1.000\n",
      "F1-Score: 1.000\n",
      "Precision Score: 1.000\n"
     ]
    }
   ],
   "source": [
    "#Checking the scores \n",
    "score_vote1 = recall_score(y_test, xgb_pred)\n",
    "score_vote2 = f1_score(y_test, xgb_pred)\n",
    "score_vote3 = precision_score(y_test, xgb_pred)\n",
    "\n",
    "\n",
    "\n",
    "print('Recall Score: {:.3f}'.format(score_vote1))\n",
    "print('F1-Score: {:.3f}'.format(score_vote2))\n",
    "print('Precision Score: {:.3f}'.format(score_vote3))"
   ]
  },
  {
   "cell_type": "markdown",
   "metadata": {},
   "source": [
    "# MODEL COMPARISON"
   ]
  },
  {
   "cell_type": "code",
   "execution_count": 239,
   "metadata": {},
   "outputs": [
    {
     "data": {
      "text/html": [
       "<div>\n",
       "<style scoped>\n",
       "    .dataframe tbody tr th:only-of-type {\n",
       "        vertical-align: middle;\n",
       "    }\n",
       "\n",
       "    .dataframe tbody tr th {\n",
       "        vertical-align: top;\n",
       "    }\n",
       "\n",
       "    .dataframe thead th {\n",
       "        text-align: right;\n",
       "    }\n",
       "</style>\n",
       "<table border=\"1\" class=\"dataframe\">\n",
       "  <thead>\n",
       "    <tr style=\"text-align: right;\">\n",
       "      <th></th>\n",
       "      <th>Model</th>\n",
       "      <th>Score</th>\n",
       "    </tr>\n",
       "  </thead>\n",
       "  <tbody>\n",
       "    <tr>\n",
       "      <th>0</th>\n",
       "      <td>LogisticRegression</td>\n",
       "      <td>1.000000</td>\n",
       "    </tr>\n",
       "    <tr>\n",
       "      <th>3</th>\n",
       "      <td>SVM</td>\n",
       "      <td>1.000000</td>\n",
       "    </tr>\n",
       "    <tr>\n",
       "      <th>4</th>\n",
       "      <td>Random Forest Classifier</td>\n",
       "      <td>1.000000</td>\n",
       "    </tr>\n",
       "    <tr>\n",
       "      <th>5</th>\n",
       "      <td>XgBoost</td>\n",
       "      <td>1.000000</td>\n",
       "    </tr>\n",
       "    <tr>\n",
       "      <th>1</th>\n",
       "      <td>KNN</td>\n",
       "      <td>0.991667</td>\n",
       "    </tr>\n",
       "    <tr>\n",
       "      <th>2</th>\n",
       "      <td>Decision Tree Classifier</td>\n",
       "      <td>0.991667</td>\n",
       "    </tr>\n",
       "  </tbody>\n",
       "</table>\n",
       "</div>"
      ],
      "text/plain": [
       "                      Model     Score\n",
       "0        LogisticRegression  1.000000\n",
       "3                       SVM  1.000000\n",
       "4  Random Forest Classifier  1.000000\n",
       "5                   XgBoost  1.000000\n",
       "1                       KNN  0.991667\n",
       "2  Decision Tree Classifier  0.991667"
      ]
     },
     "execution_count": 239,
     "metadata": {},
     "output_type": "execute_result"
    }
   ],
   "source": [
    "models = pd.DataFrame({\n",
    "    'Model' : [ 'LogisticRegression','KNN', 'Decision Tree Classifier','SVM' ,'Random Forest Classifier','XgBoost'],\n",
    "    'Score' : [log_acc,knn_acc, dtc_acc, rfc_acc, svm_acc, xgb_acc]\n",
    "})\n",
    "\n",
    "\n",
    "models.sort_values(by = 'Score', ascending = False)"
   ]
  },
  {
   "cell_type": "code",
   "execution_count": 240,
   "metadata": {},
   "outputs": [
    {
     "data": {
      "application/vnd.plotly.v1+json": {
       "config": {
        "plotlyServerURL": "https://plot.ly"
       },
       "data": [
        {
         "alignmentgroup": "True",
         "hovertemplate": "Score=%{marker.color}<br>Model=%{y}<extra></extra>",
         "legendgroup": "",
         "marker": {
          "color": [
           1,
           0.9916666666666667,
           0.9916666666666667,
           1,
           1,
           1
          ],
          "coloraxis": "coloraxis",
          "pattern": {
           "shape": ""
          }
         },
         "name": "",
         "offsetgroup": "",
         "orientation": "h",
         "showlegend": false,
         "textposition": "auto",
         "type": "bar",
         "x": [
          1,
          0.9916666666666667,
          0.9916666666666667,
          1,
          1,
          1
         ],
         "xaxis": "x",
         "y": [
          "LogisticRegression",
          "KNN",
          "Decision Tree Classifier",
          "SVM",
          "Random Forest Classifier",
          "XgBoost"
         ],
         "yaxis": "y"
        }
       ],
       "layout": {
        "barmode": "relative",
        "coloraxis": {
         "colorbar": {
          "title": {
           "text": "Score"
          }
         },
         "colorscale": [
          [
           0,
           "#0d0887"
          ],
          [
           0.1111111111111111,
           "#46039f"
          ],
          [
           0.2222222222222222,
           "#7201a8"
          ],
          [
           0.3333333333333333,
           "#9c179e"
          ],
          [
           0.4444444444444444,
           "#bd3786"
          ],
          [
           0.5555555555555556,
           "#d8576b"
          ],
          [
           0.6666666666666666,
           "#ed7953"
          ],
          [
           0.7777777777777778,
           "#fb9f3a"
          ],
          [
           0.8888888888888888,
           "#fdca26"
          ],
          [
           1,
           "#f0f921"
          ]
         ]
        },
        "legend": {
         "tracegroupgap": 0
        },
        "template": {
         "data": {
          "bar": [
           {
            "error_x": {
             "color": "#f2f5fa"
            },
            "error_y": {
             "color": "#f2f5fa"
            },
            "marker": {
             "line": {
              "color": "rgb(17,17,17)",
              "width": 0.5
             },
             "pattern": {
              "fillmode": "overlay",
              "size": 10,
              "solidity": 0.2
             }
            },
            "type": "bar"
           }
          ],
          "barpolar": [
           {
            "marker": {
             "line": {
              "color": "rgb(17,17,17)",
              "width": 0.5
             },
             "pattern": {
              "fillmode": "overlay",
              "size": 10,
              "solidity": 0.2
             }
            },
            "type": "barpolar"
           }
          ],
          "carpet": [
           {
            "aaxis": {
             "endlinecolor": "#A2B1C6",
             "gridcolor": "#506784",
             "linecolor": "#506784",
             "minorgridcolor": "#506784",
             "startlinecolor": "#A2B1C6"
            },
            "baxis": {
             "endlinecolor": "#A2B1C6",
             "gridcolor": "#506784",
             "linecolor": "#506784",
             "minorgridcolor": "#506784",
             "startlinecolor": "#A2B1C6"
            },
            "type": "carpet"
           }
          ],
          "choropleth": [
           {
            "colorbar": {
             "outlinewidth": 0,
             "ticks": ""
            },
            "type": "choropleth"
           }
          ],
          "contour": [
           {
            "colorbar": {
             "outlinewidth": 0,
             "ticks": ""
            },
            "colorscale": [
             [
              0,
              "#0d0887"
             ],
             [
              0.1111111111111111,
              "#46039f"
             ],
             [
              0.2222222222222222,
              "#7201a8"
             ],
             [
              0.3333333333333333,
              "#9c179e"
             ],
             [
              0.4444444444444444,
              "#bd3786"
             ],
             [
              0.5555555555555556,
              "#d8576b"
             ],
             [
              0.6666666666666666,
              "#ed7953"
             ],
             [
              0.7777777777777778,
              "#fb9f3a"
             ],
             [
              0.8888888888888888,
              "#fdca26"
             ],
             [
              1,
              "#f0f921"
             ]
            ],
            "type": "contour"
           }
          ],
          "contourcarpet": [
           {
            "colorbar": {
             "outlinewidth": 0,
             "ticks": ""
            },
            "type": "contourcarpet"
           }
          ],
          "heatmap": [
           {
            "colorbar": {
             "outlinewidth": 0,
             "ticks": ""
            },
            "colorscale": [
             [
              0,
              "#0d0887"
             ],
             [
              0.1111111111111111,
              "#46039f"
             ],
             [
              0.2222222222222222,
              "#7201a8"
             ],
             [
              0.3333333333333333,
              "#9c179e"
             ],
             [
              0.4444444444444444,
              "#bd3786"
             ],
             [
              0.5555555555555556,
              "#d8576b"
             ],
             [
              0.6666666666666666,
              "#ed7953"
             ],
             [
              0.7777777777777778,
              "#fb9f3a"
             ],
             [
              0.8888888888888888,
              "#fdca26"
             ],
             [
              1,
              "#f0f921"
             ]
            ],
            "type": "heatmap"
           }
          ],
          "heatmapgl": [
           {
            "colorbar": {
             "outlinewidth": 0,
             "ticks": ""
            },
            "colorscale": [
             [
              0,
              "#0d0887"
             ],
             [
              0.1111111111111111,
              "#46039f"
             ],
             [
              0.2222222222222222,
              "#7201a8"
             ],
             [
              0.3333333333333333,
              "#9c179e"
             ],
             [
              0.4444444444444444,
              "#bd3786"
             ],
             [
              0.5555555555555556,
              "#d8576b"
             ],
             [
              0.6666666666666666,
              "#ed7953"
             ],
             [
              0.7777777777777778,
              "#fb9f3a"
             ],
             [
              0.8888888888888888,
              "#fdca26"
             ],
             [
              1,
              "#f0f921"
             ]
            ],
            "type": "heatmapgl"
           }
          ],
          "histogram": [
           {
            "marker": {
             "pattern": {
              "fillmode": "overlay",
              "size": 10,
              "solidity": 0.2
             }
            },
            "type": "histogram"
           }
          ],
          "histogram2d": [
           {
            "colorbar": {
             "outlinewidth": 0,
             "ticks": ""
            },
            "colorscale": [
             [
              0,
              "#0d0887"
             ],
             [
              0.1111111111111111,
              "#46039f"
             ],
             [
              0.2222222222222222,
              "#7201a8"
             ],
             [
              0.3333333333333333,
              "#9c179e"
             ],
             [
              0.4444444444444444,
              "#bd3786"
             ],
             [
              0.5555555555555556,
              "#d8576b"
             ],
             [
              0.6666666666666666,
              "#ed7953"
             ],
             [
              0.7777777777777778,
              "#fb9f3a"
             ],
             [
              0.8888888888888888,
              "#fdca26"
             ],
             [
              1,
              "#f0f921"
             ]
            ],
            "type": "histogram2d"
           }
          ],
          "histogram2dcontour": [
           {
            "colorbar": {
             "outlinewidth": 0,
             "ticks": ""
            },
            "colorscale": [
             [
              0,
              "#0d0887"
             ],
             [
              0.1111111111111111,
              "#46039f"
             ],
             [
              0.2222222222222222,
              "#7201a8"
             ],
             [
              0.3333333333333333,
              "#9c179e"
             ],
             [
              0.4444444444444444,
              "#bd3786"
             ],
             [
              0.5555555555555556,
              "#d8576b"
             ],
             [
              0.6666666666666666,
              "#ed7953"
             ],
             [
              0.7777777777777778,
              "#fb9f3a"
             ],
             [
              0.8888888888888888,
              "#fdca26"
             ],
             [
              1,
              "#f0f921"
             ]
            ],
            "type": "histogram2dcontour"
           }
          ],
          "mesh3d": [
           {
            "colorbar": {
             "outlinewidth": 0,
             "ticks": ""
            },
            "type": "mesh3d"
           }
          ],
          "parcoords": [
           {
            "line": {
             "colorbar": {
              "outlinewidth": 0,
              "ticks": ""
             }
            },
            "type": "parcoords"
           }
          ],
          "pie": [
           {
            "automargin": true,
            "type": "pie"
           }
          ],
          "scatter": [
           {
            "marker": {
             "line": {
              "color": "#283442"
             }
            },
            "type": "scatter"
           }
          ],
          "scatter3d": [
           {
            "line": {
             "colorbar": {
              "outlinewidth": 0,
              "ticks": ""
             }
            },
            "marker": {
             "colorbar": {
              "outlinewidth": 0,
              "ticks": ""
             }
            },
            "type": "scatter3d"
           }
          ],
          "scattercarpet": [
           {
            "marker": {
             "colorbar": {
              "outlinewidth": 0,
              "ticks": ""
             }
            },
            "type": "scattercarpet"
           }
          ],
          "scattergeo": [
           {
            "marker": {
             "colorbar": {
              "outlinewidth": 0,
              "ticks": ""
             }
            },
            "type": "scattergeo"
           }
          ],
          "scattergl": [
           {
            "marker": {
             "line": {
              "color": "#283442"
             }
            },
            "type": "scattergl"
           }
          ],
          "scattermapbox": [
           {
            "marker": {
             "colorbar": {
              "outlinewidth": 0,
              "ticks": ""
             }
            },
            "type": "scattermapbox"
           }
          ],
          "scatterpolar": [
           {
            "marker": {
             "colorbar": {
              "outlinewidth": 0,
              "ticks": ""
             }
            },
            "type": "scatterpolar"
           }
          ],
          "scatterpolargl": [
           {
            "marker": {
             "colorbar": {
              "outlinewidth": 0,
              "ticks": ""
             }
            },
            "type": "scatterpolargl"
           }
          ],
          "scatterternary": [
           {
            "marker": {
             "colorbar": {
              "outlinewidth": 0,
              "ticks": ""
             }
            },
            "type": "scatterternary"
           }
          ],
          "surface": [
           {
            "colorbar": {
             "outlinewidth": 0,
             "ticks": ""
            },
            "colorscale": [
             [
              0,
              "#0d0887"
             ],
             [
              0.1111111111111111,
              "#46039f"
             ],
             [
              0.2222222222222222,
              "#7201a8"
             ],
             [
              0.3333333333333333,
              "#9c179e"
             ],
             [
              0.4444444444444444,
              "#bd3786"
             ],
             [
              0.5555555555555556,
              "#d8576b"
             ],
             [
              0.6666666666666666,
              "#ed7953"
             ],
             [
              0.7777777777777778,
              "#fb9f3a"
             ],
             [
              0.8888888888888888,
              "#fdca26"
             ],
             [
              1,
              "#f0f921"
             ]
            ],
            "type": "surface"
           }
          ],
          "table": [
           {
            "cells": {
             "fill": {
              "color": "#506784"
             },
             "line": {
              "color": "rgb(17,17,17)"
             }
            },
            "header": {
             "fill": {
              "color": "#2a3f5f"
             },
             "line": {
              "color": "rgb(17,17,17)"
             }
            },
            "type": "table"
           }
          ]
         },
         "layout": {
          "annotationdefaults": {
           "arrowcolor": "#f2f5fa",
           "arrowhead": 0,
           "arrowwidth": 1
          },
          "autotypenumbers": "strict",
          "coloraxis": {
           "colorbar": {
            "outlinewidth": 0,
            "ticks": ""
           }
          },
          "colorscale": {
           "diverging": [
            [
             0,
             "#8e0152"
            ],
            [
             0.1,
             "#c51b7d"
            ],
            [
             0.2,
             "#de77ae"
            ],
            [
             0.3,
             "#f1b6da"
            ],
            [
             0.4,
             "#fde0ef"
            ],
            [
             0.5,
             "#f7f7f7"
            ],
            [
             0.6,
             "#e6f5d0"
            ],
            [
             0.7,
             "#b8e186"
            ],
            [
             0.8,
             "#7fbc41"
            ],
            [
             0.9,
             "#4d9221"
            ],
            [
             1,
             "#276419"
            ]
           ],
           "sequential": [
            [
             0,
             "#0d0887"
            ],
            [
             0.1111111111111111,
             "#46039f"
            ],
            [
             0.2222222222222222,
             "#7201a8"
            ],
            [
             0.3333333333333333,
             "#9c179e"
            ],
            [
             0.4444444444444444,
             "#bd3786"
            ],
            [
             0.5555555555555556,
             "#d8576b"
            ],
            [
             0.6666666666666666,
             "#ed7953"
            ],
            [
             0.7777777777777778,
             "#fb9f3a"
            ],
            [
             0.8888888888888888,
             "#fdca26"
            ],
            [
             1,
             "#f0f921"
            ]
           ],
           "sequentialminus": [
            [
             0,
             "#0d0887"
            ],
            [
             0.1111111111111111,
             "#46039f"
            ],
            [
             0.2222222222222222,
             "#7201a8"
            ],
            [
             0.3333333333333333,
             "#9c179e"
            ],
            [
             0.4444444444444444,
             "#bd3786"
            ],
            [
             0.5555555555555556,
             "#d8576b"
            ],
            [
             0.6666666666666666,
             "#ed7953"
            ],
            [
             0.7777777777777778,
             "#fb9f3a"
            ],
            [
             0.8888888888888888,
             "#fdca26"
            ],
            [
             1,
             "#f0f921"
            ]
           ]
          },
          "colorway": [
           "#636efa",
           "#EF553B",
           "#00cc96",
           "#ab63fa",
           "#FFA15A",
           "#19d3f3",
           "#FF6692",
           "#B6E880",
           "#FF97FF",
           "#FECB52"
          ],
          "font": {
           "color": "#f2f5fa"
          },
          "geo": {
           "bgcolor": "rgb(17,17,17)",
           "lakecolor": "rgb(17,17,17)",
           "landcolor": "rgb(17,17,17)",
           "showlakes": true,
           "showland": true,
           "subunitcolor": "#506784"
          },
          "hoverlabel": {
           "align": "left"
          },
          "hovermode": "closest",
          "mapbox": {
           "style": "dark"
          },
          "paper_bgcolor": "rgb(17,17,17)",
          "plot_bgcolor": "rgb(17,17,17)",
          "polar": {
           "angularaxis": {
            "gridcolor": "#506784",
            "linecolor": "#506784",
            "ticks": ""
           },
           "bgcolor": "rgb(17,17,17)",
           "radialaxis": {
            "gridcolor": "#506784",
            "linecolor": "#506784",
            "ticks": ""
           }
          },
          "scene": {
           "xaxis": {
            "backgroundcolor": "rgb(17,17,17)",
            "gridcolor": "#506784",
            "gridwidth": 2,
            "linecolor": "#506784",
            "showbackground": true,
            "ticks": "",
            "zerolinecolor": "#C8D4E3"
           },
           "yaxis": {
            "backgroundcolor": "rgb(17,17,17)",
            "gridcolor": "#506784",
            "gridwidth": 2,
            "linecolor": "#506784",
            "showbackground": true,
            "ticks": "",
            "zerolinecolor": "#C8D4E3"
           },
           "zaxis": {
            "backgroundcolor": "rgb(17,17,17)",
            "gridcolor": "#506784",
            "gridwidth": 2,
            "linecolor": "#506784",
            "showbackground": true,
            "ticks": "",
            "zerolinecolor": "#C8D4E3"
           }
          },
          "shapedefaults": {
           "line": {
            "color": "#f2f5fa"
           }
          },
          "sliderdefaults": {
           "bgcolor": "#C8D4E3",
           "bordercolor": "rgb(17,17,17)",
           "borderwidth": 1,
           "tickwidth": 0
          },
          "ternary": {
           "aaxis": {
            "gridcolor": "#506784",
            "linecolor": "#506784",
            "ticks": ""
           },
           "baxis": {
            "gridcolor": "#506784",
            "linecolor": "#506784",
            "ticks": ""
           },
           "bgcolor": "rgb(17,17,17)",
           "caxis": {
            "gridcolor": "#506784",
            "linecolor": "#506784",
            "ticks": ""
           }
          },
          "title": {
           "x": 0.05
          },
          "updatemenudefaults": {
           "bgcolor": "#506784",
           "borderwidth": 0
          },
          "xaxis": {
           "automargin": true,
           "gridcolor": "#283442",
           "linecolor": "#506784",
           "ticks": "",
           "title": {
            "standoff": 15
           },
           "zerolinecolor": "#283442",
           "zerolinewidth": 2
          },
          "yaxis": {
           "automargin": true,
           "gridcolor": "#283442",
           "linecolor": "#506784",
           "ticks": "",
           "title": {
            "standoff": 15
           },
           "zerolinecolor": "#283442",
           "zerolinewidth": 2
          }
         }
        },
        "title": {
         "text": "Models Comparison"
        },
        "xaxis": {
         "anchor": "y",
         "domain": [
          0,
          1
         ],
         "title": {
          "text": "Score"
         }
        },
        "yaxis": {
         "anchor": "x",
         "domain": [
          0,
          1
         ],
         "title": {
          "text": "Model"
         }
        }
       }
      }
     },
     "metadata": {},
     "output_type": "display_data"
    }
   ],
   "source": [
    "px.bar(data_frame = models, x = 'Score', y = 'Model', color = 'Score', template = 'plotly_dark', \n",
    "       title = 'Models Comparison')"
   ]
  },
  {
   "cell_type": "markdown",
   "metadata": {},
   "source": [
    "# BUILDING A PREDICTIVE SYSTEM"
   ]
  },
  {
   "cell_type": "code",
   "execution_count": 242,
   "metadata": {},
   "outputs": [
    {
     "name": "stderr",
     "output_type": "stream",
     "text": [
      "/home/winnie/.local/lib/python3.10/site-packages/sklearn/base.py:439: UserWarning:\n",
      "\n",
      "X does not have valid feature names, but LogisticRegression was fitted with feature names\n",
      "\n"
     ]
    },
    {
     "name": "stdout",
     "output_type": "stream",
     "text": [
      "[0]\n",
      "The Person does have a Chronic Kidney Disease\n"
     ]
    }
   ],
   "source": [
    "input_data = (197.07600,206.89600,192.05500,0.00289,0.00001,0.00166,0.00168,0.00498,0.01098,0.09700,26.77500,0.422229)\n",
    "\n",
    "# changing input data to a numpy array\n",
    "input_data_as_numpy_array = np.asarray(input_data)\n",
    "\n",
    "# reshape the numpy array\n",
    "input_data_reshaped = input_data_as_numpy_array.reshape(1,-1)\n",
    "\n",
    "prediction = log.predict(input_data_reshaped)\n",
    "print(prediction)\n",
    "\n",
    "\n",
    "if (prediction[0] == 0):\n",
    "  print(\"The Person does have a Chronic Kidney Disease\")\n",
    "\n",
    "else:\n",
    "  print(\"The Person does not have A Chronic Kidney Disease\")"
   ]
  },
  {
   "cell_type": "code",
   "execution_count": 243,
   "metadata": {},
   "outputs": [
    {
     "name": "stdout",
     "output_type": "stream",
     "text": [
      "[0]\n",
      "The Person does have a Chronic Kidney Disease\n"
     ]
    }
   ],
   "source": [
    "input_data = (197.07600,206.89600,192.05500,0.00289,0.00001,0.00166,0.00168,0.00498,0.01098,0.09700,0.00563,0.00680)\n",
    "# changing input data to a numpy array\n",
    "input_data_as_numpy_array = np.asarray(input_data)\n",
    "\n",
    "# reshape the numpy array\n",
    "input_data_reshaped = input_data_as_numpy_array.reshape(1,-1)\n",
    "\n",
    "prediction = xgb.predict(input_data_reshaped)\n",
    "print(prediction)\n",
    "\n",
    "\n",
    "if (prediction[0] == 0):\n",
    "  print(\"The Person does have a Chronic Kidney Disease\")\n",
    "\n",
    "else:\n",
    "  print(\"The Person does not have A Chronic Kidney Disease\")"
   ]
  },
  {
   "cell_type": "markdown",
   "metadata": {},
   "source": [
    "# SAVING THE MODEL"
   ]
  },
  {
   "cell_type": "code",
   "execution_count": 244,
   "metadata": {},
   "outputs": [],
   "source": [
    "import pickle"
   ]
  },
  {
   "cell_type": "code",
   "execution_count": 245,
   "metadata": {},
   "outputs": [],
   "source": [
    "filename = 'kidney_model.sav'\n",
    "pickle.dump(log, open(filename, 'wb'))"
   ]
  },
  {
   "cell_type": "code",
   "execution_count": 246,
   "metadata": {},
   "outputs": [],
   "source": [
    "#Loading the saved model\n",
    "\n",
    "loaded_model = pickle.load(open('kidney_model.sav', 'rb'))"
   ]
  },
  {
   "cell_type": "code",
   "execution_count": 247,
   "metadata": {},
   "outputs": [
    {
     "name": "stdout",
     "output_type": "stream",
     "text": [
      "id\n",
      "age\n",
      "blood_pressure\n",
      "specific_gravity\n",
      "albumin\n",
      "sugar\n",
      "blood_glucose_random\n",
      "blood_urea\n",
      "serum_creatinine\n",
      "sodium\n",
      "potassium\n",
      "haemoglobin\n"
     ]
    }
   ],
   "source": [
    "for column in X.columns:\n",
    "  print(column)"
   ]
  },
  {
   "cell_type": "code",
   "execution_count": 248,
   "metadata": {},
   "outputs": [],
   "source": [
    "kidney.drop(['id'], axis=1, inplace=True)"
   ]
  },
  {
   "cell_type": "code",
   "execution_count": null,
   "metadata": {},
   "outputs": [
    {
     "data": {
      "text/plain": [
       "['id',\n",
       " 'age',\n",
       " 'blood_pressure',\n",
       " 'specific_gravity',\n",
       " 'albumin',\n",
       " 'sugar',\n",
       " 'blood_glucose_random',\n",
       " 'blood_urea',\n",
       " 'serum_creatinine',\n",
       " 'sodium',\n",
       " 'potassium',\n",
       " 'haemoglobin']"
      ]
     },
     "execution_count": 149,
     "metadata": {},
     "output_type": "execute_result"
    }
   ],
   "source": [
    "num_cols"
   ]
  },
  {
   "cell_type": "code",
   "execution_count": 250,
   "metadata": {},
   "outputs": [
    {
     "data": {
      "text/plain": [
       "['red_blood_cells',\n",
       " 'pus_cell',\n",
       " 'pus_cell_clumps',\n",
       " 'bacteria',\n",
       " 'packed_cell_volume',\n",
       " 'white_blood_cell_count',\n",
       " 'red_blood_cell_count',\n",
       " 'hypertension',\n",
       " 'diabetes_mellitus',\n",
       " 'coronary_artery_disease',\n",
       " 'appetite',\n",
       " 'peda_edema',\n",
       " 'anemia',\n",
       " 'class']"
      ]
     },
     "execution_count": 250,
     "metadata": {},
     "output_type": "execute_result"
    }
   ],
   "source": [
    "cat_cols"
   ]
  },
  {
   "cell_type": "code",
   "execution_count": null,
   "metadata": {},
   "outputs": [],
   "source": [
    "kidney.describe()"
   ]
  },
  {
   "cell_type": "code",
   "execution_count": null,
   "metadata": {},
   "outputs": [],
   "source": []
  }
 ],
 "metadata": {
  "kernelspec": {
   "display_name": "Python 3",
   "language": "python",
   "name": "python3"
  },
  "language_info": {
   "codemirror_mode": {
    "name": "ipython",
    "version": 3
   },
   "file_extension": ".py",
   "mimetype": "text/x-python",
   "name": "python",
   "nbconvert_exporter": "python",
   "pygments_lexer": "ipython3",
   "version": "3.10.12"
  },
  "orig_nbformat": 4
 },
 "nbformat": 4,
 "nbformat_minor": 2
}
